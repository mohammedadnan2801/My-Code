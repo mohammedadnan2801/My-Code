{
  "nbformat": 4,
  "nbformat_minor": 0,
  "metadata": {
    "colab": {
      "provenance": [],
      "authorship_tag": "ABX9TyMRXkfJrJ4hAsFwHhylJlAc",
      "include_colab_link": true
    },
    "kernelspec": {
      "name": "python3",
      "display_name": "Python 3"
    },
    "language_info": {
      "name": "python"
    }
  },
  "cells": [
    {
      "cell_type": "markdown",
      "metadata": {
        "id": "view-in-github",
        "colab_type": "text"
      },
      "source": [
        "<a href=\"https://colab.research.google.com/github/mohammedadnan2801/My-Code/blob/main/Proj_dedupliicates.ipynb\" target=\"_parent\"><img src=\"https://colab.research.google.com/assets/colab-badge.svg\" alt=\"Open In Colab\"/></a>"
      ]
    },
    {
      "cell_type": "code",
      "execution_count": null,
      "metadata": {
        "colab": {
          "base_uri": "https://localhost:8080/"
        },
        "id": "zo-sDuuYHQr4",
        "outputId": "3618aaeb-6288-4bbf-d68e-a808212d405b"
      },
      "outputs": [
        {
          "output_type": "stream",
          "name": "stdout",
          "text": [
            "Looking in indexes: https://pypi.org/simple, https://us-python.pkg.dev/colab-wheels/public/simple/\n",
            "Collecting pyspark==3.2.2\n",
            "  Downloading pyspark-3.2.2.tar.gz (281.5 MB)\n",
            "\u001b[2K     \u001b[90m━━━━━━━━━━━━━━━━━━━━━━━━━━━━━━━━━━━━━━━\u001b[0m \u001b[32m281.5/281.5 MB\u001b[0m \u001b[31m4.0 MB/s\u001b[0m eta \u001b[36m0:00:00\u001b[0m\n",
            "\u001b[?25h  Preparing metadata (setup.py) ... \u001b[?25l\u001b[?25hdone\n",
            "Collecting py4j==0.10.9.5\n",
            "  Downloading py4j-0.10.9.5-py2.py3-none-any.whl (199 kB)\n",
            "\u001b[2K     \u001b[90m━━━━━━━━━━━━━━━━━━━━━━━━━━━━━━━━━━━━━━\u001b[0m \u001b[32m199.7/199.7 KB\u001b[0m \u001b[31m18.3 MB/s\u001b[0m eta \u001b[36m0:00:00\u001b[0m\n",
            "\u001b[?25hBuilding wheels for collected packages: pyspark\n",
            "  Building wheel for pyspark (setup.py) ... \u001b[?25l\u001b[?25hdone\n",
            "  Created wheel for pyspark: filename=pyspark-3.2.2-py2.py3-none-any.whl size=281969457 sha256=c9b2040c366babed4f3f220e9d40e0f5c817d1237982d4f798cca60cf4e0fc9b\n",
            "  Stored in directory: /root/.cache/pip/wheels/0a/01/16/ae66ff4cbbc47a876c20d57291add188b6caebc38ae14ea402\n",
            "Successfully built pyspark\n",
            "Installing collected packages: py4j, pyspark\n",
            "Successfully installed py4j-0.10.9.5 pyspark-3.2.2\n"
          ]
        }
      ],
      "source": [
        "!pip install pyspark==3.2.2"
      ]
    },
    {
      "cell_type": "code",
      "source": [
        "!pip install delta_spark"
      ],
      "metadata": {
        "colab": {
          "base_uri": "https://localhost:8080/"
        },
        "id": "8UkRvcp2HZBz",
        "outputId": "8723d11e-5701-4ddb-b180-bce575f087d6"
      },
      "execution_count": null,
      "outputs": [
        {
          "output_type": "stream",
          "name": "stdout",
          "text": [
            "Looking in indexes: https://pypi.org/simple, https://us-python.pkg.dev/colab-wheels/public/simple/\n",
            "Collecting delta_spark\n",
            "  Downloading delta_spark-2.2.0-py3-none-any.whl (20 kB)\n",
            "Requirement already satisfied: importlib-metadata>=1.0.0 in /usr/local/lib/python3.8/dist-packages (from delta_spark) (6.0.0)\n",
            "Collecting pyspark<3.4.0,>=3.3.0\n",
            "  Downloading pyspark-3.3.2.tar.gz (281.4 MB)\n",
            "\u001b[2K     \u001b[90m━━━━━━━━━━━━━━━━━━━━━━━━━━━━━━━━━━━━━━━\u001b[0m \u001b[32m281.4/281.4 MB\u001b[0m \u001b[31m4.8 MB/s\u001b[0m eta \u001b[36m0:00:00\u001b[0m\n",
            "\u001b[?25h  Preparing metadata (setup.py) ... \u001b[?25l\u001b[?25hdone\n",
            "Requirement already satisfied: zipp>=0.5 in /usr/local/lib/python3.8/dist-packages (from importlib-metadata>=1.0.0->delta_spark) (3.15.0)\n",
            "Requirement already satisfied: py4j==0.10.9.5 in /usr/local/lib/python3.8/dist-packages (from pyspark<3.4.0,>=3.3.0->delta_spark) (0.10.9.5)\n",
            "Building wheels for collected packages: pyspark\n",
            "  Building wheel for pyspark (setup.py) ... \u001b[?25l\u001b[?25hdone\n",
            "  Created wheel for pyspark: filename=pyspark-3.3.2-py2.py3-none-any.whl size=281824025 sha256=e3b39ad80722352c60abe267a94b309713a0860e3042391f4b960a074ab465d5\n",
            "  Stored in directory: /root/.cache/pip/wheels/b1/59/a0/a1a0624b5e865fd389919c1a10f53aec9b12195d6747710baf\n",
            "Successfully built pyspark\n",
            "Installing collected packages: pyspark, delta_spark\n",
            "  Attempting uninstall: pyspark\n",
            "    Found existing installation: pyspark 3.2.2\n",
            "    Uninstalling pyspark-3.2.2:\n",
            "      Successfully uninstalled pyspark-3.2.2\n",
            "Successfully installed delta_spark-2.2.0 pyspark-3.3.2\n"
          ]
        }
      ]
    },
    {
      "cell_type": "code",
      "source": [
        "import delta\n",
        "from delta import *\n",
        "from delta import configure_spark_with_delta_pip\n",
        "import pyspark"
      ],
      "metadata": {
        "id": "mBt-8QePHePJ"
      },
      "execution_count": null,
      "outputs": []
    },
    {
      "cell_type": "code",
      "source": [
        "builder = pyspark.sql.SparkSession.builder.appName(\"MyApp\") \\\n",
        "    .config(\"spark.sql.extensions\", \"io.delta.sql.DeltaSparkSessionExtension\") \\\n",
        "    .config(\"spark.sql.catalog.spark_catalog\", \"org.apache.spark.sql.delta.catalog.DeltaCatalog\")\\\n",
        "    .config(\"spark.jars.packages\",\"io.delta:delta-core_2.12:2.0.0\")\n",
        "spark=configure_spark_with_delta_pip(builder).getOrCreate()"
      ],
      "metadata": {
        "id": "pf_S2_aPHiM-"
      },
      "execution_count": null,
      "outputs": []
    },
    {
      "cell_type": "code",
      "source": [
        "#Importing all the functions in pyspark\n",
        "from pyspark.sql import *\n",
        "from pyspark.sql.functions import *\n",
        "from google.colab import *\n",
        "from pyspark.sql.functions import col"
      ],
      "metadata": {
        "id": "10dhKlzzlosz"
      },
      "execution_count": null,
      "outputs": []
    },
    {
      "cell_type": "code",
      "source": [
        "#Uploading the data set into google colab\n",
        "files.upload()"
      ],
      "metadata": {
        "id": "ralfyKPO61u3",
        "colab": {
          "base_uri": "https://localhost:8080/",
          "height": 1000
        },
        "outputId": "78d8c878-20bf-45f1-8741-398f8584b1c8"
      },
      "execution_count": null,
      "outputs": [
        {
          "output_type": "display_data",
          "data": {
            "text/plain": [
              "<IPython.core.display.HTML object>"
            ],
            "text/html": [
              "\n",
              "     <input type=\"file\" id=\"files-1390f1fb-001f-442e-ac15-ab584efb01b6\" name=\"files[]\" multiple disabled\n",
              "        style=\"border:none\" />\n",
              "     <output id=\"result-1390f1fb-001f-442e-ac15-ab584efb01b6\">\n",
              "      Upload widget is only available when the cell has been executed in the\n",
              "      current browser session. Please rerun this cell to enable.\n",
              "      </output>\n",
              "      <script>// Copyright 2017 Google LLC\n",
              "//\n",
              "// Licensed under the Apache License, Version 2.0 (the \"License\");\n",
              "// you may not use this file except in compliance with the License.\n",
              "// You may obtain a copy of the License at\n",
              "//\n",
              "//      http://www.apache.org/licenses/LICENSE-2.0\n",
              "//\n",
              "// Unless required by applicable law or agreed to in writing, software\n",
              "// distributed under the License is distributed on an \"AS IS\" BASIS,\n",
              "// WITHOUT WARRANTIES OR CONDITIONS OF ANY KIND, either express or implied.\n",
              "// See the License for the specific language governing permissions and\n",
              "// limitations under the License.\n",
              "\n",
              "/**\n",
              " * @fileoverview Helpers for google.colab Python module.\n",
              " */\n",
              "(function(scope) {\n",
              "function span(text, styleAttributes = {}) {\n",
              "  const element = document.createElement('span');\n",
              "  element.textContent = text;\n",
              "  for (const key of Object.keys(styleAttributes)) {\n",
              "    element.style[key] = styleAttributes[key];\n",
              "  }\n",
              "  return element;\n",
              "}\n",
              "\n",
              "// Max number of bytes which will be uploaded at a time.\n",
              "const MAX_PAYLOAD_SIZE = 100 * 1024;\n",
              "\n",
              "function _uploadFiles(inputId, outputId) {\n",
              "  const steps = uploadFilesStep(inputId, outputId);\n",
              "  const outputElement = document.getElementById(outputId);\n",
              "  // Cache steps on the outputElement to make it available for the next call\n",
              "  // to uploadFilesContinue from Python.\n",
              "  outputElement.steps = steps;\n",
              "\n",
              "  return _uploadFilesContinue(outputId);\n",
              "}\n",
              "\n",
              "// This is roughly an async generator (not supported in the browser yet),\n",
              "// where there are multiple asynchronous steps and the Python side is going\n",
              "// to poll for completion of each step.\n",
              "// This uses a Promise to block the python side on completion of each step,\n",
              "// then passes the result of the previous step as the input to the next step.\n",
              "function _uploadFilesContinue(outputId) {\n",
              "  const outputElement = document.getElementById(outputId);\n",
              "  const steps = outputElement.steps;\n",
              "\n",
              "  const next = steps.next(outputElement.lastPromiseValue);\n",
              "  return Promise.resolve(next.value.promise).then((value) => {\n",
              "    // Cache the last promise value to make it available to the next\n",
              "    // step of the generator.\n",
              "    outputElement.lastPromiseValue = value;\n",
              "    return next.value.response;\n",
              "  });\n",
              "}\n",
              "\n",
              "/**\n",
              " * Generator function which is called between each async step of the upload\n",
              " * process.\n",
              " * @param {string} inputId Element ID of the input file picker element.\n",
              " * @param {string} outputId Element ID of the output display.\n",
              " * @return {!Iterable<!Object>} Iterable of next steps.\n",
              " */\n",
              "function* uploadFilesStep(inputId, outputId) {\n",
              "  const inputElement = document.getElementById(inputId);\n",
              "  inputElement.disabled = false;\n",
              "\n",
              "  const outputElement = document.getElementById(outputId);\n",
              "  outputElement.innerHTML = '';\n",
              "\n",
              "  const pickedPromise = new Promise((resolve) => {\n",
              "    inputElement.addEventListener('change', (e) => {\n",
              "      resolve(e.target.files);\n",
              "    });\n",
              "  });\n",
              "\n",
              "  const cancel = document.createElement('button');\n",
              "  inputElement.parentElement.appendChild(cancel);\n",
              "  cancel.textContent = 'Cancel upload';\n",
              "  const cancelPromise = new Promise((resolve) => {\n",
              "    cancel.onclick = () => {\n",
              "      resolve(null);\n",
              "    };\n",
              "  });\n",
              "\n",
              "  // Wait for the user to pick the files.\n",
              "  const files = yield {\n",
              "    promise: Promise.race([pickedPromise, cancelPromise]),\n",
              "    response: {\n",
              "      action: 'starting',\n",
              "    }\n",
              "  };\n",
              "\n",
              "  cancel.remove();\n",
              "\n",
              "  // Disable the input element since further picks are not allowed.\n",
              "  inputElement.disabled = true;\n",
              "\n",
              "  if (!files) {\n",
              "    return {\n",
              "      response: {\n",
              "        action: 'complete',\n",
              "      }\n",
              "    };\n",
              "  }\n",
              "\n",
              "  for (const file of files) {\n",
              "    const li = document.createElement('li');\n",
              "    li.append(span(file.name, {fontWeight: 'bold'}));\n",
              "    li.append(span(\n",
              "        `(${file.type || 'n/a'}) - ${file.size} bytes, ` +\n",
              "        `last modified: ${\n",
              "            file.lastModifiedDate ? file.lastModifiedDate.toLocaleDateString() :\n",
              "                                    'n/a'} - `));\n",
              "    const percent = span('0% done');\n",
              "    li.appendChild(percent);\n",
              "\n",
              "    outputElement.appendChild(li);\n",
              "\n",
              "    const fileDataPromise = new Promise((resolve) => {\n",
              "      const reader = new FileReader();\n",
              "      reader.onload = (e) => {\n",
              "        resolve(e.target.result);\n",
              "      };\n",
              "      reader.readAsArrayBuffer(file);\n",
              "    });\n",
              "    // Wait for the data to be ready.\n",
              "    let fileData = yield {\n",
              "      promise: fileDataPromise,\n",
              "      response: {\n",
              "        action: 'continue',\n",
              "      }\n",
              "    };\n",
              "\n",
              "    // Use a chunked sending to avoid message size limits. See b/62115660.\n",
              "    let position = 0;\n",
              "    do {\n",
              "      const length = Math.min(fileData.byteLength - position, MAX_PAYLOAD_SIZE);\n",
              "      const chunk = new Uint8Array(fileData, position, length);\n",
              "      position += length;\n",
              "\n",
              "      const base64 = btoa(String.fromCharCode.apply(null, chunk));\n",
              "      yield {\n",
              "        response: {\n",
              "          action: 'append',\n",
              "          file: file.name,\n",
              "          data: base64,\n",
              "        },\n",
              "      };\n",
              "\n",
              "      let percentDone = fileData.byteLength === 0 ?\n",
              "          100 :\n",
              "          Math.round((position / fileData.byteLength) * 100);\n",
              "      percent.textContent = `${percentDone}% done`;\n",
              "\n",
              "    } while (position < fileData.byteLength);\n",
              "  }\n",
              "\n",
              "  // All done.\n",
              "  yield {\n",
              "    response: {\n",
              "      action: 'complete',\n",
              "    }\n",
              "  };\n",
              "}\n",
              "\n",
              "scope.google = scope.google || {};\n",
              "scope.google.colab = scope.google.colab || {};\n",
              "scope.google.colab._files = {\n",
              "  _uploadFiles,\n",
              "  _uploadFilesContinue,\n",
              "};\n",
              "})(self);\n",
              "</script> "
            ]
          },
          "metadata": {}
        },
        {
          "output_type": "stream",
          "name": "stdout",
          "text": [
            "Saving dataset1.csv to dataset1.csv\n"
          ]
        },
        {
          "output_type": "execute_result",
          "data": {
            "text/plain": [
              "{'dataset1.csv': b'id,Gender,Customer_Type,Age,Date_of_Boarding,FLIGHT_NUMBER,Type_of_Travel,Class,DISTANCE_in_KM,Inflight_wifi_service,Departure/Arrival_time_convenient,Ease_of_Online_booking,Food_and_drink,Online_boarding,Seat_comfort,Inflight_entertainment,On-board_service,Baggage_handling,Checkin_service,Inflight_service,Cleanliness\\r\\n19556,Female,Loyal Customer,52,05-05-2021,98,Business travel,Eco,1448,5,4,3,3,4,3,5,5,5,2,5,5\\r\\n90035,Female,Loyal Customer,36,06-05-2021,2336,Business travel,Business,2330,1,1,3,5,4,5,4,4,4,3,4,5\\r\\n12360,Male,disloyal Customer,20,07-05-2021,840,Business travel,Eco,2296,2,0,2,2,2,2,2,4,3,2,2,2\\r\\n77959,Male,Loyal Customer,44,08-05-2021,258,Business travel,Business,2342,0,0,0,3,4,4,1,1,1,3,1,4\\r\\n36875,Female,Loyal Customer,49,09-05-2021,135,Business travel,Eco,1448,2,3,4,4,1,2,2,2,2,4,2,4\\r\\n39177,Male,Loyal Customer,16,10-05-2021,806,Business travel,Eco,1589,3,3,3,5,5,3,5,4,1,1,2,5\\r\\n79433,Female,Loyal Customer,77,11-05-2021,612,Business travel,Business,1299,5,5,5,3,5,5,5,5,5,4,5,3\\r\\n97286,Female,Loyal Customer,43,12-05-2021,2013,Business travel,Business,2125,2,2,2,4,4,5,4,4,4,5,4,3\\r\\n27508,Male,Loyal Customer,47,13-05-2021,1112,Business travel,Eco,1464,5,2,2,5,5,5,5,2,5,3,3,5\\r\\n62482,Female,Loyal Customer,46,14-05-2021,1173,Business travel,Business,1747,2,2,2,3,4,4,4,4,4,5,4,4\\r\\n47583,Female,Loyal Customer,47,15-05-2021,2336,Business travel,Eco,1199,4,1,1,5,1,5,3,3,3,1,3,4\\r\\n115550,Female,Loyal Customer,33,16-05-2021,1674,Business travel,Business,2174,2,5,5,1,3,4,2,2,2,3,2,4\\r\\n119987,Female,Loyal Customer,46,17-05-2021,1434,Business travel,Business,1535,5,5,5,4,5,5,5,5,5,5,5,3\\r\\n42141,Female,Loyal Customer,60,18-05-2021,2324,Business travel,Business,1590,1,1,4,5,5,4,5,5,5,3,5,5\\r\\n2274,Female,Loyal Customer,52,19-05-2021,2440,Business travel,Business,1399,2,2,2,5,5,4,4,4,4,3,4,5\\r\\n22470,Male,Loyal Customer,50,20-05-2021,108,Personal Travel,Eco,1448,3,4,0,2,0,2,2,4,4,4,5,2\\r\\n124915,Female,Loyal Customer,31,21-05-2021,1560,Business travel,Eco,1448,2,5,5,2,2,2,2,4,3,4,3,2\\r\\n17836,Male,Loyal Customer,52,22-05-2021,1197,Personal Travel,Eco Plus,1635,5,4,5,4,5,4,4,3,5,4,5,4\\r\\n76872,Female,Loyal Customer,43,23-05-2021,122,Personal Travel,Eco,1542,3,4,3,4,4,5,5,5,5,4,5,3\\r\\n64287,Female,Loyal Customer,50,24-05-2021,1670,Business travel,Business,1426,5,5,5,4,5,4,4,4,4,5,4,5\\r\\n63995,Male,Loyal Customer,60,25-05-2021,520,Business travel,Business,1139,4,4,4,2,4,5,5,5,5,5,5,5\\r\\n75855,Male,Loyal Customer,43,26-05-2021,371,Personal Travel,Eco,2724,3,4,3,2,3,2,2,4,4,4,5,2\\r\\n106181,Male,Loyal Customer,55,27-05-2021,214,Personal Travel,Eco,1055,1,2,4,4,4,4,4,1,2,4,3,4\\r\\n44304,Male,Loyal Customer,25,28-05-2021,115,Business travel,Business,2342,4,4,4,4,4,4,4,1,3,1,5,4\\r\\n82602,Female,disloyal Customer,30,29-05-2021,1450,Business travel,Eco,1299,4,3,5,2,5,2,2,3,3,4,4,2\\r\\n7823,Male,Loyal Customer,62,30-05-2021,1545,Personal Travel,Eco,1379,3,5,3,2,3,2,2,3,5,4,4,2\\r\\n127781,Male,Loyal Customer,24,31-05-2021,130,Business travel,Business,1533,4,1,4,2,2,2,2,5,5,5,4,2\\r\\n34501,Female,Loyal Customer,22,01-06-2021,597,Business travel,Eco,1487,4,1,1,4,4,4,4,1,1,1,5,4\\r\\n121658,Male,Loyal Customer,44,02-06-2021,413,Business travel,Business,1916,3,5,3,5,4,5,5,5,5,5,5,5\\r\\n20219,Male,Loyal Customer,51,03-06-2021,2392,Business travel,Eco,1709,4,3,3,4,4,4,4,3,3,3,4,4\\r\\n67551,Male,Loyal Customer,43,04-06-2021,168,Personal Travel,Business,1440,1,5,1,1,1,4,3,3,5,4,3,5\\r\\n48994,Female,Loyal Customer,56,05-06-2021,2211,Business travel,Eco,1972,2,3,3,5,2,5,2,2,2,2,2,2\\r\\n70811,Male,disloyal Customer,41,06-06-2021,136,Business travel,Eco,1448,2,3,2,5,2,5,5,4,3,1,4,5\\r\\n75241,Male,Loyal Customer,22,07-06-2021,95,Personal Travel,Eco,1590,4,5,4,5,4,5,5,5,4,4,4,5\\r\\n12312,Female,Loyal Customer,53,08-06-2021,298,Business travel,Eco,1222,5,2,2,3,4,2,5,5,5,2,5,4\\r\\n48372,Male,Loyal Customer,12,09-06-2021,17,Personal Travel,Eco,2762,3,4,3,1,3,1,1,3,5,4,4,1\\r\\n51477,Female,Loyal Customer,39,10-06-2021,617,Business travel,Business,2552,3,3,3,2,4,5,4,4,4,4,4,5\\r\\n84204,Female,Loyal Customer,55,11-06-2021,1528,Business travel,Business,1608,1,1,1,3,5,4,5,5,5,3,5,5\\r\\n70990,Female,disloyal Customer,32,12-06-2021,134,Business travel,Business,1448,4,4,4,2,4,4,2,4,4,3,5,2\\r\\n101991,Female,Loyal Customer,40,13-06-2021,304,Personal Travel,Eco,1598,1,4,1,5,1,5,5,3,5,5,4,5\\r\\n87447,Female,disloyal Customer,42,14-06-2021,451,Business travel,Business,1334,3,3,3,4,3,4,4,3,5,5,5,4\\r\\n16112,Male,disloyal Customer,24,15-06-2021,972,Business travel,Eco,868,4,4,4,2,4,2,2,4,3,1,5,2\\r\\n16172,Male,Loyal Customer,22,16-06-2021,2459,Business travel,Business,868,3,3,3,3,3,3,1,5,3,3,2,3\\r\\n106558,Female,Loyal Customer,28,17-06-2021,144,Business travel,Business,1542,1,1,1,4,4,4,4,5,5,5,4,4\\r\\n11536,Female,Loyal Customer,36,18-06-2021,647,Business travel,Eco Plus,1176,2,3,3,2,2,2,2,1,3,4,4,2\\r\\n47773,Female,Loyal Customer,62,19-06-2021,1990,Business travel,Eco,1608,5,1,1,4,2,1,5,5,5,5,5,2\\r\\n70521,Female,Loyal Customer,60,20-06-2021,699,Business travel,Business,1773,2,2,3,3,5,4,5,5,5,5,5,3\\r\\n96283,Female,Loyal Customer,59,21-06-2021,114,Personal Travel,Eco,1448,2,5,2,3,3,4,5,5,4,1,5,2\\r\\n117993,Female,Loyal Customer,49,22-06-2021,668,Business travel,Business,1179,4,4,3,2,5,4,5,5,5,5,5,3\\r\\n74703,Female,Loyal Customer,44,05-04-2021,1162,Personal Travel,Eco,1585,2,4,2,4,4,3,4,4,4,2,4,2\\r\\n110840,Female,Loyal Customer,58,06-04-2021,1030,Personal Travel,Eco Plus,1129,3,5,2,3,4,5,1,1,1,5,1,3\\r\\n88249,Male,disloyal Customer,24,07-04-2021,262,Business travel,Business,1674,4,0,4,2,4,2,2,5,5,3,5,2\\r\\n125877,Female,Loyal Customer,53,08-04-2021,2134,Business travel,Eco,1189,4,2,2,3,3,4,4,4,4,3,4,3\\r\\n83968,Male,Loyal Customer,56,09-04-2021,730,Business travel,Eco,1129,2,3,4,2,2,2,2,2,3,3,3,2\\r\\n122719,Female,Loyal Customer,30,10-04-2021,768,Business travel,Business,1179,3,3,4,5,5,5,5,4,4,3,5,5\\r\\n3949,Male,disloyal Customer,27,11-04-2021,2276,Business travel,Business,1666,3,3,3,2,3,2,2,2,3,3,2,2\\r\\n45542,Male,Loyal Customer,27,12-04-2021,602,Business travel,Business,1440,3,3,3,5,5,5,5,4,1,1,1,5\\r\\n43742,Female,Loyal Customer,67,13-04-2021,695,Personal Travel,Eco,224,3,4,3,2,4,5,3,3,3,3,3,5\\r\\n122093,Female,Loyal Customer,32,14-04-2021,102,Personal Travel,Eco,216,3,0,3,4,3,5,4,2,4,5,3,4\\r\\n121454,Male,disloyal Customer,36,15-04-2021,5467,Business travel,Eco,363,2,0,2,1,2,1,1,4,4,1,3,1\\r\\n738,Male,Loyal Customer,44,16-04-2021,108,Business travel,Business,163,3,3,3,5,4,5,4,4,4,4,4,5\\r\\n75235,Female,Loyal Customer,70,17-04-2021,730,Personal Travel,Eco,1448,1,4,1,2,5,5,5,5,5,4,5,3\\r\\n88653,Female,Loyal Customer,55,18-04-2021,206,Personal Travel,Eco,100,3,2,3,4,3,4,5,5,5,4,5,3\\r\\n26594,Male,Loyal Customer,66,19-04-2021,1500,Business travel,Eco,925,4,1,1,4,4,4,4,3,3,2,5,4\\r\\n38339,Female,Loyal Customer,19,20-04-2021,1323,Business travel,Business,192,5,5,5,3,4,3,3,5,3,1,2,3\\r\\n46063,Female,Loyal Customer,53,21-04-2021,103,Personal Travel,Eco Plus,738,1,5,1,4,4,5,4,4,4,5,4,4\\r\\n27957,Male,Loyal Customer,22,22-04-2021,7404,Business travel,Business,174,2,2,2,2,2,2,2,4,2,2,4,2\\r\\n17270,Female,Loyal Customer,69,23-04-2021,7419,Personal Travel,Eco,257,2,3,2,4,2,3,5,5,5,3,5,3\\r\\n87976,Female,Loyal Customer,42,24-04-2021,5254,Business travel,Business,429,5,5,5,5,4,4,5,5,5,4,5,3\\r\\n31640,Female,Loyal Customer,41,25-04-2021,480,Business travel,Business,1107,2,2,2,2,3,5,4,4,4,5,4,5\\r\\n41461,Female,Loyal Customer,53,26-04-2021,1057,Personal Travel,Business,1121,3,4,3,3,3,5,1,1,1,4,1,4\\r\\n15143,Male,Loyal Customer,35,27-04-2021,2454,Business travel,Business,1258,3,2,2,2,4,3,3,3,3,3,3,2\\r\\n78136,Female,Loyal Customer,54,28-04-2021,4354,Personal Travel,Business,984,3,5,3,2,4,5,2,2,2,4,2,5\\r\\n120433,Male,Loyal Customer,44,29-04-2021,425,Business travel,Business,1009,3,3,2,2,5,4,4,4,4,3,4,4\\r\\n41440,Female,disloyal Customer,26,30-04-2021,89,Business travel,Eco Plus,964,1,2,2,4,2,3,4,3,1,1,4,4\\r\\n15963,Female,Loyal Customer,44,01-05-2021,2099,Personal Travel,Eco,456,2,5,2,2,5,4,5,5,5,3,5,3\\r\\n64303,Female,disloyal Customer,24,02-05-2021,4685,Business travel,Eco,308,2,3,3,5,3,5,5,4,5,4,5,5\\r\\n3608,Female,Loyal Customer,54,03-05-2021,5583,Personal Travel,Eco,250,2,4,2,4,5,5,5,5,5,5,5,4\\r\\n7744,Male,Loyal Customer,42,04-05-2021,5484,Business travel,Eco Plus,522,2,2,2,2,2,2,2,4,3,1,2,2\\r\\n21276,Male,disloyal Customer,36,05-05-2021,7370,Business travel,Eco,199,1,1,1,1,1,1,1,1,3,1,2,1\\r\\n58576,Female,Loyal Customer,61,06-05-2021,103,Business travel,Business,102,2,2,3,1,1,5,3,3,3,4,3,4\\r\\n53888,Female,Loyal Customer,50,07-05-2021,5187,Personal Travel,Eco,214,2,4,2,4,4,5,2,2,2,3,2,5\\r\\n10980,Male,Loyal Customer,27,08-05-2021,2859,Business travel,Business,364,3,3,3,5,5,5,5,4,4,5,2,5\\r\\n54151,Male,Loyal Customer,55,09-05-2021,1201,Business travel,Business,1325,3,5,5,4,3,2,3,3,3,1,3,4\\r\\n115641,Male,disloyal Customer,21,10-05-2021,1221,Business travel,Eco,991,2,2,1,1,1,1,1,4,3,4,3,1\\r\\n58584,Female,Loyal Customer,31,11-05-2021,1607,Personal Travel,Business,1024,2,1,2,5,2,5,5,2,3,2,4,5\\r\\n50472,Female,disloyal Customer,37,12-05-2021,328,Business travel,Eco,641,1,2,1,1,1,1,1,1,3,4,3,1\\r\\n102623,Female,Loyal Customer,50,13-05-2021,5764,Business travel,Business,84,1,1,5,2,4,4,5,5,5,4,5,5\\r\\n31533,Female,Loyal Customer,21,14-05-2021,1279,Personal Travel,Eco,861,1,4,1,3,1,3,3,5,5,4,5,3\\r\\n42287,Female,Loyal Customer,53,15-05-2021,409,Business travel,Eco,1182,1,0,0,1,3,3,4,4,4,4,4,1\\r\\n70467,Male,Loyal Customer,45,16-05-2021,5460,Business travel,Business,199,3,3,3,3,4,4,5,5,5,3,5,4\\r\\n20461,Female,disloyal Customer,42,17-05-2021,6391,Business travel,Eco,996,3,5,3,5,3,5,5,5,3,5,4,5\\r\\n113346,Male,Loyal Customer,59,18-05-2021,1532,Business travel,Business,967,3,3,3,3,5,4,4,4,4,4,4,3\\r\\n115566,Female,Loyal Customer,54,19-05-2021,1167,Business travel,Eco,888,2,1,4,5,3,3,2,2,2,4,2,1\\r\\n119896,Female,Loyal Customer,46,20-05-2021,1012,Business travel,Business,1190,1,1,1,2,4,4,4,4,4,5,4,4\\r\\n88853,Female,Loyal Customer,52,21-05-2021,2001,Personal Travel,Eco Plus,301,3,4,3,2,5,4,2,2,2,3,2,4\\r\\n24895,Female,Loyal Customer,38,22-05-2021,2807,Personal Travel,Eco,273,2,5,2,5,2,5,5,5,4,5,5,5\\r\\n31122,Male,Loyal Customer,35,23-05-2021,2023,Business travel,Business,1598,3,3,3,1,4,3,4,4,4,3,4,3\\r\\n91231,Female,Loyal Customer,41,24-05-2021,4557,Personal Travel,Eco,201,2,2,2,4,2,4,4,1,4,1,4,4\\r\\n61426,Female,disloyal Customer,40,25-05-2021,5241,Business travel,Business,346,2,2,2,4,2,4,4,3,3,3,5,4\\r\\n68873,Female,disloyal Customer,36,26-05-2021,5498,Business travel,Eco,235,2,2,2,4,2,4,4,1,2,4,2,4\\r\\n125701,Male,Loyal Customer,67,27-05-2021,6512,Personal Travel,Eco,209,2,5,2,2,2,2,2,5,4,5,5,2\\r\\n94999,Female,Loyal Customer,38,28-05-2021,1577,Personal Travel,Eco,909,4,4,4,5,4,5,5,2,4,4,4,5\\r\\n56694,Female,Loyal Customer,50,29-05-2021,4986,Personal Travel,Eco,1242,3,5,3,5,5,5,5,5,5,3,5,4\\r\\n62010,Male,Loyal Customer,50,30-05-2021,727,Business travel,Business,369,5,5,5,2,5,4,2,2,2,3,2,5\\r\\n95868,Male,Loyal Customer,54,31-05-2021,1012,Business travel,Business,867,5,5,3,5,4,5,3,3,3,4,3,5\\r\\n123064,Male,Loyal Customer,56,01-06-2021,824,Business travel,Business,1671,4,4,4,4,5,4,4,4,4,3,4,5\\r\\n103418,Male,Loyal Customer,38,02-06-2021,941,Personal Travel,Eco,692,3,4,3,2,3,2,2,3,4,4,3,2\\r\\n73456,Female,Loyal Customer,7,03-06-2021,2079,Personal Travel,Eco,632,3,5,3,2,3,2,2,4,4,5,5,2\\r\\n8851,Female,Loyal Customer,32,04-06-2021,3268,Business travel,Business,534,5,5,4,4,4,4,4,5,5,5,5,4\\r\\n64241,Male,Loyal Customer,45,05-06-2021,4160,Business travel,Eco,820,4,1,1,4,4,4,4,2,2,4,3,4\\r\\n81723,Male,disloyal Customer,25,06-06-2021,6285,Business travel,Eco,964,2,2,2,3,2,3,3,1,3,1,4,3\\r\\n88237,Female,Loyal Customer,45,07-06-2021,5184,Business travel,Business,1195,5,5,5,4,5,4,4,4,4,5,4,5\\r\\n50619,Male,Loyal Customer,34,08-06-2021,6358,Personal Travel,Eco,458,3,4,0,1,0,1,1,1,5,2,3,1\\r\\n54444,Male,Loyal Customer,20,09-06-2021,161,Personal Travel,Eco Plus,826,3,4,3,1,3,1,1,3,4,4,5,1\\r\\n64765,Female,disloyal Customer,36,10-06-2021,4833,Business travel,Eco,237,2,1,2,1,2,1,1,4,3,1,2,1\\r\\n15941,Male,disloyal Customer,36,11-06-2021,1119,Business travel,Eco,836,3,4,3,2,3,2,2,3,3,1,3,2\\r\\n14965,Male,Loyal Customer,27,12-06-2021,1237,Business travel,Business,1874,1,1,1,5,5,5,5,4,2,2,1,5\\r\\n36897,Male,Loyal Customer,40,13-06-2021,1540,Personal Travel,Eco,1208,3,4,2,3,2,3,3,4,3,3,4,3\\r\\n127954,Male,Loyal Customer,31,14-06-2021,1433,Business travel,Business,247,4,5,4,5,5,5,5,4,4,3,4,5\\r\\n27872,Male,Loyal Customer,25,15-06-2021,2299,Business travel,Eco Plus,1089,0,5,0,1,0,1,1,3,4,5,5,1\\r\\n35854,Male,Loyal Customer,42,16-06-2021,721,Business travel,Business,1197,2,2,2,1,5,3,5,5,5,4,5,3\\r\\n14527,Female,Loyal Customer,45,17-06-2021,917,Business travel,Eco,187,5,1,1,1,2,3,5,5,5,1,5,3\\r\\n47021,Male,Loyal Customer,59,18-06-2021,939,Personal Travel,Business,1576,2,1,2,4,3,3,3,3,3,2,3,1\\r\\n11224,Male,Loyal Customer,34,05-05-2021,1890,Personal Travel,Eco,731,3,5,3,2,3,5,2,5,1,3,1,2\\r\\n3921,Female,Loyal Customer,22,06-05-2021,4646,Personal Travel,Eco,628,3,5,3,3,3,1,3,1,1,3,2,3\\r\\n69463,Male,Loyal Customer,21,07-05-2021,365,Personal Travel,Eco,896,2,2,2,2,2,3,2,3,3,2,4,2\\r\\n47050,Male,Loyal Customer,26,08-05-2021,117,Business travel,Business,680,3,1,1,3,3,3,3,1,4,2,3,3\\r\\n21970,Male,Loyal Customer,37,09-05-2021,2926,Business travel,Business,987,2,2,2,5,3,1,4,4,4,1,4,5\\r\\n30046,Male,Loyal Customer,38,10-05-2021,2599,Business travel,Business,862,2,2,2,2,5,2,4,4,4,1,4,5\\r\\n1256,Female,Loyal Customer,17,11-05-2021,5482,Personal Travel,Eco,916,3,4,3,5,3,3,5,3,5,5,5,5\\r\\n73813,Male,Loyal Customer,15,12-05-2021,6457,Personal Travel,Eco Plus,134,2,4,2,5,2,5,5,5,5,5,5,5\\r\\n110928,Female,Loyal Customer,53,13-05-2021,218,Personal Travel,Eco,163,3,3,3,4,4,4,5,5,5,1,5,2\\r\\n102981,Male,disloyal Customer,39,14-05-2021,515,Business travel,Business,395,4,4,4,2,4,2,2,3,5,3,4,2\\r\\n61571,Male,Loyal Customer,40,15-05-2021,228,Business travel,Business,2434,4,3,4,2,4,5,5,5,5,3,5,3\\r\\n3796,Female,disloyal Customer,28,16-05-2021,641,Business travel,Eco Plus,1488,2,2,2,4,2,4,4,3,3,1,3,4\\r\\n73906,Female,disloyal Customer,27,17-05-2021,495,Business travel,Business,862,3,3,3,2,3,2,2,4,5,3,5,2\\r\\n74090,Female,Loyal Customer,41,18-05-2021,507,Business travel,Business,1091,5,5,5,3,5,5,4,4,4,4,4,5\\r\\n76645,Female,Loyal Customer,7,19-05-2021,1553,Personal Travel,Eco,200,2,4,2,5,2,5,5,5,5,5,4,5\\r\\n100462,Male,disloyal Customer,48,20-05-2021,403,Business travel,Business,602,3,3,3,2,3,2,2,4,5,4,5,2\\r\\n54164,Male,Loyal Customer,13,21-05-2021,446,Business travel,Eco,1044,2,1,1,2,1,2,2,4,3,3,4,2\\r\\n6147,Female,Loyal Customer,48,22-05-2021,1178,Business travel,Business,190,3,3,3,4,4,4,4,4,4,3,4,5\\r\\n1262,Female,Loyal Customer,49,23-05-2021,2410,Personal Travel,Eco,1235,3,3,3,5,3,3,4,4,4,1,4,4\\r\\n20310,Male,disloyal Customer,26,24-05-2021,2453,Business travel,Business,153,5,5,5,1,5,1,1,4,5,5,5,1\\r\\n46896,Male,Loyal Customer,22,25-05-2021,2228,Business travel,Business,937,2,2,2,3,3,3,3,2,3,5,3,3\\r\\n7237,Female,Loyal Customer,53,26-05-2021,4555,Business travel,Business,643,3,1,5,1,3,1,2,4,4,1,2,1\\r\\n44293,Female,Loyal Customer,43,27-05-2021,5698,Business travel,Eco,326,4,4,4,3,5,5,4,4,4,5,4,5\\r\\n52496,Male,Loyal Customer,56,28-05-2021,3534,Business travel,Business,158,1,1,1,2,5,4,4,4,5,4,4,5\\r\\n68263,Female,Loyal Customer,69,29-05-2021,4339,Personal Travel,Eco,1157,3,5,2,3,3,4,5,5,5,1,5,1\\r\\n5289,Male,Loyal Customer,59,30-05-2021,6204,Personal Travel,Eco,845,4,3,4,1,4,1,1,1,4,2,4,1\\r\\n109359,Female,Loyal Customer,56,31-05-2021,6261,Business travel,Business,1482,5,5,3,5,4,5,2,2,2,4,2,3\\r\\n94988,Male,Loyal Customer,11,01-06-2021,5160,Personal Travel,Eco,781,5,5,5,3,5,3,3,4,5,1,2,3\\r\\n53605,Female,Loyal Customer,25,02-06-2021,6224,Business travel,Eco,898,4,3,3,4,4,3,4,3,4,5,1,4\\r\\n11005,Female,disloyal Customer,29,03-06-2021,860,Business travel,Eco,1173,4,0,4,2,4,2,2,1,2,2,2,2\\r\\n14794,Female,Loyal Customer,48,04-06-2021,5230,Business travel,Eco,694,5,3,3,1,2,1,5,5,5,1,5,2\\r\\n49480,Female,Loyal Customer,42,05-06-2021,526,Business travel,Business,967,1,1,1,4,3,4,4,4,4,2,4,1\\r\\n120440,Male,disloyal Customer,15,06-06-2021,1222,Business travel,Eco,2218,1,4,1,3,1,4,3,1,5,4,5,3\\r\\n55823,Female,disloyal Customer,49,07-06-2021,1507,Business travel,Business,997,3,4,4,2,3,2,2,4,5,5,4,2\\r\\n107792,Male,Loyal Customer,41,08-06-2021,1094,Business travel,Business,1660,2,2,2,5,5,4,4,4,4,5,4,5\\r\\n80531,Male,Loyal Customer,43,09-06-2021,1233,Business travel,Business,1562,1,1,2,3,4,4,2,2,2,4,2,5\\r\\n128145,Male,Loyal Customer,60,10-06-2021,115,Business travel,Business,209,5,5,2,4,3,5,5,5,5,5,5,3\\r\\n63370,Female,Loyal Customer,42,11-06-2021,185,Personal Travel,Eco,264,4,1,4,3,3,3,3,3,1,2,3,2\\r\\n12452,Female,Loyal Customer,8,12-06-2021,2519,Personal Travel,Eco,102,3,3,3,4,3,4,4,5,2,4,3,4\\r\\n16145,Female,Loyal Customer,42,13-06-2021,3928,Business travel,Eco,403,5,3,3,5,3,5,5,5,5,5,5,2\\r\\n44418,Male,disloyal Customer,18,14-06-2021,3941,Business travel,Eco Plus,179,1,1,1,3,1,3,3,2,4,1,3,3\\r\\n95746,Male,Loyal Customer,47,15-06-2021,5976,Business travel,Business,282,2,2,2,3,5,3,5,5,5,3,5,4\\r\\n41134,Female,disloyal Customer,27,16-06-2021,3161,Business travel,Eco,280,4,4,4,5,4,5,5,2,3,2,3,5\\r\\n3214,Female,Loyal Customer,67,17-06-2021,5677,Personal Travel,Eco Plus,445,3,1,3,5,1,2,1,1,1,1,1,4\\r\\n74101,Male,disloyal Customer,38,18-06-2021,224,Business travel,Business,733,5,5,5,2,5,2,2,5,4,3,5,2\\r\\n106220,Female,disloyal Customer,20,19-06-2021,1457,Business travel,Eco,1379,4,5,4,3,4,3,3,4,4,5,4,3\\r\\n88134,Female,Loyal Customer,60,20-06-2021,1205,Business travel,Business,1085,2,2,1,4,4,4,5,5,5,3,5,3\\r\\n64475,Male,disloyal Customer,23,21-06-2021,5547,Business travel,Business,819,4,5,4,4,4,4,4,3,5,3,4,4\\r\\n123812,Male,disloyal Customer,25,22-06-2021,210,Business travel,Business,680,3,5,3,2,3,2,2,4,5,4,4,2\\r\\n88893,Female,Loyal Customer,38,05-04-2021,214,Business travel,Business,956,3,3,3,3,5,5,4,4,4,3,4,3\\r\\n31244,Female,Loyal Customer,40,06-04-2021,247,Business travel,Business,1009,1,1,1,3,1,5,5,5,5,5,5,5\\r\\n97762,Male,Loyal Customer,19,07-04-2021,256,Personal Travel,Eco,861,3,4,3,1,3,1,1,5,5,4,4,1\\r\\n59851,Female,Loyal Customer,61,08-04-2021,319,Business travel,Business,937,3,3,3,4,5,4,4,4,4,4,4,5\\r\\n25137,Male,Loyal Customer,44,09-04-2021,374,Personal Travel,Eco,416,3,4,3,5,3,5,5,5,3,4,4,5\\r\\n18412,Female,Loyal Customer,22,10-04-2021,635,Personal Travel,Eco,647,3,5,3,3,3,3,3,4,5,3,5,3\\r\\n87192,Female,disloyal Customer,8,11-04-2021,646,Business travel,Eco,646,2,2,2,3,2,3,3,1,3,4,3,3\\r\\n127062,Female,Loyal Customer,45,12-04-2021,1941,Business travel,Business,683,3,4,4,3,4,4,3,3,3,4,3,3\\r\\n112169,Male,Loyal Customer,46,13-04-2021,422,Personal Travel,Eco,804,4,5,4,1,4,1,1,2,3,3,5,1\\r\\n127798,Female,Loyal Customer,54,14-04-2021,544,Business travel,Business,1117,3,2,5,4,4,4,3,3,3,3,3,1\\r\\n91778,Male,Loyal Customer,62,15-04-2021,1016,Personal Travel,Eco,862,2,1,1,1,1,1,1,1,3,2,3,1\\r\\n42609,Female,Loyal Customer,25,16-04-2021,4122,Business travel,Business,369,5,5,5,2,2,2,2,5,2,1,3,2\\r\\n67482,Female,Loyal Customer,32,17-04-2021,4822,Personal Travel,Eco,2106,3,4,3,2,3,2,2,4,4,5,4,2\\r\\n91108,Female,Loyal Customer,65,18-04-2021,2215,Personal Travel,Eco,759,4,4,4,4,4,4,1,1,1,4,1,5\\r\\n102318,Male,disloyal Customer,40,19-04-2021,676,Business travel,Business,507,2,2,2,2,2,2,2,4,4,3,5,2\\r\\n51281,Female,Loyal Customer,30,20-04-2021,2787,Business travel,Eco Plus,994,0,0,0,2,0,2,2,4,3,4,5,2\\r\\n6528,Female,Loyal Customer,67,21-04-2021,4859,Personal Travel,Eco,327,3,1,3,1,1,2,3,3,3,2,3,1\\r\\n121232,Male,Loyal Customer,51,22-04-2021,597,Business travel,Business,2139,5,5,5,2,5,5,5,5,5,3,5,3\\r\\n72478,Female,Loyal Customer,47,23-04-2021,1158,Business travel,Business,1846,5,5,4,5,4,5,5,5,5,4,5,3\\r\\n122788,Female,Loyal Customer,38,24-04-2021,1163,Business travel,Eco,937,1,4,4,1,1,1,1,2,3,3,3,1\\r\\n5528,Male,Loyal Customer,54,25-04-2021,1188,Business travel,Business,1825,1,1,1,5,5,4,4,4,4,3,4,4\\r\\n107726,Female,Loyal Customer,57,26-04-2021,1198,Personal Travel,Eco,867,1,5,0,3,2,3,1,1,3,5,1,3\\r\\n72606,Male,Loyal Customer,13,27-04-2021,1224,Personal Travel,Eco,337,1,5,1,2,1,2,2,3,4,5,5,2\\r\\n75522,Female,disloyal Customer,20,28-04-2021,1296,Business travel,Eco,1211,4,0,4,4,4,4,4,3,4,4,5,4\\r\\n125687,Female,Loyal Customer,45,29-04-2021,1431,Business travel,Business,2611,2,2,2,2,2,1,2,2,2,3,2,4\\r\\n79908,Female,Loyal Customer,51,30-04-2021,1637,Business travel,Business,2402,2,2,2,3,4,5,3,3,3,3,3,3\\r\\n117345,Male,disloyal Customer,25,01-05-2021,1735,Business travel,Business,1744,0,0,0,2,0,2,2,4,4,5,5,2\\r\\n73465,Female,Loyal Customer,39,02-05-2021,410,Personal Travel,Eco,1009,1,4,2,2,1,5,5,2,5,5,4,5\\r\\n95851,Female,Loyal Customer,46,03-05-2021,459,Business travel,Business,1849,3,3,3,3,5,4,4,4,4,3,4,5\\r\\n44992,Male,Loyal Customer,53,04-05-2021,610,Business travel,Eco,651,1,3,3,1,1,1,1,1,3,4,4,1\\r\\n70631,Female,Loyal Customer,61,05-05-2021,72,Personal Travel,Eco,985,0,4,0,5,5,5,4,4,4,4,4,4\\r\\n13761,Female,Loyal Customer,61,06-05-2021,196,Business travel,Eco Plus,1013,4,5,5,3,3,2,4,4,4,3,4,5\\r\\n74968,Male,Loyal Customer,16,07-05-2021,304,Personal Travel,Eco,989,3,5,3,4,3,4,4,5,4,5,4,4\\r\\n12371,Female,Loyal Customer,44,08-05-2021,175,Business travel,Business,1192,2,1,1,2,3,3,2,2,2,3,2,1\\r\\n8378,Female,Loyal Customer,17,09-05-2021,281,Business travel,Business,1121,5,5,5,5,5,5,5,1,3,1,5,5\\r\\n82080,Female,Loyal Customer,50,10-05-2021,233,Business travel,Eco,946,2,2,2,4,2,3,2,2,2,1,2,1\\r\\n107972,Female,disloyal Customer,40,11-05-2021,1100,Business travel,Business,1389,4,4,4,5,4,5,5,5,4,3,5,5\\r\\n101228,Male,Loyal Customer,47,12-05-2021,1103,Business travel,Business,1389,5,5,5,4,4,4,2,2,2,4,2,3\\r\\n85577,Female,Loyal Customer,80,13-05-2021,1028,Business travel,Business,888,1,1,1,2,4,4,4,4,4,5,4,4\\r\\n2717,Female,Loyal Customer,38,14-05-2021,1039,Personal Travel,Eco,460,5,3,5,4,5,4,4,1,3,4,3,4\\r\\n88529,Male,Loyal Customer,31,15-05-2021,1055,Personal Travel,Eco,985,5,1,5,3,5,3,3,4,4,4,4,3\\r\\n91613,Male,Loyal Customer,59,16-05-2021,1180,Business travel,Business,1464,4,2,2,5,4,4,4,4,4,3,4,1\\r\\n88865,Female,Loyal Customer,22,17-05-2021,1345,Business travel,Business,237,4,4,4,4,4,4,4,1,3,4,4,4\\r\\n96960,Female,Loyal Customer,53,18-05-2021,1297,Business travel,Business,1096,5,5,5,5,4,5,3,3,3,3,3,3\\r\\n51191,Female,Loyal Customer,56,19-05-2021,1411,Business travel,Eco Plus,304,4,2,2,5,3,4,4,4,4,5,4,2\\r\\n9461,Female,Loyal Customer,48,20-05-2021,1084,Personal Travel,Eco,1096,4,4,5,2,4,5,3,3,3,5,3,4\\r\\n66384,Male,disloyal Customer,38,21-05-2021,1088,Business travel,Business,1055,3,3,3,2,3,2,2,5,5,3,4,2\\r\\n41934,Male,Loyal Customer,64,22-05-2021,1534,Personal Travel,Eco,1616,1,0,1,1,1,1,1,3,5,4,4,1\\r\\n25381,Male,Loyal Customer,67,23-05-2021,1573,Personal Travel,Eco,929,2,4,2,5,2,3,5,4,4,3,5,5\\r\\n14757,Female,Loyal Customer,62,24-05-2021,1660,Business travel,Business,1431,2,2,4,3,4,2,4,4,4,1,4,2\\r\\n94013,Male,Loyal Customer,57,25-05-2021,2204,Business travel,Business,675,1,1,1,2,5,5,4,4,4,5,4,5\\r\\n80107,Female,disloyal Customer,27,26-05-2021,1515,Business travel,Eco,1744,2,1,1,1,2,1,1,1,1,1,3,1\\r\\n23590,Female,disloyal Customer,25,27-05-2021,2307,Business travel,Eco,583,1,1,1,5,1,5,5,1,4,1,4,5\\r\\n110384,Female,Loyal Customer,52,28-05-2021,2363,Business travel,Eco,175,3,4,4,3,2,2,3,3,3,1,3,1\\r\\n15069,Female,Loyal Customer,45,29-05-2021,81,Business travel,Eco Plus,1448,4,2,2,3,1,3,4,4,4,5,4,2\\r\\n17128,Female,disloyal Customer,23,30-05-2021,162,Business travel,Eco,261,3,3,3,1,3,1,1,2,3,3,3,1\\r\\n54060,Male,Loyal Customer,55,31-05-2021,200,Business travel,Eco,697,5,2,2,5,5,5,5,4,5,2,5,5\\r\\n129240,Male,Loyal Customer,53,01-06-2021,342,Business travel,Business,671,3,2,2,5,4,4,3,3,3,3,3,3\\r\\n97165,Female,Loyal Customer,9,02-06-2021,406,Personal Travel,Eco,569,4,4,4,1,4,1,1,5,4,4,4,1\\r\\n111696,Male,Loyal Customer,33,03-06-2021,477,Business travel,Business,954,2,2,3,4,4,4,4,5,5,3,4,4\\r\\n1887,Male,disloyal Customer,64,04-06-2021,631,Business travel,Business,1107,3,3,3,3,3,3,3,4,4,4,4,3\\r\\n89086,Female,disloyal Customer,8,05-06-2021,683,Business travel,Eco,1024,2,3,3,4,2,4,4,4,3,3,3,4\\r\\n35485,Male,Loyal Customer,34,06-06-2021,699,Personal Travel,Eco,224,4,4,4,3,4,3,3,3,5,3,5,3\\r\\n35719,Male,Loyal Customer,59,07-06-2021,130,Personal Travel,Eco,1074,1,1,1,1,3,5,2,3,2,5,2,5\\r\\n85669,Female,Loyal Customer,13,08-06-2021,154,Business travel,Business,1028,3,1,3,3,3,3,3,4,4,3,3,3\\r\\n1137,Male,Loyal Customer,44,09-06-2021,353,Personal Travel,Eco,1028,4,4,4,2,4,2,2,2,1,4,5,2\\r\\n8358,Male,Loyal Customer,54,10-06-2021,226,Business travel,Business,1005,1,1,1,4,4,5,4,4,4,4,4,3\\r\\n17217,Male,Loyal Customer,36,11-06-2021,272,Business travel,Business,1076,4,4,4,3,4,4,5,5,5,5,5,3\\r\\n44847,Female,Loyal Customer,11,12-06-2021,447,Personal Travel,Eco,353,3,5,3,5,3,5,5,3,5,4,4,5\\r\\n96673,Female,Loyal Customer,32,13-06-2021,371,Personal Travel,Eco,1076,1,5,1,5,1,5,5,5,5,5,4,5\\r\\n80152,Male,Loyal Customer,42,14-06-2021,583,Business travel,Eco,944,1,3,3,1,1,1,3,5,3,1,4,1\\r\\n82277,Female,disloyal Customer,27,15-06-2021,605,Business travel,Eco,1065,1,1,1,2,1,2,2,1,3,3,1,2\\r\\n123927,Male,Loyal Customer,33,16-06-2021,525,Personal Travel,Eco,1005,2,4,2,3,2,3,3,4,3,2,5,3\\r\\n115766,Female,Loyal Customer,28,17-06-2021,746,Business travel,Business,1617,1,3,3,1,1,1,1,3,3,3,3,1\\r\\n21134,Male,Loyal Customer,44,18-06-2021,776,Personal Travel,Eco,1182,4,5,0,2,0,2,2,3,4,5,5,2\\r\\n112062,Male,disloyal Customer,49,05-05-2021,794,Business travel,Eco,1521,3,3,3,4,3,5,4,1,3,4,4,4\\r\\n28643,Male,Loyal Customer,59,06-05-2021,838,Business travel,Business,1576,2,3,2,3,5,2,5,5,5,4,5,4\\r\\n108010,Male,disloyal Customer,20,07-05-2021,892,Business travel,Business,1185,0,0,0,1,0,1,1,5,4,4,4,1\\r\\n92145,Female,Loyal Customer,46,08-05-2021,1678,Business travel,Business,828,3,2,3,3,5,4,4,4,4,3,4,5\\r\\n115846,Male,Loyal Customer,36,09-05-2021,1790,Business travel,Eco,399,5,5,5,5,5,5,5,1,3,1,3,5\\r\\n99685,Female,Loyal Customer,62,10-05-2021,421,Business travel,Business,760,2,2,2,5,4,4,4,4,4,4,4,5\\r\\n112072,Male,Loyal Customer,59,11-05-2021,731,Business travel,Business,502,3,3,3,2,4,4,3,3,3,4,3,3\\r\\n119226,Female,Loyal Customer,29,12-05-2021,743,Personal Travel,Eco,422,3,4,3,3,3,3,3,5,2,2,4,3\\r\\n115925,Female,disloyal Customer,41,13-05-2021,750,Business travel,Business,187,2,2,2,1,2,1,1,4,2,1,1,1\\r\\n106552,Male,Loyal Customer,7,14-05-2021,809,Personal Travel,Eco,1124,1,5,1,4,1,4,4,4,1,5,4,4\\r\\n25126,Female,Loyal Customer,65,15-05-2021,904,Personal Travel,Business,762,3,5,3,4,4,4,3,3,3,4,3,5\\r\\n33426,Male,Loyal Customer,50,16-05-2021,977,Business travel,Business,606,2,2,2,5,4,4,2,4,2,4,2,4\\r\\n125844,Female,Loyal Customer,20,17-05-2021,1088,Business travel,Eco,2519,2,3,3,2,2,4,2,3,3,1,4,2\\r\\n70328,Female,Loyal Customer,58,18-05-2021,1098,Business travel,Business,765,3,3,3,4,4,4,5,5,5,4,5,3\\r\\n88847,Female,Loyal Customer,45,19-05-2021,1205,Personal Travel,Eco Plus,1587,2,5,2,4,1,1,2,2,4,4,2,3\\r\\n108398,Male,Loyal Customer,46,20-05-2021,1234,Personal Travel,Eco Plus,271,1,5,1,5,1,5,5,3,5,4,5,5\\r\\n97316,Female,Loyal Customer,43,21-05-2021,1235,Business travel,Business,1931,3,3,3,4,4,5,5,5,5,4,5,3\\r\\n124811,Male,disloyal Customer,26,22-05-2021,1462,Business travel,Business,1188,2,2,2,2,2,2,2,2,2,2,3,2\\r\\n23012,Male,Loyal Customer,41,23-05-2021,913,Business travel,Eco Plus,919,5,1,1,5,5,5,5,3,3,5,5,5\\r\\n18088,Female,Loyal Customer,50,24-05-2021,1961,Personal Travel,Eco,481,3,5,3,3,4,5,5,5,5,5,5,3\\r\\n37982,Male,Loyal Customer,38,25-05-2021,2154,Personal Travel,Business,1947,3,4,3,4,3,4,5,5,5,5,5,5\\r\\n31332,Female,disloyal Customer,38,26-05-2021,2282,Business travel,Eco,946,1,1,1,3,1,3,3,4,4,5,3,3\\r\\n97455,Female,Loyal Customer,55,27-05-2021,2417,Business travel,Business,1749,2,2,2,2,5,4,3,3,3,4,3,4\\r\\n28901,Female,Loyal Customer,49,28-05-2021,1540,Business travel,Business,761,1,1,1,2,5,4,4,4,4,2,4,1\\r\\n107606,Male,disloyal Customer,33,29-05-2021,1574,Business travel,Business,1310,4,4,4,4,4,4,4,3,4,5,5,4\\r\\n53258,Female,Loyal Customer,57,30-05-2021,1700,Business travel,Business,332,4,4,4,5,5,5,3,3,4,5,4,5\\r\\n14292,Female,Loyal Customer,35,31-05-2021,1867,Business travel,Business,674,3,3,3,3,2,3,5,5,5,4,5,4\\r\\n68232,Female,Loyal Customer,40,01-06-2021,1937,Business travel,Business,409,5,5,5,3,5,5,4,4,4,3,4,3\\r\\n51224,Female,disloyal Customer,37,02-06-2021,159,Business travel,Eco Plus,280,4,4,4,3,4,3,3,4,1,1,1,3\\r\\n121386,Female,Loyal Customer,52,03-06-2021,198,Personal Travel,Eco,950,2,5,2,2,4,2,5,3,5,2,4,2\\r\\n31668,Male,Loyal Customer,41,04-06-2021,1502,Business travel,Eco,1069,2,2,2,2,2,2,2,3,2,3,3,2\\r\\n24628,Female,Loyal Customer,14,05-06-2021,1504,Personal Travel,Eco,1598,3,3,3,3,1,1,4,2,5,1,4,1\\r\\n95876,Female,Loyal Customer,32,06-06-2021,1600,Business travel,Business,399,2,2,2,5,4,5,5,3,4,4,4,5\\r\\n62793,Male,Loyal Customer,11,07-06-2021,2533,Personal Travel,Eco,772,2,4,2,2,1,1,3,2,5,1,4,1\\r\\n83516,Male,Loyal Customer,12,08-06-2021,4213,Personal Travel,Eco,843,1,3,1,2,1,2,2,1,2,2,3,2\\r\\n13221,Male,Loyal Customer,41,09-06-2021,4431,Business travel,Eco,708,4,3,3,4,4,4,4,2,4,4,3,4\\r\\n100404,Female,disloyal Customer,45,10-06-2021,4411,Business travel,Business,946,3,2,2,4,3,4,4,4,4,4,5,4\\r\\n121453,Male,disloyal Customer,21,11-06-2021,4756,Business travel,Eco,599,2,0,2,5,2,1,5,1,1,4,5,5\\r\\n21454,Female,Loyal Customer,31,12-06-2021,4768,Business travel,Eco,419,2,3,3,2,2,2,2,3,3,1,3,2\\r\\n15937,Male,Loyal Customer,38,13-06-2021,4740,Business travel,Eco,173,4,3,2,4,4,4,4,5,4,4,5,4\\r\\n70105,Male,Loyal Customer,40,14-06-2021,5103,Business travel,Business,425,4,4,4,3,5,5,5,5,5,4,5,5\\r\\n47540,Male,Loyal Customer,13,15-06-2021,5275,Personal Travel,Eco,341,5,4,5,5,5,5,5,4,4,4,4,5\\r\\n57561,Female,Loyal Customer,44,16-06-2021,5491,Business travel,Business,399,2,2,2,3,4,4,2,2,2,5,2,4\\r\\n124103,Female,Loyal Customer,66,17-06-2021,5978,Business travel,Business,557,3,5,4,5,4,4,3,3,3,2,3,4\\r\\n125736,Female,Loyal Customer,30,18-06-2021,5917,Business travel,Eco Plus,677,5,5,5,5,5,5,5,3,1,2,3,5\\r\\n93362,Male,Loyal Customer,44,19-06-2021,6133,Personal Travel,Eco,398,3,1,3,4,3,4,4,1,4,3,3,4\\r\\n95429,Female,Loyal Customer,53,20-06-2021,6082,Business travel,Business,160,0,5,0,4,5,4,3,3,3,5,3,5\\r\\n106943,Female,Loyal Customer,37,21-06-2021,6122,Business travel,Business,323,2,2,4,4,4,4,5,5,5,3,5,5\\r\\n100691,Female,Loyal Customer,39,22-06-2021,6143,Personal Travel,Eco,212,2,5,2,3,2,3,3,3,4,3,4,3\\r\\n119948,Male,disloyal Customer,29,05-04-2021,865,Business travel,Business,679,2,2,2,3,2,3,3,3,4,5,4,3\\r\\n15778,Male,Loyal Customer,38,06-04-2021,1256,Business travel,Eco,1197,4,5,5,4,4,4,4,3,4,4,3,4\\r\\n68342,Male,Loyal Customer,59,07-04-2021,1104,Business travel,Business,1062,3,3,3,4,3,4,5,5,5,3,5,5\\r\\n24665,Male,Loyal Customer,19,08-04-2021,1057,Personal Travel,Eco,1635,1,0,1,4,1,4,4,3,4,3,5,4\\r\\n81029,Female,Loyal Customer,39,09-04-2021,144,Business travel,Business,1024,4,4,2,4,4,5,5,5,5,3,5,5\\r\\n70371,Male,Loyal Customer,22,10-04-2021,1056,Personal Travel,Eco,1635,3,5,3,4,3,4,4,5,4,5,5,4\\r\\n1386,Male,Loyal Customer,50,11-04-2021,901,Personal Travel,Eco Plus,701,0,4,0,4,0,3,4,4,4,3,4,4\\r\\n35225,Male,Loyal Customer,22,12-04-2021,902,Business travel,Eco,701,5,1,1,5,5,5,5,3,2,2,1,5\\r\\n86204,Male,Loyal Customer,56,13-04-2021,202,Business travel,Business,216,4,4,4,5,5,5,4,4,4,4,4,4\\r\\n126370,Male,Loyal Customer,39,14-04-2021,2898,Personal Travel,Eco,309,3,5,4,4,4,4,4,5,4,3,5,4\\r\\n116184,Male,Loyal Customer,29,15-04-2021,2957,Personal Travel,Eco,312,4,3,4,5,4,5,5,2,4,3,4,5\\r\\n89613,Male,Loyal Customer,42,16-04-2021,2962,Business travel,Business,164,5,5,5,3,5,4,5,5,5,3,5,3\\r\\n99020,Male,Loyal Customer,56,17-04-2021,3014,Business travel,Business,247,4,4,4,2,5,4,3,3,3,4,3,3\\r\\n18463,Male,Loyal Customer,27,18-04-2021,3015,Business travel,Business,383,3,3,3,4,4,3,4,2,2,1,3,4\\r\\n96637,Female,disloyal Customer,21,19-04-2021,3079,Business travel,Eco,327,2,2,2,4,2,4,4,5,5,3,5,4\\r\\n114678,Female,Loyal Customer,42,20-04-2021,3189,Business travel,Business,685,1,1,1,4,5,4,5,5,5,4,5,5\\r\\n97639,Female,Loyal Customer,48,21-04-2021,3302,Business travel,Business,691,1,1,1,5,4,5,4,4,4,4,4,3\\r\\n75061,Male,Loyal Customer,53,22-04-2021,3338,Business travel,Business,862,4,5,4,4,3,5,4,4,4,3,4,4\\r\\n51744,Female,Loyal Customer,64,23-04-2021,3350,Personal Travel,Eco,427,4,5,4,2,4,4,2,2,2,3,2,5\\r\\n44413,Female,Loyal Customer,49,24-04-2021,3355,Personal Travel,Eco,948,3,4,3,4,4,4,4,4,4,3,4,5\\r\\n2389,Female,Loyal Customer,49,25-04-2021,3251,Business travel,Business,431,5,5,5,4,4,4,5,5,5,4,5,5\\r\\n105062,Male,Loyal Customer,23,26-04-2021,3377,Personal Travel,Eco Plus,539,2,4,3,3,3,3,3,5,4,4,5,3\\r\\n91464,Male,Loyal Customer,50,27-04-2021,3441,Business travel,Business,767,3,5,3,1,1,1,3,3,3,4,3,3\\r\\n55721,Male,Loyal Customer,51,28-04-2021,3540,Personal Travel,Eco Plus,530,1,4,1,2,1,5,2,3,4,4,4,2\\r\\n65726,Male,Loyal Customer,34,29-04-2021,3488,Business travel,Business,661,4,4,4,5,4,5,5,5,5,3,5,3\\r\\n8473,Female,Loyal Customer,49,30-04-2021,3597,Business travel,Business,812,1,1,1,3,5,4,3,3,3,4,3,3\\r\\n13488,Female,Loyal Customer,56,01-05-2021,3611,Business travel,Eco,922,5,2,2,4,1,2,5,5,5,4,5,3\\r\\n58611,Male,Loyal Customer,46,02-05-2021,3678,Business travel,Business,181,2,2,2,3,5,4,4,4,4,3,4,3\\r\\n39607,Male,Loyal Customer,25,03-05-2021,188,Personal Travel,Eco,407,2,5,2,2,2,2,2,4,4,4,5,2\\r\\n41704,Female,Loyal Customer,68,04-05-2021,925,Personal Travel,Eco Plus,1457,3,4,3,4,4,5,5,5,5,4,5,4\\r\\n126579,Female,Loyal Customer,10,05-05-2021,943,Personal Travel,Eco,982,2,4,2,1,2,1,1,3,3,4,4,1\\r\\n44232,Female,Loyal Customer,44,06-05-2021,316,Business travel,Eco,502,4,1,1,2,5,5,3,3,3,4,3,3\\r\\n44021,Male,Loyal Customer,61,07-05-2021,972,Personal Travel,Business,1119,4,4,4,3,4,4,1,1,2,4,1,3\\r\\n67502,Female,Loyal Customer,18,08-05-2021,2622,Personal Travel,Eco Plus,373,3,4,3,4,3,1,4,2,1,2,4,4\\r\\n19525,Female,Loyal Customer,58,09-05-2021,6360,Business travel,Business,300,0,5,0,4,4,4,2,2,2,4,2,3\\r\\n110015,Female,Loyal Customer,58,10-05-2021,6369,Business travel,Business,751,2,1,1,2,2,2,2,2,2,2,2,3\\r\\n30960,Male,Loyal Customer,64,11-05-2021,5330,Personal Travel,Eco,268,4,4,4,4,4,4,4,3,5,5,4,4\\r\\n2153,Male,Loyal Customer,66,12-05-2021,5292,Personal Travel,Business,397,2,4,2,5,4,5,3,3,3,5,3,4\\r\\n115097,Female,disloyal Customer,21,13-05-2021,6276,Business travel,Business,462,4,0,4,4,4,5,4,4,5,4,4,4\\r\\n63204,Male,Loyal Customer,39,14-05-2021,6235,Business travel,Business,1504,4,4,4,2,5,4,5,5,5,4,5,4\\r\\n113849,Male,Loyal Customer,50,15-05-2021,3489,Business travel,Business,748,2,2,2,2,2,2,3,5,4,2,5,2\\r\\n95508,Female,Loyal Customer,43,16-05-2021,3461,Business travel,Eco Plus,838,1,2,2,4,3,3,1,1,1,4,1,2\\r\\n112350,Male,Loyal Customer,41,17-05-2021,7423,Business travel,Business,153,4,4,4,4,5,5,2,2,2,5,2,5\\r\\n20650,Male,Loyal Customer,46,18-05-2021,5318,Business travel,Eco,359,4,4,4,4,4,4,4,3,2,2,3,4\\r\\n65517,Male,Loyal Customer,41,19-05-2021,5445,Business travel,Business,86,4,4,4,5,5,5,4,4,4,3,4,5\\r\\n116988,Female,Loyal Customer,31,20-05-2021,5242,Business travel,Eco,674,3,4,5,3,3,3,3,1,4,4,3,3\\r\\n116210,Female,Loyal Customer,53,21-05-2021,5462,Personal Travel,Eco,174,4,4,4,5,4,5,3,3,5,5,3,5\\r\\n15218,Female,Loyal Customer,39,22-05-2021,5466,Business travel,Business,86,2,2,2,4,5,2,4,4,4,1,4,3\\r\\n35387,Female,Loyal Customer,53,23-05-2021,5550,Business travel,Business,391,2,2,2,5,5,5,1,1,3,5,3,5\\r\\n20002,Male,Loyal Customer,25,24-05-2021,5574,Business travel,Eco,158,4,5,5,4,4,4,4,3,5,5,3,4\\r\\n102927,Female,disloyal Customer,20,25-05-2021,3221,Business travel,Eco,990,3,4,3,3,3,3,3,4,3,4,4,3\\r\\n92462,Male,disloyal Customer,46,26-05-2021,3224,Business travel,Eco,396,3,3,3,2,3,2,2,3,4,4,3,2\\r\\n70950,Male,Loyal Customer,10,27-05-2021,5522,Personal Travel,Eco,852,3,4,2,1,2,1,1,2,3,5,3,1\\r\\n76034,Female,Loyal Customer,47,28-05-2021,5592,Business travel,Business,230,3,3,3,5,4,5,4,4,4,5,4,5\\r\\n97177,Male,Loyal Customer,32,29-05-2021,5604,Personal Travel,Eco,250,3,3,2,5,2,5,5,2,4,4,3,5\\r\\n51719,Female,Loyal Customer,14,30-05-2021,5170,Personal Travel,Eco,216,2,4,2,2,2,2,2,3,5,4,5,2\\r\\n129201,Female,Loyal Customer,16,31-05-2021,5429,Business travel,Business,342,2,2,2,4,4,4,4,3,3,5,5,4\\r\\n35558,Female,Loyal Customer,53,01-06-2021,5435,Personal Travel,Eco,620,1,5,0,2,5,4,1,1,1,4,1,3\\r\\n109398,Male,Loyal Customer,55,02-06-2021,6378,Business travel,Business,196,1,1,1,3,5,5,5,5,5,4,5,3\\r\\n65351,Female,Loyal Customer,28,03-06-2021,6401,Business travel,Business,451,2,2,2,5,5,5,5,5,5,4,5,5\\r\\n102482,Female,Loyal Customer,49,04-06-2021,6332,Personal Travel,Eco,641,2,3,2,4,4,3,3,3,2,3,3,1\\r\\n17932,Male,Loyal Customer,54,05-06-2021,6346,Personal Travel,Eco Plus,77,1,4,1,1,1,1,1,4,5,5,5,1\\r\\n122276,Female,Loyal Customer,70,06-06-2021,6465,Personal Travel,Eco,590,3,4,3,4,5,4,5,5,3,5,5,5\\r\\n57484,Female,disloyal Customer,25,07-06-2021,7392,Business travel,Eco,306,2,2,2,1,2,1,1,3,4,4,3,1\\r\\n121069,Female,Loyal Customer,48,08-06-2021,6403,Business travel,Business,329,1,1,1,5,4,5,3,3,3,5,3,3\\r\\n41414,Male,Loyal Customer,7,09-06-2021,6497,Personal Travel,Eco,844,2,4,2,2,2,2,2,5,5,5,4,2\\r\\n49839,Male,Loyal Customer,39,10-06-2021,576,Business travel,Eco,2565,3,3,3,3,3,3,3,3,3,3,3,3\\r\\n48189,Male,Loyal Customer,79,11-06-2021,1410,Business travel,Eco,1222,2,1,1,2,2,2,2,1,3,1,3,2\\r\\n82445,Female,disloyal Customer,28,12-06-2021,1689,Business travel,Business,2565,4,4,4,5,4,5,5,4,5,3,5,5\\r\\n108108,Male,Loyal Customer,41,13-06-2021,6020,Business travel,Business,576,4,4,4,4,4,5,4,4,4,3,4,3\\r\\n63984,Female,disloyal Customer,27,14-06-2021,113,Business travel,Eco Plus,102,1,1,1,1,1,1,1,1,4,4,4,1\\r\\n105287,Female,Loyal Customer,59,15-06-2021,5629,Business travel,Business,421,5,5,5,3,5,4,5,5,5,5,5,3\\r\\n9385,Female,Loyal Customer,21,16-06-2021,6420,Personal Travel,Eco,776,3,2,5,5,5,5,5,3,3,4,3,5\\r\\n25265,Male,Loyal Customer,48,17-06-2021,223,Business travel,Eco,191,5,4,4,5,5,5,5,4,1,5,4,5\\r\\n119844,Male,Loyal Customer,53,18-06-2021,996,Business travel,Eco,2454,3,5,5,3,3,3,3,1,3,3,4,3\\r\\n33840,Female,Loyal Customer,42,05-05-2021,1721,Business travel,Business,337,2,4,1,2,2,3,2,2,2,2,2,1\\r\\n81815,Female,disloyal Customer,48,06-05-2021,4390,Business travel,Eco,288,1,1,1,1,1,1,1,2,4,2,4,1\\r\\n83524,Male,Loyal Customer,59,07-05-2021,5732,Personal Travel,Eco,401,4,2,3,1,3,1,1,4,3,3,3,1\\r\\n78999,Female,Loyal Customer,53,08-05-2021,756,Business travel,Business,602,2,2,2,5,4,4,5,5,5,5,5,3\\r\\n46712,Male,Loyal Customer,24,09-05-2021,234,Personal Travel,Eco,1609,2,4,0,2,0,3,2,2,4,1,3,2\\r\\n41188,Male,Loyal Customer,56,10-05-2021,415,Personal Travel,Eco,2586,2,1,2,3,2,3,3,1,3,3,2,3\\r\\n5326,Female,Loyal Customer,42,11-05-2021,647,Business travel,Business,2300,5,5,3,3,5,5,5,5,5,5,5,4\\r\\n80176,Female,disloyal Customer,24,12-05-2021,829,Business travel,Eco,728,2,2,2,2,4,4,2,4,1,4,3,4\\r\\n46900,Male,Loyal Customer,28,13-05-2021,1743,Business travel,Business,1145,3,3,3,2,2,2,2,1,3,4,1,2\\r\\n89219,Female,Loyal Customer,17,14-05-2021,1023,Personal Travel,Eco,1065,1,1,1,1,1,2,1,2,2,2,3,1\\r\\n17928,Male,Loyal Customer,31,15-05-2021,2505,Business travel,Eco Plus,836,2,4,4,2,1,2,2,1,4,3,4,2\\r\\n55425,Male,Loyal Customer,60,16-05-2021,239,Business travel,Business,786,3,3,5,4,4,4,4,4,4,4,4,4\\r\\n88130,Male,disloyal Customer,39,17-05-2021,474,Business travel,Business,819,4,4,4,1,4,1,1,5,5,4,5,1\\r\\n48354,Female,Loyal Customer,47,18-05-2021,1245,Business travel,Eco,404,4,5,5,3,2,1,4,4,4,2,4,2\\r\\n105905,Male,Loyal Customer,60,19-05-2021,560,Business travel,Eco,868,3,4,4,3,3,3,3,2,4,2,4,3\\r\\n60943,Male,Loyal Customer,13,20-05-2021,310,Business travel,Business,469,5,5,3,4,4,4,4,4,5,3,5,4\\r\\n101584,Male,disloyal Customer,29,21-05-2021,375,Business travel,Business,550,1,1,1,3,1,5,3,1,2,1,2,3\\r\\n71388,Female,Loyal Customer,45,22-05-2021,378,Business travel,Business,1045,5,5,5,2,4,4,5,5,5,5,5,5\\r\\n77866,Male,Loyal Customer,44,23-05-2021,1291,Business travel,Business,853,1,1,3,3,5,5,4,4,4,5,4,4\\r\\n49223,Female,Loyal Customer,50,24-05-2021,320,Business travel,Eco,679,5,1,1,4,5,1,5,5,5,3,5,2\\r\\n106530,Female,Loyal Customer,26,25-05-2021,602,Personal Travel,Eco,867,3,0,3,5,3,5,5,4,5,5,4,5\\r\\n28676,Female,Loyal Customer,27,26-05-2021,233,Business travel,Business,266,5,5,5,5,5,5,5,4,3,3,2,5\\r\\n39553,Male,Loyal Customer,16,27-05-2021,601,Business travel,Business,1069,2,2,2,5,5,5,5,3,3,4,5,5\\r\\n109597,Female,disloyal Customer,24,28-05-2021,735,Business travel,Eco,354,4,4,4,3,4,3,3,4,4,4,3,3\\r\\n62291,Male,disloyal Customer,34,29-05-2021,922,Business travel,Business,1197,3,3,3,1,3,1,1,5,5,4,5,1\\r\\n40177,Female,Loyal Customer,30,30-05-2021,1184,Business travel,Business,944,3,3,3,5,5,5,5,1,4,2,4,5\\r\\n33413,Male,Loyal Customer,50,31-05-2021,1434,Business travel,Eco,1189,4,3,3,4,4,4,4,1,4,3,4,4\\r\\n127599,Male,disloyal Customer,21,01-06-2021,1065,Business travel,Eco,859,3,3,3,4,3,4,4,3,4,3,5,4\\r\\n66723,Male,Loyal Customer,61,02-06-2021,1456,Personal Travel,Eco,356,1,3,1,4,1,4,4,1,3,2,4,4\\r\\n73698,Female,Loyal Customer,32,03-06-2021,1723,Business travel,Business,599,3,2,2,3,3,3,3,4,3,4,3,3\\r\\n27641,Female,Loyal Customer,22,04-06-2021,4642,Personal Travel,Eco Plus,936,2,5,3,1,3,1,1,1,4,4,3,1\\r\\n83891,Male,Loyal Customer,46,05-06-2021,4928,Business travel,Business,565,1,0,0,2,4,3,4,4,4,3,4,2\\r\\n51662,Female,disloyal Customer,15,06-06-2021,609,Business travel,Eco,977,3,2,2,4,2,3,4,3,3,1,4,4\\r\\n19833,Female,Loyal Customer,29,07-06-2021,821,Personal Travel,Eco,533,3,1,3,1,3,1,1,1,4,3,4,1\\r\\n63416,Female,Loyal Customer,12,08-06-2021,133,Personal Travel,Eco,641,4,5,4,5,4,5,5,4,4,3,5,5\\r\\n7645,Male,disloyal Customer,50,09-06-2021,2881,Business travel,Business,227,2,2,2,1,2,1,1,3,5,4,5,1\\r\\n86002,Male,Loyal Customer,54,10-06-2021,2771,Business travel,Eco,285,2,3,1,2,2,2,2,1,3,2,2,2\\r\\n64457,Male,Loyal Customer,69,11-06-2021,3288,Personal Travel,Eco,113,1,4,1,5,1,5,5,3,4,4,5,5\\r\\n109551,Male,Loyal Customer,38,12-06-2021,3328,Personal Travel,Eco,89,1,2,1,3,1,3,3,2,4,2,4,3\\r\\n86553,Female,disloyal Customer,25,13-06-2021,3408,Business travel,Eco Plus,229,1,1,1,4,1,4,4,3,4,3,3,4\\r\\n17491,Male,Loyal Customer,26,14-06-2021,3643,Business travel,Eco,408,3,5,5,3,3,1,3,4,4,2,4,3\\r\\n114667,Female,Loyal Customer,53,15-06-2021,286,Business travel,Business,100,3,3,3,5,5,5,3,3,3,3,3,5\\r\\n59149,Male,Loyal Customer,47,16-06-2021,5181,Business travel,Business,1187,2,2,2,5,4,4,4,4,4,4,4,5\\r\\n74892,Male,Loyal Customer,42,17-06-2021,6499,Business travel,Business,627,1,1,1,5,4,4,5,5,5,5,5,3\\r\\n15197,Male,disloyal Customer,19,18-06-2021,1160,Business travel,Eco,1635,3,3,3,3,5,4,4,5,4,4,4,4\\r\\n6867,Male,Loyal Customer,63,19-06-2021,1601,Personal Travel,Eco,1065,3,5,3,3,3,3,3,4,5,5,5,3\\r\\n111943,Male,disloyal Customer,18,20-06-2021,6461,Business travel,Eco,196,3,5,3,2,3,3,2,5,5,5,4,2\\r\\n46720,Male,Loyal Customer,52,21-06-2021,606,Personal Travel,Eco,1084,3,5,3,3,3,2,3,3,2,1,3,3\\r\\n67966,Male,Loyal Customer,60,22-06-2021,7389,Business travel,Eco Plus,261,3,2,2,3,3,3,3,4,4,4,4,3\\r\\n33341,Male,Loyal Customer,38,05-04-2021,220,Business travel,Business,1167,2,2,2,3,4,3,5,5,5,1,5,3\\r\\n50319,Male,Loyal Customer,41,06-04-2021,654,Business travel,Eco,1005,5,1,1,5,5,5,5,2,2,1,2,5\\r\\n82927,Male,Loyal Customer,41,07-04-2021,6119,Business travel,Business,642,2,2,2,3,5,4,3,3,3,3,3,3\\r\\n14562,Female,disloyal Customer,15,08-04-2021,5456,Business travel,Eco,462,2,2,2,1,2,1,1,5,5,5,4,1\\r\\n108335,Female,Loyal Customer,49,09-04-2021,205,Business travel,Eco,100,1,5,5,1,1,1,4,2,4,1,2,1\\r\\n97959,Male,Loyal Customer,18,10-04-2021,4494,Personal Travel,Eco,584,4,4,4,3,4,4,3,3,5,4,4,3\\r\\n1026,Female,Loyal Customer,39,11-04-2021,5370,Business travel,Eco,222,5,5,5,5,5,5,5,2,5,3,2,5\\r\\n26910,Female,Loyal Customer,25,12-04-2021,1709,Business travel,Business,529,2,3,1,2,2,2,2,2,4,4,5,2\\r\\n14054,Male,disloyal Customer,28,13-04-2021,828,Business travel,Business,1999,5,5,5,4,5,5,4,5,4,3,4,4\\r\\n109458,Female,Loyal Customer,37,14-04-2021,1632,Business travel,Business,2306,3,3,3,5,4,5,5,5,5,4,5,5\\r\\n51772,Female,Loyal Customer,31,15-04-2021,1725,Personal Travel,Eco,414,3,4,3,3,3,3,3,1,4,2,4,3\\r\\n15019,Female,Loyal Customer,32,16-04-2021,168,Personal Travel,Eco,1121,3,4,3,3,3,3,3,5,4,4,5,3\\r\\n23664,Female,disloyal Customer,25,17-04-2021,1315,Business travel,Eco,631,2,4,2,5,2,5,5,5,5,5,1,5\\r\\n6731,Male,Loyal Customer,55,18-04-2021,1336,Business travel,Business,868,3,3,3,5,5,5,4,4,4,4,4,3\\r\\n57753,Male,Loyal Customer,51,19-04-2021,1619,Business travel,Business,1258,4,4,4,5,5,5,3,4,4,5,4,5\\r\\n29788,Female,Loyal Customer,40,20-04-2021,1686,Business travel,Business,1592,0,4,1,4,1,3,5,5,5,3,5,2\\r\\n28336,Male,Loyal Customer,25,21-04-2021,345,Business travel,Business,671,1,2,1,4,4,4,4,1,2,1,2,4\\r\\n2878,Female,Loyal Customer,70,22-04-2021,454,Personal Travel,Eco,954,3,5,3,2,4,5,5,5,1,3,5,3\\r\\n81675,Female,Loyal Customer,55,23-04-2021,57,Business travel,Eco,413,2,3,3,4,4,3,2,2,2,1,2,3\\r\\n50905,Male,Loyal Customer,53,24-04-2021,24,Personal Travel,Eco,2475,1,5,1,5,1,5,5,3,1,3,1,5\\r\\n90850,Male,Loyal Customer,73,25-04-2021,1279,Business travel,Business,899,1,1,1,3,4,3,2,2,1,3,2,4\\r\\n29340,Female,Loyal Customer,32,26-04-2021,1836,Business travel,Eco Plus,632,0,0,0,3,0,2,3,3,4,5,4,3\\r\\n68731,Male,Loyal Customer,30,27-04-2021,1361,Personal Travel,Eco Plus,1797,1,1,1,4,1,5,4,1,3,4,3,4\\r\\n115978,Male,Loyal Customer,19,28-04-2021,327,Personal Travel,Eco,666,1,4,4,5,4,5,5,4,5,3,4,5\\r\\n29829,Male,Loyal Customer,33,29-04-2021,1492,Business travel,Business,1276,2,2,2,5,5,5,5,3,5,2,2,5\\r\\n82401,Female,Loyal Customer,13,30-04-2021,1554,Personal Travel,Eco,1046,3,4,3,2,3,2,2,4,5,4,4,2\\r\\n80083,Male,Loyal Customer,53,01-05-2021,4556,Business travel,Eco Plus,528,3,4,4,3,3,3,3,5,3,4,3,3\\r\\n42783,Female,disloyal Customer,31,02-05-2021,6071,Business travel,Eco,152,1,1,1,2,1,2,2,3,4,4,4,2\\r\\n39020,Male,Loyal Customer,62,03-05-2021,1252,Business travel,Business,1096,1,1,1,4,3,4,4,4,4,4,4,4\\r\\n46111,Male,Loyal Customer,29,04-05-2021,3323,Personal Travel,Eco,825,4,4,3,2,3,2,2,4,4,3,5,2\\r\\n66327,Male,Loyal Customer,57,05-05-2021,3601,Business travel,Business,502,1,1,1,2,4,4,5,5,5,4,5,4\\r\\n43012,Male,Loyal Customer,34,06-05-2021,3551,Business travel,Business,802,0,0,0,3,4,1,2,2,2,2,2,2\\r\\n82776,Male,disloyal Customer,45,07-05-2021,5572,Business travel,Eco,604,3,3,3,5,3,2,5,3,3,4,4,5\\r\\n48215,Female,Loyal Customer,65,08-05-2021,1312,Personal Travel,Eco,1068,1,2,1,5,4,3,2,2,2,2,2,3\\r\\n57441,Female,Loyal Customer,48,09-05-2021,269,Business travel,Business,1237,2,5,5,2,4,3,2,2,2,3,2,4\\r\\n55928,Female,Loyal Customer,8,10-05-2021,4506,Personal Travel,Eco,262,4,2,4,3,4,3,3,1,1,4,2,3\\r\\n98446,Male,Loyal Customer,36,11-05-2021,5337,Personal Travel,Eco,563,1,0,1,5,1,5,5,4,5,1,5,5\\r\\n121273,Female,Loyal Customer,48,12-05-2021,562,Business travel,Business,236,4,4,4,3,4,4,4,4,4,3,4,4\\r\\n59385,Female,Loyal Customer,10,13-05-2021,416,Personal Travel,Eco,1739,3,4,3,5,3,5,5,3,4,5,5,5\\r\\n27078,Male,disloyal Customer,24,14-05-2021,1403,Business travel,Eco,1598,4,4,4,5,4,5,5,1,5,3,1,5\\r\\n104661,Male,Loyal Customer,52,15-05-2021,107,Business travel,Business,163,4,4,4,2,5,4,3,3,3,5,3,5\\r\\n111483,Male,disloyal Customer,43,16-05-2021,4681,Business travel,Eco,618,3,4,4,4,4,4,4,3,2,3,1,4\\r\\n11558,Female,Loyal Customer,21,17-05-2021,1754,Business travel,Business,601,2,2,2,5,5,5,5,5,4,5,4,5\\r\\n83673,Female,disloyal Customer,24,18-05-2021,1789,Business travel,Eco,1773,3,3,3,2,3,2,2,2,3,4,2,2\\r\\n120382,Male,disloyal Customer,40,19-05-2021,1966,Business travel,Business,447,4,4,4,3,4,3,3,5,4,4,4,3\\r\\n82170,Female,Loyal Customer,8,20-05-2021,2351,Personal Travel,Eco,696,1,5,1,2,1,3,2,5,4,3,4,2\\r\\n117397,Female,Loyal Customer,40,21-05-2021,137,Business travel,Business,1020,4,4,4,4,4,4,4,4,4,4,4,5\\r\\n59357,Male,Loyal Customer,41,22-05-2021,1125,Business travel,Business,986,4,4,4,4,3,4,5,5,5,4,5,4\\r\\n91983,Female,Loyal Customer,67,23-05-2021,1165,Personal Travel,Eco Plus,187,4,4,4,3,3,4,5,5,5,4,5,4\\r\\n119617,Male,Loyal Customer,40,24-05-2021,1581,Business travel,Business,1192,2,2,3,4,5,5,4,4,4,4,4,4\\r\\n90639,Female,Loyal Customer,51,25-05-2021,2253,Business travel,Business,852,1,1,1,3,4,4,4,4,4,5,4,4\\r\\n59638,Female,Loyal Customer,59,26-05-2021,504,Business travel,Business,978,2,1,1,5,3,3,2,2,2,4,2,1\\r\\n119074,Male,Loyal Customer,29,27-05-2021,99,Business travel,Business,313,3,3,2,3,3,3,3,4,5,4,4,3\\r\\n13395,Male,Loyal Customer,70,28-05-2021,962,Personal Travel,Eco,1674,0,1,0,4,0,4,4,1,4,4,4,4\\r\\n108871,Male,Loyal Customer,12,29-05-2021,2006,Personal Travel,Eco Plus,1065,4,1,4,5,4,5,5,2,2,1,2,5\\r\\n104029,Male,disloyal Customer,26,30-05-2021,828,Business travel,Business,302,0,0,0,4,0,3,4,4,4,5,4,4\\r\\n12025,Male,Loyal Customer,41,31-05-2021,978,Business travel,Business,626,3,3,3,4,2,4,5,5,5,4,5,1\\r\\n42755,Male,Loyal Customer,60,01-06-2021,985,Business travel,Business,368,4,4,4,2,4,5,3,3,3,3,3,3\\r\\n32936,Male,Loyal Customer,39,02-06-2021,1275,Personal Travel,Eco,405,3,5,3,1,3,1,1,4,5,3,4,1\\r\\n53978,Female,Loyal Customer,68,03-06-2021,2384,Personal Travel,Eco,532,3,2,3,3,3,3,5,5,5,2,5,4\\r\\n70029,Male,Loyal Customer,32,04-06-2021,1610,Business travel,Business,1123,2,2,2,3,4,3,3,4,4,4,4,3\\r\\n96407,Male,Loyal Customer,18,05-06-2021,1866,Personal Travel,Eco,2139,3,4,4,3,4,3,3,4,3,5,5,3\\r\\n127129,Male,Loyal Customer,15,06-06-2021,1919,Personal Travel,Eco,1020,3,5,3,2,3,1,2,3,4,5,4,2\\r\\n113946,Female,Loyal Customer,43,07-06-2021,2522,Business travel,Business,140,1,3,1,5,5,4,4,4,4,4,4,5\\r\\n40606,Male,Loyal Customer,49,08-06-2021,2512,Personal Travel,Eco,482,3,4,0,3,0,3,3,4,3,4,4,3\\r\\n7742,Male,Loyal Customer,25,09-06-2021,2572,Personal Travel,Eco,69,3,3,3,3,3,5,3,4,5,2,4,3\\r\\n128529,Female,Loyal Customer,50,10-06-2021,4531,Personal Travel,Eco,925,2,1,2,1,4,3,4,4,4,1,4,3\\r\\n80556,Female,Loyal Customer,39,11-06-2021,4655,Business travel,Business,468,2,2,2,4,4,4,3,4,4,4,4,4\\r\\n22155,Female,Loyal Customer,33,12-06-2021,5123,Business travel,Business,147,2,2,2,4,4,4,2,3,2,4,1,4\\r\\n56314,Male,Loyal Customer,17,13-06-2021,582,Personal Travel,Business,391,3,1,3,2,3,2,2,4,3,4,3,2\\r\\n82206,Male,Loyal Customer,41,14-06-2021,439,Business travel,Business,472,1,1,1,3,4,5,1,1,1,3,1,4\\r\\n68344,Male,Loyal Customer,31,15-06-2021,2958,Business travel,Business,968,5,5,5,4,4,4,4,3,5,5,4,4\\r\\n18464,Female,disloyal Customer,39,16-06-2021,3432,Business travel,Business,213,4,3,3,1,3,1,1,2,5,3,1,1\\r\\n129310,Male,Loyal Customer,64,17-06-2021,3613,Business travel,Business,821,3,3,3,2,4,5,5,5,5,3,5,3\\r\\n70613,Male,Loyal Customer,52,18-06-2021,3568,Business travel,Business,479,1,1,1,3,5,5,4,4,4,3,4,3\\r\\n8558,Female,Loyal Customer,30,05-05-2021,5348,Business travel,Business,156,4,5,4,1,1,4,1,3,4,3,3,1\\r\\n86840,Female,Loyal Customer,42,06-05-2021,5256,Business travel,Eco,809,5,2,2,5,2,2,5,5,5,2,5,5\\r\\n122170,Female,Loyal Customer,48,07-05-2021,4747,Business travel,Business,588,2,2,2,4,4,5,4,4,4,3,4,5\\r\\n56314,Male,Loyal Customer,17,13-07-2021,582,Personal Travel,Business,391,3,1,3,2,3,2,2,4,3,4,3,2\\r\\n82206,Male,Loyal Customer,41,14-07-2021,439,Business travel,Business,472,1,1,1,3,4,5,1,1,1,3,1,4\\r\\n'}"
            ]
          },
          "metadata": {},
          "execution_count": 6
        }
      ]
    },
    {
      "cell_type": "code",
      "source": [
        "#Reading the dataset from our drive\n",
        "dataset1=spark.read.csv(\"dataset1.csv\",header=True,inferSchema=True)"
      ],
      "metadata": {
        "id": "u-n2E788mYG9"
      },
      "execution_count": null,
      "outputs": []
    },
    {
      "cell_type": "code",
      "source": [
        "dataset1.show(truncate=False)"
      ],
      "metadata": {
        "id": "ENLxUtIkrpRe",
        "colab": {
          "base_uri": "https://localhost:8080/"
        },
        "outputId": "4b74aa98-5eab-4139-8d66-cf9a9889a551"
      },
      "execution_count": null,
      "outputs": [
        {
          "output_type": "stream",
          "name": "stdout",
          "text": [
            "+------+------+-----------------+---+----------------+-------------+---------------+--------+--------------+---------------------+---------------------------------+----------------------+--------------+---------------+------------+----------------------+----------------+----------------+---------------+----------------+-----------+\n",
            "|id    |Gender|Customer_Type    |Age|Date_of_Boarding|FLIGHT_NUMBER|Type_of_Travel |Class   |DISTANCE_in_KM|Inflight_wifi_service|Departure/Arrival_time_convenient|Ease_of_Online_booking|Food_and_drink|Online_boarding|Seat_comfort|Inflight_entertainment|On-board_service|Baggage_handling|Checkin_service|Inflight_service|Cleanliness|\n",
            "+------+------+-----------------+---+----------------+-------------+---------------+--------+--------------+---------------------+---------------------------------+----------------------+--------------+---------------+------------+----------------------+----------------+----------------+---------------+----------------+-----------+\n",
            "|19556 |Female|Loyal Customer   |52 |05-05-2021      |98           |Business travel|Eco     |1448          |5                    |4                                |3                     |3             |4              |3           |5                     |5               |5               |2              |5               |5          |\n",
            "|90035 |Female|Loyal Customer   |36 |06-05-2021      |2336         |Business travel|Business|2330          |1                    |1                                |3                     |5             |4              |5           |4                     |4               |4               |3              |4               |5          |\n",
            "|12360 |Male  |disloyal Customer|20 |07-05-2021      |840          |Business travel|Eco     |2296          |2                    |0                                |2                     |2             |2              |2           |2                     |4               |3               |2              |2               |2          |\n",
            "|77959 |Male  |Loyal Customer   |44 |08-05-2021      |258          |Business travel|Business|2342          |0                    |0                                |0                     |3             |4              |4           |1                     |1               |1               |3              |1               |4          |\n",
            "|36875 |Female|Loyal Customer   |49 |09-05-2021      |135          |Business travel|Eco     |1448          |2                    |3                                |4                     |4             |1              |2           |2                     |2               |2               |4              |2               |4          |\n",
            "|39177 |Male  |Loyal Customer   |16 |10-05-2021      |806          |Business travel|Eco     |1589          |3                    |3                                |3                     |5             |5              |3           |5                     |4               |1               |1              |2               |5          |\n",
            "|79433 |Female|Loyal Customer   |77 |11-05-2021      |612          |Business travel|Business|1299          |5                    |5                                |5                     |3             |5              |5           |5                     |5               |5               |4              |5               |3          |\n",
            "|97286 |Female|Loyal Customer   |43 |12-05-2021      |2013         |Business travel|Business|2125          |2                    |2                                |2                     |4             |4              |5           |4                     |4               |4               |5              |4               |3          |\n",
            "|27508 |Male  |Loyal Customer   |47 |13-05-2021      |1112         |Business travel|Eco     |1464          |5                    |2                                |2                     |5             |5              |5           |5                     |2               |5               |3              |3               |5          |\n",
            "|62482 |Female|Loyal Customer   |46 |14-05-2021      |1173         |Business travel|Business|1747          |2                    |2                                |2                     |3             |4              |4           |4                     |4               |4               |5              |4               |4          |\n",
            "|47583 |Female|Loyal Customer   |47 |15-05-2021      |2336         |Business travel|Eco     |1199          |4                    |1                                |1                     |5             |1              |5           |3                     |3               |3               |1              |3               |4          |\n",
            "|115550|Female|Loyal Customer   |33 |16-05-2021      |1674         |Business travel|Business|2174          |2                    |5                                |5                     |1             |3              |4           |2                     |2               |2               |3              |2               |4          |\n",
            "|119987|Female|Loyal Customer   |46 |17-05-2021      |1434         |Business travel|Business|1535          |5                    |5                                |5                     |4             |5              |5           |5                     |5               |5               |5              |5               |3          |\n",
            "|42141 |Female|Loyal Customer   |60 |18-05-2021      |2324         |Business travel|Business|1590          |1                    |1                                |4                     |5             |5              |4           |5                     |5               |5               |3              |5               |5          |\n",
            "|2274  |Female|Loyal Customer   |52 |19-05-2021      |2440         |Business travel|Business|1399          |2                    |2                                |2                     |5             |5              |4           |4                     |4               |4               |3              |4               |5          |\n",
            "|22470 |Male  |Loyal Customer   |50 |20-05-2021      |108          |Personal Travel|Eco     |1448          |3                    |4                                |0                     |2             |0              |2           |2                     |4               |4               |4              |5               |2          |\n",
            "|124915|Female|Loyal Customer   |31 |21-05-2021      |1560         |Business travel|Eco     |1448          |2                    |5                                |5                     |2             |2              |2           |2                     |4               |3               |4              |3               |2          |\n",
            "|17836 |Male  |Loyal Customer   |52 |22-05-2021      |1197         |Personal Travel|Eco Plus|1635          |5                    |4                                |5                     |4             |5              |4           |4                     |3               |5               |4              |5               |4          |\n",
            "|76872 |Female|Loyal Customer   |43 |23-05-2021      |122          |Personal Travel|Eco     |1542          |3                    |4                                |3                     |4             |4              |5           |5                     |5               |5               |4              |5               |3          |\n",
            "|64287 |Female|Loyal Customer   |50 |24-05-2021      |1670         |Business travel|Business|1426          |5                    |5                                |5                     |4             |5              |4           |4                     |4               |4               |5              |4               |5          |\n",
            "+------+------+-----------------+---+----------------+-------------+---------------+--------+--------------+---------------------+---------------------------------+----------------------+--------------+---------------+------------+----------------------+----------------+----------------+---------------+----------------+-----------+\n",
            "only showing top 20 rows\n",
            "\n"
          ]
        }
      ]
    },
    {
      "cell_type": "code",
      "source": [
        "dataset1.printSchema()"
      ],
      "metadata": {
        "id": "BTA7_73lruyL",
        "colab": {
          "base_uri": "https://localhost:8080/"
        },
        "outputId": "6569e464-4076-4072-adab-af7e44f171b2"
      },
      "execution_count": null,
      "outputs": [
        {
          "output_type": "stream",
          "name": "stdout",
          "text": [
            "root\n",
            " |-- id: integer (nullable = true)\n",
            " |-- Gender: string (nullable = true)\n",
            " |-- Customer_Type: string (nullable = true)\n",
            " |-- Age: integer (nullable = true)\n",
            " |-- Date_of_Boarding: string (nullable = true)\n",
            " |-- FLIGHT_NUMBER: integer (nullable = true)\n",
            " |-- Type_of_Travel: string (nullable = true)\n",
            " |-- Class: string (nullable = true)\n",
            " |-- DISTANCE_in_KM: integer (nullable = true)\n",
            " |-- Inflight_wifi_service: integer (nullable = true)\n",
            " |-- Departure/Arrival_time_convenient: integer (nullable = true)\n",
            " |-- Ease_of_Online_booking: integer (nullable = true)\n",
            " |-- Food_and_drink: integer (nullable = true)\n",
            " |-- Online_boarding: integer (nullable = true)\n",
            " |-- Seat_comfort: integer (nullable = true)\n",
            " |-- Inflight_entertainment: integer (nullable = true)\n",
            " |-- On-board_service: integer (nullable = true)\n",
            " |-- Baggage_handling: integer (nullable = true)\n",
            " |-- Checkin_service: integer (nullable = true)\n",
            " |-- Inflight_service: integer (nullable = true)\n",
            " |-- Cleanliness: integer (nullable = true)\n",
            "\n"
          ]
        }
      ]
    },
    {
      "cell_type": "code",
      "source": [
        "#Adding the column Date_of_Board for converting the string datatype to date datatype\n",
        "date_df1=dataset1.withColumn(\"Date_of_Board\", to_date(col(\"Date_of_Boarding\"), \"dd-MM-yyyy\"))"
      ],
      "metadata": {
        "id": "yqrpcyPmsCXs"
      },
      "execution_count": null,
      "outputs": []
    },
    {
      "cell_type": "code",
      "source": [
        "date_df1.printSchema()"
      ],
      "metadata": {
        "id": "-eMa5pEKsdtx",
        "colab": {
          "base_uri": "https://localhost:8080/"
        },
        "outputId": "51bddc01-bbbe-49bf-deb0-c455425ee369"
      },
      "execution_count": null,
      "outputs": [
        {
          "output_type": "stream",
          "name": "stdout",
          "text": [
            "root\n",
            " |-- id: integer (nullable = true)\n",
            " |-- Gender: string (nullable = true)\n",
            " |-- Customer_Type: string (nullable = true)\n",
            " |-- Age: integer (nullable = true)\n",
            " |-- Date_of_Boarding: string (nullable = true)\n",
            " |-- FLIGHT_NUMBER: integer (nullable = true)\n",
            " |-- Type_of_Travel: string (nullable = true)\n",
            " |-- Class: string (nullable = true)\n",
            " |-- DISTANCE_in_KM: integer (nullable = true)\n",
            " |-- Inflight_wifi_service: integer (nullable = true)\n",
            " |-- Departure/Arrival_time_convenient: integer (nullable = true)\n",
            " |-- Ease_of_Online_booking: integer (nullable = true)\n",
            " |-- Food_and_drink: integer (nullable = true)\n",
            " |-- Online_boarding: integer (nullable = true)\n",
            " |-- Seat_comfort: integer (nullable = true)\n",
            " |-- Inflight_entertainment: integer (nullable = true)\n",
            " |-- On-board_service: integer (nullable = true)\n",
            " |-- Baggage_handling: integer (nullable = true)\n",
            " |-- Checkin_service: integer (nullable = true)\n",
            " |-- Inflight_service: integer (nullable = true)\n",
            " |-- Cleanliness: integer (nullable = true)\n",
            " |-- Date_of_Board: date (nullable = true)\n",
            "\n"
          ]
        }
      ]
    },
    {
      "cell_type": "code",
      "source": [
        "#Dropping the unnecessary columns\n",
        "result_df1=date_df1.drop(col(\"Date_of_Boarding\"))"
      ],
      "metadata": {
        "id": "Zkn9xrzmsiLX"
      },
      "execution_count": null,
      "outputs": []
    },
    {
      "cell_type": "code",
      "source": [
        "result_df1.show(truncate=0)"
      ],
      "metadata": {
        "id": "jXUHC1PtssQ6",
        "colab": {
          "base_uri": "https://localhost:8080/"
        },
        "outputId": "39e2c223-3b2a-4a2d-8c3c-f37e55962df1"
      },
      "execution_count": null,
      "outputs": [
        {
          "output_type": "stream",
          "name": "stdout",
          "text": [
            "+------+------+-----------------+---+-------------+---------------+--------+--------------+---------------------+---------------------------------+----------------------+--------------+---------------+------------+----------------------+----------------+----------------+---------------+----------------+-----------+-------------+\n",
            "|id    |Gender|Customer_Type    |Age|FLIGHT_NUMBER|Type_of_Travel |Class   |DISTANCE_in_KM|Inflight_wifi_service|Departure/Arrival_time_convenient|Ease_of_Online_booking|Food_and_drink|Online_boarding|Seat_comfort|Inflight_entertainment|On-board_service|Baggage_handling|Checkin_service|Inflight_service|Cleanliness|Date_of_Board|\n",
            "+------+------+-----------------+---+-------------+---------------+--------+--------------+---------------------+---------------------------------+----------------------+--------------+---------------+------------+----------------------+----------------+----------------+---------------+----------------+-----------+-------------+\n",
            "|19556 |Female|Loyal Customer   |52 |98           |Business travel|Eco     |1448          |5                    |4                                |3                     |3             |4              |3           |5                     |5               |5               |2              |5               |5          |2021-05-05   |\n",
            "|90035 |Female|Loyal Customer   |36 |2336         |Business travel|Business|2330          |1                    |1                                |3                     |5             |4              |5           |4                     |4               |4               |3              |4               |5          |2021-05-06   |\n",
            "|12360 |Male  |disloyal Customer|20 |840          |Business travel|Eco     |2296          |2                    |0                                |2                     |2             |2              |2           |2                     |4               |3               |2              |2               |2          |2021-05-07   |\n",
            "|77959 |Male  |Loyal Customer   |44 |258          |Business travel|Business|2342          |0                    |0                                |0                     |3             |4              |4           |1                     |1               |1               |3              |1               |4          |2021-05-08   |\n",
            "|36875 |Female|Loyal Customer   |49 |135          |Business travel|Eco     |1448          |2                    |3                                |4                     |4             |1              |2           |2                     |2               |2               |4              |2               |4          |2021-05-09   |\n",
            "|39177 |Male  |Loyal Customer   |16 |806          |Business travel|Eco     |1589          |3                    |3                                |3                     |5             |5              |3           |5                     |4               |1               |1              |2               |5          |2021-05-10   |\n",
            "|79433 |Female|Loyal Customer   |77 |612          |Business travel|Business|1299          |5                    |5                                |5                     |3             |5              |5           |5                     |5               |5               |4              |5               |3          |2021-05-11   |\n",
            "|97286 |Female|Loyal Customer   |43 |2013         |Business travel|Business|2125          |2                    |2                                |2                     |4             |4              |5           |4                     |4               |4               |5              |4               |3          |2021-05-12   |\n",
            "|27508 |Male  |Loyal Customer   |47 |1112         |Business travel|Eco     |1464          |5                    |2                                |2                     |5             |5              |5           |5                     |2               |5               |3              |3               |5          |2021-05-13   |\n",
            "|62482 |Female|Loyal Customer   |46 |1173         |Business travel|Business|1747          |2                    |2                                |2                     |3             |4              |4           |4                     |4               |4               |5              |4               |4          |2021-05-14   |\n",
            "|47583 |Female|Loyal Customer   |47 |2336         |Business travel|Eco     |1199          |4                    |1                                |1                     |5             |1              |5           |3                     |3               |3               |1              |3               |4          |2021-05-15   |\n",
            "|115550|Female|Loyal Customer   |33 |1674         |Business travel|Business|2174          |2                    |5                                |5                     |1             |3              |4           |2                     |2               |2               |3              |2               |4          |2021-05-16   |\n",
            "|119987|Female|Loyal Customer   |46 |1434         |Business travel|Business|1535          |5                    |5                                |5                     |4             |5              |5           |5                     |5               |5               |5              |5               |3          |2021-05-17   |\n",
            "|42141 |Female|Loyal Customer   |60 |2324         |Business travel|Business|1590          |1                    |1                                |4                     |5             |5              |4           |5                     |5               |5               |3              |5               |5          |2021-05-18   |\n",
            "|2274  |Female|Loyal Customer   |52 |2440         |Business travel|Business|1399          |2                    |2                                |2                     |5             |5              |4           |4                     |4               |4               |3              |4               |5          |2021-05-19   |\n",
            "|22470 |Male  |Loyal Customer   |50 |108          |Personal Travel|Eco     |1448          |3                    |4                                |0                     |2             |0              |2           |2                     |4               |4               |4              |5               |2          |2021-05-20   |\n",
            "|124915|Female|Loyal Customer   |31 |1560         |Business travel|Eco     |1448          |2                    |5                                |5                     |2             |2              |2           |2                     |4               |3               |4              |3               |2          |2021-05-21   |\n",
            "|17836 |Male  |Loyal Customer   |52 |1197         |Personal Travel|Eco Plus|1635          |5                    |4                                |5                     |4             |5              |4           |4                     |3               |5               |4              |5               |4          |2021-05-22   |\n",
            "|76872 |Female|Loyal Customer   |43 |122          |Personal Travel|Eco     |1542          |3                    |4                                |3                     |4             |4              |5           |5                     |5               |5               |4              |5               |3          |2021-05-23   |\n",
            "|64287 |Female|Loyal Customer   |50 |1670         |Business travel|Business|1426          |5                    |5                                |5                     |4             |5              |4           |4                     |4               |4               |5              |4               |5          |2021-05-24   |\n",
            "+------+------+-----------------+---+-------------+---------------+--------+--------------+---------------------+---------------------------------+----------------------+--------------+---------------+------------+----------------------+----------------+----------------+---------------+----------------+-----------+-------------+\n",
            "only showing top 20 rows\n",
            "\n"
          ]
        }
      ]
    },
    {
      "cell_type": "code",
      "source": [
        "files.upload()"
      ],
      "metadata": {
        "id": "ze48u9NRTnPl",
        "colab": {
          "base_uri": "https://localhost:8080/",
          "height": 127
        },
        "outputId": "bb32f371-bf49-4a65-eb3e-465363538c7a"
      },
      "execution_count": null,
      "outputs": [
        {
          "output_type": "display_data",
          "data": {
            "text/plain": [
              "<IPython.core.display.HTML object>"
            ],
            "text/html": [
              "\n",
              "     <input type=\"file\" id=\"files-efc8dced-236d-4ad5-920c-9f83742630cf\" name=\"files[]\" multiple disabled\n",
              "        style=\"border:none\" />\n",
              "     <output id=\"result-efc8dced-236d-4ad5-920c-9f83742630cf\">\n",
              "      Upload widget is only available when the cell has been executed in the\n",
              "      current browser session. Please rerun this cell to enable.\n",
              "      </output>\n",
              "      <script>// Copyright 2017 Google LLC\n",
              "//\n",
              "// Licensed under the Apache License, Version 2.0 (the \"License\");\n",
              "// you may not use this file except in compliance with the License.\n",
              "// You may obtain a copy of the License at\n",
              "//\n",
              "//      http://www.apache.org/licenses/LICENSE-2.0\n",
              "//\n",
              "// Unless required by applicable law or agreed to in writing, software\n",
              "// distributed under the License is distributed on an \"AS IS\" BASIS,\n",
              "// WITHOUT WARRANTIES OR CONDITIONS OF ANY KIND, either express or implied.\n",
              "// See the License for the specific language governing permissions and\n",
              "// limitations under the License.\n",
              "\n",
              "/**\n",
              " * @fileoverview Helpers for google.colab Python module.\n",
              " */\n",
              "(function(scope) {\n",
              "function span(text, styleAttributes = {}) {\n",
              "  const element = document.createElement('span');\n",
              "  element.textContent = text;\n",
              "  for (const key of Object.keys(styleAttributes)) {\n",
              "    element.style[key] = styleAttributes[key];\n",
              "  }\n",
              "  return element;\n",
              "}\n",
              "\n",
              "// Max number of bytes which will be uploaded at a time.\n",
              "const MAX_PAYLOAD_SIZE = 100 * 1024;\n",
              "\n",
              "function _uploadFiles(inputId, outputId) {\n",
              "  const steps = uploadFilesStep(inputId, outputId);\n",
              "  const outputElement = document.getElementById(outputId);\n",
              "  // Cache steps on the outputElement to make it available for the next call\n",
              "  // to uploadFilesContinue from Python.\n",
              "  outputElement.steps = steps;\n",
              "\n",
              "  return _uploadFilesContinue(outputId);\n",
              "}\n",
              "\n",
              "// This is roughly an async generator (not supported in the browser yet),\n",
              "// where there are multiple asynchronous steps and the Python side is going\n",
              "// to poll for completion of each step.\n",
              "// This uses a Promise to block the python side on completion of each step,\n",
              "// then passes the result of the previous step as the input to the next step.\n",
              "function _uploadFilesContinue(outputId) {\n",
              "  const outputElement = document.getElementById(outputId);\n",
              "  const steps = outputElement.steps;\n",
              "\n",
              "  const next = steps.next(outputElement.lastPromiseValue);\n",
              "  return Promise.resolve(next.value.promise).then((value) => {\n",
              "    // Cache the last promise value to make it available to the next\n",
              "    // step of the generator.\n",
              "    outputElement.lastPromiseValue = value;\n",
              "    return next.value.response;\n",
              "  });\n",
              "}\n",
              "\n",
              "/**\n",
              " * Generator function which is called between each async step of the upload\n",
              " * process.\n",
              " * @param {string} inputId Element ID of the input file picker element.\n",
              " * @param {string} outputId Element ID of the output display.\n",
              " * @return {!Iterable<!Object>} Iterable of next steps.\n",
              " */\n",
              "function* uploadFilesStep(inputId, outputId) {\n",
              "  const inputElement = document.getElementById(inputId);\n",
              "  inputElement.disabled = false;\n",
              "\n",
              "  const outputElement = document.getElementById(outputId);\n",
              "  outputElement.innerHTML = '';\n",
              "\n",
              "  const pickedPromise = new Promise((resolve) => {\n",
              "    inputElement.addEventListener('change', (e) => {\n",
              "      resolve(e.target.files);\n",
              "    });\n",
              "  });\n",
              "\n",
              "  const cancel = document.createElement('button');\n",
              "  inputElement.parentElement.appendChild(cancel);\n",
              "  cancel.textContent = 'Cancel upload';\n",
              "  const cancelPromise = new Promise((resolve) => {\n",
              "    cancel.onclick = () => {\n",
              "      resolve(null);\n",
              "    };\n",
              "  });\n",
              "\n",
              "  // Wait for the user to pick the files.\n",
              "  const files = yield {\n",
              "    promise: Promise.race([pickedPromise, cancelPromise]),\n",
              "    response: {\n",
              "      action: 'starting',\n",
              "    }\n",
              "  };\n",
              "\n",
              "  cancel.remove();\n",
              "\n",
              "  // Disable the input element since further picks are not allowed.\n",
              "  inputElement.disabled = true;\n",
              "\n",
              "  if (!files) {\n",
              "    return {\n",
              "      response: {\n",
              "        action: 'complete',\n",
              "      }\n",
              "    };\n",
              "  }\n",
              "\n",
              "  for (const file of files) {\n",
              "    const li = document.createElement('li');\n",
              "    li.append(span(file.name, {fontWeight: 'bold'}));\n",
              "    li.append(span(\n",
              "        `(${file.type || 'n/a'}) - ${file.size} bytes, ` +\n",
              "        `last modified: ${\n",
              "            file.lastModifiedDate ? file.lastModifiedDate.toLocaleDateString() :\n",
              "                                    'n/a'} - `));\n",
              "    const percent = span('0% done');\n",
              "    li.appendChild(percent);\n",
              "\n",
              "    outputElement.appendChild(li);\n",
              "\n",
              "    const fileDataPromise = new Promise((resolve) => {\n",
              "      const reader = new FileReader();\n",
              "      reader.onload = (e) => {\n",
              "        resolve(e.target.result);\n",
              "      };\n",
              "      reader.readAsArrayBuffer(file);\n",
              "    });\n",
              "    // Wait for the data to be ready.\n",
              "    let fileData = yield {\n",
              "      promise: fileDataPromise,\n",
              "      response: {\n",
              "        action: 'continue',\n",
              "      }\n",
              "    };\n",
              "\n",
              "    // Use a chunked sending to avoid message size limits. See b/62115660.\n",
              "    let position = 0;\n",
              "    do {\n",
              "      const length = Math.min(fileData.byteLength - position, MAX_PAYLOAD_SIZE);\n",
              "      const chunk = new Uint8Array(fileData, position, length);\n",
              "      position += length;\n",
              "\n",
              "      const base64 = btoa(String.fromCharCode.apply(null, chunk));\n",
              "      yield {\n",
              "        response: {\n",
              "          action: 'append',\n",
              "          file: file.name,\n",
              "          data: base64,\n",
              "        },\n",
              "      };\n",
              "\n",
              "      let percentDone = fileData.byteLength === 0 ?\n",
              "          100 :\n",
              "          Math.round((position / fileData.byteLength) * 100);\n",
              "      percent.textContent = `${percentDone}% done`;\n",
              "\n",
              "    } while (position < fileData.byteLength);\n",
              "  }\n",
              "\n",
              "  // All done.\n",
              "  yield {\n",
              "    response: {\n",
              "      action: 'complete',\n",
              "    }\n",
              "  };\n",
              "}\n",
              "\n",
              "scope.google = scope.google || {};\n",
              "scope.google.colab = scope.google.colab || {};\n",
              "scope.google.colab._files = {\n",
              "  _uploadFiles,\n",
              "  _uploadFilesContinue,\n",
              "};\n",
              "})(self);\n",
              "</script> "
            ]
          },
          "metadata": {}
        },
        {
          "output_type": "stream",
          "name": "stdout",
          "text": [
            "Saving dataset3.csv to dataset3.csv\n"
          ]
        },
        {
          "output_type": "execute_result",
          "data": {
            "text/plain": [
              "{'dataset3.csv': b'id_,AIRLINE,FLIGHT_NUMBER_,TAIL_NUMBER,ORIGIN_AIRPORT,DESTINATION_AIRPORT,SCHEDULED_DEPARTURE,DEPARTURE_TIME,DISTANCE_in_KM_,SCHEDULED_ARRIVAL,ARRIVAL_TIME\\r\\n19556,AS,98,N407AS,ANC,SEA,15,4,1448,430,408\\r\\n90035,AA,2336,N3KUAA,LAX,PBI,10,2,2330,750,741\\r\\n12360,US,840,N171US,SFO,CLT,20,18,2296,806,811\\r\\n77959,AA,258,N3HYAA,LAX,MIA,20,15,2342,805,756\\r\\n36875,AS,135,N527AS,SEA,ANC,25,24,1448,320,259\\r\\n39177,DL,806,N3730B,SFO,MSP,25,20,1589,602,610\\r\\n79433,NK,612,N635NK,LAS,MSP,25,19,1299,526,509\\r\\n97286,US,2013,N584UW,LAX,CLT,30,44,2125,803,753\\r\\n27508,AA,1112,N3LAAA,SFO,DFW,30,19,1464,545,532\\r\\n62482,DL,1173,N826DN,LAS,ATL,30,33,1747,711,656\\r\\n47583,DL,2336,N958DN,DEN,ATL,30,24,1199,523,453\\r\\n115550,AA,1674,N853AA,LAS,MIA,35,27,2174,803,753\\r\\n119987,DL,1434,N547US,LAX,MSP,35,35,1535,609,605\\r\\n42141,DL,2324,N3751B,SLC,ATL,40,34,1590,615,553\\r\\n2274,DL,2440,N651DL,SEA,MSP,40,39,1399,549,557\\r\\n22470,AS,108,N309AS,ANC,SEA,45,41,1448,509,455\\r\\n124915,DL,1560,N3743H,ANC,SEA,45,31,1448,515,451\\r\\n17836,UA,1197,N78448,SFO,IAH,48,42,1635,626,619\\r\\n76872,AS,122,N413AS,ANC,PDX,50,46,1542,525,507\\r\\n64287,DL,1670,N806DN,PDX,MSP,50,45,1426,603,551\\r\\n63995,NK,520,N525NK,LAS,MCI,55,120,1139,537,543\\r\\n75855,AA,371,N3GXAA,SEA,MIA,100,52,2724,938,939\\r\\n106181,NK,214,N632NK,LAS,DFW,103,102,1055,530,529\\r\\n44304,AA,115,N3CTAA,LAX,MIA,105,103,2342,851,839\\r\\n82602,DL,1450,N671DN,LAS,MSP,105,102,1299,608,545\\r\\n7823,UA,1545,N76517,LAX,IAH,115,112,1379,618,607\\r\\n127781,AS,130,N457AS,FAI,SEA,115,107,1533,548,545\\r\\n34501,NK,597,N528NK,MSP,FLL,115,127,1487,542,607\\r\\n121658,US,413,N571UW,LAS,CLT,120,110,1916,825,754\\r\\n20219,AA,2392,N3HRAA,DEN,MIA,120,141,1709,707,709\\r\\n67551,NK,168,N629NK,PHX,ORD,125,237,1440,549,632\\r\\n48994,AA,2211,N3CGAA,PHX,MIA,127,116,1972,726,710\\r\\n70811,AS,136,N431AS,ANC,SEA,135,,1448,600,\\r\\n75241,DL,95,N320US,SLC,ATL,140,134,1590,715,725\\r\\n12312,NK,298,N514NK,LAS,IAH,144,140,1222,634,630\\r\\n48372,HA,17,N389HA,LAS,HNL,145,145,2762,555,610\\r\\n51477,US,617,N804AW,ANC,PHX,152,143,2552,915,905\\r\\n84204,UA,1528,N76519,SJU,EWR,154,157,1608,509,458\\r\\n70990,AS,134,N464AS,ANC,SEA,155,140,1448,633,558\\r\\n101991,B6,304,N607JB,SJU,JFK,155,153,1598,450,501\\r\\n87447,NK,451,N633NK,PBG,FLL,155,139,1334,523,450\\r\\n16112,NK,972,N606NK,PHX,DFW,159,158,868,502,503\\r\\n16172,AA,2459,N3BDAA,PHX,DFW,200,,868,500,\\r\\n106558,AS,144,N514AS,ANC,PDX,200,150,1542,630,619\\r\\n11536,NK,647,N630NK,IAG,FLL,200,155,1176,504,453\\r\\n47773,B6,1990,N597JB,SJU,EWR,206,152,1608,512,516\\r\\n70521,US,699,N172US,PHX,CLT,220,209,1773,804,728\\r\\n96283,AS,114,N303AS,ANC,SEA,220,209,1448,640,628\\r\\n117993,B6,668,N653JB,PSE,MCO,255,248,1179,500,451\\r\\n74703,UA,1162,N37293,BQN,EWR,259,258,1585,559,605\\r\\n110840,B6,1030,N239JB,BQN,MCO,307,304,1129,500,520\\r\\n88249,B6,262,N627JB,SJU,BOS,330,316,1674,635,619\\r\\n125877,B6,2134,N307JB,SJU,MCO,400,535,1189,605,730\\r\\n83968,B6,730,N621JB,BQN,MCO,419,423,1129,613,606\\r\\n122719,B6,768,N317JB,PSE,MCO,424,413,1179,630,629\\r\\n3949,B6,2276,N646JB,SJU,BDL,438,550,1666,739,908\\r\\n45542,US,602,N197UW,ORD,PHX,500,459,1440,748,751\\r\\n43742,AS,695,N607AS,GEG,SEA,500,456,224,610,610\\r\\n122093,HA,102,N492HA,HNL,ITO,500,452,216,549,543\\r\\n121454,OO,5467,N701BR,ONT,SFO,500,513,363,629,638\\r\\n738,HA,108,N476HA,HNL,KOA,502,501,163,544,549\\r\\n75235,AS,730,N423AS,ANC,SEA,505,457,1448,930,916\\r\\n88653,HA,206,N484HA,HNL,OGG,505,454,100,541,530\\r\\n26594,UA,1500,N30401,ORD,IAH,510,514,925,805,816\\r\\n38339,AA,1323,N3CXAA,MCO,MIA,510,507,192,613,602\\r\\n46063,NK,103,N616NK,BOS,MYR,510,506,738,730,720\\r\\n27957,OO,7404,N8982A,HIB,MSP,510,500,174,618,618\\r\\n17270,OO,7419,N445SW,ABR,MSP,510,508,257,619,615\\r\\n87976,OO,5254,N746SK,MAF,IAH,510,,429,637,\\r\\n31640,US,480,N676AW,SEA,PHX,515,510,1107,900,858\\r\\n41461,AA,1057,N3ASAA,DFW,MIA,515,703,1121,856,1038\\r\\n15143,AA,2454,N3ETAA,BOS,MIA,515,510,1258,843,845\\r\\n78136,EV,4354,N12142,MKE,IAH,515,517,984,813,826\\r\\n120433,US,425,N174US,PDX,PHX,520,620,1009,850,950\\r\\n41440,AA,89,N3KVAA,IAH,MIA,520,618,964,841,935\\r\\n15963,DL,2099,N355NW,BNA,DTW,520,511,456,803,757\\r\\n64303,EV,4685,N26545,BRO,IAH,520,517,308,634,629\\r\\n3608,EV,5583,N882AS,VPS,ATL,520,514,250,726,711\\r\\n7744,OO,5484,N824AS,BOI,SFO,520,525,522,612,615\\r\\n21276,OO,7370,N432SW,BJI,MSP,520,517,199,620,629\\r\\n58576,HA,103,N477HA,HNL,LIH,523,513,102,600,548\\r\\n53888,EV,5187,N720EV,BNA,ATL,525,525,214,730,735\\r\\n10980,MQ,2859,N660MQ,SGF,DFW,525,,364,700,\\r\\n54151,UA,1201,N79521,PHL,IAH,530,532,1325,820,826\\r\\n115641,UA,1221,N37281,PDX,DEN,530,534,991,852,856\\r\\n58584,UA,1607,N36476,SEA,DEN,530,529,1024,907,906\\r\\n50472,AA,328,N4XKAA,DEN,DFW,530,623,641,835,941\\r\\n102623,EV,5764,N832AS,SBN,ORD,530,527,84,525,511\\r\\n31533,F9,1279,N918FR,PHL,MCO,530,526,861,810,752\\r\\n42287,NK,409,N509NK,ORD,FLL,530,526,1182,938,913\\r\\n70467,OO,5460,N583SW,RDD,SFO,530,,199,700,\\r\\n20461,OO,6391,N593ML,EUG,DEN,530,526,996,913,926\\r\\n113346,UA,1532,N77066,SFO,DEN,531,550,967,857,923\\r\\n115566,UA,1167,N66837,ORD,DEN,533,540,888,720,723\\r\\n119896,UA,1012,N17245,IAD,IAH,535,541,1190,802,816\\r\\n88853,B6,2001,N358JB,BUF,JFK,535,530,301,703,648\\r\\n24895,B6,2807,N190JB,PWM,JFK,535,528,273,700,635\\r\\n31122,B6,2023,N324JB,JFK,SJU,535,618,1598,1020,1039\\r\\n91231,EV,4557,N12967,CRP,IAH,535,523,201,636,615\\r\\n61426,EV,5241,N849AS,PIA,DTW,535,530,346,803,745\\r\\n68873,EV,5498,N132EV,ORD,DTW,535,550,235,800,757\\r\\n125701,OO,6512,N925SW,FAT,LAX,535,530,209,650,650\\r\\n94999,UA,1577,N69813,SMF,DEN,538,634,909,900,1018\\r\\n56694,OO,4986,N719SK,AUS,LAX,538,535,1242,710,654\\r\\n62010,B6,727,N292JB,BOS,BWI,540,536,369,721,700\\r\\n95868,B6,1012,N375JB,ORD,BOS,540,529,867,856,823\\r\\n123064,DL,824,N3736C,PHX,DTW,540,808,1671,1123,1331\\r\\n103418,DL,941,N910DN,MCI,ATL,540,546,692,842,827\\r\\n73456,DL,2079,N389DA,BOS,DTW,540,537,632,803,742\\r\\n8851,EV,3268,N14998,ATL,IAD,540,556,534,725,739\\r\\n64241,EV,4160,N11150,JAX,EWR,540,531,820,757,743\\r\\n81723,OO,6285,N962SW,MFR,DEN,540,538,964,921,946\\r\\n88237,OO,5184,N776SK,SLC,IAH,540,537,1195,953,937\\r\\n50619,OO,6358,N926SW,IDA,DEN,541,539,458,725,732\\r\\n54444,F9,161,N905FR,MSN,DEN,544,534,826,709,658\\r\\n64765,OO,4833,N554CA,MKE,DTW,545,543,237,759,738\\r\\n15941,UA,1119,N69810,GEG,DEN,545,542,836,904,858\\r\\n14965,UA,1237,N65832,SEA,IAH,545,541,1874,1156,1207\\r\\n36897,UA,1540,N78509,DCA,IAH,545,550,1208,814,807\\r\\n127954,AA,1433,N4YNAA,SAT,DFW,545,539,247,650,638\\r\\n27872,AA,2299,N3LLAA,JFK,MIA,545,640,1089,850,959\\r\\n35854,B6,721,N623JB,BOS,PBI,545,551,1197,910,901\\r\\n14527,B6,917,N606JB,BOS,JFK,545,543,187,702,649\\r\\n47021,B6,939,N794JB,JFK,BQN,545,545,1576,1026,1007\\r\\n11224,DL,1890,N377DA,DFW,ATL,545,603,731,849,847\\r\\n3921,EV,4646,N29917,CHS,EWR,545,540,628,741,742\\r\\n69463,F9,365,N218FR,MKE,DEN,545,621,896,726,743\\r\\n47050,F9,117,N933FR,MSP,DEN,545,538,680,654,646\\r\\n21970,MQ,2926,N932MQ,CHS,DFW,545,,987,755,\\r\\n30046,OO,2599,N435SW,DEN,LAX,545,658,862,715,811\\r\\n1256,OO,5482,N934SW,SBA,DEN,545,542,916,919,929\\r\\n73813,OO,6457,N560SW,SMX,LAX,545,,134,651,\\r\\n110928,HA,218,N485HA,HNL,KOA,548,540,163,630,624\\r\\n102981,B6,515,N337JB,BOS,BUF,549,540,395,725,719\\r\\n61571,UA,228,N439UA,PDX,EWR,550,547,2434,1404,1329\\r\\n3796,US,641,N650AW,IND,PHX,550,545,1488,750,754\\r\\n73906,UA,495,N548UA,LAX,DEN,550,550,862,915,906\\r\\n74090,UA,507,N808UA,CLE,IAH,550,629,1091,804,847\\r\\n76645,UA,1553,N37290,BOS,EWR,550,552,200,718,659\\r\\n100462,US,403,N660AW,DEN,PHX,550,550,602,749,739\\r\\n54164,US,446,N651AW,MCI,PHX,550,544,1044,748,743\\r\\n6147,AA,1178,N573AA,AUS,DFW,550,548,190,650,649\\r\\n1262,AA,2410,N3BAAA,LAX,DFW,550,600,1235,1050,1052\\r\\n20310,DL,2453,N966DL,GSP,ATL,550,550,153,649,649\\r\\n46896,B6,2228,N231JB,MCO,EWR,550,548,937,819,812\\r\\n7237,EV,4555,N13133,MCI,IAH,550,548,643,805,806\\r\\n44293,EV,5698,N835AS,BDL,IAD,550,543,326,718,659\\r\\n52496,MQ,3534,N925MQ,ABI,DFW,550,,158,645,\\r\\n68263,EV,4339,N14179,RIC,IAH,550,548,1157,815,828\\r\\n5289,OO,6204,N917SW,BFL,DEN,550,556,845,920,940\\r\\n109359,OO,6261,N107SY,SAT,SFO,550,557,1482,759,740\\r\\n94988,OO,5160,N794SK,OMA,IAH,550,605,781,810,831\\r\\n53605,OO,6224,N956SW,RDM,DEN,550,549,898,913,919\\r\\n11005,B6,860,N656JB,FLL,BDL,553,551,1173,839,848\\r\\n14794,EV,5230,N181PQ,CID,ATL,554,554,694,905,848\\r\\n49480,WN,526,N742SW,SFO,DEN,555,553,967,925,923\\r\\n120440,UA,1222,N68452,MCO,LAX,555,557,2218,836,840\\r\\n55823,UA,1507,N31412,TPA,EWR,555,549,997,831,818\\r\\n107792,AA,1094,N3DXAA,SEA,DFW,555,555,1660,1150,1206\\r\\n80531,AA,1233,N3HXAA,BOS,DFW,555,551,1562,930,920\\r\\n128145,B6,115,N284JB,SYR,JFK,555,550,209,718,705\\r\\n63370,B6,185,N334JB,ROC,JFK,555,550,264,720,703\\r\\n12452,EV,2519,N905EV,TYR,DFW,555,546,102,645,636\\r\\n16145,EV,3928,N11140,MCI,ORD,555,554,403,729,717\\r\\n44418,EV,3941,N16561,LAN,ORD,555,555,179,604,610\\r\\n95746,EV,5976,N27200,BUF,EWR,555,928,282,715,1101\\r\\n41134,MQ,3161,N5PBMQ,XNA,DFW,555,,280,710,\\r\\n3214,EV,5677,N12563,GSO,EWR,556,538,445,730,708\\r\\n74101,NK,224,N607NK,ORD,LGA,556,547,733,900,927\\r\\n106220,UA,1457,N76529,LAX,IAH,557,555,1379,1109,1053\\r\\n88134,AA,1205,N3FKAA,EWR,MIA,559,552,1085,902,849\\r\\n64475,OO,5547,N910SW,ONT,DEN,559,758,819,920,1116\\r\\n123812,UA,210,N830UA,MSP,DEN,600,556,680,719,656\\r\\n88893,UA,214,N454UA,PBI,IAH,600,555,956,750,747\\r\\n31244,UA,247,N462UA,PHX,IAH,600,751,1009,928,1131\\r\\n97762,UA,256,N464UA,RSW,IAH,600,600,861,736,735\\r\\n59851,UA,319,N498UA,EWR,MCO,600,603,937,853,835\\r\\n25137,UA,374,N415UA,OMA,ORD,600,612,416,737,731\\r\\n18412,US,635,N544UW,SMF,PHX,600,551,647,850,902\\r\\n87192,US,646,N654AW,OAK,PHX,600,558,646,855,903\\r\\n127062,US,1941,N708UW,PVD,CLT,600,555,683,819,805\\r\\n112169,UA,422,N847UA,RNO,DEN,600,557,804,910,924\\r\\n127798,UA,544,N831UA,PIT,IAH,600,622,1117,815,839\\r\\n91778,UA,1016,N68807,DEN,IAH,600,552,862,922,918\\r\\n42609,WN,4122,N486WN,BOS,BWI,600,556,369,745,719\\r\\n67482,WN,4822,N293WN,LAS,BWI,600,602,2106,1330,1305\\r\\n91108,WN,2215,N249WN,ABQ,HOU,600,607,759,900,922\\r\\n102318,WN,676,N630WN,PHX,SLC,600,601,507,735,729\\r\\n51281,WN,2787,N910WN,PIT,FLL,600,559,994,850,824\\r\\n6528,WN,4859,N8641B,PVD,BWI,600,606,327,740,727\\r\\n121232,WN,597,N768SW,SFO,ATL,600,554,2139,1340,1324\\r\\n72478,UA,1158,N73445,SFO,ORD,600,557,1846,1217,1213\\r\\n122788,UA,1163,N24224,MCO,EWR,600,555,937,834,816\\r\\n5528,UA,1188,N68822,PDX,IAH,600,613,1825,1204,1215\\r\\n107726,UA,1198,N38451,BOS,ORD,600,557,867,753,742\\r\\n72606,UA,1224,N87531,SFO,LAX,600,605,337,728,717\\r\\n75522,UA,1296,N37471,SAT,LAX,600,616,1211,727,724\\r\\n125687,UA,1431,N36207,BOS,LAX,600,603,2611,944,939\\r\\n79908,UA,1637,N33294,SEA,EWR,600,606,2402,1411,1357\\r\\n117345,UA,1735,N66814,LAX,ORD,600,607,1744,1210,1154\\r\\n73465,US,410,N765US,IAH,PHX,600,553,1009,750,746\\r\\n95851,US,459,N536UW,MCO,PHX,600,557,1849,841,851\\r\\n44992,US,610,N560UW,SFO,PHX,600,557,651,854,857\\r\\n70631,AA,72,N5EKAA,DFW,MCO,600,606,985,925,928\\r\\n13761,AA,196,N3FBAA,MIA,PHL,600,604,1013,844,858\\r\\n74968,AA,304,N4XHAA,SLC,DFW,600,601,989,950,1002\\r\\n12371,AA,175,N3EWAA,DCA,DFW,600,,1192,835,\\r\\n8378,AA,281,N3FXAA,MIA,DFW,600,559,1121,814,813\\r\\n82080,AA,233,N3BEAA,BWI,MIA,600,643,946,843,914\\r\\n107972,AA,1100,N3GWAA,DFW,LGA,600,554,1389,1010,1005\\r\\n101228,AA,1103,N3HCAA,LGA,DFW,600,,1389,905,\\r\\n85577,AA,1028,N3BFAA,DEN,ORD,600,601,888,935,908\\r\\n2717,AA,1039,N541AA,MCI,DFW,600,606,460,745,748\\r\\n88529,AA,1055,N573AA,MCO,DFW,600,,985,805,\\r\\n91613,AA,1180,N3AYAA,SFO,DFW,600,,1464,1130,\\r\\n88865,AA,1345,N439AA,TUL,DFW,600,556,237,715,704\\r\\n96960,AA,1297,N3JYAA,LGA,MIA,600,708,1096,912,1002\\r\\n51191,AA,1411,N585AA,LIT,DFW,600,555,304,720,710\\r\\n9461,AA,1084,N3GFAA,MIA,LGA,600,558,1096,855,846\\r\\n66384,AA,1088,N201AA,LAS,DFW,600,557,1055,1040,1047\\r\\n41934,AA,1534,N4YPAA,PDX,DFW,600,556,1616,1145,1142\\r\\n25381,AA,1573,N467AA,TPA,DFW,600,554,929,750,730\\r\\n14757,AA,1660,N567AA,SMF,DFW,600,611,1431,1130,1201\\r\\n94013,AA,2204,N3GKAA,MSY,MIA,600,555,675,849,836\\r\\n80107,AA,1515,N3HMAA,LAX,ORD,600,557,1744,1205,1139\\r\\n23590,AA,2307,N505AA,OMA,DFW,600,554,583,800,805\\r\\n110384,AA,2363,N560AA,OKC,DFW,600,610,175,705,735\\r\\n15069,AS,81,N577AS,SEA,ANC,600,557,1448,854,841\\r\\n17128,AS,162,N792AS,FAI,ANC,600,544,261,713,704\\r\\n54060,AS,200,N767AS,SEA,SJC,600,550,697,803,754\\r\\n129240,AS,342,N440AS,SEA,OAK,600,555,671,759,743\\r\\n97165,AS,406,N589AS,PDX,SJC,600,555,569,742,729\\r\\n111696,AS,477,N453AS,LAX,SEA,600,555,954,850,841\\r\\n1887,AS,631,N512AS,PHX,SEA,600,555,1107,755,743\\r\\n89086,AS,683,N618AS,DEN,SEA,600,549,1024,810,736\\r\\n35485,AS,699,N532AS,GEG,SEA,600,558,224,715,718\\r\\n35719,B6,130,N510JB,RSW,JFK,600,557,1074,841,839\\r\\n85669,B6,154,N536JB,PBI,JFK,600,559,1028,834,843\\r\\n1137,B6,353,N570JB,JFK,PBI,600,554,1028,858,836\\r\\n8358,B6,226,N648JB,TPA,JFK,600,553,1005,831,826\\r\\n17217,B6,272,N556JB,FLL,LGA,600,559,1076,841,843\\r\\n44847,B6,447,N527JB,OAK,LGB,600,552,353,720,710\\r\\n96673,B6,371,N708JB,LGA,FLL,600,600,1076,903,857\\r\\n80152,B6,583,N531JB,JFK,MCO,600,557,944,851,832\\r\\n82277,B6,605,N766JB,EWR,FLL,600,556,1065,900,839\\r\\n123927,B6,525,N645JB,JFK,TPA,600,554,1005,901,900\\r\\n115766,B6,746,N587JB,PSE,JFK,600,557,1617,901,856\\r\\n21134,B6,776,N236JB,MSY,JFK,600,550,1182,948,930\\r\\n112062,B6,794,N519JB,AUS,JFK,600,559,1521,1023,1013\\r\\n28643,B6,838,N715JB,BQN,JFK,600,601,1576,852,907\\r\\n108010,B6,892,N598JB,TPA,BOS,600,554,1185,853,841\\r\\n92145,B6,1678,N618JB,JAX,JFK,600,600,828,808,816\\r\\n115846,B6,1790,N203JB,DCA,BOS,600,557,399,724,725\\r\\n99685,DL,421,N967DL,JFK,ATL,600,605,760,843,824\\r\\n112072,DL,731,N323NB,LGA,DTW,600,604,502,758,757\\r\\n119226,DL,743,N341NW,RNO,SLC,600,600,422,840,858\\r\\n115925,DL,750,N995AT,BOS,JFK,600,556,187,720,712\\r\\n106552,DL,809,N931DN,BOS,MSP,600,600,1124,830,832\\r\\n25126,DL,904,N3748Y,LGA,ATL,600,601,762,839,807\\r\\n33426,DL,977,N988DL,ORD,ATL,600,602,606,907,846\\r\\n125844,DL,1088,N682DA,ANC,MSP,600,557,2519,1417,1337\\r\\n70328,DL,1098,N966AT,ATW,ATL,600,601,765,923,851\\r\\n88847,DL,1205,N612DL,PHX,ATL,600,804,1587,1127,1314\\r\\n108398,DL,1234,N912DE,PNS,ATL,600,554,271,809,749\\r\\n97316,DL,1235,N358NW,MCO,SLC,600,554,1931,904,854\\r\\n124811,AA,1462,N547AA,ONT,DFW,600,,1188,1100,\\r\\n23012,AA,913,N3JVAA,DCA,MIA,600,605,919,837,836\\r\\n18088,DL,1961,N947DN,RIC,ATL,600,554,481,753,725\\r\\n37982,DL,2154,N813DN,LAX,ATL,600,559,1947,1310,1250\\r\\n31332,DL,2282,N974DL,BOS,ATL,600,558,946,911,849\\r\\n97455,DL,2417,N554NW,LAS,DTW,600,559,1749,1253,1231\\r\\n28901,DL,1540,N903DE,OKC,ATL,600,550,761,904,901\\r\\n107606,DL,1574,N532US,MCO,MSP,600,550,1310,829,822\\r\\n53258,DL,1700,N952DL,MEM,ATL,600,617,332,822,816\\r\\n14292,DL,1867,N934AT,TUL,ATL,600,555,674,858,834\\r\\n68232,DL,1937,N905DA,BWI,DTW,600,551,409,742,723\\r\\n51224,B6,159,N193JB,BOS,PHL,600,554,280,739,718\\r\\n121386,B6,198,N523JB,MCO,LGA,600,557,950,825,827\\r\\n31668,B6,1502,N535JB,FLL,JFK,600,610,1069,843,900\\r\\n24628,B6,1504,N640JB,SJU,JFK,600,627,1598,902,1001\\r\\n95876,B6,1600,N351JB,BOS,DCA,600,552,399,747,724\\r\\n62793,EV,2533,N906EV,TYS,DFW,600,559,772,735,745\\r\\n83516,EV,4213,N17560,MHT,ORD,600,555,843,753,749\\r\\n13221,EV,4431,N14158,SAV,EWR,600,726,708,806,931\\r\\n100404,EV,4411,N14568,MEM,EWR,600,552,946,938,918\\r\\n121453,EV,4756,N13908,CLT,ORD,600,559,599,703,721\\r\\n21454,EV,4768,N16987,TYS,IAD,600,553,419,725,723\\r\\n15937,EV,4740,N11107,GRB,ORD,600,556,173,703,653\\r\\n70105,EV,5103,N846AS,ABE,DTW,600,552,425,753,733\\r\\n47540,EV,5275,N861AS,JAN,ATL,600,559,341,819,809\\r\\n57561,EV,5491,N838AS,OAJ,ATL,600,552,399,732,729\\r\\n124103,EV,5978,N21129,FAR,ORD,600,603,557,803,803\\r\\n125736,EV,5917,N13997,JAN,ORD,600,556,677,814,755\\r\\n93362,EV,6133,N12996,ERI,ORD,600,616,398,632,651\\r\\n95429,EV,6082,N12122,ATW,ORD,600,600,160,703,703\\r\\n106943,EV,6122,N16559,LEX,ORD,600,556,323,630,619\\r\\n100691,EV,6143,N12921,CWA,ORD,600,550,212,716,713\\r\\n119948,F9,865,,MSO,DEN,600,,679,800,\\r\\n15778,F9,1256,,ORD,MIA,600,,1197,1000,\\r\\n68342,F9,1104,N211FR,CLE,FLL,600,556,1062,855,833\\r\\n24665,F9,1057,N919FR,IAH,SFO,600,552,1635,820,814\\r\\n81029,F9,144,N924FR,SEA,DEN,600,605,1024,933,933\\r\\n70371,F9,1056,N929FR,SFO,IAH,600,552,1635,1145,1146\\r\\n1386,F9,901,N939FR,TTN,ATL,600,557,701,819,808\\r\\n35225,F9,902,N949FR,ATL,TTN,600,619,701,750,814\\r\\n86204,HA,202,N491HA,HNL,ITO,600,553,216,650,646\\r\\n126370,MQ,2898,N514MQ,MAF,DFW,600,,309,710,\\r\\n116184,MQ,2957,N504MQ,AMA,DFW,600,,312,720,\\r\\n89613,MQ,2962,N609MQ,CLL,DFW,600,,164,700,\\r\\n99020,MQ,3014,N908MQ,HOU,DFW,600,,247,710,\\r\\n18463,MQ,3015,N825MQ,DFW,BTR,600,,383,718,\\r\\n96637,MQ,3079,N646MQ,JLN,DFW,600,,327,720,\\r\\n114678,MQ,3189,N532MQ,CID,DFW,600,,685,820,\\r\\n97639,MQ,3302,N649MQ,MLI,DFW,600,,691,825,\\r\\n75061,MQ,3338,N925MQ,GSP,DFW,600,,862,750,\\r\\n51744,MQ,3350,N830MQ,RDU,JFK,600,555,427,735,738\\r\\n44413,MQ,3355,N618MQ,CVG,MIA,600,556,948,833,826\\r\\n2389,MQ,3251,N615MQ,MHK,DFW,600,,431,740,\\r\\n105062,MQ,3377,N631MQ,MOB,DFW,600,,539,750,\\r\\n91464,MQ,3441,N698MQ,TLH,DFW,600,,767,730,\\r\\n55721,MQ,3540,N602MQ,PNS,MIA,600,555,530,843,831\\r\\n65726,MQ,3488,N620MQ,BHM,MIA,600,600,661,857,852\\r\\n8473,MQ,3597,N612MQ,CVG,DFW,600,,812,745,\\r\\n13488,MQ,3611,N902MQ,CAE,DFW,600,,922,805,\\r\\n58611,MQ,3678,N625MQ,TXK,DFW,600,,181,700,\\r\\n39607,NK,188,N505NK,OAK,LAS,600,551,407,723,715\\r\\n41704,NK,925,N634NK,DFW,OAK,600,600,1457,758,729\\r\\n126579,NK,943,N605NK,ACY,RSW,600,742,982,851,1017\\r\\n44232,NK,316,N601NK,DTW,LGA,600,558,502,738,836\\r\\n44021,NK,972,N606NK,DFW,FLL,600,603,1119,939,1014\\r\\n67502,OO,2622,N492SW,SMF,LAX,600,551,373,730,728\\r\\n19525,OO,6360,N952SW,RAP,DEN,600,600,300,722,730\\r\\n110015,OO,6369,N763SK,TUS,SFO,600,604,751,714,720\\r\\n30960,OO,5330,N652BR,EAU,ORD,600,552,268,719,650\\r\\n2153,OO,5292,N971SW,DLH,ORD,600,556,397,736,732\\r\\n115097,OO,6276,N715SK,FSD,ORD,600,557,462,736,738\\r\\n63204,OO,6235,N114SY,AUS,SFO,600,556,1504,809,753\\r\\n113849,OO,3489,N227AG,FAT,SEA,600,557,748,810,813\\r\\n95508,OO,3461,N223AG,ONT,PDX,600,550,838,827,808\\r\\n112350,OO,7423,N427SW,INL,BRD,600,550,153,658,655\\r\\n20650,OO,5318,N946SW,CMX,ORD,600,,359,627,\\r\\n65517,OO,5445,N579SW,SMF,SFO,600,,86,652,\\r\\n116988,OO,5242,N744SK,BOI,LAX,600,639,674,710,740\\r\\n116210,OO,5462,N929EV,SPI,ORD,600,604,174,704,709\\r\\n15218,OO,5466,N568SW,CLD,LAX,600,654,86,651,819\\r\\n35387,OO,5550,N594SW,COD,DEN,600,559,391,733,732\\r\\n20002,OO,5574,N563SW,FAT,SFO,600,600,158,714,721\\r\\n102927,MQ,3221,N682MQ,CMH,MIA,600,555,990,846,835\\r\\n92462,MQ,3224,N631MQ,LRD,DFW,600,,396,720,\\r\\n70950,OO,5522,N796SK,PSC,DEN,600,601,852,922,926\\r\\n76034,OO,5592,N494CA,CPR,DEN,600,604,230,712,721\\r\\n97177,OO,5604,N292SW,ACV,SFO,600,550,250,723,733\\r\\n51719,OO,5170,N791SK,DAL,IAH,600,622,216,708,720\\r\\n129201,OO,5429,N958SW,PAH,ORD,600,551,342,733,710\\r\\n35558,OO,5435,N976SW,PSC,SFO,600,556,620,807,806\\r\\n109398,OO,6378,N767SK,CID,ORD,600,610,196,708,707\\r\\n65351,OO,6401,N740SK,EUG,SFO,600,557,451,736,729\\r\\n102482,OO,6332,N708SK,DFW,DEN,600,556,641,705,714\\r\\n17932,OO,6346,N291SW,MRY,SFO,600,555,77,646,634\\r\\n122276,OO,6465,N495CA,SLC,LAX,600,604,590,712,706\\r\\n57484,OO,7392,N438SW,ESC,DTW,600,558,306,727,706\\r\\n121069,OO,6403,N983SW,MFR,SFO,600,557,329,729,723\\r\\n41414,OO,6497,N913SW,FAT,DEN,600,559,844,925,958\\r\\n49839,UA,576,N817UA,SFO,EWR,601,552,2565,1432,1409\\r\\n48189,UA,1410,N76523,LAS,IAH,601,601,1222,1056,1049\\r\\n82445,UA,1689,N39461,EWR,SFO,601,602,2565,940,920\\r\\n108108,EV,6020,N11121,ISN,DEN,601,559,576,710,701\\r\\n63984,HA,113,N486HA,HNL,LIH,601,557,102,638,636\\r\\n105287,OO,5629,N726SK,PSP,SFO,601,632,421,735,752\\r\\n9385,OO,6420,N924SW,PSP,DEN,601,812,776,912,1136\\r\\n25265,UA,223,N816UA,SAT,IAH,602,610,191,700,700\\r\\n119844,UA,996,N406UA,LAX,EWR,603,603,2454,1422,1350\\r\\n33840,UA,1721,N75425,LAX,SFO,603,601,337,730,716\\r\\n81815,EV,4390,N15986,CLE,IAD,603,558,288,725,724\\r\\n83524,EV,5732,N833AS,CAE,IAD,603,605,401,725,732\\r\\n78999,F9,756,N948FR,PHX,DEN,603,603,602,750,754\\r\\n46712,UA,234,N838UA,SMF,IAH,605,613,1609,1141,1200\\r\\n41188,UA,415,N509UA,JFK,SFO,605,605,2586,949,945\\r\\n5326,US,647,N664AW,BOS,PHX,605,614,2300,1014,1027\\r\\n80176,US,829,N723UW,BOS,CLT,605,601,728,832,829\\r\\n46900,US,1743,N839AW,DTW,MIA,605,601,1145,911,845\\r\\n89219,UA,1023,N73276,FLL,EWR,605,600,1065,859,849\\r\\n17928,WN,2505,N467WN,GEG,DEN,605,604,836,925,916\\r\\n55425,WN,239,N653SW,SAT,STL,605,559,786,805,743\\r\\n88130,WN,474,N614SW,ONT,DEN,605,609,819,925,925\\r\\n48354,UA,1245,N39726,CLE,EWR,605,602,404,736,715\\r\\n105905,US,560,N663AW,DFW,PHX,605,612,868,742,750\\r\\n60943,AA,310,N201AA,MFE,DFW,605,,469,740,\\r\\n101584,AA,375,N4WLAA,STL,DFW,605,557,550,805,748\\r\\n71388,AA,378,N3BGAA,SJU,MIA,605,557,1045,750,801\\r\\n77866,AA,1291,N4XYAA,MKE,DFW,605,605,853,900,849\\r\\n49223,AS,320,N622AS,SEA,SFO,605,602,679,810,807\\r\\n106530,AS,602,N407AS,SEA,LAS,605,602,867,825,825\\r\\n28676,B6,233,N247JB,BTV,JFK,605,553,266,733,717\\r\\n39553,B6,601,N559JB,JFK,FLL,605,603,1069,913,911\\r\\n109597,B6,735,N821JB,SFO,LGB,605,557,354,726,712\\r\\n62291,B6,922,N809JB,PBI,BOS,605,621,1197,857,925\\r\\n40177,B6,1184,N641JB,MCO,JFK,605,600,944,831,841\\r\\n33413,B6,1434,N503JB,SJU,MCO,605,738,1189,813,941\\r\\n127599,DL,1065,N975DL,BDL,ATL,605,601,859,857,831\\r\\n66723,DL,1456,N3759,RDU,ATL,605,701,356,735,814\\r\\n73698,DL,1723,N336NB,SFO,SLC,605,604,599,854,852\\r\\n27641,EV,4642,N14143,TUS,IAH,605,613,936,927,946\\r\\n83891,EV,4928,N933EV,PIA,ATL,605,600,565,901,837\\r\\n51662,F9,609,N223FR,IND,DEN,605,556,977,702,643\\r\\n19833,F9,821,N920FR,MCI,DEN,605,607,533,654,700\\r\\n63416,F9,133,N951FR,DFW,DEN,605,702,641,707,759\\r\\n7645,MQ,2881,N907MQ,FSM,DFW,605,,227,715,\\r\\n86002,MQ,2771,N667MQ,AEX,DFW,605,,285,725,\\r\\n64457,MQ,3288,N838MQ,SPS,DFW,605,,113,650,\\r\\n109551,MQ,3328,N640MQ,ACT,DFW,605,,89,650,\\r\\n86553,MQ,3408,N625MQ,SJT,DFW,605,,229,705,\\r\\n17491,MQ,3643,N923MQ,JAN,DFW,605,,408,745,\\r\\n114667,HA,286,N480HA,HNL,OGG,605,600,100,641,640\\r\\n59149,OO,5181,N788SK,OKC,LAX,605,602,1187,724,733\\r\\n74892,OO,6499,N945SW,FAR,DEN,605,610,627,726,723\\r\\n15197,UA,1160,N76522,SFO,IAH,606,601,1635,1159,1157\\r\\n6867,UA,1601,N37466,EWR,FLL,606,558,1065,915,838\\r\\n111943,OO,6461,N959SW,MTJ,DEN,606,559,196,715,717\\r\\n46720,NK,606,N623NK,RSW,DTW,607,601,1084,853,900\\r\\n67966,OO,7389,N561SW,GCC,RKS,607,602,261,724,715\\r\\n33341,UA,220,N813UA,MSY,EWR,608,606,1167,1000,946\\r\\n50319,UA,654,N422UA,ORD,MCO,608,603,1005,951,930\\r\\n82927,EV,6119,N16951,RIC,ORD,608,608,642,725,729\\r\\n14562,OO,5456,N920SW,RDM,SFO,608,559,462,750,727\\r\\n108335,HA,205,N484HA,OGG,HNL,609,601,100,641,637\\r\\n97959,OO,4494,N431SW,SJC,SLC,609,559,584,911,923\\r\\n1026,OO,5370,N979SW,ORD,MBS,610,607,222,816,803\\r\\n26910,US,1709,N677AW,EWR,CLT,610,616,529,811,826\\r\\n14054,WN,828,N8303R,PHX,BWI,610,610,1999,1220,1156\\r\\n109458,UA,1632,N37464,SEA,IAD,610,605,2306,1404,1335\\r\\n51772,UA,1725,N72405,LAS,SFO,610,606,414,746,726\\r\\n15019,AA,168,N5BSAA,DFW,MIA,610,603,1121,953,935\\r\\n23664,AA,1315,N424AA,BNA,DFW,610,,631,825,\\r\\n6731,AA,1336,N3LCAA,PHX,DFW,610,603,868,925,919\\r\\n57753,AA,1619,N3AMAA,BOS,MIA,610,605,1258,946,929\\r\\n29788,AA,1686,N4XXAA,LAX,STL,610,609,1592,1145,1134\\r\\n28336,AS,345,N469AS,OAK,SEA,610,608,671,809,801\\r\\n2878,AS,454,N442AS,SEA,LAX,610,611,954,845,841\\r\\n81675,B6,57,N348JB,BOS,IAD,610,603,413,801,737\\r\\n50905,B6,24,N923JB,LAX,JFK,610,620,2475,1424,1413\\r\\n90850,B6,1279,N355JB,DCA,FLL,610,603,899,845,831\\r\\n29340,B6,1836,N281JB,DTW,BOS,610,603,632,808,733\\r\\n68731,AA,1361,N3KYAA,BNA,LAX,610,607,1797,855,847\\r\\n115978,DL,327,N692DL,PHL,ATL,610,608,666,845,814\\r\\n29829,DL,1492,N819DN,PHX,MSP,610,756,1276,1016,1149\\r\\n82401,B6,1554,N760JB,SJU,FLL,610,625,1046,753,812\\r\\n80083,EV,4556,N41104,VPS,IAH,610,607,528,809,806\\r\\n42783,EV,6071,N14186,GUC,DEN,610,617,152,709,721\\r\\n39020,F9,1252,N910FR,MIA,LGA,610,648,1096,905,945\\r\\n46111,MQ,3323,N613MQ,RIC,MIA,610,609,825,851,836\\r\\n66327,MQ,3601,N530MQ,DTW,LGA,610,603,502,755,730\\r\\n43012,MQ,3551,N663MQ,ORF,MIA,610,605,802,846,842\\r\\n82776,OO,5572,N970SW,MOT,DEN,610,600,604,723,654\\r\\n48215,AA,1312,N021AA,STL,MIA,611,603,1068,1000,932\\r\\n57441,B6,269,N834JB,BOS,FLL,611,607,1237,944,924\\r\\n55928,EV,4506,N12552,MLU,IAH,612,641,262,725,753\\r\\n98446,OO,5337,N961SW,MAF,DEN,612,,563,708,\\r\\n121273,NK,562,N510NK,LAX,LAS,613,608,236,721,712\\r\\n59385,UA,416,N496UA,PDX,ORD,614,612,1739,1209,1156\\r\\n27078,B6,1403,N763JB,JFK,SJU,614,612,1598,1057,1034\\r\\n104661,HA,107,N476HA,KOA,HNL,614,620,163,656,707\\r\\n111483,OO,4681,N783CA,EUG,SLC,614,607,618,909,859\\r\\n11558,US,1754,N815AW,RNO,PHX,615,605,601,902,857\\r\\n83673,US,1789,N543UW,PHX,CLT,615,629,1773,1203,1156\\r\\n120382,WN,1966,N466WN,CMH,ATL,615,831,447,805,1001\\r\\n82170,WN,2351,N7728D,HOU,ATL,615,612,696,905,858\\r\\n117397,WN,137,N621SW,HOU,PHX,615,613,1020,810,806\\r\\n59357,AA,1125,N3KCAA,DTW,DFW,615,,986,820,\\r\\n91983,AA,1165,N3ACAA,BOS,JFK,615,613,187,730,717\\r\\n119617,AA,1581,N3KGAA,DFW,DCA,615,,1192,959,\\r\\n90639,AA,2253,N437AA,MSP,DFW,615,618,852,900,854\\r\\n59638,AS,504,N627AS,SEA,SNA,615,609,978,850,845\\r\\n119074,B6,99,N274JB,BDL,DCA,615,607,313,755,732\\r\\n13395,B6,962,N709JB,SJU,BOS,615,731,1674,922,1052\\r\\n108871,B6,2006,N566JB,FLL,EWR,615,615,1065,900,908\\r\\n104029,DL,828,N910AT,MOB,ATL,615,613,302,823,810\\r\\n12025,DL,978,N693DL,SAN,SLC,615,611,626,916,906\\r\\n42755,DL,985,N352NW,LAS,SLC,615,609,368,841,828\\r\\n32936,DL,1275,N920DN,DCA,DTW,615,609,405,755,758\\r\\n53978,DL,2384,N361NB,SMF,SLC,615,608,532,853,909\\r\\n70029,DL,1610,N385DN,DEN,DTW,615,613,1123,1119,1035\\r\\n96407,DL,1866,N827DN,SFO,ATL,615,616,2139,1345,1342\\r\\n127129,DL,1919,N321NB,LGA,MSP,615,611,1020,824,820\\r\\n113946,EV,2522,N879AS,LAW,DFW,615,1219,140,710,1326\\r\\n40606,EV,2512,N901EV,BRO,DFW,615,604,482,750,726\\r\\n7742,EV,2572,N876AS,PIB,MEI,615,607,69,700,649\\r\\n128529,EV,4531,N14204,CHS,IAH,615,623,925,807,843\\r\\n80556,EV,4655,N13202,MEM,IAH,615,621,468,805,814\\r\\n22155,EV,5123,N847AS,MGM,ATL,615,609,147,806,754\\r\\n56314,F9,582,N221FR,SLC,DEN,615,617,391,747,801\\r\\n82206,F9,439,N931FR,OMA,DEN,615,609,472,700,648\\r\\n68344,MQ,2958,N657MQ,FAR,DFW,615,,968,915,\\r\\n18464,MQ,3432,N546MQ,DCA,JFK,615,859,213,718,959\\r\\n129310,MQ,3613,N932MQ,MSN,DFW,615,,821,855,\\r\\n70613,MQ,3568,N528MQ,CMH,LGA,615,610,479,750,730\\r\\n8558,OO,5348,N562SW,SBP,LAX,615,613,156,726,717\\r\\n86840,OO,5256,N789SK,COS,IAH,615,614,809,934,947\\r\\n122170,OO,4747,N810SK,OAK,SLC,615,612,588,905,904\\r\\n56314,OO,582,N296SW,LAR,DEN,615,611,113,708,719\\r\\n82206,,439,,,,,,,707,702\\r\\n'}"
            ]
          },
          "metadata": {},
          "execution_count": 14
        }
      ]
    },
    {
      "cell_type": "code",
      "source": [
        "dataset2=spark.read.csv(\"dataset3.csv\",header=True,inferSchema=True)"
      ],
      "metadata": {
        "id": "iBimY7Xu7j55"
      },
      "execution_count": null,
      "outputs": []
    },
    {
      "cell_type": "code",
      "source": [
        "dataset2.printSchema()\n",
        "dataset2.show(40,0)"
      ],
      "metadata": {
        "id": "Y7RDbU6G7xm8",
        "colab": {
          "base_uri": "https://localhost:8080/"
        },
        "outputId": "f63c0dbb-c7a4-454b-b04d-e86549c6d86f"
      },
      "execution_count": null,
      "outputs": [
        {
          "output_type": "stream",
          "name": "stdout",
          "text": [
            "root\n",
            " |-- id_: integer (nullable = true)\n",
            " |-- AIRLINE: string (nullable = true)\n",
            " |-- FLIGHT_NUMBER_: integer (nullable = true)\n",
            " |-- TAIL_NUMBER: string (nullable = true)\n",
            " |-- ORIGIN_AIRPORT: string (nullable = true)\n",
            " |-- DESTINATION_AIRPORT: string (nullable = true)\n",
            " |-- SCHEDULED_DEPARTURE: integer (nullable = true)\n",
            " |-- DEPARTURE_TIME: integer (nullable = true)\n",
            " |-- DISTANCE_in_KM_: integer (nullable = true)\n",
            " |-- SCHEDULED_ARRIVAL: integer (nullable = true)\n",
            " |-- ARRIVAL_TIME: integer (nullable = true)\n",
            "\n",
            "+------+-------+--------------+-----------+--------------+-------------------+-------------------+--------------+---------------+-----------------+------------+\n",
            "|id_   |AIRLINE|FLIGHT_NUMBER_|TAIL_NUMBER|ORIGIN_AIRPORT|DESTINATION_AIRPORT|SCHEDULED_DEPARTURE|DEPARTURE_TIME|DISTANCE_in_KM_|SCHEDULED_ARRIVAL|ARRIVAL_TIME|\n",
            "+------+-------+--------------+-----------+--------------+-------------------+-------------------+--------------+---------------+-----------------+------------+\n",
            "|19556 |AS     |98            |N407AS     |ANC           |SEA                |15                 |4             |1448           |430              |408         |\n",
            "|90035 |AA     |2336          |N3KUAA     |LAX           |PBI                |10                 |2             |2330           |750              |741         |\n",
            "|12360 |US     |840           |N171US     |SFO           |CLT                |20                 |18            |2296           |806              |811         |\n",
            "|77959 |AA     |258           |N3HYAA     |LAX           |MIA                |20                 |15            |2342           |805              |756         |\n",
            "|36875 |AS     |135           |N527AS     |SEA           |ANC                |25                 |24            |1448           |320              |259         |\n",
            "|39177 |DL     |806           |N3730B     |SFO           |MSP                |25                 |20            |1589           |602              |610         |\n",
            "|79433 |NK     |612           |N635NK     |LAS           |MSP                |25                 |19            |1299           |526              |509         |\n",
            "|97286 |US     |2013          |N584UW     |LAX           |CLT                |30                 |44            |2125           |803              |753         |\n",
            "|27508 |AA     |1112          |N3LAAA     |SFO           |DFW                |30                 |19            |1464           |545              |532         |\n",
            "|62482 |DL     |1173          |N826DN     |LAS           |ATL                |30                 |33            |1747           |711              |656         |\n",
            "|47583 |DL     |2336          |N958DN     |DEN           |ATL                |30                 |24            |1199           |523              |453         |\n",
            "|115550|AA     |1674          |N853AA     |LAS           |MIA                |35                 |27            |2174           |803              |753         |\n",
            "|119987|DL     |1434          |N547US     |LAX           |MSP                |35                 |35            |1535           |609              |605         |\n",
            "|42141 |DL     |2324          |N3751B     |SLC           |ATL                |40                 |34            |1590           |615              |553         |\n",
            "|2274  |DL     |2440          |N651DL     |SEA           |MSP                |40                 |39            |1399           |549              |557         |\n",
            "|22470 |AS     |108           |N309AS     |ANC           |SEA                |45                 |41            |1448           |509              |455         |\n",
            "|124915|DL     |1560          |N3743H     |ANC           |SEA                |45                 |31            |1448           |515              |451         |\n",
            "|17836 |UA     |1197          |N78448     |SFO           |IAH                |48                 |42            |1635           |626              |619         |\n",
            "|76872 |AS     |122           |N413AS     |ANC           |PDX                |50                 |46            |1542           |525              |507         |\n",
            "|64287 |DL     |1670          |N806DN     |PDX           |MSP                |50                 |45            |1426           |603              |551         |\n",
            "|63995 |NK     |520           |N525NK     |LAS           |MCI                |55                 |120           |1139           |537              |543         |\n",
            "|75855 |AA     |371           |N3GXAA     |SEA           |MIA                |100                |52            |2724           |938              |939         |\n",
            "|106181|NK     |214           |N632NK     |LAS           |DFW                |103                |102           |1055           |530              |529         |\n",
            "|44304 |AA     |115           |N3CTAA     |LAX           |MIA                |105                |103           |2342           |851              |839         |\n",
            "|82602 |DL     |1450          |N671DN     |LAS           |MSP                |105                |102           |1299           |608              |545         |\n",
            "|7823  |UA     |1545          |N76517     |LAX           |IAH                |115                |112           |1379           |618              |607         |\n",
            "|127781|AS     |130           |N457AS     |FAI           |SEA                |115                |107           |1533           |548              |545         |\n",
            "|34501 |NK     |597           |N528NK     |MSP           |FLL                |115                |127           |1487           |542              |607         |\n",
            "|121658|US     |413           |N571UW     |LAS           |CLT                |120                |110           |1916           |825              |754         |\n",
            "|20219 |AA     |2392          |N3HRAA     |DEN           |MIA                |120                |141           |1709           |707              |709         |\n",
            "|67551 |NK     |168           |N629NK     |PHX           |ORD                |125                |237           |1440           |549              |632         |\n",
            "|48994 |AA     |2211          |N3CGAA     |PHX           |MIA                |127                |116           |1972           |726              |710         |\n",
            "|70811 |AS     |136           |N431AS     |ANC           |SEA                |135                |null          |1448           |600              |null        |\n",
            "|75241 |DL     |95            |N320US     |SLC           |ATL                |140                |134           |1590           |715              |725         |\n",
            "|12312 |NK     |298           |N514NK     |LAS           |IAH                |144                |140           |1222           |634              |630         |\n",
            "|48372 |HA     |17            |N389HA     |LAS           |HNL                |145                |145           |2762           |555              |610         |\n",
            "|51477 |US     |617           |N804AW     |ANC           |PHX                |152                |143           |2552           |915              |905         |\n",
            "|84204 |UA     |1528          |N76519     |SJU           |EWR                |154                |157           |1608           |509              |458         |\n",
            "|70990 |AS     |134           |N464AS     |ANC           |SEA                |155                |140           |1448           |633              |558         |\n",
            "|101991|B6     |304           |N607JB     |SJU           |JFK                |155                |153           |1598           |450              |501         |\n",
            "+------+-------+--------------+-----------+--------------+-------------------+-------------------+--------------+---------------+-----------------+------------+\n",
            "only showing top 40 rows\n",
            "\n"
          ]
        }
      ]
    },
    {
      "cell_type": "code",
      "source": [
        "#Replacing all the null values with zero using fillna() function\n",
        "result_df2=dataset2.fillna(value=0)\n",
        "result_df2.show(60,0)"
      ],
      "metadata": {
        "id": "IWhvF8d1GmoQ",
        "colab": {
          "base_uri": "https://localhost:8080/"
        },
        "outputId": "2dc7d683-d89c-4e2f-8c3b-0b12edf94d03"
      },
      "execution_count": null,
      "outputs": [
        {
          "output_type": "stream",
          "name": "stdout",
          "text": [
            "+------+-------+--------------+-----------+--------------+-------------------+-------------------+--------------+---------------+-----------------+------------+\n",
            "|id_   |AIRLINE|FLIGHT_NUMBER_|TAIL_NUMBER|ORIGIN_AIRPORT|DESTINATION_AIRPORT|SCHEDULED_DEPARTURE|DEPARTURE_TIME|DISTANCE_in_KM_|SCHEDULED_ARRIVAL|ARRIVAL_TIME|\n",
            "+------+-------+--------------+-----------+--------------+-------------------+-------------------+--------------+---------------+-----------------+------------+\n",
            "|19556 |AS     |98            |N407AS     |ANC           |SEA                |15                 |4             |1448           |430              |408         |\n",
            "|90035 |AA     |2336          |N3KUAA     |LAX           |PBI                |10                 |2             |2330           |750              |741         |\n",
            "|12360 |US     |840           |N171US     |SFO           |CLT                |20                 |18            |2296           |806              |811         |\n",
            "|77959 |AA     |258           |N3HYAA     |LAX           |MIA                |20                 |15            |2342           |805              |756         |\n",
            "|36875 |AS     |135           |N527AS     |SEA           |ANC                |25                 |24            |1448           |320              |259         |\n",
            "|39177 |DL     |806           |N3730B     |SFO           |MSP                |25                 |20            |1589           |602              |610         |\n",
            "|79433 |NK     |612           |N635NK     |LAS           |MSP                |25                 |19            |1299           |526              |509         |\n",
            "|97286 |US     |2013          |N584UW     |LAX           |CLT                |30                 |44            |2125           |803              |753         |\n",
            "|27508 |AA     |1112          |N3LAAA     |SFO           |DFW                |30                 |19            |1464           |545              |532         |\n",
            "|62482 |DL     |1173          |N826DN     |LAS           |ATL                |30                 |33            |1747           |711              |656         |\n",
            "|47583 |DL     |2336          |N958DN     |DEN           |ATL                |30                 |24            |1199           |523              |453         |\n",
            "|115550|AA     |1674          |N853AA     |LAS           |MIA                |35                 |27            |2174           |803              |753         |\n",
            "|119987|DL     |1434          |N547US     |LAX           |MSP                |35                 |35            |1535           |609              |605         |\n",
            "|42141 |DL     |2324          |N3751B     |SLC           |ATL                |40                 |34            |1590           |615              |553         |\n",
            "|2274  |DL     |2440          |N651DL     |SEA           |MSP                |40                 |39            |1399           |549              |557         |\n",
            "|22470 |AS     |108           |N309AS     |ANC           |SEA                |45                 |41            |1448           |509              |455         |\n",
            "|124915|DL     |1560          |N3743H     |ANC           |SEA                |45                 |31            |1448           |515              |451         |\n",
            "|17836 |UA     |1197          |N78448     |SFO           |IAH                |48                 |42            |1635           |626              |619         |\n",
            "|76872 |AS     |122           |N413AS     |ANC           |PDX                |50                 |46            |1542           |525              |507         |\n",
            "|64287 |DL     |1670          |N806DN     |PDX           |MSP                |50                 |45            |1426           |603              |551         |\n",
            "|63995 |NK     |520           |N525NK     |LAS           |MCI                |55                 |120           |1139           |537              |543         |\n",
            "|75855 |AA     |371           |N3GXAA     |SEA           |MIA                |100                |52            |2724           |938              |939         |\n",
            "|106181|NK     |214           |N632NK     |LAS           |DFW                |103                |102           |1055           |530              |529         |\n",
            "|44304 |AA     |115           |N3CTAA     |LAX           |MIA                |105                |103           |2342           |851              |839         |\n",
            "|82602 |DL     |1450          |N671DN     |LAS           |MSP                |105                |102           |1299           |608              |545         |\n",
            "|7823  |UA     |1545          |N76517     |LAX           |IAH                |115                |112           |1379           |618              |607         |\n",
            "|127781|AS     |130           |N457AS     |FAI           |SEA                |115                |107           |1533           |548              |545         |\n",
            "|34501 |NK     |597           |N528NK     |MSP           |FLL                |115                |127           |1487           |542              |607         |\n",
            "|121658|US     |413           |N571UW     |LAS           |CLT                |120                |110           |1916           |825              |754         |\n",
            "|20219 |AA     |2392          |N3HRAA     |DEN           |MIA                |120                |141           |1709           |707              |709         |\n",
            "|67551 |NK     |168           |N629NK     |PHX           |ORD                |125                |237           |1440           |549              |632         |\n",
            "|48994 |AA     |2211          |N3CGAA     |PHX           |MIA                |127                |116           |1972           |726              |710         |\n",
            "|70811 |AS     |136           |N431AS     |ANC           |SEA                |135                |0             |1448           |600              |0           |\n",
            "|75241 |DL     |95            |N320US     |SLC           |ATL                |140                |134           |1590           |715              |725         |\n",
            "|12312 |NK     |298           |N514NK     |LAS           |IAH                |144                |140           |1222           |634              |630         |\n",
            "|48372 |HA     |17            |N389HA     |LAS           |HNL                |145                |145           |2762           |555              |610         |\n",
            "|51477 |US     |617           |N804AW     |ANC           |PHX                |152                |143           |2552           |915              |905         |\n",
            "|84204 |UA     |1528          |N76519     |SJU           |EWR                |154                |157           |1608           |509              |458         |\n",
            "|70990 |AS     |134           |N464AS     |ANC           |SEA                |155                |140           |1448           |633              |558         |\n",
            "|101991|B6     |304           |N607JB     |SJU           |JFK                |155                |153           |1598           |450              |501         |\n",
            "|87447 |NK     |451           |N633NK     |PBG           |FLL                |155                |139           |1334           |523              |450         |\n",
            "|16112 |NK     |972           |N606NK     |PHX           |DFW                |159                |158           |868            |502              |503         |\n",
            "|16172 |AA     |2459          |N3BDAA     |PHX           |DFW                |200                |0             |868            |500              |0           |\n",
            "|106558|AS     |144           |N514AS     |ANC           |PDX                |200                |150           |1542           |630              |619         |\n",
            "|11536 |NK     |647           |N630NK     |IAG           |FLL                |200                |155           |1176           |504              |453         |\n",
            "|47773 |B6     |1990          |N597JB     |SJU           |EWR                |206                |152           |1608           |512              |516         |\n",
            "|70521 |US     |699           |N172US     |PHX           |CLT                |220                |209           |1773           |804              |728         |\n",
            "|96283 |AS     |114           |N303AS     |ANC           |SEA                |220                |209           |1448           |640              |628         |\n",
            "|117993|B6     |668           |N653JB     |PSE           |MCO                |255                |248           |1179           |500              |451         |\n",
            "|74703 |UA     |1162          |N37293     |BQN           |EWR                |259                |258           |1585           |559              |605         |\n",
            "|110840|B6     |1030          |N239JB     |BQN           |MCO                |307                |304           |1129           |500              |520         |\n",
            "|88249 |B6     |262           |N627JB     |SJU           |BOS                |330                |316           |1674           |635              |619         |\n",
            "|125877|B6     |2134          |N307JB     |SJU           |MCO                |400                |535           |1189           |605              |730         |\n",
            "|83968 |B6     |730           |N621JB     |BQN           |MCO                |419                |423           |1129           |613              |606         |\n",
            "|122719|B6     |768           |N317JB     |PSE           |MCO                |424                |413           |1179           |630              |629         |\n",
            "|3949  |B6     |2276          |N646JB     |SJU           |BDL                |438                |550           |1666           |739              |908         |\n",
            "|45542 |US     |602           |N197UW     |ORD           |PHX                |500                |459           |1440           |748              |751         |\n",
            "|43742 |AS     |695           |N607AS     |GEG           |SEA                |500                |456           |224            |610              |610         |\n",
            "|122093|HA     |102           |N492HA     |HNL           |ITO                |500                |452           |216            |549              |543         |\n",
            "|121454|OO     |5467          |N701BR     |ONT           |SFO                |500                |513           |363            |629              |638         |\n",
            "+------+-------+--------------+-----------+--------------+-------------------+-------------------+--------------+---------------+-----------------+------------+\n",
            "only showing top 60 rows\n",
            "\n"
          ]
        }
      ]
    },
    {
      "cell_type": "code",
      "source": [
        "#joining the two datasets using inner-join function\n",
        "merge_df=result_df1.join(result_df2,result_df1.FLIGHT_NUMBER ==  result_df2.FLIGHT_NUMBER_,\"inner\")\n",
        "merge_df.show(50,0)\n",
        "merge_df.printSchema()"
      ],
      "metadata": {
        "id": "Ixa5NiNm8XJD",
        "colab": {
          "base_uri": "https://localhost:8080/"
        },
        "outputId": "f432d59c-e0d0-4403-da34-826b2773627d"
      },
      "execution_count": null,
      "outputs": [
        {
          "output_type": "stream",
          "name": "stdout",
          "text": [
            "+------+------+-----------------+---+-------------+---------------+--------+--------------+---------------------+---------------------------------+----------------------+--------------+---------------+------------+----------------------+----------------+----------------+---------------+----------------+-----------+-------------+------+-------+--------------+-----------+--------------+-------------------+-------------------+--------------+---------------+-----------------+------------+\n",
            "|id    |Gender|Customer_Type    |Age|FLIGHT_NUMBER|Type_of_Travel |Class   |DISTANCE_in_KM|Inflight_wifi_service|Departure/Arrival_time_convenient|Ease_of_Online_booking|Food_and_drink|Online_boarding|Seat_comfort|Inflight_entertainment|On-board_service|Baggage_handling|Checkin_service|Inflight_service|Cleanliness|Date_of_Board|id_   |AIRLINE|FLIGHT_NUMBER_|TAIL_NUMBER|ORIGIN_AIRPORT|DESTINATION_AIRPORT|SCHEDULED_DEPARTURE|DEPARTURE_TIME|DISTANCE_in_KM_|SCHEDULED_ARRIVAL|ARRIVAL_TIME|\n",
            "+------+------+-----------------+---+-------------+---------------+--------+--------------+---------------------+---------------------------------+----------------------+--------------+---------------+------------+----------------------+----------------+----------------+---------------+----------------+-----------+-------------+------+-------+--------------+-----------+--------------+-------------------+-------------------+--------------+---------------+-----------------+------------+\n",
            "|19556 |Female|Loyal Customer   |52 |98           |Business travel|Eco     |1448          |5                    |4                                |3                     |3             |4              |3           |5                     |5               |5               |2              |5               |5          |2021-05-05   |19556 |AS     |98            |N407AS     |ANC           |SEA                |15                 |4             |1448           |430              |408         |\n",
            "|90035 |Female|Loyal Customer   |36 |2336         |Business travel|Business|2330          |1                    |1                                |3                     |5             |4              |5           |4                     |4               |4               |3              |4               |5          |2021-05-06   |47583 |DL     |2336          |N958DN     |DEN           |ATL                |30                 |24            |1199           |523              |453         |\n",
            "|90035 |Female|Loyal Customer   |36 |2336         |Business travel|Business|2330          |1                    |1                                |3                     |5             |4              |5           |4                     |4               |4               |3              |4               |5          |2021-05-06   |90035 |AA     |2336          |N3KUAA     |LAX           |PBI                |10                 |2             |2330           |750              |741         |\n",
            "|12360 |Male  |disloyal Customer|20 |840          |Business travel|Eco     |2296          |2                    |0                                |2                     |2             |2              |2           |2                     |4               |3               |2              |2               |2          |2021-05-07   |12360 |US     |840           |N171US     |SFO           |CLT                |20                 |18            |2296           |806              |811         |\n",
            "|77959 |Male  |Loyal Customer   |44 |258          |Business travel|Business|2342          |0                    |0                                |0                     |3             |4              |4           |1                     |1               |1               |3              |1               |4          |2021-05-08   |77959 |AA     |258           |N3HYAA     |LAX           |MIA                |20                 |15            |2342           |805              |756         |\n",
            "|36875 |Female|Loyal Customer   |49 |135          |Business travel|Eco     |1448          |2                    |3                                |4                     |4             |1              |2           |2                     |2               |2               |4              |2               |4          |2021-05-09   |36875 |AS     |135           |N527AS     |SEA           |ANC                |25                 |24            |1448           |320              |259         |\n",
            "|39177 |Male  |Loyal Customer   |16 |806          |Business travel|Eco     |1589          |3                    |3                                |3                     |5             |5              |3           |5                     |4               |1               |1              |2               |5          |2021-05-10   |39177 |DL     |806           |N3730B     |SFO           |MSP                |25                 |20            |1589           |602              |610         |\n",
            "|79433 |Female|Loyal Customer   |77 |612          |Business travel|Business|1299          |5                    |5                                |5                     |3             |5              |5           |5                     |5               |5               |4              |5               |3          |2021-05-11   |79433 |NK     |612           |N635NK     |LAS           |MSP                |25                 |19            |1299           |526              |509         |\n",
            "|97286 |Female|Loyal Customer   |43 |2013         |Business travel|Business|2125          |2                    |2                                |2                     |4             |4              |5           |4                     |4               |4               |5              |4               |3          |2021-05-12   |97286 |US     |2013          |N584UW     |LAX           |CLT                |30                 |44            |2125           |803              |753         |\n",
            "|27508 |Male  |Loyal Customer   |47 |1112         |Business travel|Eco     |1464          |5                    |2                                |2                     |5             |5              |5           |5                     |2               |5               |3              |3               |5          |2021-05-13   |27508 |AA     |1112          |N3LAAA     |SFO           |DFW                |30                 |19            |1464           |545              |532         |\n",
            "|62482 |Female|Loyal Customer   |46 |1173         |Business travel|Business|1747          |2                    |2                                |2                     |3             |4              |4           |4                     |4               |4               |5              |4               |4          |2021-05-14   |62482 |DL     |1173          |N826DN     |LAS           |ATL                |30                 |33            |1747           |711              |656         |\n",
            "|47583 |Female|Loyal Customer   |47 |2336         |Business travel|Eco     |1199          |4                    |1                                |1                     |5             |1              |5           |3                     |3               |3               |1              |3               |4          |2021-05-15   |47583 |DL     |2336          |N958DN     |DEN           |ATL                |30                 |24            |1199           |523              |453         |\n",
            "|47583 |Female|Loyal Customer   |47 |2336         |Business travel|Eco     |1199          |4                    |1                                |1                     |5             |1              |5           |3                     |3               |3               |1              |3               |4          |2021-05-15   |90035 |AA     |2336          |N3KUAA     |LAX           |PBI                |10                 |2             |2330           |750              |741         |\n",
            "|115550|Female|Loyal Customer   |33 |1674         |Business travel|Business|2174          |2                    |5                                |5                     |1             |3              |4           |2                     |2               |2               |3              |2               |4          |2021-05-16   |115550|AA     |1674          |N853AA     |LAS           |MIA                |35                 |27            |2174           |803              |753         |\n",
            "|119987|Female|Loyal Customer   |46 |1434         |Business travel|Business|1535          |5                    |5                                |5                     |4             |5              |5           |5                     |5               |5               |5              |5               |3          |2021-05-17   |33413 |B6     |1434          |N503JB     |SJU           |MCO                |605                |738           |1189           |813              |941         |\n",
            "|119987|Female|Loyal Customer   |46 |1434         |Business travel|Business|1535          |5                    |5                                |5                     |4             |5              |5           |5                     |5               |5               |5              |5               |3          |2021-05-17   |119987|DL     |1434          |N547US     |LAX           |MSP                |35                 |35            |1535           |609              |605         |\n",
            "|42141 |Female|Loyal Customer   |60 |2324         |Business travel|Business|1590          |1                    |1                                |4                     |5             |5              |4           |5                     |5               |5               |3              |5               |5          |2021-05-18   |42141 |DL     |2324          |N3751B     |SLC           |ATL                |40                 |34            |1590           |615              |553         |\n",
            "|2274  |Female|Loyal Customer   |52 |2440         |Business travel|Business|1399          |2                    |2                                |2                     |5             |5              |4           |4                     |4               |4               |3              |4               |5          |2021-05-19   |2274  |DL     |2440          |N651DL     |SEA           |MSP                |40                 |39            |1399           |549              |557         |\n",
            "|22470 |Male  |Loyal Customer   |50 |108          |Personal Travel|Eco     |1448          |3                    |4                                |0                     |2             |0              |2           |2                     |4               |4               |4              |5               |2          |2021-05-20   |738   |HA     |108           |N476HA     |HNL           |KOA                |502                |501           |163            |544              |549         |\n",
            "|22470 |Male  |Loyal Customer   |50 |108          |Personal Travel|Eco     |1448          |3                    |4                                |0                     |2             |0              |2           |2                     |4               |4               |4              |5               |2          |2021-05-20   |22470 |AS     |108           |N309AS     |ANC           |SEA                |45                 |41            |1448           |509              |455         |\n",
            "|124915|Female|Loyal Customer   |31 |1560         |Business travel|Eco     |1448          |2                    |5                                |5                     |2             |2              |2           |2                     |4               |3               |4              |3               |2          |2021-05-21   |124915|DL     |1560          |N3743H     |ANC           |SEA                |45                 |31            |1448           |515              |451         |\n",
            "|17836 |Male  |Loyal Customer   |52 |1197         |Personal Travel|Eco Plus|1635          |5                    |4                                |5                     |4             |5              |4           |4                     |3               |5               |4              |5               |4          |2021-05-22   |17836 |UA     |1197          |N78448     |SFO           |IAH                |48                 |42            |1635           |626              |619         |\n",
            "|76872 |Female|Loyal Customer   |43 |122          |Personal Travel|Eco     |1542          |3                    |4                                |3                     |4             |4              |5           |5                     |5               |5               |4              |5               |3          |2021-05-23   |76872 |AS     |122           |N413AS     |ANC           |PDX                |50                 |46            |1542           |525              |507         |\n",
            "|64287 |Female|Loyal Customer   |50 |1670         |Business travel|Business|1426          |5                    |5                                |5                     |4             |5              |4           |4                     |4               |4               |5              |4               |5          |2021-05-24   |64287 |DL     |1670          |N806DN     |PDX           |MSP                |50                 |45            |1426           |603              |551         |\n",
            "|63995 |Male  |Loyal Customer   |60 |520          |Business travel|Business|1139          |4                    |4                                |4                     |2             |4              |5           |5                     |5               |5               |5              |5               |5          |2021-05-25   |63995 |NK     |520           |N525NK     |LAS           |MCI                |55                 |120           |1139           |537              |543         |\n",
            "|75855 |Male  |Loyal Customer   |43 |371          |Personal Travel|Eco     |2724          |3                    |4                                |3                     |2             |3              |2           |2                     |4               |4               |4              |5               |2          |2021-05-26   |96673 |B6     |371           |N708JB     |LGA           |FLL                |600                |600           |1076           |903              |857         |\n",
            "|75855 |Male  |Loyal Customer   |43 |371          |Personal Travel|Eco     |2724          |3                    |4                                |3                     |2             |3              |2           |2                     |4               |4               |4              |5               |2          |2021-05-26   |75855 |AA     |371           |N3GXAA     |SEA           |MIA                |100                |52            |2724           |938              |939         |\n",
            "|106181|Male  |Loyal Customer   |55 |214          |Personal Travel|Eco     |1055          |1                    |2                                |4                     |4             |4              |4           |4                     |1               |2               |4              |3               |4          |2021-05-27   |88893 |UA     |214           |N454UA     |PBI           |IAH                |600                |555           |956            |750              |747         |\n",
            "|106181|Male  |Loyal Customer   |55 |214          |Personal Travel|Eco     |1055          |1                    |2                                |4                     |4             |4              |4           |4                     |1               |2               |4              |3               |4          |2021-05-27   |106181|NK     |214           |N632NK     |LAS           |DFW                |103                |102           |1055           |530              |529         |\n",
            "|44304 |Male  |Loyal Customer   |25 |115          |Business travel|Business|2342          |4                    |4                                |4                     |4             |4              |4           |4                     |1               |3               |1              |5               |4          |2021-05-28   |128145|B6     |115           |N284JB     |SYR           |JFK                |555                |550           |209            |718              |705         |\n",
            "|44304 |Male  |Loyal Customer   |25 |115          |Business travel|Business|2342          |4                    |4                                |4                     |4             |4              |4           |4                     |1               |3               |1              |5               |4          |2021-05-28   |44304 |AA     |115           |N3CTAA     |LAX           |MIA                |105                |103           |2342           |851              |839         |\n",
            "|82602 |Female|disloyal Customer|30 |1450         |Business travel|Eco     |1299          |4                    |3                                |5                     |2             |5              |2           |2                     |3               |3               |4              |4               |2          |2021-05-29   |82602 |DL     |1450          |N671DN     |LAS           |MSP                |105                |102           |1299           |608              |545         |\n",
            "|7823  |Male  |Loyal Customer   |62 |1545         |Personal Travel|Eco     |1379          |3                    |5                                |3                     |2             |3              |2           |2                     |3               |5               |4              |4               |2          |2021-05-30   |7823  |UA     |1545          |N76517     |LAX           |IAH                |115                |112           |1379           |618              |607         |\n",
            "|127781|Male  |Loyal Customer   |24 |130          |Business travel|Business|1533          |4                    |1                                |4                     |2             |2              |2           |2                     |5               |5               |5              |4               |2          |2021-05-31   |35719 |B6     |130           |N510JB     |RSW           |JFK                |600                |557           |1074           |841              |839         |\n",
            "|127781|Male  |Loyal Customer   |24 |130          |Business travel|Business|1533          |4                    |1                                |4                     |2             |2              |2           |2                     |5               |5               |5              |4               |2          |2021-05-31   |127781|AS     |130           |N457AS     |FAI           |SEA                |115                |107           |1533           |548              |545         |\n",
            "|34501 |Female|Loyal Customer   |22 |597          |Business travel|Eco     |1487          |4                    |1                                |1                     |4             |4              |4           |4                     |1               |1               |1              |5               |4          |2021-06-01   |121232|WN     |597           |N768SW     |SFO           |ATL                |600                |554           |2139           |1340             |1324        |\n",
            "|34501 |Female|Loyal Customer   |22 |597          |Business travel|Eco     |1487          |4                    |1                                |1                     |4             |4              |4           |4                     |1               |1               |1              |5               |4          |2021-06-01   |34501 |NK     |597           |N528NK     |MSP           |FLL                |115                |127           |1487           |542              |607         |\n",
            "|121658|Male  |Loyal Customer   |44 |413          |Business travel|Business|1916          |3                    |5                                |3                     |5             |4              |5           |5                     |5               |5               |5              |5               |5          |2021-06-02   |121658|US     |413           |N571UW     |LAS           |CLT                |120                |110           |1916           |825              |754         |\n",
            "|20219 |Male  |Loyal Customer   |51 |2392         |Business travel|Eco     |1709          |4                    |3                                |3                     |4             |4              |4           |4                     |3               |3               |3              |4               |4          |2021-06-03   |20219 |AA     |2392          |N3HRAA     |DEN           |MIA                |120                |141           |1709           |707              |709         |\n",
            "|67551 |Male  |Loyal Customer   |43 |168          |Personal Travel|Business|1440          |1                    |5                                |1                     |1             |1              |4           |3                     |3               |5               |4              |3               |5          |2021-06-04   |15019 |AA     |168           |N5BSAA     |DFW           |MIA                |610                |603           |1121           |953              |935         |\n",
            "|67551 |Male  |Loyal Customer   |43 |168          |Personal Travel|Business|1440          |1                    |5                                |1                     |1             |1              |4           |3                     |3               |5               |4              |3               |5          |2021-06-04   |67551 |NK     |168           |N629NK     |PHX           |ORD                |125                |237           |1440           |549              |632         |\n",
            "|48994 |Female|Loyal Customer   |56 |2211         |Business travel|Eco     |1972          |2                    |3                                |3                     |5             |2              |5           |2                     |2               |2               |2              |2               |2          |2021-06-05   |48994 |AA     |2211          |N3CGAA     |PHX           |MIA                |127                |116           |1972           |726              |710         |\n",
            "|70811 |Male  |disloyal Customer|41 |136          |Business travel|Eco     |1448          |2                    |3                                |2                     |5             |2              |5           |5                     |4               |3               |1              |4               |5          |2021-06-06   |70811 |AS     |136           |N431AS     |ANC           |SEA                |135                |0             |1448           |600              |0           |\n",
            "|75241 |Male  |Loyal Customer   |22 |95           |Personal Travel|Eco     |1590          |4                    |5                                |4                     |5             |4              |5           |5                     |5               |4               |4              |4               |5          |2021-06-07   |75241 |DL     |95            |N320US     |SLC           |ATL                |140                |134           |1590           |715              |725         |\n",
            "|12312 |Female|Loyal Customer   |53 |298          |Business travel|Eco     |1222          |5                    |2                                |2                     |3             |4              |2           |5                     |5               |5               |2              |5               |4          |2021-06-08   |12312 |NK     |298           |N514NK     |LAS           |IAH                |144                |140           |1222           |634              |630         |\n",
            "|48372 |Male  |Loyal Customer   |12 |17           |Personal Travel|Eco     |2762          |3                    |4                                |3                     |1             |3              |1           |1                     |3               |5               |4              |4               |1          |2021-06-09   |48372 |HA     |17            |N389HA     |LAS           |HNL                |145                |145           |2762           |555              |610         |\n",
            "|51477 |Female|Loyal Customer   |39 |617          |Business travel|Business|2552          |3                    |3                                |3                     |2             |4              |5           |4                     |4               |4               |4              |4               |5          |2021-06-10   |51477 |US     |617           |N804AW     |ANC           |PHX                |152                |143           |2552           |915              |905         |\n",
            "|84204 |Female|Loyal Customer   |55 |1528         |Business travel|Business|1608          |1                    |1                                |1                     |3             |5              |4           |5                     |5               |5               |3              |5               |5          |2021-06-11   |84204 |UA     |1528          |N76519     |SJU           |EWR                |154                |157           |1608           |509              |458         |\n",
            "|70990 |Female|disloyal Customer|32 |134          |Business travel|Business|1448          |4                    |4                                |4                     |2             |4              |4           |2                     |4               |4               |3              |5               |2          |2021-06-12   |70990 |AS     |134           |N464AS     |ANC           |SEA                |155                |140           |1448           |633              |558         |\n",
            "|101991|Female|Loyal Customer   |40 |304          |Personal Travel|Eco     |1598          |1                    |4                                |1                     |5             |1              |5           |5                     |3               |5               |5              |4               |5          |2021-06-13   |74968 |AA     |304           |N4XHAA     |SLC           |DFW                |600                |601           |989            |950              |1002        |\n",
            "+------+------+-----------------+---+-------------+---------------+--------+--------------+---------------------+---------------------------------+----------------------+--------------+---------------+------------+----------------------+----------------+----------------+---------------+----------------+-----------+-------------+------+-------+--------------+-----------+--------------+-------------------+-------------------+--------------+---------------+-----------------+------------+\n",
            "only showing top 50 rows\n",
            "\n",
            "root\n",
            " |-- id: integer (nullable = true)\n",
            " |-- Gender: string (nullable = true)\n",
            " |-- Customer_Type: string (nullable = true)\n",
            " |-- Age: integer (nullable = true)\n",
            " |-- FLIGHT_NUMBER: integer (nullable = true)\n",
            " |-- Type_of_Travel: string (nullable = true)\n",
            " |-- Class: string (nullable = true)\n",
            " |-- DISTANCE_in_KM: integer (nullable = true)\n",
            " |-- Inflight_wifi_service: integer (nullable = true)\n",
            " |-- Departure/Arrival_time_convenient: integer (nullable = true)\n",
            " |-- Ease_of_Online_booking: integer (nullable = true)\n",
            " |-- Food_and_drink: integer (nullable = true)\n",
            " |-- Online_boarding: integer (nullable = true)\n",
            " |-- Seat_comfort: integer (nullable = true)\n",
            " |-- Inflight_entertainment: integer (nullable = true)\n",
            " |-- On-board_service: integer (nullable = true)\n",
            " |-- Baggage_handling: integer (nullable = true)\n",
            " |-- Checkin_service: integer (nullable = true)\n",
            " |-- Inflight_service: integer (nullable = true)\n",
            " |-- Cleanliness: integer (nullable = true)\n",
            " |-- Date_of_Board: date (nullable = true)\n",
            " |-- id_: integer (nullable = true)\n",
            " |-- AIRLINE: string (nullable = true)\n",
            " |-- FLIGHT_NUMBER_: integer (nullable = true)\n",
            " |-- TAIL_NUMBER: string (nullable = true)\n",
            " |-- ORIGIN_AIRPORT: string (nullable = true)\n",
            " |-- DESTINATION_AIRPORT: string (nullable = true)\n",
            " |-- SCHEDULED_DEPARTURE: integer (nullable = true)\n",
            " |-- DEPARTURE_TIME: integer (nullable = true)\n",
            " |-- DISTANCE_in_KM_: integer (nullable = true)\n",
            " |-- SCHEDULED_ARRIVAL: integer (nullable = true)\n",
            " |-- ARRIVAL_TIME: integer (nullable = true)\n",
            "\n"
          ]
        }
      ]
    },
    {
      "cell_type": "code",
      "source": [
        "#Converting the columns SCHEDULED_ARRIVAL,ARRIVAL TIME,DEPT_TIME and SCHED_DEPARTURE column into timestamp datatype\n",
        "add_timestamp=merge_df.withColumn(\"SCHED_ARRIVAL\",col(\"SCHEDULED_ARRIVAL\").cast(\"timestamp\"))\\\n",
        "                      .withColumn(\"ARR_TIME\",col(\"ARRIVAL_TIME\").cast(\"timestamp\"))\\\n",
        "                      .withColumn(\"SCHED_DEPARTURE\",col(\"SCHEDULED_DEPARTURE\").cast(\"timestamp\"))\\\n",
        "                      .withColumn(\"DEPT_TIME\",col(\"DEPARTURE_TIME\").cast(\"timestamp\"))                       \n",
        "add_timestamp.select(add_timestamp.columns[32:]).show(20,0)                                    "
      ],
      "metadata": {
        "id": "sB5mZhEI-_Hh",
        "colab": {
          "base_uri": "https://localhost:8080/"
        },
        "outputId": "ce49d3e7-1799-45c5-859f-4dca4cec5378"
      },
      "execution_count": null,
      "outputs": [
        {
          "output_type": "stream",
          "name": "stdout",
          "text": [
            "+-------------------+-------------------+-------------------+-------------------+\n",
            "|SCHED_ARRIVAL      |ARR_TIME           |SCHED_DEPARTURE    |DEPT_TIME          |\n",
            "+-------------------+-------------------+-------------------+-------------------+\n",
            "|1970-01-01 00:07:10|1970-01-01 00:06:48|1970-01-01 00:00:15|1970-01-01 00:00:04|\n",
            "|1970-01-01 00:12:30|1970-01-01 00:12:21|1970-01-01 00:00:10|1970-01-01 00:00:02|\n",
            "|1970-01-01 00:12:30|1970-01-01 00:12:21|1970-01-01 00:00:10|1970-01-01 00:00:02|\n",
            "|1970-01-01 00:13:26|1970-01-01 00:13:31|1970-01-01 00:00:20|1970-01-01 00:00:18|\n",
            "|1970-01-01 00:13:25|1970-01-01 00:12:36|1970-01-01 00:00:20|1970-01-01 00:00:15|\n",
            "|1970-01-01 00:05:20|1970-01-01 00:04:19|1970-01-01 00:00:25|1970-01-01 00:00:24|\n",
            "|1970-01-01 00:10:02|1970-01-01 00:10:10|1970-01-01 00:00:25|1970-01-01 00:00:20|\n",
            "|1970-01-01 00:08:46|1970-01-01 00:08:29|1970-01-01 00:00:25|1970-01-01 00:00:19|\n",
            "|1970-01-01 00:13:23|1970-01-01 00:12:33|1970-01-01 00:00:30|1970-01-01 00:00:44|\n",
            "|1970-01-01 00:09:05|1970-01-01 00:08:52|1970-01-01 00:00:30|1970-01-01 00:00:19|\n",
            "|1970-01-01 00:11:51|1970-01-01 00:10:56|1970-01-01 00:00:30|1970-01-01 00:00:33|\n",
            "|1970-01-01 00:08:43|1970-01-01 00:07:33|1970-01-01 00:00:30|1970-01-01 00:00:24|\n",
            "|1970-01-01 00:08:43|1970-01-01 00:07:33|1970-01-01 00:00:30|1970-01-01 00:00:24|\n",
            "|1970-01-01 00:13:23|1970-01-01 00:12:33|1970-01-01 00:00:35|1970-01-01 00:00:27|\n",
            "|1970-01-01 00:10:09|1970-01-01 00:10:05|1970-01-01 00:00:35|1970-01-01 00:00:35|\n",
            "|1970-01-01 00:10:09|1970-01-01 00:10:05|1970-01-01 00:00:35|1970-01-01 00:00:35|\n",
            "|1970-01-01 00:10:15|1970-01-01 00:09:13|1970-01-01 00:00:40|1970-01-01 00:00:34|\n",
            "|1970-01-01 00:09:09|1970-01-01 00:09:17|1970-01-01 00:00:40|1970-01-01 00:00:39|\n",
            "|1970-01-01 00:08:29|1970-01-01 00:07:35|1970-01-01 00:00:45|1970-01-01 00:00:41|\n",
            "|1970-01-01 00:08:29|1970-01-01 00:07:35|1970-01-01 00:00:45|1970-01-01 00:00:41|\n",
            "+-------------------+-------------------+-------------------+-------------------+\n",
            "only showing top 20 rows\n",
            "\n"
          ]
        }
      ]
    },
    {
      "cell_type": "code",
      "source": [
        "#converting SCHED_ARRIVAL column to string datatype to convert the year 1970-2022 and then converting string datatype to timestamp datatype\n",
        "scheduled_arrival=add_timestamp.withColumn('SCHED_ARRIVAL',to_timestamp('SCHED_ARRIVAL').cast('string'))\\\n",
        "         .withColumn(\"SCHED_ARRIVAL\",regexp_replace(\"SCHED_ARRIVAL\",\"1970\",\"2022\")) \\\n",
        "         .withColumn('SCHED_ARRIVAL', to_timestamp('SCHED_ARRIVAL').cast('timestamp'))\n",
        "scheduled_arrival.select(scheduled_arrival.columns[32:]).show()"
      ],
      "metadata": {
        "id": "n8zTmTzvXgo_",
        "colab": {
          "base_uri": "https://localhost:8080/"
        },
        "outputId": "e376310d-c346-42f3-ca9a-71be8e37e0fd"
      },
      "execution_count": null,
      "outputs": [
        {
          "output_type": "stream",
          "name": "stdout",
          "text": [
            "+-------------------+-------------------+-------------------+-------------------+\n",
            "|      SCHED_ARRIVAL|           ARR_TIME|    SCHED_DEPARTURE|          DEPT_TIME|\n",
            "+-------------------+-------------------+-------------------+-------------------+\n",
            "|2022-01-01 00:07:10|1970-01-01 00:06:48|1970-01-01 00:00:15|1970-01-01 00:00:04|\n",
            "|2022-01-01 00:12:30|1970-01-01 00:12:21|1970-01-01 00:00:10|1970-01-01 00:00:02|\n",
            "|2022-01-01 00:12:30|1970-01-01 00:12:21|1970-01-01 00:00:10|1970-01-01 00:00:02|\n",
            "|2022-01-01 00:13:26|1970-01-01 00:13:31|1970-01-01 00:00:20|1970-01-01 00:00:18|\n",
            "|2022-01-01 00:13:25|1970-01-01 00:12:36|1970-01-01 00:00:20|1970-01-01 00:00:15|\n",
            "|2022-01-01 00:05:20|1970-01-01 00:04:19|1970-01-01 00:00:25|1970-01-01 00:00:24|\n",
            "|2022-01-01 00:10:02|1970-01-01 00:10:10|1970-01-01 00:00:25|1970-01-01 00:00:20|\n",
            "|2022-01-01 00:08:46|1970-01-01 00:08:29|1970-01-01 00:00:25|1970-01-01 00:00:19|\n",
            "|2022-01-01 00:13:23|1970-01-01 00:12:33|1970-01-01 00:00:30|1970-01-01 00:00:44|\n",
            "|2022-01-01 00:09:05|1970-01-01 00:08:52|1970-01-01 00:00:30|1970-01-01 00:00:19|\n",
            "|2022-01-01 00:11:51|1970-01-01 00:10:56|1970-01-01 00:00:30|1970-01-01 00:00:33|\n",
            "|2022-01-01 00:08:43|1970-01-01 00:07:33|1970-01-01 00:00:30|1970-01-01 00:00:24|\n",
            "|2022-01-01 00:08:43|1970-01-01 00:07:33|1970-01-01 00:00:30|1970-01-01 00:00:24|\n",
            "|2022-01-01 00:13:23|1970-01-01 00:12:33|1970-01-01 00:00:35|1970-01-01 00:00:27|\n",
            "|2022-01-01 00:10:09|1970-01-01 00:10:05|1970-01-01 00:00:35|1970-01-01 00:00:35|\n",
            "|2022-01-01 00:10:09|1970-01-01 00:10:05|1970-01-01 00:00:35|1970-01-01 00:00:35|\n",
            "|2022-01-01 00:10:15|1970-01-01 00:09:13|1970-01-01 00:00:40|1970-01-01 00:00:34|\n",
            "|2022-01-01 00:09:09|1970-01-01 00:09:17|1970-01-01 00:00:40|1970-01-01 00:00:39|\n",
            "|2022-01-01 00:08:29|1970-01-01 00:07:35|1970-01-01 00:00:45|1970-01-01 00:00:41|\n",
            "|2022-01-01 00:08:29|1970-01-01 00:07:35|1970-01-01 00:00:45|1970-01-01 00:00:41|\n",
            "+-------------------+-------------------+-------------------+-------------------+\n",
            "only showing top 20 rows\n",
            "\n"
          ]
        }
      ]
    },
    {
      "cell_type": "code",
      "source": [
        "#converting ARR_TIME column to string datatype to convert the year 1970-2022 and then converting string datatype to timestamp datatype\n",
        "arrival_time=scheduled_arrival.withColumn('ARR_TIME',to_timestamp('ARR_TIME').cast('string'))\\\n",
        "      .withColumn(\"ARR_TIME\",regexp_replace(\"ARR_TIME\",\"1970\",\"2022\")).withColumn('ARR_TIME',to_timestamp('ARR_TIME').cast('timestamp')) "
      ],
      "metadata": {
        "id": "JRGfzPtQXgkr"
      },
      "execution_count": null,
      "outputs": []
    },
    {
      "cell_type": "code",
      "source": [
        "#converting SCHED_DEPARTURE column to string datatype to convert the year 1970-2022 and then converting string datatype to timestamp datatype\n",
        "scheduled_departure=arrival_time.withColumn('SCHED_DEPARTURE',to_timestamp('SCHED_DEPARTURE').cast('string'))\\\n",
        "         .withColumn(\"SCHED_DEPARTURE\",regexp_replace(\"SCHED_DEPARTURE\",\"1970\",\"2022\")) \\\n",
        "         .withColumn('SCHED_DEPARTURE', to_timestamp('SCHED_DEPARTURE').cast('timestamp'))"
      ],
      "metadata": {
        "id": "c93zdpibXghm"
      },
      "execution_count": null,
      "outputs": []
    },
    {
      "cell_type": "code",
      "source": [
        "#converting DEPT_TIME column to string datatype to convert the year 1970-2022 and then converting string datatype to timestamp datatype\n",
        "departure_time=scheduled_departure.withColumn('DEPT_TIME',to_timestamp('DEPT_TIME').cast('string'))\\\n",
        "      .withColumn(\"DEPT_TIME\",regexp_replace(\"DEPT_TIME\",\"1970\",\"2022\"))\\\n",
        "      .withColumn('DEPT_TIME',to_timestamp('DEPT_TIME').cast('timestamp'))\n",
        "departure_time.printSchema()\n",
        "departure_time.select(departure_time.columns[32:]).show(20,0)"
      ],
      "metadata": {
        "colab": {
          "base_uri": "https://localhost:8080/"
        },
        "id": "XiP2kO-7XpkM",
        "outputId": "787ffcae-2679-484a-b855-d1fa7a67c98e"
      },
      "execution_count": null,
      "outputs": [
        {
          "output_type": "stream",
          "name": "stdout",
          "text": [
            "root\n",
            " |-- id: integer (nullable = true)\n",
            " |-- Gender: string (nullable = true)\n",
            " |-- Customer_Type: string (nullable = true)\n",
            " |-- Age: integer (nullable = true)\n",
            " |-- FLIGHT_NUMBER: integer (nullable = true)\n",
            " |-- Type_of_Travel: string (nullable = true)\n",
            " |-- Class: string (nullable = true)\n",
            " |-- DISTANCE_in_KM: integer (nullable = true)\n",
            " |-- Inflight_wifi_service: integer (nullable = true)\n",
            " |-- Departure/Arrival_time_convenient: integer (nullable = true)\n",
            " |-- Ease_of_Online_booking: integer (nullable = true)\n",
            " |-- Food_and_drink: integer (nullable = true)\n",
            " |-- Online_boarding: integer (nullable = true)\n",
            " |-- Seat_comfort: integer (nullable = true)\n",
            " |-- Inflight_entertainment: integer (nullable = true)\n",
            " |-- On-board_service: integer (nullable = true)\n",
            " |-- Baggage_handling: integer (nullable = true)\n",
            " |-- Checkin_service: integer (nullable = true)\n",
            " |-- Inflight_service: integer (nullable = true)\n",
            " |-- Cleanliness: integer (nullable = true)\n",
            " |-- Date_of_Board: date (nullable = true)\n",
            " |-- id_: integer (nullable = true)\n",
            " |-- AIRLINE: string (nullable = true)\n",
            " |-- FLIGHT_NUMBER_: integer (nullable = true)\n",
            " |-- TAIL_NUMBER: string (nullable = true)\n",
            " |-- ORIGIN_AIRPORT: string (nullable = true)\n",
            " |-- DESTINATION_AIRPORT: string (nullable = true)\n",
            " |-- SCHEDULED_DEPARTURE: integer (nullable = true)\n",
            " |-- DEPARTURE_TIME: integer (nullable = true)\n",
            " |-- DISTANCE_in_KM_: integer (nullable = true)\n",
            " |-- SCHEDULED_ARRIVAL: integer (nullable = true)\n",
            " |-- ARRIVAL_TIME: integer (nullable = true)\n",
            " |-- SCHED_ARRIVAL: timestamp (nullable = true)\n",
            " |-- ARR_TIME: timestamp (nullable = true)\n",
            " |-- SCHED_DEPARTURE: timestamp (nullable = true)\n",
            " |-- DEPT_TIME: timestamp (nullable = true)\n",
            "\n",
            "+-------------------+-------------------+-------------------+-------------------+\n",
            "|SCHED_ARRIVAL      |ARR_TIME           |SCHED_DEPARTURE    |DEPT_TIME          |\n",
            "+-------------------+-------------------+-------------------+-------------------+\n",
            "|2022-01-01 00:07:10|2022-01-01 00:06:48|2022-01-01 00:00:15|2022-01-01 00:00:04|\n",
            "|2022-01-01 00:12:30|2022-01-01 00:12:21|2022-01-01 00:00:10|2022-01-01 00:00:02|\n",
            "|2022-01-01 00:12:30|2022-01-01 00:12:21|2022-01-01 00:00:10|2022-01-01 00:00:02|\n",
            "|2022-01-01 00:13:26|2022-01-01 00:13:31|2022-01-01 00:00:20|2022-01-01 00:00:18|\n",
            "|2022-01-01 00:13:25|2022-01-01 00:12:36|2022-01-01 00:00:20|2022-01-01 00:00:15|\n",
            "|2022-01-01 00:05:20|2022-01-01 00:04:19|2022-01-01 00:00:25|2022-01-01 00:00:24|\n",
            "|2022-01-01 00:10:02|2022-01-01 00:10:10|2022-01-01 00:00:25|2022-01-01 00:00:20|\n",
            "|2022-01-01 00:08:46|2022-01-01 00:08:29|2022-01-01 00:00:25|2022-01-01 00:00:19|\n",
            "|2022-01-01 00:13:23|2022-01-01 00:12:33|2022-01-01 00:00:30|2022-01-01 00:00:44|\n",
            "|2022-01-01 00:09:05|2022-01-01 00:08:52|2022-01-01 00:00:30|2022-01-01 00:00:19|\n",
            "|2022-01-01 00:11:51|2022-01-01 00:10:56|2022-01-01 00:00:30|2022-01-01 00:00:33|\n",
            "|2022-01-01 00:08:43|2022-01-01 00:07:33|2022-01-01 00:00:30|2022-01-01 00:00:24|\n",
            "|2022-01-01 00:08:43|2022-01-01 00:07:33|2022-01-01 00:00:30|2022-01-01 00:00:24|\n",
            "|2022-01-01 00:13:23|2022-01-01 00:12:33|2022-01-01 00:00:35|2022-01-01 00:00:27|\n",
            "|2022-01-01 00:10:09|2022-01-01 00:10:05|2022-01-01 00:00:35|2022-01-01 00:00:35|\n",
            "|2022-01-01 00:10:09|2022-01-01 00:10:05|2022-01-01 00:00:35|2022-01-01 00:00:35|\n",
            "|2022-01-01 00:10:15|2022-01-01 00:09:13|2022-01-01 00:00:40|2022-01-01 00:00:34|\n",
            "|2022-01-01 00:09:09|2022-01-01 00:09:17|2022-01-01 00:00:40|2022-01-01 00:00:39|\n",
            "|2022-01-01 00:08:29|2022-01-01 00:07:35|2022-01-01 00:00:45|2022-01-01 00:00:41|\n",
            "|2022-01-01 00:08:29|2022-01-01 00:07:35|2022-01-01 00:00:45|2022-01-01 00:00:41|\n",
            "+-------------------+-------------------+-------------------+-------------------+\n",
            "only showing top 20 rows\n",
            "\n"
          ]
        }
      ]
    },
    {
      "cell_type": "code",
      "source": [
        "#calculating the ARRIVED time by subtracting the columns ARR_TIME and SCHED_ARRIVAL \n",
        "arrived_time=departure_time.withColumn(\"ARRIVED\",col(\"ARR_TIME\")-col(\"SCHED_ARRIVAL\"))\n",
        "arrived_time.select(\"SCHED_ARRIVAL\",\"ARR_TIME\",\"ARRIVED\").show(truncate=0)"
      ],
      "metadata": {
        "colab": {
          "base_uri": "https://localhost:8080/"
        },
        "id": "u7ZEYFvaXpgz",
        "outputId": "7e45217a-02fa-4f93-d5b1-57983ff3fd26"
      },
      "execution_count": null,
      "outputs": [
        {
          "output_type": "stream",
          "name": "stdout",
          "text": [
            "+-------------------+-------------------+------------------------------------+\n",
            "|SCHED_ARRIVAL      |ARR_TIME           |ARRIVED                             |\n",
            "+-------------------+-------------------+------------------------------------+\n",
            "|2022-01-01 00:07:10|2022-01-01 00:06:48|INTERVAL '-0 00:00:22' DAY TO SECOND|\n",
            "|2022-01-01 00:12:30|2022-01-01 00:12:21|INTERVAL '-0 00:00:09' DAY TO SECOND|\n",
            "|2022-01-01 00:12:30|2022-01-01 00:12:21|INTERVAL '-0 00:00:09' DAY TO SECOND|\n",
            "|2022-01-01 00:13:26|2022-01-01 00:13:31|INTERVAL '0 00:00:05' DAY TO SECOND |\n",
            "|2022-01-01 00:13:25|2022-01-01 00:12:36|INTERVAL '-0 00:00:49' DAY TO SECOND|\n",
            "|2022-01-01 00:05:20|2022-01-01 00:04:19|INTERVAL '-0 00:01:01' DAY TO SECOND|\n",
            "|2022-01-01 00:10:02|2022-01-01 00:10:10|INTERVAL '0 00:00:08' DAY TO SECOND |\n",
            "|2022-01-01 00:08:46|2022-01-01 00:08:29|INTERVAL '-0 00:00:17' DAY TO SECOND|\n",
            "|2022-01-01 00:13:23|2022-01-01 00:12:33|INTERVAL '-0 00:00:50' DAY TO SECOND|\n",
            "|2022-01-01 00:09:05|2022-01-01 00:08:52|INTERVAL '-0 00:00:13' DAY TO SECOND|\n",
            "|2022-01-01 00:11:51|2022-01-01 00:10:56|INTERVAL '-0 00:00:55' DAY TO SECOND|\n",
            "|2022-01-01 00:08:43|2022-01-01 00:07:33|INTERVAL '-0 00:01:10' DAY TO SECOND|\n",
            "|2022-01-01 00:08:43|2022-01-01 00:07:33|INTERVAL '-0 00:01:10' DAY TO SECOND|\n",
            "|2022-01-01 00:13:23|2022-01-01 00:12:33|INTERVAL '-0 00:00:50' DAY TO SECOND|\n",
            "|2022-01-01 00:10:09|2022-01-01 00:10:05|INTERVAL '-0 00:00:04' DAY TO SECOND|\n",
            "|2022-01-01 00:10:09|2022-01-01 00:10:05|INTERVAL '-0 00:00:04' DAY TO SECOND|\n",
            "|2022-01-01 00:10:15|2022-01-01 00:09:13|INTERVAL '-0 00:01:02' DAY TO SECOND|\n",
            "|2022-01-01 00:09:09|2022-01-01 00:09:17|INTERVAL '0 00:00:08' DAY TO SECOND |\n",
            "|2022-01-01 00:08:29|2022-01-01 00:07:35|INTERVAL '-0 00:00:54' DAY TO SECOND|\n",
            "|2022-01-01 00:08:29|2022-01-01 00:07:35|INTERVAL '-0 00:00:54' DAY TO SECOND|\n",
            "+-------------------+-------------------+------------------------------------+\n",
            "only showing top 20 rows\n",
            "\n"
          ]
        }
      ]
    },
    {
      "cell_type": "code",
      "source": [
        "#calculating the DEPARTED time by subtracting the columns DEPT_TIME and SCHED_DEPARTURE\n",
        "departed_time=arrived_time.withColumn(\"DEPARTED\",col(\"DEPT_TIME\")-col(\"SCHED_DEPARTURE\"))\n",
        "departed_time.printSchema()\n",
        "departed_time.select(\"SCHED_DEPARTURE\",\"DEPT_TIME\",\"DEPARTED\").show(truncate=False)"
      ],
      "metadata": {
        "colab": {
          "base_uri": "https://localhost:8080/"
        },
        "id": "vT3HQ5oMabvT",
        "outputId": "f59cc31e-c6ee-47dc-e561-e8cceaf80603"
      },
      "execution_count": null,
      "outputs": [
        {
          "output_type": "stream",
          "name": "stdout",
          "text": [
            "root\n",
            " |-- id: integer (nullable = true)\n",
            " |-- Gender: string (nullable = true)\n",
            " |-- Customer_Type: string (nullable = true)\n",
            " |-- Age: integer (nullable = true)\n",
            " |-- FLIGHT_NUMBER: integer (nullable = true)\n",
            " |-- Type_of_Travel: string (nullable = true)\n",
            " |-- Class: string (nullable = true)\n",
            " |-- DISTANCE_in_KM: integer (nullable = true)\n",
            " |-- Inflight_wifi_service: integer (nullable = true)\n",
            " |-- Departure/Arrival_time_convenient: integer (nullable = true)\n",
            " |-- Ease_of_Online_booking: integer (nullable = true)\n",
            " |-- Food_and_drink: integer (nullable = true)\n",
            " |-- Online_boarding: integer (nullable = true)\n",
            " |-- Seat_comfort: integer (nullable = true)\n",
            " |-- Inflight_entertainment: integer (nullable = true)\n",
            " |-- On-board_service: integer (nullable = true)\n",
            " |-- Baggage_handling: integer (nullable = true)\n",
            " |-- Checkin_service: integer (nullable = true)\n",
            " |-- Inflight_service: integer (nullable = true)\n",
            " |-- Cleanliness: integer (nullable = true)\n",
            " |-- Date_of_Board: date (nullable = true)\n",
            " |-- id_: integer (nullable = true)\n",
            " |-- AIRLINE: string (nullable = true)\n",
            " |-- FLIGHT_NUMBER_: integer (nullable = true)\n",
            " |-- TAIL_NUMBER: string (nullable = true)\n",
            " |-- ORIGIN_AIRPORT: string (nullable = true)\n",
            " |-- DESTINATION_AIRPORT: string (nullable = true)\n",
            " |-- SCHEDULED_DEPARTURE: integer (nullable = true)\n",
            " |-- DEPARTURE_TIME: integer (nullable = true)\n",
            " |-- DISTANCE_in_KM_: integer (nullable = true)\n",
            " |-- SCHEDULED_ARRIVAL: integer (nullable = true)\n",
            " |-- ARRIVAL_TIME: integer (nullable = true)\n",
            " |-- SCHED_ARRIVAL: timestamp (nullable = true)\n",
            " |-- ARR_TIME: timestamp (nullable = true)\n",
            " |-- SCHED_DEPARTURE: timestamp (nullable = true)\n",
            " |-- DEPT_TIME: timestamp (nullable = true)\n",
            " |-- ARRIVED: interval day to second (nullable = true)\n",
            " |-- DEPARTED: interval day to second (nullable = true)\n",
            "\n",
            "+-------------------+-------------------+------------------------------------+\n",
            "|SCHED_DEPARTURE    |DEPT_TIME          |DEPARTED                            |\n",
            "+-------------------+-------------------+------------------------------------+\n",
            "|2022-01-01 00:00:15|2022-01-01 00:00:04|INTERVAL '-0 00:00:11' DAY TO SECOND|\n",
            "|2022-01-01 00:00:10|2022-01-01 00:00:02|INTERVAL '-0 00:00:08' DAY TO SECOND|\n",
            "|2022-01-01 00:00:10|2022-01-01 00:00:02|INTERVAL '-0 00:00:08' DAY TO SECOND|\n",
            "|2022-01-01 00:00:20|2022-01-01 00:00:18|INTERVAL '-0 00:00:02' DAY TO SECOND|\n",
            "|2022-01-01 00:00:20|2022-01-01 00:00:15|INTERVAL '-0 00:00:05' DAY TO SECOND|\n",
            "|2022-01-01 00:00:25|2022-01-01 00:00:24|INTERVAL '-0 00:00:01' DAY TO SECOND|\n",
            "|2022-01-01 00:00:25|2022-01-01 00:00:20|INTERVAL '-0 00:00:05' DAY TO SECOND|\n",
            "|2022-01-01 00:00:25|2022-01-01 00:00:19|INTERVAL '-0 00:00:06' DAY TO SECOND|\n",
            "|2022-01-01 00:00:30|2022-01-01 00:00:44|INTERVAL '0 00:00:14' DAY TO SECOND |\n",
            "|2022-01-01 00:00:30|2022-01-01 00:00:19|INTERVAL '-0 00:00:11' DAY TO SECOND|\n",
            "|2022-01-01 00:00:30|2022-01-01 00:00:33|INTERVAL '0 00:00:03' DAY TO SECOND |\n",
            "|2022-01-01 00:00:30|2022-01-01 00:00:24|INTERVAL '-0 00:00:06' DAY TO SECOND|\n",
            "|2022-01-01 00:00:30|2022-01-01 00:00:24|INTERVAL '-0 00:00:06' DAY TO SECOND|\n",
            "|2022-01-01 00:00:35|2022-01-01 00:00:27|INTERVAL '-0 00:00:08' DAY TO SECOND|\n",
            "|2022-01-01 00:00:35|2022-01-01 00:00:35|INTERVAL '0 00:00:00' DAY TO SECOND |\n",
            "|2022-01-01 00:00:35|2022-01-01 00:00:35|INTERVAL '0 00:00:00' DAY TO SECOND |\n",
            "|2022-01-01 00:00:40|2022-01-01 00:00:34|INTERVAL '-0 00:00:06' DAY TO SECOND|\n",
            "|2022-01-01 00:00:40|2022-01-01 00:00:39|INTERVAL '-0 00:00:01' DAY TO SECOND|\n",
            "|2022-01-01 00:00:45|2022-01-01 00:00:41|INTERVAL '-0 00:00:04' DAY TO SECOND|\n",
            "|2022-01-01 00:00:45|2022-01-01 00:00:41|INTERVAL '-0 00:00:04' DAY TO SECOND|\n",
            "+-------------------+-------------------+------------------------------------+\n",
            "only showing top 20 rows\n",
            "\n"
          ]
        }
      ]
    },
    {
      "cell_type": "code",
      "source": [
        "#converting the columns DEPARTED and ARRIVED to string datatype\n",
        "string_df=departed_time.withColumn(\"DEPARTED\",col(\"DEPARTED\").cast(\"String\")).withColumn(\"ARRIVED\",col(\"ARRIVED\").cast(\"string\"))\n",
        "string_df.printSchema()"
      ],
      "metadata": {
        "colab": {
          "base_uri": "https://localhost:8080/"
        },
        "id": "RbEEu89fW06e",
        "outputId": "64f16db2-935a-40cc-8cc4-90e4ed12c777"
      },
      "execution_count": null,
      "outputs": [
        {
          "output_type": "stream",
          "name": "stdout",
          "text": [
            "root\n",
            " |-- id: integer (nullable = true)\n",
            " |-- Gender: string (nullable = true)\n",
            " |-- Customer_Type: string (nullable = true)\n",
            " |-- Age: integer (nullable = true)\n",
            " |-- FLIGHT_NUMBER: integer (nullable = true)\n",
            " |-- Type_of_Travel: string (nullable = true)\n",
            " |-- Class: string (nullable = true)\n",
            " |-- DISTANCE_in_KM: integer (nullable = true)\n",
            " |-- Inflight_wifi_service: integer (nullable = true)\n",
            " |-- Departure/Arrival_time_convenient: integer (nullable = true)\n",
            " |-- Ease_of_Online_booking: integer (nullable = true)\n",
            " |-- Food_and_drink: integer (nullable = true)\n",
            " |-- Online_boarding: integer (nullable = true)\n",
            " |-- Seat_comfort: integer (nullable = true)\n",
            " |-- Inflight_entertainment: integer (nullable = true)\n",
            " |-- On-board_service: integer (nullable = true)\n",
            " |-- Baggage_handling: integer (nullable = true)\n",
            " |-- Checkin_service: integer (nullable = true)\n",
            " |-- Inflight_service: integer (nullable = true)\n",
            " |-- Cleanliness: integer (nullable = true)\n",
            " |-- Date_of_Board: date (nullable = true)\n",
            " |-- id_: integer (nullable = true)\n",
            " |-- AIRLINE: string (nullable = true)\n",
            " |-- FLIGHT_NUMBER_: integer (nullable = true)\n",
            " |-- TAIL_NUMBER: string (nullable = true)\n",
            " |-- ORIGIN_AIRPORT: string (nullable = true)\n",
            " |-- DESTINATION_AIRPORT: string (nullable = true)\n",
            " |-- SCHEDULED_DEPARTURE: integer (nullable = true)\n",
            " |-- DEPARTURE_TIME: integer (nullable = true)\n",
            " |-- DISTANCE_in_KM_: integer (nullable = true)\n",
            " |-- SCHEDULED_ARRIVAL: integer (nullable = true)\n",
            " |-- ARRIVAL_TIME: integer (nullable = true)\n",
            " |-- SCHED_ARRIVAL: timestamp (nullable = true)\n",
            " |-- ARR_TIME: timestamp (nullable = true)\n",
            " |-- SCHED_DEPARTURE: timestamp (nullable = true)\n",
            " |-- DEPT_TIME: timestamp (nullable = true)\n",
            " |-- ARRIVED: string (nullable = true)\n",
            " |-- DEPARTED: string (nullable = true)\n",
            "\n"
          ]
        }
      ]
    },
    {
      "cell_type": "code",
      "source": [
        "#By using the count function finding the count of same flights\n",
        "string_df.groupBy(\"FLIGHT_NUMBER\").count().sort(col(\"FLIGHT_NUMBER\")).withColumnRenamed(\"count\",\"No.of_flights\").show()"
      ],
      "metadata": {
        "id": "r84TPqhmbDJf",
        "colab": {
          "base_uri": "https://localhost:8080/"
        },
        "outputId": "dd3c7547-0fa3-4a27-a647-533b2ae8e116"
      },
      "execution_count": null,
      "outputs": [
        {
          "output_type": "stream",
          "name": "stdout",
          "text": [
            "+-------------+-------------+\n",
            "|FLIGHT_NUMBER|No.of_flights|\n",
            "+-------------+-------------+\n",
            "|           17|            1|\n",
            "|           24|            1|\n",
            "|           57|            1|\n",
            "|           72|            1|\n",
            "|           81|            1|\n",
            "|           89|            1|\n",
            "|           95|            1|\n",
            "|           98|            1|\n",
            "|           99|            1|\n",
            "|          102|            1|\n",
            "|          103|            4|\n",
            "|          107|            1|\n",
            "|          108|            4|\n",
            "|          113|            1|\n",
            "|          114|            1|\n",
            "|          115|            4|\n",
            "|          117|            1|\n",
            "|          122|            1|\n",
            "|          130|            4|\n",
            "|          133|            1|\n",
            "+-------------+-------------+\n",
            "only showing top 20 rows\n",
            "\n"
          ]
        }
      ]
    },
    {
      "cell_type": "code",
      "source": [
        "string_df.select(\"ORIGIN_AIRPORT\",\"DESTINATION_AIRPORT\",\"DISTANCE_in_KM\").show()"
      ],
      "metadata": {
        "id": "gdSPePtOeghd",
        "colab": {
          "base_uri": "https://localhost:8080/"
        },
        "outputId": "8cdfe6f7-2803-4a6f-efb4-96a254f40c55"
      },
      "execution_count": null,
      "outputs": [
        {
          "output_type": "stream",
          "name": "stdout",
          "text": [
            "+--------------+-------------------+--------------+\n",
            "|ORIGIN_AIRPORT|DESTINATION_AIRPORT|DISTANCE_in_KM|\n",
            "+--------------+-------------------+--------------+\n",
            "|           ANC|                SEA|          1448|\n",
            "|           LAX|                PBI|          1199|\n",
            "|           LAX|                PBI|          2330|\n",
            "|           SFO|                CLT|          2296|\n",
            "|           LAX|                MIA|          2342|\n",
            "|           SEA|                ANC|          1448|\n",
            "|           SFO|                MSP|          1589|\n",
            "|           LAS|                MSP|          1299|\n",
            "|           LAX|                CLT|          2125|\n",
            "|           SFO|                DFW|          1464|\n",
            "|           LAS|                ATL|          1747|\n",
            "|           DEN|                ATL|          1199|\n",
            "|           DEN|                ATL|          2330|\n",
            "|           LAS|                MIA|          2174|\n",
            "|           LAX|                MSP|          1189|\n",
            "|           LAX|                MSP|          1535|\n",
            "|           SLC|                ATL|          1590|\n",
            "|           SEA|                MSP|          1399|\n",
            "|           ANC|                SEA|           163|\n",
            "|           ANC|                SEA|          1448|\n",
            "+--------------+-------------------+--------------+\n",
            "only showing top 20 rows\n",
            "\n"
          ]
        }
      ]
    },
    {
      "cell_type": "code",
      "source": [
        "#By using WHEN condition analyzing the reason of departure delay\n",
        "#when schedule departure is equal to departure time then it Displays No Delay\n",
        "#when schedule departure is less than departure time then it Displays ON_TIME\n",
        "#when schedule departure - departure time is greater than or equals to 5 and less than or equals to 10 it displays Security delay\n",
        "#when schedule departure - departure time is greater than or equals to 10 and less than or equals to 40 it displays Airline delay \n",
        "#otherwise it displays \"Weather Delay\"\n",
        "departure_delay=string_df.withColumn(\"Reason_of_departure_delay\",when(string_df.SCHEDULED_DEPARTURE==string_df.DEPARTURE_TIME  ,\"No Delay\")\\\n",
        "                         .when(string_df.SCHEDULED_DEPARTURE<string_df.DEPARTURE_TIME,\"ON_TIME\")\\\n",
        "                         .when((string_df.SCHEDULED_DEPARTURE-string_df.DEPARTURE_TIME >=5)&(string_df.SCHEDULED_DEPARTURE-string_df.DEPARTURE_TIME <=10) ,\"Security Delay\")\\\n",
        "                         .when((string_df.SCHEDULED_DEPARTURE-string_df.DEPARTURE_TIME >=10)&(string_df.SCHEDULED_DEPARTURE-string_df.DEPARTURE_TIME <=40) ,\"Airline Delay\")\\\n",
        "                         .otherwise(\"Weather Delay\"))\n",
        "departure_delay.select(\"SCHED_DEPARTURE\",\"DEPT_TIME\",\"DEPARTED\",\"Reason_of_departure_delay\").show(truncate=0)"
      ],
      "metadata": {
        "id": "Q9oFdnjEbDBu",
        "colab": {
          "base_uri": "https://localhost:8080/"
        },
        "outputId": "5f37b339-1720-4454-d9ac-7ce86267812a"
      },
      "execution_count": null,
      "outputs": [
        {
          "output_type": "stream",
          "name": "stdout",
          "text": [
            "+-------------------+-------------------+------------------------------------+-------------------------+\n",
            "|SCHED_DEPARTURE    |DEPT_TIME          |DEPARTED                            |Reason_of_departure_delay|\n",
            "+-------------------+-------------------+------------------------------------+-------------------------+\n",
            "|2022-01-01 00:00:15|2022-01-01 00:00:04|INTERVAL '-0 00:00:11' DAY TO SECOND|Airline Delay            |\n",
            "|2022-01-01 00:00:10|2022-01-01 00:00:02|INTERVAL '-0 00:00:08' DAY TO SECOND|Security Delay           |\n",
            "|2022-01-01 00:00:10|2022-01-01 00:00:02|INTERVAL '-0 00:00:08' DAY TO SECOND|Security Delay           |\n",
            "|2022-01-01 00:00:20|2022-01-01 00:00:18|INTERVAL '-0 00:00:02' DAY TO SECOND|Weather Delay            |\n",
            "|2022-01-01 00:00:20|2022-01-01 00:00:15|INTERVAL '-0 00:00:05' DAY TO SECOND|Security Delay           |\n",
            "|2022-01-01 00:00:25|2022-01-01 00:00:24|INTERVAL '-0 00:00:01' DAY TO SECOND|Weather Delay            |\n",
            "|2022-01-01 00:00:25|2022-01-01 00:00:20|INTERVAL '-0 00:00:05' DAY TO SECOND|Security Delay           |\n",
            "|2022-01-01 00:00:25|2022-01-01 00:00:19|INTERVAL '-0 00:00:06' DAY TO SECOND|Security Delay           |\n",
            "|2022-01-01 00:00:30|2022-01-01 00:00:44|INTERVAL '0 00:00:14' DAY TO SECOND |ON_TIME                  |\n",
            "|2022-01-01 00:00:30|2022-01-01 00:00:19|INTERVAL '-0 00:00:11' DAY TO SECOND|Airline Delay            |\n",
            "|2022-01-01 00:00:30|2022-01-01 00:00:33|INTERVAL '0 00:00:03' DAY TO SECOND |ON_TIME                  |\n",
            "|2022-01-01 00:00:30|2022-01-01 00:00:24|INTERVAL '-0 00:00:06' DAY TO SECOND|Security Delay           |\n",
            "|2022-01-01 00:00:30|2022-01-01 00:00:24|INTERVAL '-0 00:00:06' DAY TO SECOND|Security Delay           |\n",
            "|2022-01-01 00:00:35|2022-01-01 00:00:27|INTERVAL '-0 00:00:08' DAY TO SECOND|Security Delay           |\n",
            "|2022-01-01 00:00:35|2022-01-01 00:00:35|INTERVAL '0 00:00:00' DAY TO SECOND |No Delay                 |\n",
            "|2022-01-01 00:00:35|2022-01-01 00:00:35|INTERVAL '0 00:00:00' DAY TO SECOND |No Delay                 |\n",
            "|2022-01-01 00:00:40|2022-01-01 00:00:34|INTERVAL '-0 00:00:06' DAY TO SECOND|Security Delay           |\n",
            "|2022-01-01 00:00:40|2022-01-01 00:00:39|INTERVAL '-0 00:00:01' DAY TO SECOND|Weather Delay            |\n",
            "|2022-01-01 00:00:45|2022-01-01 00:00:41|INTERVAL '-0 00:00:04' DAY TO SECOND|Weather Delay            |\n",
            "|2022-01-01 00:00:45|2022-01-01 00:00:41|INTERVAL '-0 00:00:04' DAY TO SECOND|Weather Delay            |\n",
            "+-------------------+-------------------+------------------------------------+-------------------------+\n",
            "only showing top 20 rows\n",
            "\n"
          ]
        }
      ]
    },
    {
      "cell_type": "code",
      "source": [
        "#By using WHEN condition analyzing the reason of arrival delay\n",
        "#when schedule arrival is equal to arrival time then it Displays No Delay\n",
        "#when arrival time is greater than schedule arrival then it Displays ON_TIME\n",
        "#when arrival time - schedule arrival is less than or equals to 5 and less than or equals to -10 it displays Weather delay\n",
        "#when arrival time - schedule arrival is less than or equals to -10 and less than or equals to -40 it displays security delay \n",
        "#otherwise it displays \"Airline Delay\"\n",
        "arrival_delay=departure_delay.withColumn(\"Reason_of_Arrival_delay\",when(string_df.ARRIVAL_TIME==string_df.SCHEDULED_ARRIVAL ,\"No Delay\").when(string_df.ARRIVAL_TIME>string_df.SCHEDULED_ARRIVAL ,\"ON_TIME\")\\\n",
        "               .when((string_df.ARRIVAL_TIME-string_df.SCHEDULED_ARRIVAL <=5)&(string_df.ARRIVAL_TIME-string_df.SCHEDULED_ARRIVAL <=-10) ,\"Weather Delay\")\\\n",
        "               .when((string_df.ARRIVAL_TIME-string_df.SCHEDULED_ARRIVAL >=-10)&(string_df.ARRIVAL_TIME-string_df.SCHEDULED_ARRIVAL>=-40) ,\"Security Delay\")\\\n",
        "               .otherwise(\"Airline Delay\"))\n",
        "\n",
        "arrival_delay.select(\"SCHED_ARRIVAL\",\"ARR_TIME\",\"ARRIVED\",\"Reason_of_Arrival_delay\").show(20,0)"
      ],
      "metadata": {
        "id": "q2t2dI3t5MdE",
        "colab": {
          "base_uri": "https://localhost:8080/"
        },
        "outputId": "d08e018e-fc2b-42a9-da7c-88fda6a087ea"
      },
      "execution_count": null,
      "outputs": [
        {
          "output_type": "stream",
          "name": "stdout",
          "text": [
            "+-------------------+-------------------+------------------------------------+-----------------------+\n",
            "|SCHED_ARRIVAL      |ARR_TIME           |ARRIVED                             |Reason_of_Arrival_delay|\n",
            "+-------------------+-------------------+------------------------------------+-----------------------+\n",
            "|2022-01-01 00:07:10|2022-01-01 00:06:48|INTERVAL '-0 00:00:22' DAY TO SECOND|Weather Delay          |\n",
            "|2022-01-01 00:12:30|2022-01-01 00:12:21|INTERVAL '-0 00:00:09' DAY TO SECOND|Security Delay         |\n",
            "|2022-01-01 00:12:30|2022-01-01 00:12:21|INTERVAL '-0 00:00:09' DAY TO SECOND|Security Delay         |\n",
            "|2022-01-01 00:13:26|2022-01-01 00:13:31|INTERVAL '0 00:00:05' DAY TO SECOND |ON_TIME                |\n",
            "|2022-01-01 00:13:25|2022-01-01 00:12:36|INTERVAL '-0 00:00:49' DAY TO SECOND|Weather Delay          |\n",
            "|2022-01-01 00:05:20|2022-01-01 00:04:19|INTERVAL '-0 00:01:01' DAY TO SECOND|Weather Delay          |\n",
            "|2022-01-01 00:10:02|2022-01-01 00:10:10|INTERVAL '0 00:00:08' DAY TO SECOND |ON_TIME                |\n",
            "|2022-01-01 00:08:46|2022-01-01 00:08:29|INTERVAL '-0 00:00:17' DAY TO SECOND|Weather Delay          |\n",
            "|2022-01-01 00:13:23|2022-01-01 00:12:33|INTERVAL '-0 00:00:50' DAY TO SECOND|Weather Delay          |\n",
            "|2022-01-01 00:09:05|2022-01-01 00:08:52|INTERVAL '-0 00:00:13' DAY TO SECOND|Weather Delay          |\n",
            "|2022-01-01 00:11:51|2022-01-01 00:10:56|INTERVAL '-0 00:00:55' DAY TO SECOND|Weather Delay          |\n",
            "|2022-01-01 00:08:43|2022-01-01 00:07:33|INTERVAL '-0 00:01:10' DAY TO SECOND|Weather Delay          |\n",
            "|2022-01-01 00:08:43|2022-01-01 00:07:33|INTERVAL '-0 00:01:10' DAY TO SECOND|Weather Delay          |\n",
            "|2022-01-01 00:13:23|2022-01-01 00:12:33|INTERVAL '-0 00:00:50' DAY TO SECOND|Weather Delay          |\n",
            "|2022-01-01 00:10:09|2022-01-01 00:10:05|INTERVAL '-0 00:00:04' DAY TO SECOND|Security Delay         |\n",
            "|2022-01-01 00:10:09|2022-01-01 00:10:05|INTERVAL '-0 00:00:04' DAY TO SECOND|Security Delay         |\n",
            "|2022-01-01 00:10:15|2022-01-01 00:09:13|INTERVAL '-0 00:01:02' DAY TO SECOND|Weather Delay          |\n",
            "|2022-01-01 00:09:09|2022-01-01 00:09:17|INTERVAL '0 00:00:08' DAY TO SECOND |ON_TIME                |\n",
            "|2022-01-01 00:08:29|2022-01-01 00:07:35|INTERVAL '-0 00:00:54' DAY TO SECOND|Weather Delay          |\n",
            "|2022-01-01 00:08:29|2022-01-01 00:07:35|INTERVAL '-0 00:00:54' DAY TO SECOND|Weather Delay          |\n",
            "+-------------------+-------------------+------------------------------------+-----------------------+\n",
            "only showing top 20 rows\n",
            "\n"
          ]
        }
      ]
    },
    {
      "cell_type": "code",
      "source": [
        "#Finally taking the overall survey of the datasets by calculating the average of all the customer reviews\n",
        "#Adding the column Overall_Survey to display whether they are satisfied or not\n",
        "final_result=arrival_delay.withColumn(\"Overall_Survey\",when(string_df.Inflight_wifi_service+string_df.Food_and_drink+string_df.Online_boarding\\\n",
        "                                           +string_df.Seat_comfort+string_df.Inflight_entertainment+string_df.Baggage_handling\\\n",
        "                                           +string_df.Checkin_service+string_df.Inflight_service+string_df.Cleanliness >=35,\"Satisfied\")\\\n",
        "                     .otherwise(\"Not_Satisfied\"))\n",
        "final_result.select(\"FLIGHT_NUMBER\",\"Date_of_Board\",\"ORIGIN_AIRPORT\",\"DESTINATION_AIRPORT\",\"DISTANCE_in_KM\",\"Overall_Survey\").sort(col(\"FLIGHT_NUMBER\").desc()).show(50,0)"
      ],
      "metadata": {
        "colab": {
          "base_uri": "https://localhost:8080/"
        },
        "id": "vAD3cgebcsVU",
        "outputId": "e5662232-1c10-4228-9ad4-7b5ed0b02b8b"
      },
      "execution_count": null,
      "outputs": [
        {
          "output_type": "stream",
          "name": "stdout",
          "text": [
            "+-------------+-------------+--------------+-------------------+--------------+--------------+\n",
            "|FLIGHT_NUMBER|Date_of_Board|ORIGIN_AIRPORT|DESTINATION_AIRPORT|DISTANCE_in_KM|Overall_Survey|\n",
            "+-------------+-------------+--------------+-------------------+--------------+--------------+\n",
            "|7423         |2021-05-17   |INL           |BRD                |153           |Not_Satisfied |\n",
            "|7419         |2021-04-23   |ABR           |MSP                |257           |Not_Satisfied |\n",
            "|7404         |2021-04-22   |HIB           |MSP                |174           |Not_Satisfied |\n",
            "|7392         |2021-06-07   |ESC           |DTW                |306           |Not_Satisfied |\n",
            "|7389         |2021-06-22   |GCC           |RKS                |261           |Not_Satisfied |\n",
            "|7370         |2021-05-05   |BJI           |MSP                |199           |Not_Satisfied |\n",
            "|6512         |2021-05-27   |FAT           |LAX                |209           |Not_Satisfied |\n",
            "|6499         |2021-06-17   |FAR           |DEN                |627           |Satisfied     |\n",
            "|6497         |2021-06-09   |FAT           |DEN                |844           |Not_Satisfied |\n",
            "|6465         |2021-06-06   |SLC           |LAX                |590           |Satisfied     |\n",
            "|6461         |2021-06-20   |MTJ           |DEN                |196           |Not_Satisfied |\n",
            "|6457         |2021-05-12   |SMX           |LAX                |134           |Satisfied     |\n",
            "|6420         |2021-06-16   |PSP           |DEN                |776           |Satisfied     |\n",
            "|6403         |2021-06-08   |MFR           |SFO                |329           |Not_Satisfied |\n",
            "|6401         |2021-06-03   |EUG           |SFO                |451           |Satisfied     |\n",
            "|6391         |2021-05-17   |EUG           |DEN                |996           |Satisfied     |\n",
            "|6378         |2021-06-02   |CID           |ORD                |196           |Satisfied     |\n",
            "|6369         |2021-05-10   |TUS           |SFO                |751           |Not_Satisfied |\n",
            "|6360         |2021-05-09   |RAP           |DEN                |300           |Not_Satisfied |\n",
            "|6358         |2021-06-08   |IDA           |DEN                |458           |Not_Satisfied |\n",
            "|6346         |2021-06-05   |MRY           |SFO                |77            |Not_Satisfied |\n",
            "|6332         |2021-06-04   |DFW           |DEN                |641           |Not_Satisfied |\n",
            "|6285         |2021-06-06   |MFR           |DEN                |964           |Not_Satisfied |\n",
            "|6276         |2021-05-13   |FSD           |ORD                |462           |Satisfied     |\n",
            "|6261         |2021-05-31   |SAT           |SFO                |1482          |Not_Satisfied |\n",
            "|6235         |2021-05-14   |AUS           |SFO                |1504          |Satisfied     |\n",
            "|6224         |2021-06-02   |RDM           |DEN                |898           |Not_Satisfied |\n",
            "|6204         |2021-05-30   |BFL           |DEN                |845           |Not_Satisfied |\n",
            "|6143         |2021-06-22   |CWA           |ORD                |212           |Not_Satisfied |\n",
            "|6133         |2021-06-19   |ERI           |ORD                |398           |Not_Satisfied |\n",
            "|6122         |2021-06-21   |LEX           |ORD                |323           |Satisfied     |\n",
            "|6119         |2021-04-07   |RIC           |ORD                |642           |Not_Satisfied |\n",
            "|6082         |2021-06-20   |ATW           |ORD                |160           |Not_Satisfied |\n",
            "|6071         |2021-05-02   |GUC           |DEN                |152           |Not_Satisfied |\n",
            "|6020         |2021-06-13   |ISN           |DEN                |576           |Satisfied     |\n",
            "|5978         |2021-06-17   |FAR           |ORD                |557           |Not_Satisfied |\n",
            "|5976         |2021-06-15   |BUF           |EWR                |282           |Satisfied     |\n",
            "|5917         |2021-06-18   |JAN           |ORD                |677           |Satisfied     |\n",
            "|5764         |2021-05-13   |SBN           |ORD                |84            |Satisfied     |\n",
            "|5732         |2021-05-07   |CAE           |IAD                |401           |Not_Satisfied |\n",
            "|5698         |2021-05-27   |BDL           |IAD                |326           |Satisfied     |\n",
            "|5677         |2021-06-17   |GSO           |EWR                |445           |Not_Satisfied |\n",
            "|5629         |2021-06-15   |PSP           |SFO                |421           |Satisfied     |\n",
            "|5604         |2021-05-29   |ACV           |SFO                |250           |Satisfied     |\n",
            "|5592         |2021-05-28   |CPR           |DEN                |230           |Satisfied     |\n",
            "|5583         |2021-05-03   |VPS           |ATL                |250           |Satisfied     |\n",
            "|5574         |2021-05-24   |FAT           |SFO                |158           |Satisfied     |\n",
            "|5572         |2021-05-07   |MOT           |DEN                |604           |Not_Satisfied |\n",
            "|5550         |2021-05-23   |COD           |DEN                |391           |Not_Satisfied |\n",
            "|5547         |2021-06-21   |ONT           |DEN                |819           |Satisfied     |\n",
            "+-------------+-------------+--------------+-------------------+--------------+--------------+\n",
            "only showing top 50 rows\n",
            "\n"
          ]
        }
      ]
    },
    {
      "cell_type": "code",
      "source": [
        "final_result.filter(col(\"Date_of_Board\")==\"2021-06-09\").show(truncate=0)"
      ],
      "metadata": {
        "colab": {
          "base_uri": "https://localhost:8080/"
        },
        "id": "7ViQZSD21-_C",
        "outputId": "ced1d59c-d93d-45c3-9e95-89eb84f7cdf5"
      },
      "execution_count": null,
      "outputs": [
        {
          "output_type": "stream",
          "name": "stdout",
          "text": [
            "+-----+------+-----------------+---+-------------+---------------+--------+--------------+---------------------+---------------------------------+----------------------+--------------+---------------+------------+----------------------+----------------+----------------+---------------+----------------+-----------+-------------+-----+-------+--------------+-----------+--------------+-------------------+-------------------+--------------+---------------+-----------------+------------+-------------------+-------------------+-------------------+-------------------+------------------------------------+------------------------------------+-------------------------+-----------------------+--------------+\n",
            "|id   |Gender|Customer_Type    |Age|FLIGHT_NUMBER|Type_of_Travel |Class   |DISTANCE_in_KM|Inflight_wifi_service|Departure/Arrival_time_convenient|Ease_of_Online_booking|Food_and_drink|Online_boarding|Seat_comfort|Inflight_entertainment|On-board_service|Baggage_handling|Checkin_service|Inflight_service|Cleanliness|Date_of_Board|id_  |AIRLINE|FLIGHT_NUMBER_|TAIL_NUMBER|ORIGIN_AIRPORT|DESTINATION_AIRPORT|SCHEDULED_DEPARTURE|DEPARTURE_TIME|DISTANCE_in_KM_|SCHEDULED_ARRIVAL|ARRIVAL_TIME|SCHED_ARRIVAL      |ARR_TIME           |SCHED_DEPARTURE    |DEPT_TIME          |ARRIVED                             |DEPARTED                            |Reason_of_departure_delay|Reason_of_Arrival_delay|Overall_Survey|\n",
            "+-----+------+-----------------+---+-------------+---------------+--------+--------------+---------------------+---------------------------------+----------------------+--------------+---------------+------------+----------------------+----------------+----------------+---------------+----------------+-----------+-------------+-----+-------+--------------+-----------+--------------+-------------------+-------------------+--------------+---------------+-----------------+------------+-------------------+-------------------+-------------------+-------------------+------------------------------------+------------------------------------+-------------------------+-----------------------+--------------+\n",
            "|48372|Male  |Loyal Customer   |12 |17           |Personal Travel|Eco     |2762          |3                    |4                                |3                     |1             |3              |1           |1                     |3               |5               |4              |4               |1          |2021-06-09   |48372|HA     |17            |N389HA     |LAS           |HNL                |145                |145           |2762           |555              |610         |2022-01-01 00:09:15|2022-01-01 00:10:10|2022-01-01 00:02:25|2022-01-01 00:02:25|INTERVAL '0 00:00:55' DAY TO SECOND |INTERVAL '0 00:00:00' DAY TO SECOND |No Delay                 |ON_TIME                |Not_Satisfied |\n",
            "|54444|Male  |Loyal Customer   |20 |161          |Personal Travel|Eco Plus|826           |3                    |4                                |3                     |1             |3              |1           |1                     |3               |4               |4              |5               |1          |2021-06-09   |54444|F9     |161           |N905FR     |MSN           |DEN                |544                |534           |826            |709              |658         |2022-01-01 00:11:49|2022-01-01 00:10:58|2022-01-01 00:09:04|2022-01-01 00:08:54|INTERVAL '-0 00:00:51' DAY TO SECOND|INTERVAL '-0 00:00:10' DAY TO SECOND|Security Delay           |Weather Delay          |Not_Satisfied |\n",
            "|80531|Male  |Loyal Customer   |43 |1233         |Business travel|Business|1562          |1                    |1                                |2                     |3             |4              |4           |2                     |2               |2               |4              |2               |5          |2021-06-09   |80531|AA     |1233          |N3HXAA     |BOS           |DFW                |555                |551           |1562           |930              |920         |2022-01-01 00:15:30|2022-01-01 00:15:20|2022-01-01 00:09:15|2022-01-01 00:09:11|INTERVAL '-0 00:00:10' DAY TO SECOND|INTERVAL '-0 00:00:04' DAY TO SECOND|Weather Delay            |Weather Delay          |Not_Satisfied |\n",
            "|1137 |Male  |Loyal Customer   |44 |353          |Personal Travel|Eco     |1028          |4                    |4                                |4                     |2             |4              |2           |2                     |2               |1               |4              |5               |2          |2021-06-09   |1137 |B6     |353           |N570JB     |JFK           |PBI                |600                |554           |1028           |858              |836         |2022-01-01 00:14:18|2022-01-01 00:13:56|2022-01-01 00:10:00|2022-01-01 00:09:14|INTERVAL '-0 00:00:22' DAY TO SECOND|INTERVAL '-0 00:00:46' DAY TO SECOND|Weather Delay            |Weather Delay          |Not_Satisfied |\n",
            "|13221|Male  |Loyal Customer   |41 |4431         |Business travel|Eco     |708           |4                    |3                                |3                     |4             |4              |4           |4                     |2               |4               |4              |3               |4          |2021-06-09   |13221|EV     |4431          |N14158     |SAV           |EWR                |600                |726           |708            |806              |931         |2022-01-01 00:13:26|2022-01-01 00:15:31|2022-01-01 00:10:00|2022-01-01 00:12:06|INTERVAL '0 00:02:05' DAY TO SECOND |INTERVAL '0 00:02:06' DAY TO SECOND |ON_TIME                  |ON_TIME                |Satisfied     |\n",
            "|41414|Male  |Loyal Customer   |7  |6497         |Personal Travel|Eco     |844           |2                    |4                                |2                     |2             |2              |2           |2                     |5               |5               |5              |4               |2          |2021-06-09   |41414|OO     |6497          |N913SW     |FAT           |DEN                |600                |559           |844            |925              |958         |2022-01-01 00:15:25|2022-01-01 00:15:58|2022-01-01 00:10:00|2022-01-01 00:09:19|INTERVAL '0 00:00:33' DAY TO SECOND |INTERVAL '-0 00:00:41' DAY TO SECOND|Weather Delay            |ON_TIME                |Not_Satisfied |\n",
            "|7645 |Male  |disloyal Customer|50 |2881         |Business travel|Business|227           |2                    |2                                |2                     |1             |2              |1           |1                     |3               |5               |4              |5               |1          |2021-06-09   |7645 |MQ     |2881          |N907MQ     |FSM           |DFW                |605                |0             |227            |715              |0           |2022-01-01 00:11:55|2022-01-01 00:00:00|2022-01-01 00:10:05|2022-01-01 00:00:00|INTERVAL '-0 00:11:55' DAY TO SECOND|INTERVAL '-0 00:10:05' DAY TO SECOND|Weather Delay            |Weather Delay          |Not_Satisfied |\n",
            "|7742 |Male  |Loyal Customer   |25 |2572         |Personal Travel|Eco     |69            |3                    |3                                |3                     |3             |3              |5           |3                     |4               |5               |2              |4               |3          |2021-06-09   |7742 |EV     |2572          |N876AS     |PIB           |MEI                |615                |607           |69             |700              |649         |2022-01-01 00:11:40|2022-01-01 00:10:49|2022-01-01 00:10:15|2022-01-01 00:10:07|INTERVAL '-0 00:00:51' DAY TO SECOND|INTERVAL '-0 00:00:08' DAY TO SECOND|Security Delay           |Weather Delay          |Not_Satisfied |\n",
            "+-----+------+-----------------+---+-------------+---------------+--------+--------------+---------------------+---------------------------------+----------------------+--------------+---------------+------------+----------------------+----------------+----------------+---------------+----------------+-----------+-------------+-----+-------+--------------+-----------+--------------+-------------------+-------------------+--------------+---------------+-----------------+------------+-------------------+-------------------+-------------------+-------------------+------------------------------------+------------------------------------+-------------------------+-----------------------+--------------+\n",
            "\n"
          ]
        }
      ]
    },
    {
      "cell_type": "code",
      "source": [
        "final_result=final_result.withColumn('__current',lit(\"000\").cast(\"boolean\")).withColumn(\"__content_key_hash\",lit(\"75391\")).withColumn(\"__business_key_hash\",lit(\"2345\"))\\\n",
        "         .withColumn(\"__deactivation_datetime\",lit(False)).withColumn(\"__is_historical\",lit(True).cast(\"boolean\"))"
      ],
      "metadata": {
        "id": "oBNGjTys4XrH"
      },
      "execution_count": null,
      "outputs": []
    },
    {
      "cell_type": "code",
      "source": [
        "final_result=final_result.drop(\"__input_file_name\")"
      ],
      "metadata": {
        "id": "RlstXrfDE_UP"
      },
      "execution_count": null,
      "outputs": []
    },
    {
      "cell_type": "code",
      "source": [
        "final_result.write.format(\"parquet\").mode(\"overwrite\").save(\"airproject\")"
      ],
      "metadata": {
        "id": "jKpjbNu-kgWu"
      },
      "execution_count": null,
      "outputs": []
    },
    {
      "cell_type": "code",
      "source": [
        "spark.read.format(\"parquet\").load(\"airproject\").show(truncate=0)"
      ],
      "metadata": {
        "id": "KKPEmAnEHGDA",
        "colab": {
          "base_uri": "https://localhost:8080/"
        },
        "outputId": "4beedcb5-2c6c-46ef-df15-b1bb15d26f9d"
      },
      "execution_count": null,
      "outputs": [
        {
          "output_type": "stream",
          "name": "stdout",
          "text": [
            "+------+------+-----------------+---+-------------+---------------+--------+--------------+---------------------+---------------------------------+----------------------+--------------+---------------+------------+----------------------+----------------+----------------+---------------+----------------+-----------+-------------+------+-------+--------------+-----------+--------------+-------------------+-------------------+--------------+---------------+-----------------+------------+-------------------+-------------------+-------------------+-------------------+------------------------------------+------------------------------------+-------------------------+-----------------------+--------------+---------+------------------+-------------------+-----------------------+---------------+\n",
            "|id    |Gender|Customer_Type    |Age|FLIGHT_NUMBER|Type_of_Travel |Class   |DISTANCE_in_KM|Inflight_wifi_service|Departure/Arrival_time_convenient|Ease_of_Online_booking|Food_and_drink|Online_boarding|Seat_comfort|Inflight_entertainment|On-board_service|Baggage_handling|Checkin_service|Inflight_service|Cleanliness|Date_of_Board|id_   |AIRLINE|FLIGHT_NUMBER_|TAIL_NUMBER|ORIGIN_AIRPORT|DESTINATION_AIRPORT|SCHEDULED_DEPARTURE|DEPARTURE_TIME|DISTANCE_in_KM_|SCHEDULED_ARRIVAL|ARRIVAL_TIME|SCHED_ARRIVAL      |ARR_TIME           |SCHED_DEPARTURE    |DEPT_TIME          |ARRIVED                             |DEPARTED                            |Reason_of_departure_delay|Reason_of_Arrival_delay|Overall_Survey|__current|__content_key_hash|__business_key_hash|__deactivation_datetime|__is_historical|\n",
            "+------+------+-----------------+---+-------------+---------------+--------+--------------+---------------------+---------------------------------+----------------------+--------------+---------------+------------+----------------------+----------------+----------------+---------------+----------------+-----------+-------------+------+-------+--------------+-----------+--------------+-------------------+-------------------+--------------+---------------+-----------------+------------+-------------------+-------------------+-------------------+-------------------+------------------------------------+------------------------------------+-------------------------+-----------------------+--------------+---------+------------------+-------------------+-----------------------+---------------+\n",
            "|19556 |Female|Loyal Customer   |52 |98           |Business travel|Eco     |1448          |5                    |4                                |3                     |3             |4              |3           |5                     |5               |5               |2              |5               |5          |2021-05-05   |19556 |AS     |98            |N407AS     |ANC           |SEA                |15                 |4             |1448           |430              |408         |2022-01-01 00:07:10|2022-01-01 00:06:48|2022-01-01 00:00:15|2022-01-01 00:00:04|INTERVAL '-0 00:00:22' DAY TO SECOND|INTERVAL '-0 00:00:11' DAY TO SECOND|Airline Delay            |Weather Delay          |Satisfied     |null     |75391             |2345               |false                  |true           |\n",
            "|90035 |Female|Loyal Customer   |36 |2336         |Business travel|Business|2330          |1                    |1                                |3                     |5             |4              |5           |4                     |4               |4               |3              |4               |5          |2021-05-06   |47583 |DL     |2336          |N958DN     |DEN           |ATL                |30                 |24            |1199           |523              |453         |2022-01-01 00:08:43|2022-01-01 00:07:33|2022-01-01 00:00:30|2022-01-01 00:00:24|INTERVAL '-0 00:01:10' DAY TO SECOND|INTERVAL '-0 00:00:06' DAY TO SECOND|Security Delay           |Weather Delay          |Satisfied     |null     |75391             |2345               |false                  |true           |\n",
            "|90035 |Female|Loyal Customer   |36 |2336         |Business travel|Business|2330          |1                    |1                                |3                     |5             |4              |5           |4                     |4               |4               |3              |4               |5          |2021-05-06   |90035 |AA     |2336          |N3KUAA     |LAX           |PBI                |10                 |2             |2330           |750              |741         |2022-01-01 00:12:30|2022-01-01 00:12:21|2022-01-01 00:00:10|2022-01-01 00:00:02|INTERVAL '-0 00:00:09' DAY TO SECOND|INTERVAL '-0 00:00:08' DAY TO SECOND|Security Delay           |Security Delay         |Satisfied     |null     |75391             |2345               |false                  |true           |\n",
            "|12360 |Male  |disloyal Customer|20 |840          |Business travel|Eco     |2296          |2                    |0                                |2                     |2             |2              |2           |2                     |4               |3               |2              |2               |2          |2021-05-07   |12360 |US     |840           |N171US     |SFO           |CLT                |20                 |18            |2296           |806              |811         |2022-01-01 00:13:26|2022-01-01 00:13:31|2022-01-01 00:00:20|2022-01-01 00:00:18|INTERVAL '0 00:00:05' DAY TO SECOND |INTERVAL '-0 00:00:02' DAY TO SECOND|Weather Delay            |ON_TIME                |Not_Satisfied |null     |75391             |2345               |false                  |true           |\n",
            "|77959 |Male  |Loyal Customer   |44 |258          |Business travel|Business|2342          |0                    |0                                |0                     |3             |4              |4           |1                     |1               |1               |3              |1               |4          |2021-05-08   |77959 |AA     |258           |N3HYAA     |LAX           |MIA                |20                 |15            |2342           |805              |756         |2022-01-01 00:13:25|2022-01-01 00:12:36|2022-01-01 00:00:20|2022-01-01 00:00:15|INTERVAL '-0 00:00:49' DAY TO SECOND|INTERVAL '-0 00:00:05' DAY TO SECOND|Security Delay           |Weather Delay          |Not_Satisfied |null     |75391             |2345               |false                  |true           |\n",
            "|36875 |Female|Loyal Customer   |49 |135          |Business travel|Eco     |1448          |2                    |3                                |4                     |4             |1              |2           |2                     |2               |2               |4              |2               |4          |2021-05-09   |36875 |AS     |135           |N527AS     |SEA           |ANC                |25                 |24            |1448           |320              |259         |2022-01-01 00:05:20|2022-01-01 00:04:19|2022-01-01 00:00:25|2022-01-01 00:00:24|INTERVAL '-0 00:01:01' DAY TO SECOND|INTERVAL '-0 00:00:01' DAY TO SECOND|Weather Delay            |Weather Delay          |Not_Satisfied |null     |75391             |2345               |false                  |true           |\n",
            "|39177 |Male  |Loyal Customer   |16 |806          |Business travel|Eco     |1589          |3                    |3                                |3                     |5             |5              |3           |5                     |4               |1               |1              |2               |5          |2021-05-10   |39177 |DL     |806           |N3730B     |SFO           |MSP                |25                 |20            |1589           |602              |610         |2022-01-01 00:10:02|2022-01-01 00:10:10|2022-01-01 00:00:25|2022-01-01 00:00:20|INTERVAL '0 00:00:08' DAY TO SECOND |INTERVAL '-0 00:00:05' DAY TO SECOND|Security Delay           |ON_TIME                |Not_Satisfied |null     |75391             |2345               |false                  |true           |\n",
            "|79433 |Female|Loyal Customer   |77 |612          |Business travel|Business|1299          |5                    |5                                |5                     |3             |5              |5           |5                     |5               |5               |4              |5               |3          |2021-05-11   |79433 |NK     |612           |N635NK     |LAS           |MSP                |25                 |19            |1299           |526              |509         |2022-01-01 00:08:46|2022-01-01 00:08:29|2022-01-01 00:00:25|2022-01-01 00:00:19|INTERVAL '-0 00:00:17' DAY TO SECOND|INTERVAL '-0 00:00:06' DAY TO SECOND|Security Delay           |Weather Delay          |Satisfied     |null     |75391             |2345               |false                  |true           |\n",
            "|97286 |Female|Loyal Customer   |43 |2013         |Business travel|Business|2125          |2                    |2                                |2                     |4             |4              |5           |4                     |4               |4               |5              |4               |3          |2021-05-12   |97286 |US     |2013          |N584UW     |LAX           |CLT                |30                 |44            |2125           |803              |753         |2022-01-01 00:13:23|2022-01-01 00:12:33|2022-01-01 00:00:30|2022-01-01 00:00:44|INTERVAL '-0 00:00:50' DAY TO SECOND|INTERVAL '0 00:00:14' DAY TO SECOND |ON_TIME                  |Weather Delay          |Satisfied     |null     |75391             |2345               |false                  |true           |\n",
            "|27508 |Male  |Loyal Customer   |47 |1112         |Business travel|Eco     |1464          |5                    |2                                |2                     |5             |5              |5           |5                     |2               |5               |3              |3               |5          |2021-05-13   |27508 |AA     |1112          |N3LAAA     |SFO           |DFW                |30                 |19            |1464           |545              |532         |2022-01-01 00:09:05|2022-01-01 00:08:52|2022-01-01 00:00:30|2022-01-01 00:00:19|INTERVAL '-0 00:00:13' DAY TO SECOND|INTERVAL '-0 00:00:11' DAY TO SECOND|Airline Delay            |Weather Delay          |Satisfied     |null     |75391             |2345               |false                  |true           |\n",
            "|62482 |Female|Loyal Customer   |46 |1173         |Business travel|Business|1747          |2                    |2                                |2                     |3             |4              |4           |4                     |4               |4               |5              |4               |4          |2021-05-14   |62482 |DL     |1173          |N826DN     |LAS           |ATL                |30                 |33            |1747           |711              |656         |2022-01-01 00:11:51|2022-01-01 00:10:56|2022-01-01 00:00:30|2022-01-01 00:00:33|INTERVAL '-0 00:00:55' DAY TO SECOND|INTERVAL '0 00:00:03' DAY TO SECOND |ON_TIME                  |Weather Delay          |Not_Satisfied |null     |75391             |2345               |false                  |true           |\n",
            "|47583 |Female|Loyal Customer   |47 |2336         |Business travel|Eco     |1199          |4                    |1                                |1                     |5             |1              |5           |3                     |3               |3               |1              |3               |4          |2021-05-15   |47583 |DL     |2336          |N958DN     |DEN           |ATL                |30                 |24            |1199           |523              |453         |2022-01-01 00:08:43|2022-01-01 00:07:33|2022-01-01 00:00:30|2022-01-01 00:00:24|INTERVAL '-0 00:01:10' DAY TO SECOND|INTERVAL '-0 00:00:06' DAY TO SECOND|Security Delay           |Weather Delay          |Not_Satisfied |null     |75391             |2345               |false                  |true           |\n",
            "|47583 |Female|Loyal Customer   |47 |2336         |Business travel|Eco     |1199          |4                    |1                                |1                     |5             |1              |5           |3                     |3               |3               |1              |3               |4          |2021-05-15   |90035 |AA     |2336          |N3KUAA     |LAX           |PBI                |10                 |2             |2330           |750              |741         |2022-01-01 00:12:30|2022-01-01 00:12:21|2022-01-01 00:00:10|2022-01-01 00:00:02|INTERVAL '-0 00:00:09' DAY TO SECOND|INTERVAL '-0 00:00:08' DAY TO SECOND|Security Delay           |Security Delay         |Not_Satisfied |null     |75391             |2345               |false                  |true           |\n",
            "|115550|Female|Loyal Customer   |33 |1674         |Business travel|Business|2174          |2                    |5                                |5                     |1             |3              |4           |2                     |2               |2               |3              |2               |4          |2021-05-16   |115550|AA     |1674          |N853AA     |LAS           |MIA                |35                 |27            |2174           |803              |753         |2022-01-01 00:13:23|2022-01-01 00:12:33|2022-01-01 00:00:35|2022-01-01 00:00:27|INTERVAL '-0 00:00:50' DAY TO SECOND|INTERVAL '-0 00:00:08' DAY TO SECOND|Security Delay           |Weather Delay          |Not_Satisfied |null     |75391             |2345               |false                  |true           |\n",
            "|119987|Female|Loyal Customer   |46 |1434         |Business travel|Business|1535          |5                    |5                                |5                     |4             |5              |5           |5                     |5               |5               |5              |5               |3          |2021-05-17   |33413 |B6     |1434          |N503JB     |SJU           |MCO                |605                |738           |1189           |813              |941         |2022-01-01 00:13:33|2022-01-01 00:15:41|2022-01-01 00:10:05|2022-01-01 00:12:18|INTERVAL '0 00:02:08' DAY TO SECOND |INTERVAL '0 00:02:13' DAY TO SECOND |ON_TIME                  |ON_TIME                |Satisfied     |null     |75391             |2345               |false                  |true           |\n",
            "|119987|Female|Loyal Customer   |46 |1434         |Business travel|Business|1535          |5                    |5                                |5                     |4             |5              |5           |5                     |5               |5               |5              |5               |3          |2021-05-17   |119987|DL     |1434          |N547US     |LAX           |MSP                |35                 |35            |1535           |609              |605         |2022-01-01 00:10:09|2022-01-01 00:10:05|2022-01-01 00:00:35|2022-01-01 00:00:35|INTERVAL '-0 00:00:04' DAY TO SECOND|INTERVAL '0 00:00:00' DAY TO SECOND |No Delay                 |Security Delay         |Satisfied     |null     |75391             |2345               |false                  |true           |\n",
            "|42141 |Female|Loyal Customer   |60 |2324         |Business travel|Business|1590          |1                    |1                                |4                     |5             |5              |4           |5                     |5               |5               |3              |5               |5          |2021-05-18   |42141 |DL     |2324          |N3751B     |SLC           |ATL                |40                 |34            |1590           |615              |553         |2022-01-01 00:10:15|2022-01-01 00:09:13|2022-01-01 00:00:40|2022-01-01 00:00:34|INTERVAL '-0 00:01:02' DAY TO SECOND|INTERVAL '-0 00:00:06' DAY TO SECOND|Security Delay           |Weather Delay          |Satisfied     |null     |75391             |2345               |false                  |true           |\n",
            "|2274  |Female|Loyal Customer   |52 |2440         |Business travel|Business|1399          |2                    |2                                |2                     |5             |5              |4           |4                     |4               |4               |3              |4               |5          |2021-05-19   |2274  |DL     |2440          |N651DL     |SEA           |MSP                |40                 |39            |1399           |549              |557         |2022-01-01 00:09:09|2022-01-01 00:09:17|2022-01-01 00:00:40|2022-01-01 00:00:39|INTERVAL '0 00:00:08' DAY TO SECOND |INTERVAL '-0 00:00:01' DAY TO SECOND|Weather Delay            |ON_TIME                |Satisfied     |null     |75391             |2345               |false                  |true           |\n",
            "|22470 |Male  |Loyal Customer   |50 |108          |Personal Travel|Eco     |1448          |3                    |4                                |0                     |2             |0              |2           |2                     |4               |4               |4              |5               |2          |2021-05-20   |738   |HA     |108           |N476HA     |HNL           |KOA                |502                |501           |163            |544              |549         |2022-01-01 00:09:04|2022-01-01 00:09:09|2022-01-01 00:08:22|2022-01-01 00:08:21|INTERVAL '0 00:00:05' DAY TO SECOND |INTERVAL '-0 00:00:01' DAY TO SECOND|Weather Delay            |ON_TIME                |Not_Satisfied |null     |75391             |2345               |false                  |true           |\n",
            "|22470 |Male  |Loyal Customer   |50 |108          |Personal Travel|Eco     |1448          |3                    |4                                |0                     |2             |0              |2           |2                     |4               |4               |4              |5               |2          |2021-05-20   |22470 |AS     |108           |N309AS     |ANC           |SEA                |45                 |41            |1448           |509              |455         |2022-01-01 00:08:29|2022-01-01 00:07:35|2022-01-01 00:00:45|2022-01-01 00:00:41|INTERVAL '-0 00:00:54' DAY TO SECOND|INTERVAL '-0 00:00:04' DAY TO SECOND|Weather Delay            |Weather Delay          |Not_Satisfied |null     |75391             |2345               |false                  |true           |\n",
            "+------+------+-----------------+---+-------------+---------------+--------+--------------+---------------------+---------------------------------+----------------------+--------------+---------------+------------+----------------------+----------------+----------------+---------------+----------------+-----------+-------------+------+-------+--------------+-----------+--------------+-------------------+-------------------+--------------+---------------+-----------------+------------+-------------------+-------------------+-------------------+-------------------+------------------------------------+------------------------------------+-------------------------+-----------------------+--------------+---------+------------------+-------------------+-----------------------+---------------+\n",
            "only showing top 20 rows\n",
            "\n"
          ]
        }
      ]
    },
    {
      "cell_type": "code",
      "source": [
        "final_result.write.format(\"delta\").mode(\"overwrite\").option(\"header\",True).partitionBy(\"Overall_Survey\").save(\"final_result2\")"
      ],
      "metadata": {
        "id": "D9DhXhMjvJGC"
      },
      "execution_count": null,
      "outputs": []
    },
    {
      "cell_type": "code",
      "source": [
        "spark.read.format(\"delta\").option(\"header\",True).load(\"final_result2\").show()"
      ],
      "metadata": {
        "id": "6jpn4FYhwMKW",
        "colab": {
          "base_uri": "https://localhost:8080/"
        },
        "outputId": "5ea83831-fa37-42dc-df60-d358c81bd8f2"
      },
      "execution_count": null,
      "outputs": [
        {
          "output_type": "stream",
          "name": "stdout",
          "text": [
            "+------+------+--------------+---+-------------+---------------+--------+--------------+---------------------+---------------------------------+----------------------+--------------+---------------+------------+----------------------+----------------+----------------+---------------+----------------+-----------+-------------+------+-------+--------------+-----------+--------------+-------------------+-------------------+--------------+---------------+-----------------+------------+-------------------+-------------------+-------------------+-------------------+--------------------+--------------------+-------------------------+-----------------------+--------------+---------+------------------+-------------------+-----------------------+---------------+\n",
            "|    id|Gender| Customer_Type|Age|FLIGHT_NUMBER| Type_of_Travel|   Class|DISTANCE_in_KM|Inflight_wifi_service|Departure/Arrival_time_convenient|Ease_of_Online_booking|Food_and_drink|Online_boarding|Seat_comfort|Inflight_entertainment|On-board_service|Baggage_handling|Checkin_service|Inflight_service|Cleanliness|Date_of_Board|   id_|AIRLINE|FLIGHT_NUMBER_|TAIL_NUMBER|ORIGIN_AIRPORT|DESTINATION_AIRPORT|SCHEDULED_DEPARTURE|DEPARTURE_TIME|DISTANCE_in_KM_|SCHEDULED_ARRIVAL|ARRIVAL_TIME|      SCHED_ARRIVAL|           ARR_TIME|    SCHED_DEPARTURE|          DEPT_TIME|             ARRIVED|            DEPARTED|Reason_of_departure_delay|Reason_of_Arrival_delay|Overall_Survey|__current|__content_key_hash|__business_key_hash|__deactivation_datetime|__is_historical|\n",
            "+------+------+--------------+---+-------------+---------------+--------+--------------+---------------------+---------------------------------+----------------------+--------------+---------------+------------+----------------------+----------------+----------------+---------------+----------------+-----------+-------------+------+-------+--------------+-----------+--------------+-------------------+-------------------+--------------+---------------+-----------------+------------+-------------------+-------------------+-------------------+-------------------+--------------------+--------------------+-------------------------+-----------------------+--------------+---------+------------------+-------------------+-----------------------+---------------+\n",
            "| 19556|Female|Loyal Customer| 52|           98|Business travel|     Eco|          1448|                    5|                                4|                     3|             3|              4|           3|                     5|               5|               5|              2|               5|          5|   2021-05-05| 19556|     AS|            98|     N407AS|           ANC|                SEA|                 15|             4|           1448|              430|         408|2022-01-01 00:07:10|2022-01-01 00:06:48|2022-01-01 00:00:15|2022-01-01 00:00:04|INTERVAL '-0 00:0...|INTERVAL '-0 00:0...|            Airline Delay|          Weather Delay|     Satisfied|     null|             75391|               2345|                  false|           true|\n",
            "| 90035|Female|Loyal Customer| 36|         2336|Business travel|Business|          2330|                    1|                                1|                     3|             5|              4|           5|                     4|               4|               4|              3|               4|          5|   2021-05-06| 47583|     DL|          2336|     N958DN|           DEN|                ATL|                 30|            24|           1199|              523|         453|2022-01-01 00:08:43|2022-01-01 00:07:33|2022-01-01 00:00:30|2022-01-01 00:00:24|INTERVAL '-0 00:0...|INTERVAL '-0 00:0...|           Security Delay|          Weather Delay|     Satisfied|     null|             75391|               2345|                  false|           true|\n",
            "| 90035|Female|Loyal Customer| 36|         2336|Business travel|Business|          2330|                    1|                                1|                     3|             5|              4|           5|                     4|               4|               4|              3|               4|          5|   2021-05-06| 90035|     AA|          2336|     N3KUAA|           LAX|                PBI|                 10|             2|           2330|              750|         741|2022-01-01 00:12:30|2022-01-01 00:12:21|2022-01-01 00:00:10|2022-01-01 00:00:02|INTERVAL '-0 00:0...|INTERVAL '-0 00:0...|           Security Delay|         Security Delay|     Satisfied|     null|             75391|               2345|                  false|           true|\n",
            "| 79433|Female|Loyal Customer| 77|          612|Business travel|Business|          1299|                    5|                                5|                     5|             3|              5|           5|                     5|               5|               5|              4|               5|          3|   2021-05-11| 79433|     NK|           612|     N635NK|           LAS|                MSP|                 25|            19|           1299|              526|         509|2022-01-01 00:08:46|2022-01-01 00:08:29|2022-01-01 00:00:25|2022-01-01 00:00:19|INTERVAL '-0 00:0...|INTERVAL '-0 00:0...|           Security Delay|          Weather Delay|     Satisfied|     null|             75391|               2345|                  false|           true|\n",
            "| 97286|Female|Loyal Customer| 43|         2013|Business travel|Business|          2125|                    2|                                2|                     2|             4|              4|           5|                     4|               4|               4|              5|               4|          3|   2021-05-12| 97286|     US|          2013|     N584UW|           LAX|                CLT|                 30|            44|           2125|              803|         753|2022-01-01 00:13:23|2022-01-01 00:12:33|2022-01-01 00:00:30|2022-01-01 00:00:44|INTERVAL '-0 00:0...|INTERVAL '0 00:00...|                  ON_TIME|          Weather Delay|     Satisfied|     null|             75391|               2345|                  false|           true|\n",
            "| 27508|  Male|Loyal Customer| 47|         1112|Business travel|     Eco|          1464|                    5|                                2|                     2|             5|              5|           5|                     5|               2|               5|              3|               3|          5|   2021-05-13| 27508|     AA|          1112|     N3LAAA|           SFO|                DFW|                 30|            19|           1464|              545|         532|2022-01-01 00:09:05|2022-01-01 00:08:52|2022-01-01 00:00:30|2022-01-01 00:00:19|INTERVAL '-0 00:0...|INTERVAL '-0 00:0...|            Airline Delay|          Weather Delay|     Satisfied|     null|             75391|               2345|                  false|           true|\n",
            "|119987|Female|Loyal Customer| 46|         1434|Business travel|Business|          1535|                    5|                                5|                     5|             4|              5|           5|                     5|               5|               5|              5|               5|          3|   2021-05-17| 33413|     B6|          1434|     N503JB|           SJU|                MCO|                605|           738|           1189|              813|         941|2022-01-01 00:13:33|2022-01-01 00:15:41|2022-01-01 00:10:05|2022-01-01 00:12:18|INTERVAL '0 00:02...|INTERVAL '0 00:02...|                  ON_TIME|                ON_TIME|     Satisfied|     null|             75391|               2345|                  false|           true|\n",
            "|119987|Female|Loyal Customer| 46|         1434|Business travel|Business|          1535|                    5|                                5|                     5|             4|              5|           5|                     5|               5|               5|              5|               5|          3|   2021-05-17|119987|     DL|          1434|     N547US|           LAX|                MSP|                 35|            35|           1535|              609|         605|2022-01-01 00:10:09|2022-01-01 00:10:05|2022-01-01 00:00:35|2022-01-01 00:00:35|INTERVAL '-0 00:0...|INTERVAL '0 00:00...|                 No Delay|         Security Delay|     Satisfied|     null|             75391|               2345|                  false|           true|\n",
            "| 42141|Female|Loyal Customer| 60|         2324|Business travel|Business|          1590|                    1|                                1|                     4|             5|              5|           4|                     5|               5|               5|              3|               5|          5|   2021-05-18| 42141|     DL|          2324|     N3751B|           SLC|                ATL|                 40|            34|           1590|              615|         553|2022-01-01 00:10:15|2022-01-01 00:09:13|2022-01-01 00:00:40|2022-01-01 00:00:34|INTERVAL '-0 00:0...|INTERVAL '-0 00:0...|           Security Delay|          Weather Delay|     Satisfied|     null|             75391|               2345|                  false|           true|\n",
            "|  2274|Female|Loyal Customer| 52|         2440|Business travel|Business|          1399|                    2|                                2|                     2|             5|              5|           4|                     4|               4|               4|              3|               4|          5|   2021-05-19|  2274|     DL|          2440|     N651DL|           SEA|                MSP|                 40|            39|           1399|              549|         557|2022-01-01 00:09:09|2022-01-01 00:09:17|2022-01-01 00:00:40|2022-01-01 00:00:39|INTERVAL '0 00:00...|INTERVAL '-0 00:0...|            Weather Delay|                ON_TIME|     Satisfied|     null|             75391|               2345|                  false|           true|\n",
            "| 17836|  Male|Loyal Customer| 52|         1197|Personal Travel|Eco Plus|          1635|                    5|                                4|                     5|             4|              5|           4|                     4|               3|               5|              4|               5|          4|   2021-05-22| 17836|     UA|          1197|     N78448|           SFO|                IAH|                 48|            42|           1635|              626|         619|2022-01-01 00:10:26|2022-01-01 00:10:19|2022-01-01 00:00:48|2022-01-01 00:00:42|INTERVAL '-0 00:0...|INTERVAL '-0 00:0...|           Security Delay|         Security Delay|     Satisfied|     null|             75391|               2345|                  false|           true|\n",
            "| 76872|Female|Loyal Customer| 43|          122|Personal Travel|     Eco|          1542|                    3|                                4|                     3|             4|              4|           5|                     5|               5|               5|              4|               5|          3|   2021-05-23| 76872|     AS|           122|     N413AS|           ANC|                PDX|                 50|            46|           1542|              525|         507|2022-01-01 00:08:45|2022-01-01 00:08:27|2022-01-01 00:00:50|2022-01-01 00:00:46|INTERVAL '-0 00:0...|INTERVAL '-0 00:0...|            Weather Delay|          Weather Delay|     Satisfied|     null|             75391|               2345|                  false|           true|\n",
            "| 64287|Female|Loyal Customer| 50|         1670|Business travel|Business|          1426|                    5|                                5|                     5|             4|              5|           4|                     4|               4|               4|              5|               4|          5|   2021-05-24| 64287|     DL|          1670|     N806DN|           PDX|                MSP|                 50|            45|           1426|              603|         551|2022-01-01 00:10:03|2022-01-01 00:09:11|2022-01-01 00:00:50|2022-01-01 00:00:45|INTERVAL '-0 00:0...|INTERVAL '-0 00:0...|           Security Delay|          Weather Delay|     Satisfied|     null|             75391|               2345|                  false|           true|\n",
            "| 63995|  Male|Loyal Customer| 60|          520|Business travel|Business|          1139|                    4|                                4|                     4|             2|              4|           5|                     5|               5|               5|              5|               5|          5|   2021-05-25| 63995|     NK|           520|     N525NK|           LAS|                MCI|                 55|           120|           1139|              537|         543|2022-01-01 00:08:57|2022-01-01 00:09:03|2022-01-01 00:00:55|2022-01-01 00:02:00|INTERVAL '0 00:00...|INTERVAL '0 00:01...|                  ON_TIME|                ON_TIME|     Satisfied|     null|             75391|               2345|                  false|           true|\n",
            "|121658|  Male|Loyal Customer| 44|          413|Business travel|Business|          1916|                    3|                                5|                     3|             5|              4|           5|                     5|               5|               5|              5|               5|          5|   2021-06-02|121658|     US|           413|     N571UW|           LAS|                CLT|                120|           110|           1916|              825|         754|2022-01-01 00:13:45|2022-01-01 00:12:34|2022-01-01 00:02:00|2022-01-01 00:01:50|INTERVAL '-0 00:0...|INTERVAL '-0 00:0...|           Security Delay|          Weather Delay|     Satisfied|     null|             75391|               2345|                  false|           true|\n",
            "| 75241|  Male|Loyal Customer| 22|           95|Personal Travel|     Eco|          1590|                    4|                                5|                     4|             5|              4|           5|                     5|               5|               4|              4|               4|          5|   2021-06-07| 75241|     DL|            95|     N320US|           SLC|                ATL|                140|           134|           1590|              715|         725|2022-01-01 00:11:55|2022-01-01 00:12:05|2022-01-01 00:02:20|2022-01-01 00:02:14|INTERVAL '0 00:00...|INTERVAL '-0 00:0...|           Security Delay|                ON_TIME|     Satisfied|     null|             75391|               2345|                  false|           true|\n",
            "| 12312|Female|Loyal Customer| 53|          298|Business travel|     Eco|          1222|                    5|                                2|                     2|             3|              4|           2|                     5|               5|               5|              2|               5|          4|   2021-06-08| 12312|     NK|           298|     N514NK|           LAS|                IAH|                144|           140|           1222|              634|         630|2022-01-01 00:10:34|2022-01-01 00:10:30|2022-01-01 00:02:24|2022-01-01 00:02:20|INTERVAL '-0 00:0...|INTERVAL '-0 00:0...|            Weather Delay|         Security Delay|     Satisfied|     null|             75391|               2345|                  false|           true|\n",
            "| 51477|Female|Loyal Customer| 39|          617|Business travel|Business|          2552|                    3|                                3|                     3|             2|              4|           5|                     4|               4|               4|              4|               4|          5|   2021-06-10| 51477|     US|           617|     N804AW|           ANC|                PHX|                152|           143|           2552|              915|         905|2022-01-01 00:15:15|2022-01-01 00:15:05|2022-01-01 00:02:32|2022-01-01 00:02:23|INTERVAL '-0 00:0...|INTERVAL '-0 00:0...|           Security Delay|          Weather Delay|     Satisfied|     null|             75391|               2345|                  false|           true|\n",
            "| 84204|Female|Loyal Customer| 55|         1528|Business travel|Business|          1608|                    1|                                1|                     1|             3|              5|           4|                     5|               5|               5|              3|               5|          5|   2021-06-11| 84204|     UA|          1528|     N76519|           SJU|                EWR|                154|           157|           1608|              509|         458|2022-01-01 00:08:29|2022-01-01 00:07:38|2022-01-01 00:02:34|2022-01-01 00:02:37|INTERVAL '-0 00:0...|INTERVAL '0 00:00...|                  ON_TIME|          Weather Delay|     Satisfied|     null|             75391|               2345|                  false|           true|\n",
            "|101991|Female|Loyal Customer| 40|          304|Personal Travel|     Eco|          1598|                    1|                                4|                     1|             5|              1|           5|                     5|               3|               5|              5|               4|          5|   2021-06-13| 74968|     AA|           304|     N4XHAA|           SLC|                DFW|                600|           601|            989|              950|        1002|2022-01-01 00:15:50|2022-01-01 00:16:42|2022-01-01 00:10:00|2022-01-01 00:10:01|INTERVAL '0 00:00...|INTERVAL '0 00:00...|                  ON_TIME|                ON_TIME|     Satisfied|     null|             75391|               2345|                  false|           true|\n",
            "+------+------+--------------+---+-------------+---------------+--------+--------------+---------------------+---------------------------------+----------------------+--------------+---------------+------------+----------------------+----------------+----------------+---------------+----------------+-----------+-------------+------+-------+--------------+-----------+--------------+-------------------+-------------------+--------------+---------------+-----------------+------------+-------------------+-------------------+-------------------+-------------------+--------------------+--------------------+-------------------------+-----------------------+--------------+---------+------------------+-------------------+-----------------------+---------------+\n",
            "only showing top 20 rows\n",
            "\n"
          ]
        }
      ]
    },
    {
      "cell_type": "code",
      "source": [
        "from pyspark.sql import functions as f \n",
        "from pyspark.sql.types import datetime"
      ],
      "metadata": {
        "id": "si7GuuuzvTsI"
      },
      "execution_count": null,
      "outputs": []
    },
    {
      "cell_type": "code",
      "source": [
        "string_df1=string_df.withColumn(\"Reason_of_departure_delay\",lit(None)).withColumn(\"Reason_of_Arrival_delay\",lit(None)).withColumn(\"Overall_Survey\",lit(None))"
      ],
      "metadata": {
        "id": "LCVkbwDj6rKg"
      },
      "execution_count": null,
      "outputs": []
    },
    {
      "cell_type": "code",
      "source": [
        "class SCDTypeII:\n",
        "  def __init__(self,business_key_columns: str,\n",
        "              modification_date_time_column:str,\n",
        "              source_path:str,\n",
        "              update_dataframe:str=None,\n",
        "              provided_file_path_flag:bool=False,\n",
        "              is_historical:bool=False,\n",
        "              capture_delete_flag:bool=False,\n",
        "              modification_date_time_logic:str=None):\n",
        "     self.business_key_columns =business_key_columns\n",
        "     self.modification_date_time_column=modification_date_time_column\n",
        "     self.source_path=source_path\n",
        "     #self.update.dataframe=update_dataframe\n",
        "     if('__input_file_name' not in update_dataframe.columns):\n",
        "        self.update_dataframe=update_dataframe.withColumn('__input_file_name',lit(None).cast(StringType()))\n",
        "        print(\"add input file if it not exist in df...\")\n",
        "     else:\n",
        "       self.update_dataframe=update_dataframe\n",
        "       print(\"else part\")\n",
        "     #if_input_file_name\n",
        "     self.content_key_columns = sorted([column_name for column_name in self.update_dataframe.columns ],key=lambda element : element.lower())\n",
        "     print(self.content_key_columns)\n",
        "\n",
        "     self.provided_file_path_flag=provided_file_path_flag\n",
        "     self.capture_delete_flag=capture_delete_flag \n",
        "     self.is_historical=is_historical\n",
        "     self.modification_date_time_logic=modification_date_time_logic \n",
        "     try:\n",
        "       self.source_dataframe=spark.read.format('delta').load(self.source_path) \n",
        "       self.source_dataframe.show()\n",
        "       print(\"try\")\n",
        "     except Exception as ex:\n",
        "       print(\"except clause\")\n",
        "       if(\"is not a Delta Table.\" in str(ex)):\n",
        "          default_schema=self.update_dataframe.drop('__input_file_name').schema\n",
        "          self.source_dataframe= (spark.c.reateDataFrame([],schema=default_schema)\n",
        "                           .withColumn('__current',lit(None).cast('boolean'))\n",
        "                           .withColumn('__activation_datetime',lit(None).cast('timestamp'))\n",
        "                           .withColumn('__deactivation_datetime',lit(None).cast('timestamp'))\n",
        "                           .withColumn('__business_key_hash',lit(None).cast('string'))\n",
        "                           .withColumn('__content_key_hash',lit(None).cast('string'))\n",
        "                           .withColumn('__is_historical',lit(None).cast('boolean'))\n",
        "                           )\n",
        "          self.source_dataframe.show()\n",
        "          return self.source_dataframe.show()\n",
        "  \n",
        "  def _schema_evolution_handler(self):\n",
        "      update_dataframe_data_columns=[column_name for column_name in self.update_dataframe.columns if not column_name.startswith('__')]\n",
        "      print(update_dataframe_data_columns)\n",
        "      source_dataframe_data_columns=[column_name for column_name in self.source_dataframe.columns if not column_name.startswith('__')]\n",
        "      extra_columns_set=set(update_dataframe_data_columns) - set(source_dataframe_data_columns)\n",
        "      \n",
        "      if(len(extra_columns_set)!=0):\n",
        "        #Means there are columns in updating dataframe that are not in source dataframe \n",
        "        #So we need to add the column to the silver raw table \n",
        "        print('Schema Evolution In Progress') \n",
        "        #Adding extra columns source dataframe\n",
        "        for column_name in extra_columns_set: \n",
        "          self.source_dataframe=self.source_dataframe.withColumn(column_name,lit(None).cast(self.update_dataframe.schema[column_name].dataType))\n",
        "        #using self.content_key_columns to arrange self.source_dataframe columns to make sure __content_key_hash is generated consistently from order of columns prespective. \n",
        "        audit_columns=[column_name for column_name in self.source_dataframe.columns if column_name.startswith('__')]\n",
        "        print(audit_columns)\n",
        "        self.source_dataframe =(self.source_dataframe\n",
        "                                  .withColumn('__content_key_hash',sha2(concat_ws('|',*[col(column).cast(StringType())for column in self.content_key_columns]),256))\n",
        "                                  .select(self.content_key_columns + audit_columns)\n",
        "                                  ) \n",
        "          #overwriting silver raw table\n",
        "        \n",
        "        self.source_dataframe.show()\n",
        "        return self.source_dataframe\n",
        "        \n",
        "  def _add_helper_columns_to_update(self):\n",
        "    \"\"\" Stage one preparation on current table before merge. Adding SCD_COLS to other helper functions to aid table preparations.     \n",
        "    Deduplicates table on content key hash where duplicates exist within the same '__bronze_landing_date_time'.    \n",
        "    Also identifies which record should have the current flag enabled.            \n",
        "    \n",
        "    \n",
        "    Returns:        \n",
        "        DataFrame: current dataframe with helper functions added.    \n",
        "    \"\"\"\n",
        "    data_columns = self.content_key_columns + ['__current', '__activation_datetime', '__deactivation_datetime', '__minimum_activation_date', '__business_key_hash', '__content_key_hash', '__is_historical']\n",
        "    if(self.provided_file_path_flag):\n",
        "      print(\"if\")\n",
        "      self.initial_preparation = (self.update_dataframe\n",
        "                                  .withColumn('__input_file_name', col('__input_file_name'))\n",
        "                                  .withColumn('__bronze_landing_date_time', to_timestamp(regexp_replace(regexp_extract(col('__input_file_name'), '([0-9]{8}[/_][0-9]{6})', 1), '_', '/'), 'yyyyMMdd/HHmmss'))\n",
        "                                  .withColumn('__business_key_hash', sha2(concat_ws('|', *self.business_key_columns), 256))\n",
        "                                  .withColumn('__content_key_hash', sha2(concat_ws('|', *[col(column).cast(StringType()) for column in self.content_key_columns]), 256))\n",
        "                                  # take the first non-None value in [self.modification_date_time_logic, self.modification_date_time_column] and use it to generate __modification_date_time\n",
        "                                  .withColumn('__modification_date_time', expr(next(item for item in [self.modification_date_time_logic, self.modification_date_time_column] if item is not None)))\n",
        "                                 ) \n",
        "      self.initial_preparation.show()\n",
        "    else:\n",
        "      print(\"else\")\n",
        "      self.initial_preparation = (self.update_dataframe\n",
        "                                  .withColumn('__input_file_name',col('__input_file_name'))\n",
        "                                  .withColumn('__bronze_landing_date_time', to_timestamp(regexp_replace(regexp_extract(col('__input_file_name'), '([0-9]{8}[/_][0-9]{6})', 1), '_', '/'), 'yyyyMMdd/HHmmss'))\n",
        "                                  .withColumn('__business_key_hash', sha2(concat_ws('|', *self.business_key_columns), 256))\n",
        "                                  .withColumn('__content_key_hash', sha2(concat_ws('|', *[col(column).cast(StringType()) for column in self.content_key_columns]), 256))\n",
        "                                  # take the first non-None value in [self.modification_date_time_logic, self.modification_date_time_column] and use it to generate __modification_date_time\n",
        "                                  .withColumn('__modification_date_time', expr(next(item for item in [self.modification_date_time_logic, self.modification_date_time_column] if item is not None)))\n",
        "                                 )\n",
        "      self.initial_preparation.show()\n",
        "    deduplication_window = Window.partitionBy('__content_key_hash').orderBy(col('__bronze_landing_date_time').desc())\n",
        "    current_window_spec = Window.partitionBy('__business_key_hash').orderBy(col('__modification_date_time').desc())\n",
        "    bkh_window_spec = Window.partitionBy('__business_key_hash')\n",
        "    self.update_dataframe = (self.initial_preparation\n",
        "                             # Isolate new records i.e. new content not new business keys \n",
        "                             .join(self.source_dataframe.alias(\"original\").where(col('__current')), '__content_key_hash', 'left_anti')\n",
        "                             .withColumn('__bronze_landing_date_time_row_number', row_number().over(deduplication_window))\n",
        "                             .where(col('__bronze_landing_date_time_row_number') == 1)\n",
        "                             .withColumn('__activation_datetime', col('__modification_date_time'))\n",
        "                             .withColumn('__deactivation_datetime', lag(col('__modification_date_time'), 1).over(current_window_spec))\n",
        "                             .withColumn('__modified_date_time_row_number', row_number().over(current_window_spec))                \n",
        "                             .withColumn('__current', when(col('__modified_date_time_row_number') == 1, lit(True)).otherwise(lit(False)))\n",
        "                             .withColumn('__minimum_activation_date', f.min(col('__modification_date_time')).over(bkh_window_spec))\n",
        "                             .withColumn('__is_historical', f.lit(self.is_historical))\n",
        "                             .select(*data_columns).where(col(\"__current\")==True)\n",
        "                             .cache())\n",
        "    self.update_dataframe.show() \n",
        "    print(\"number of new record contents: \" + str(self.update_dataframe.count()))\n",
        "    return True\n",
        "\n",
        "  def _scd_type_II_merge_setup(self):\n",
        "    \"\"\" Stage the update by unioning two sets of records.     \n",
        "    1. New records (records with new business keys) to be INSERTED and records that would be used to UPDATE currently existing records aka UPSERT records    \n",
        "    2. Records that would UPDATE the currently existing records (records whose business keys exist in our source table)        \n",
        "    \n",
        "    Returns:        \n",
        "        DataFrame: Dataframe ready for merge operation.    \n",
        "    \"\"\"\n",
        "    self._schema_evolution_handler()\n",
        "    self._add_helper_columns_to_update()\n",
        "    staged_update = (self.update_dataframe.alias(\"update\")\n",
        "                     .withColumn('__mergeKey', lit(None))\n",
        "                     .unionByName(self.update_dataframe.alias(\"update\")\n",
        "                                  .join(self.source_dataframe.alias(\"original\").where(col('__current')), '__business_key_hash')\n",
        "                                  .withColumn('__mergeKey', when(col('update.__current') & (f.col('original.__content_key_hash') != f.col('update.__content_key_hash')), \n",
        "                                                                 col('__business_key_hash')))\n",
        "                                  .where(col('__mergeKey').isNotNull())\n",
        "                                  .select('update.*', '__mergeKey')))\n",
        "    return staged_update\n",
        "  def scd_type_IT_merge(self):\n",
        "      \"\"\"Apply SCD Type 2 operation using merge.\n",
        "      1.Inserts the new records with its current flag set to true\n",
        "      2.Updates the previous current row to set current row to set current to false,and update the '__deactivation_datetime' from null tothe '__activation_datetime' from the source.\n",
        "      Returns:\n",
        "           DataFrame:Dataframe ready for merge operation.\n",
        "      \"\"\"\n",
        "      staged_update = self._scd_type_II_merge_setup()\n",
        "      source_dataframe =DeltaTable.forPath(spark,self.source_path)\n",
        "      \n",
        "      (source_dataframe.alias(\"original\")\n",
        "       .merge(source=staged_update.alias(\"update\"),\n",
        "              condition=expr(\"original.__business_key_hash=update.__mergeKey\"))\n",
        "       .whenMatchedUpdate(condition=expr(\"original.__current=true AND original.__content_key_hash <>update.__content_key_hash\"),\n",
        "                          set={'__current':lit(False),\n",
        "                               '__deactivation_datetime':col(\"update.__minimum_activation_date\")})\n",
        "       .whenNotMatchedInsertAll()\n",
        "       )\n",
        "      display(source_dataframe)\n",
        "      \n",
        "      \n",
        "      if(self.capture_delete_flag):\n",
        "        source_dataframe=DeltaTable.forPath(spark,self.source_path)\n",
        "        print(source_dataframe)\n",
        "        remaining_business_keys=(self.initial_preparation.select('__business_key_hash','__bronze_landing_date_time')\n",
        "                          .withColumn('__max_bronze_landing_date_time',max(col('__bronze_landing_date_time')).over(Window.partitionBy()))\n",
        "                          .where(col('__max_bronze_landing_date_time')==col('__bronze_landing_date_time'))\n",
        "                          .select('__business_key_hash')\n",
        "                          )\n",
        "        self.deleted_records=(source_dataframe.toDF().where((col('__current'))&(col('__is_historical'))).select('__business_key_hash')\n",
        "              .join(remaining_business_keys,'__business_key_hash','left_anti')\n",
        "                             )\n",
        "        (source_dataframe.alias('original')\n",
        "         .merge(source=self.deleted_records.alias('deleted'),\n",
        "                condition=expr(\"original.__business_key_hash=deleted.__business_key_hash\")\n",
        "                )\n",
        "         .whenMatchedUpdate(condition=expr(\"original.__current=true\"),\n",
        "                            set= {'__current':lit(False),\n",
        "                                  '__deactivation_datetime':lit(datetime.datetime.now())})\n",
        "         .execute())\n",
        "        return True"
      ],
      "metadata": {
        "id": "FONSS6vTcaT2"
      },
      "execution_count": null,
      "outputs": []
    },
    {
      "cell_type": "code",
      "source": [
        "solution=SCDTypeII((string_df1.id,string_df1.Age,string_df1.FLIGHT_NUMBER),string_df1.Date_of_Board,'/content/final_result2',string_df1,True,False,True,\"Age\")"
      ],
      "metadata": {
        "id": "bKuRTW5lvah7",
        "colab": {
          "base_uri": "https://localhost:8080/"
        },
        "outputId": "89686a93-68d9-4ff7-c239-f1d2fc7e4d77"
      },
      "execution_count": null,
      "outputs": [
        {
          "output_type": "stream",
          "name": "stdout",
          "text": [
            "add input file if it not exist in df...\n",
            "['__input_file_name', 'Age', 'AIRLINE', 'ARR_TIME', 'ARRIVAL_TIME', 'ARRIVED', 'Baggage_handling', 'Checkin_service', 'Class', 'Cleanliness', 'Customer_Type', 'Date_of_Board', 'DEPARTED', 'Departure/Arrival_time_convenient', 'DEPARTURE_TIME', 'DEPT_TIME', 'DESTINATION_AIRPORT', 'DISTANCE_in_KM', 'DISTANCE_in_KM_', 'Ease_of_Online_booking', 'FLIGHT_NUMBER', 'FLIGHT_NUMBER_', 'Food_and_drink', 'Gender', 'id', 'id_', 'Inflight_entertainment', 'Inflight_service', 'Inflight_wifi_service', 'On-board_service', 'Online_boarding', 'ORIGIN_AIRPORT', 'Overall_Survey', 'Reason_of_Arrival_delay', 'Reason_of_departure_delay', 'SCHED_ARRIVAL', 'SCHED_DEPARTURE', 'SCHEDULED_ARRIVAL', 'SCHEDULED_DEPARTURE', 'Seat_comfort', 'TAIL_NUMBER', 'Type_of_Travel']\n",
            "+------+------+--------------+---+-------------+---------------+--------+--------------+---------------------+---------------------------------+----------------------+--------------+---------------+------------+----------------------+----------------+----------------+---------------+----------------+-----------+-------------+------+-------+--------------+-----------+--------------+-------------------+-------------------+--------------+---------------+-----------------+------------+-------------------+-------------------+-------------------+-------------------+--------------------+--------------------+-------------------------+-----------------------+--------------+---------+------------------+-------------------+-----------------------+---------------+\n",
            "|    id|Gender| Customer_Type|Age|FLIGHT_NUMBER| Type_of_Travel|   Class|DISTANCE_in_KM|Inflight_wifi_service|Departure/Arrival_time_convenient|Ease_of_Online_booking|Food_and_drink|Online_boarding|Seat_comfort|Inflight_entertainment|On-board_service|Baggage_handling|Checkin_service|Inflight_service|Cleanliness|Date_of_Board|   id_|AIRLINE|FLIGHT_NUMBER_|TAIL_NUMBER|ORIGIN_AIRPORT|DESTINATION_AIRPORT|SCHEDULED_DEPARTURE|DEPARTURE_TIME|DISTANCE_in_KM_|SCHEDULED_ARRIVAL|ARRIVAL_TIME|      SCHED_ARRIVAL|           ARR_TIME|    SCHED_DEPARTURE|          DEPT_TIME|             ARRIVED|            DEPARTED|Reason_of_departure_delay|Reason_of_Arrival_delay|Overall_Survey|__current|__content_key_hash|__business_key_hash|__deactivation_datetime|__is_historical|\n",
            "+------+------+--------------+---+-------------+---------------+--------+--------------+---------------------+---------------------------------+----------------------+--------------+---------------+------------+----------------------+----------------+----------------+---------------+----------------+-----------+-------------+------+-------+--------------+-----------+--------------+-------------------+-------------------+--------------+---------------+-----------------+------------+-------------------+-------------------+-------------------+-------------------+--------------------+--------------------+-------------------------+-----------------------+--------------+---------+------------------+-------------------+-----------------------+---------------+\n",
            "| 19556|Female|Loyal Customer| 52|           98|Business travel|     Eco|          1448|                    5|                                4|                     3|             3|              4|           3|                     5|               5|               5|              2|               5|          5|   2021-05-05| 19556|     AS|            98|     N407AS|           ANC|                SEA|                 15|             4|           1448|              430|         408|2022-01-01 00:07:10|2022-01-01 00:06:48|2022-01-01 00:00:15|2022-01-01 00:00:04|INTERVAL '-0 00:0...|INTERVAL '-0 00:0...|            Airline Delay|          Weather Delay|     Satisfied|     null|             75391|               2345|                  false|           true|\n",
            "| 90035|Female|Loyal Customer| 36|         2336|Business travel|Business|          2330|                    1|                                1|                     3|             5|              4|           5|                     4|               4|               4|              3|               4|          5|   2021-05-06| 47583|     DL|          2336|     N958DN|           DEN|                ATL|                 30|            24|           1199|              523|         453|2022-01-01 00:08:43|2022-01-01 00:07:33|2022-01-01 00:00:30|2022-01-01 00:00:24|INTERVAL '-0 00:0...|INTERVAL '-0 00:0...|           Security Delay|          Weather Delay|     Satisfied|     null|             75391|               2345|                  false|           true|\n",
            "| 90035|Female|Loyal Customer| 36|         2336|Business travel|Business|          2330|                    1|                                1|                     3|             5|              4|           5|                     4|               4|               4|              3|               4|          5|   2021-05-06| 90035|     AA|          2336|     N3KUAA|           LAX|                PBI|                 10|             2|           2330|              750|         741|2022-01-01 00:12:30|2022-01-01 00:12:21|2022-01-01 00:00:10|2022-01-01 00:00:02|INTERVAL '-0 00:0...|INTERVAL '-0 00:0...|           Security Delay|         Security Delay|     Satisfied|     null|             75391|               2345|                  false|           true|\n",
            "| 79433|Female|Loyal Customer| 77|          612|Business travel|Business|          1299|                    5|                                5|                     5|             3|              5|           5|                     5|               5|               5|              4|               5|          3|   2021-05-11| 79433|     NK|           612|     N635NK|           LAS|                MSP|                 25|            19|           1299|              526|         509|2022-01-01 00:08:46|2022-01-01 00:08:29|2022-01-01 00:00:25|2022-01-01 00:00:19|INTERVAL '-0 00:0...|INTERVAL '-0 00:0...|           Security Delay|          Weather Delay|     Satisfied|     null|             75391|               2345|                  false|           true|\n",
            "| 97286|Female|Loyal Customer| 43|         2013|Business travel|Business|          2125|                    2|                                2|                     2|             4|              4|           5|                     4|               4|               4|              5|               4|          3|   2021-05-12| 97286|     US|          2013|     N584UW|           LAX|                CLT|                 30|            44|           2125|              803|         753|2022-01-01 00:13:23|2022-01-01 00:12:33|2022-01-01 00:00:30|2022-01-01 00:00:44|INTERVAL '-0 00:0...|INTERVAL '0 00:00...|                  ON_TIME|          Weather Delay|     Satisfied|     null|             75391|               2345|                  false|           true|\n",
            "| 27508|  Male|Loyal Customer| 47|         1112|Business travel|     Eco|          1464|                    5|                                2|                     2|             5|              5|           5|                     5|               2|               5|              3|               3|          5|   2021-05-13| 27508|     AA|          1112|     N3LAAA|           SFO|                DFW|                 30|            19|           1464|              545|         532|2022-01-01 00:09:05|2022-01-01 00:08:52|2022-01-01 00:00:30|2022-01-01 00:00:19|INTERVAL '-0 00:0...|INTERVAL '-0 00:0...|            Airline Delay|          Weather Delay|     Satisfied|     null|             75391|               2345|                  false|           true|\n",
            "|119987|Female|Loyal Customer| 46|         1434|Business travel|Business|          1535|                    5|                                5|                     5|             4|              5|           5|                     5|               5|               5|              5|               5|          3|   2021-05-17| 33413|     B6|          1434|     N503JB|           SJU|                MCO|                605|           738|           1189|              813|         941|2022-01-01 00:13:33|2022-01-01 00:15:41|2022-01-01 00:10:05|2022-01-01 00:12:18|INTERVAL '0 00:02...|INTERVAL '0 00:02...|                  ON_TIME|                ON_TIME|     Satisfied|     null|             75391|               2345|                  false|           true|\n",
            "|119987|Female|Loyal Customer| 46|         1434|Business travel|Business|          1535|                    5|                                5|                     5|             4|              5|           5|                     5|               5|               5|              5|               5|          3|   2021-05-17|119987|     DL|          1434|     N547US|           LAX|                MSP|                 35|            35|           1535|              609|         605|2022-01-01 00:10:09|2022-01-01 00:10:05|2022-01-01 00:00:35|2022-01-01 00:00:35|INTERVAL '-0 00:0...|INTERVAL '0 00:00...|                 No Delay|         Security Delay|     Satisfied|     null|             75391|               2345|                  false|           true|\n",
            "| 42141|Female|Loyal Customer| 60|         2324|Business travel|Business|          1590|                    1|                                1|                     4|             5|              5|           4|                     5|               5|               5|              3|               5|          5|   2021-05-18| 42141|     DL|          2324|     N3751B|           SLC|                ATL|                 40|            34|           1590|              615|         553|2022-01-01 00:10:15|2022-01-01 00:09:13|2022-01-01 00:00:40|2022-01-01 00:00:34|INTERVAL '-0 00:0...|INTERVAL '-0 00:0...|           Security Delay|          Weather Delay|     Satisfied|     null|             75391|               2345|                  false|           true|\n",
            "|  2274|Female|Loyal Customer| 52|         2440|Business travel|Business|          1399|                    2|                                2|                     2|             5|              5|           4|                     4|               4|               4|              3|               4|          5|   2021-05-19|  2274|     DL|          2440|     N651DL|           SEA|                MSP|                 40|            39|           1399|              549|         557|2022-01-01 00:09:09|2022-01-01 00:09:17|2022-01-01 00:00:40|2022-01-01 00:00:39|INTERVAL '0 00:00...|INTERVAL '-0 00:0...|            Weather Delay|                ON_TIME|     Satisfied|     null|             75391|               2345|                  false|           true|\n",
            "| 17836|  Male|Loyal Customer| 52|         1197|Personal Travel|Eco Plus|          1635|                    5|                                4|                     5|             4|              5|           4|                     4|               3|               5|              4|               5|          4|   2021-05-22| 17836|     UA|          1197|     N78448|           SFO|                IAH|                 48|            42|           1635|              626|         619|2022-01-01 00:10:26|2022-01-01 00:10:19|2022-01-01 00:00:48|2022-01-01 00:00:42|INTERVAL '-0 00:0...|INTERVAL '-0 00:0...|           Security Delay|         Security Delay|     Satisfied|     null|             75391|               2345|                  false|           true|\n",
            "| 76872|Female|Loyal Customer| 43|          122|Personal Travel|     Eco|          1542|                    3|                                4|                     3|             4|              4|           5|                     5|               5|               5|              4|               5|          3|   2021-05-23| 76872|     AS|           122|     N413AS|           ANC|                PDX|                 50|            46|           1542|              525|         507|2022-01-01 00:08:45|2022-01-01 00:08:27|2022-01-01 00:00:50|2022-01-01 00:00:46|INTERVAL '-0 00:0...|INTERVAL '-0 00:0...|            Weather Delay|          Weather Delay|     Satisfied|     null|             75391|               2345|                  false|           true|\n",
            "| 64287|Female|Loyal Customer| 50|         1670|Business travel|Business|          1426|                    5|                                5|                     5|             4|              5|           4|                     4|               4|               4|              5|               4|          5|   2021-05-24| 64287|     DL|          1670|     N806DN|           PDX|                MSP|                 50|            45|           1426|              603|         551|2022-01-01 00:10:03|2022-01-01 00:09:11|2022-01-01 00:00:50|2022-01-01 00:00:45|INTERVAL '-0 00:0...|INTERVAL '-0 00:0...|           Security Delay|          Weather Delay|     Satisfied|     null|             75391|               2345|                  false|           true|\n",
            "| 63995|  Male|Loyal Customer| 60|          520|Business travel|Business|          1139|                    4|                                4|                     4|             2|              4|           5|                     5|               5|               5|              5|               5|          5|   2021-05-25| 63995|     NK|           520|     N525NK|           LAS|                MCI|                 55|           120|           1139|              537|         543|2022-01-01 00:08:57|2022-01-01 00:09:03|2022-01-01 00:00:55|2022-01-01 00:02:00|INTERVAL '0 00:00...|INTERVAL '0 00:01...|                  ON_TIME|                ON_TIME|     Satisfied|     null|             75391|               2345|                  false|           true|\n",
            "|121658|  Male|Loyal Customer| 44|          413|Business travel|Business|          1916|                    3|                                5|                     3|             5|              4|           5|                     5|               5|               5|              5|               5|          5|   2021-06-02|121658|     US|           413|     N571UW|           LAS|                CLT|                120|           110|           1916|              825|         754|2022-01-01 00:13:45|2022-01-01 00:12:34|2022-01-01 00:02:00|2022-01-01 00:01:50|INTERVAL '-0 00:0...|INTERVAL '-0 00:0...|           Security Delay|          Weather Delay|     Satisfied|     null|             75391|               2345|                  false|           true|\n",
            "| 75241|  Male|Loyal Customer| 22|           95|Personal Travel|     Eco|          1590|                    4|                                5|                     4|             5|              4|           5|                     5|               5|               4|              4|               4|          5|   2021-06-07| 75241|     DL|            95|     N320US|           SLC|                ATL|                140|           134|           1590|              715|         725|2022-01-01 00:11:55|2022-01-01 00:12:05|2022-01-01 00:02:20|2022-01-01 00:02:14|INTERVAL '0 00:00...|INTERVAL '-0 00:0...|           Security Delay|                ON_TIME|     Satisfied|     null|             75391|               2345|                  false|           true|\n",
            "| 12312|Female|Loyal Customer| 53|          298|Business travel|     Eco|          1222|                    5|                                2|                     2|             3|              4|           2|                     5|               5|               5|              2|               5|          4|   2021-06-08| 12312|     NK|           298|     N514NK|           LAS|                IAH|                144|           140|           1222|              634|         630|2022-01-01 00:10:34|2022-01-01 00:10:30|2022-01-01 00:02:24|2022-01-01 00:02:20|INTERVAL '-0 00:0...|INTERVAL '-0 00:0...|            Weather Delay|         Security Delay|     Satisfied|     null|             75391|               2345|                  false|           true|\n",
            "| 51477|Female|Loyal Customer| 39|          617|Business travel|Business|          2552|                    3|                                3|                     3|             2|              4|           5|                     4|               4|               4|              4|               4|          5|   2021-06-10| 51477|     US|           617|     N804AW|           ANC|                PHX|                152|           143|           2552|              915|         905|2022-01-01 00:15:15|2022-01-01 00:15:05|2022-01-01 00:02:32|2022-01-01 00:02:23|INTERVAL '-0 00:0...|INTERVAL '-0 00:0...|           Security Delay|          Weather Delay|     Satisfied|     null|             75391|               2345|                  false|           true|\n",
            "| 84204|Female|Loyal Customer| 55|         1528|Business travel|Business|          1608|                    1|                                1|                     1|             3|              5|           4|                     5|               5|               5|              3|               5|          5|   2021-06-11| 84204|     UA|          1528|     N76519|           SJU|                EWR|                154|           157|           1608|              509|         458|2022-01-01 00:08:29|2022-01-01 00:07:38|2022-01-01 00:02:34|2022-01-01 00:02:37|INTERVAL '-0 00:0...|INTERVAL '0 00:00...|                  ON_TIME|          Weather Delay|     Satisfied|     null|             75391|               2345|                  false|           true|\n",
            "|101991|Female|Loyal Customer| 40|          304|Personal Travel|     Eco|          1598|                    1|                                4|                     1|             5|              1|           5|                     5|               3|               5|              5|               4|          5|   2021-06-13| 74968|     AA|           304|     N4XHAA|           SLC|                DFW|                600|           601|            989|              950|        1002|2022-01-01 00:15:50|2022-01-01 00:16:42|2022-01-01 00:10:00|2022-01-01 00:10:01|INTERVAL '0 00:00...|INTERVAL '0 00:00...|                  ON_TIME|                ON_TIME|     Satisfied|     null|             75391|               2345|                  false|           true|\n",
            "+------+------+--------------+---+-------------+---------------+--------+--------------+---------------------+---------------------------------+----------------------+--------------+---------------+------------+----------------------+----------------+----------------+---------------+----------------+-----------+-------------+------+-------+--------------+-----------+--------------+-------------------+-------------------+--------------+---------------+-----------------+------------+-------------------+-------------------+-------------------+-------------------+--------------------+--------------------+-------------------------+-----------------------+--------------+---------+------------------+-------------------+-----------------------+---------------+\n",
            "only showing top 20 rows\n",
            "\n",
            "try\n"
          ]
        }
      ]
    },
    {
      "cell_type": "code",
      "source": [
        "solution._schema_evolution_handler()"
      ],
      "metadata": {
        "id": "K76qOiaTvzb8",
        "colab": {
          "base_uri": "https://localhost:8080/"
        },
        "outputId": "ddfce856-9b60-4698-dc57-614b43191ec8"
      },
      "execution_count": null,
      "outputs": [
        {
          "output_type": "stream",
          "name": "stdout",
          "text": [
            "['id', 'Gender', 'Customer_Type', 'Age', 'FLIGHT_NUMBER', 'Type_of_Travel', 'Class', 'DISTANCE_in_KM', 'Inflight_wifi_service', 'Departure/Arrival_time_convenient', 'Ease_of_Online_booking', 'Food_and_drink', 'Online_boarding', 'Seat_comfort', 'Inflight_entertainment', 'On-board_service', 'Baggage_handling', 'Checkin_service', 'Inflight_service', 'Cleanliness', 'Date_of_Board', 'id_', 'AIRLINE', 'FLIGHT_NUMBER_', 'TAIL_NUMBER', 'ORIGIN_AIRPORT', 'DESTINATION_AIRPORT', 'SCHEDULED_DEPARTURE', 'DEPARTURE_TIME', 'DISTANCE_in_KM_', 'SCHEDULED_ARRIVAL', 'ARRIVAL_TIME', 'SCHED_ARRIVAL', 'ARR_TIME', 'SCHED_DEPARTURE', 'DEPT_TIME', 'ARRIVED', 'DEPARTED', 'Reason_of_departure_delay', 'Reason_of_Arrival_delay', 'Overall_Survey']\n"
          ]
        }
      ]
    },
    {
      "cell_type": "code",
      "source": [
        "solution._add_helper_columns_to_update()"
      ],
      "metadata": {
        "id": "qXUlUVj3wGd9",
        "colab": {
          "base_uri": "https://localhost:8080/"
        },
        "outputId": "04d6eea6-cab4-453b-f4d8-2b4e8a94659b"
      },
      "execution_count": null,
      "outputs": [
        {
          "output_type": "stream",
          "name": "stdout",
          "text": [
            "if\n",
            "+------+------+-----------------+---+-------------+---------------+--------+--------------+---------------------+---------------------------------+----------------------+--------------+---------------+------------+----------------------+----------------+----------------+---------------+----------------+-----------+-------------+------+-------+--------------+-----------+--------------+-------------------+-------------------+--------------+---------------+-----------------+------------+-------------------+-------------------+-------------------+-------------------+--------------------+--------------------+-------------------------+-----------------------+--------------+-----------------+--------------------------+--------------------+--------------------+------------------------+\n",
            "|    id|Gender|    Customer_Type|Age|FLIGHT_NUMBER| Type_of_Travel|   Class|DISTANCE_in_KM|Inflight_wifi_service|Departure/Arrival_time_convenient|Ease_of_Online_booking|Food_and_drink|Online_boarding|Seat_comfort|Inflight_entertainment|On-board_service|Baggage_handling|Checkin_service|Inflight_service|Cleanliness|Date_of_Board|   id_|AIRLINE|FLIGHT_NUMBER_|TAIL_NUMBER|ORIGIN_AIRPORT|DESTINATION_AIRPORT|SCHEDULED_DEPARTURE|DEPARTURE_TIME|DISTANCE_in_KM_|SCHEDULED_ARRIVAL|ARRIVAL_TIME|      SCHED_ARRIVAL|           ARR_TIME|    SCHED_DEPARTURE|          DEPT_TIME|             ARRIVED|            DEPARTED|Reason_of_departure_delay|Reason_of_Arrival_delay|Overall_Survey|__input_file_name|__bronze_landing_date_time| __business_key_hash|  __content_key_hash|__modification_date_time|\n",
            "+------+------+-----------------+---+-------------+---------------+--------+--------------+---------------------+---------------------------------+----------------------+--------------+---------------+------------+----------------------+----------------+----------------+---------------+----------------+-----------+-------------+------+-------+--------------+-----------+--------------+-------------------+-------------------+--------------+---------------+-----------------+------------+-------------------+-------------------+-------------------+-------------------+--------------------+--------------------+-------------------------+-----------------------+--------------+-----------------+--------------------------+--------------------+--------------------+------------------------+\n",
            "| 19556|Female|   Loyal Customer| 52|           98|Business travel|     Eco|          1448|                    5|                                4|                     3|             3|              4|           3|                     5|               5|               5|              2|               5|          5|   2021-05-05| 19556|     AS|            98|     N407AS|           ANC|                SEA|                 15|             4|           1448|              430|         408|2022-01-01 00:07:10|2022-01-01 00:06:48|2022-01-01 00:00:15|2022-01-01 00:00:04|INTERVAL '-0 00:0...|INTERVAL '-0 00:0...|                     null|                   null|          null|             null|                      null|429ffa5279b4ccd56...|65c141ce627c4ae71...|                      52|\n",
            "| 90035|Female|   Loyal Customer| 36|         2336|Business travel|Business|          2330|                    1|                                1|                     3|             5|              4|           5|                     4|               4|               4|              3|               4|          5|   2021-05-06| 47583|     DL|          2336|     N958DN|           DEN|                ATL|                 30|            24|           1199|              523|         453|2022-01-01 00:08:43|2022-01-01 00:07:33|2022-01-01 00:00:30|2022-01-01 00:00:24|INTERVAL '-0 00:0...|INTERVAL '-0 00:0...|                     null|                   null|          null|             null|                      null|1dfe371d864c369d8...|e654177ef6fb9b203...|                      36|\n",
            "| 90035|Female|   Loyal Customer| 36|         2336|Business travel|Business|          2330|                    1|                                1|                     3|             5|              4|           5|                     4|               4|               4|              3|               4|          5|   2021-05-06| 90035|     AA|          2336|     N3KUAA|           LAX|                PBI|                 10|             2|           2330|              750|         741|2022-01-01 00:12:30|2022-01-01 00:12:21|2022-01-01 00:00:10|2022-01-01 00:00:02|INTERVAL '-0 00:0...|INTERVAL '-0 00:0...|                     null|                   null|          null|             null|                      null|1dfe371d864c369d8...|d1f2105f886377a64...|                      36|\n",
            "| 12360|  Male|disloyal Customer| 20|          840|Business travel|     Eco|          2296|                    2|                                0|                     2|             2|              2|           2|                     2|               4|               3|              2|               2|          2|   2021-05-07| 12360|     US|           840|     N171US|           SFO|                CLT|                 20|            18|           2296|              806|         811|2022-01-01 00:13:26|2022-01-01 00:13:31|2022-01-01 00:00:20|2022-01-01 00:00:18|INTERVAL '0 00:00...|INTERVAL '-0 00:0...|                     null|                   null|          null|             null|                      null|d1566460cddba84e3...|c405de38c8f8919a0...|                      20|\n",
            "| 77959|  Male|   Loyal Customer| 44|          258|Business travel|Business|          2342|                    0|                                0|                     0|             3|              4|           4|                     1|               1|               1|              3|               1|          4|   2021-05-08| 77959|     AA|           258|     N3HYAA|           LAX|                MIA|                 20|            15|           2342|              805|         756|2022-01-01 00:13:25|2022-01-01 00:12:36|2022-01-01 00:00:20|2022-01-01 00:00:15|INTERVAL '-0 00:0...|INTERVAL '-0 00:0...|                     null|                   null|          null|             null|                      null|3c2ed37a3dbe4ea0e...|fac0a757c80e0d9de...|                      44|\n",
            "| 36875|Female|   Loyal Customer| 49|          135|Business travel|     Eco|          1448|                    2|                                3|                     4|             4|              1|           2|                     2|               2|               2|              4|               2|          4|   2021-05-09| 36875|     AS|           135|     N527AS|           SEA|                ANC|                 25|            24|           1448|              320|         259|2022-01-01 00:05:20|2022-01-01 00:04:19|2022-01-01 00:00:25|2022-01-01 00:00:24|INTERVAL '-0 00:0...|INTERVAL '-0 00:0...|                     null|                   null|          null|             null|                      null|bbed3d7681cacc0df...|949620a5a40d7d5f6...|                      49|\n",
            "| 39177|  Male|   Loyal Customer| 16|          806|Business travel|     Eco|          1589|                    3|                                3|                     3|             5|              5|           3|                     5|               4|               1|              1|               2|          5|   2021-05-10| 39177|     DL|           806|     N3730B|           SFO|                MSP|                 25|            20|           1589|              602|         610|2022-01-01 00:10:02|2022-01-01 00:10:10|2022-01-01 00:00:25|2022-01-01 00:00:20|INTERVAL '0 00:00...|INTERVAL '-0 00:0...|                     null|                   null|          null|             null|                      null|d9b4f112c3ae544d2...|e36ea7b8df333be1c...|                      16|\n",
            "| 79433|Female|   Loyal Customer| 77|          612|Business travel|Business|          1299|                    5|                                5|                     5|             3|              5|           5|                     5|               5|               5|              4|               5|          3|   2021-05-11| 79433|     NK|           612|     N635NK|           LAS|                MSP|                 25|            19|           1299|              526|         509|2022-01-01 00:08:46|2022-01-01 00:08:29|2022-01-01 00:00:25|2022-01-01 00:00:19|INTERVAL '-0 00:0...|INTERVAL '-0 00:0...|                     null|                   null|          null|             null|                      null|9142f89aaf77f8f2b...|9826be8dcd65a14c3...|                      77|\n",
            "| 97286|Female|   Loyal Customer| 43|         2013|Business travel|Business|          2125|                    2|                                2|                     2|             4|              4|           5|                     4|               4|               4|              5|               4|          3|   2021-05-12| 97286|     US|          2013|     N584UW|           LAX|                CLT|                 30|            44|           2125|              803|         753|2022-01-01 00:13:23|2022-01-01 00:12:33|2022-01-01 00:00:30|2022-01-01 00:00:44|INTERVAL '-0 00:0...|INTERVAL '0 00:00...|                     null|                   null|          null|             null|                      null|f9c15f26c7e6c520c...|602fbf85347e928dd...|                      43|\n",
            "| 27508|  Male|   Loyal Customer| 47|         1112|Business travel|     Eco|          1464|                    5|                                2|                     2|             5|              5|           5|                     5|               2|               5|              3|               3|          5|   2021-05-13| 27508|     AA|          1112|     N3LAAA|           SFO|                DFW|                 30|            19|           1464|              545|         532|2022-01-01 00:09:05|2022-01-01 00:08:52|2022-01-01 00:00:30|2022-01-01 00:00:19|INTERVAL '-0 00:0...|INTERVAL '-0 00:0...|                     null|                   null|          null|             null|                      null|800f9a2743cc30b2b...|8977e7bdf71f7f9b0...|                      47|\n",
            "| 62482|Female|   Loyal Customer| 46|         1173|Business travel|Business|          1747|                    2|                                2|                     2|             3|              4|           4|                     4|               4|               4|              5|               4|          4|   2021-05-14| 62482|     DL|          1173|     N826DN|           LAS|                ATL|                 30|            33|           1747|              711|         656|2022-01-01 00:11:51|2022-01-01 00:10:56|2022-01-01 00:00:30|2022-01-01 00:00:33|INTERVAL '-0 00:0...|INTERVAL '0 00:00...|                     null|                   null|          null|             null|                      null|83ed864f1ee636999...|3089ab133427a6e61...|                      46|\n",
            "| 47583|Female|   Loyal Customer| 47|         2336|Business travel|     Eco|          1199|                    4|                                1|                     1|             5|              1|           5|                     3|               3|               3|              1|               3|          4|   2021-05-15| 47583|     DL|          2336|     N958DN|           DEN|                ATL|                 30|            24|           1199|              523|         453|2022-01-01 00:08:43|2022-01-01 00:07:33|2022-01-01 00:00:30|2022-01-01 00:00:24|INTERVAL '-0 00:0...|INTERVAL '-0 00:0...|                     null|                   null|          null|             null|                      null|71f32060feae4e21c...|d0a4f90809a9f0d7c...|                      47|\n",
            "| 47583|Female|   Loyal Customer| 47|         2336|Business travel|     Eco|          1199|                    4|                                1|                     1|             5|              1|           5|                     3|               3|               3|              1|               3|          4|   2021-05-15| 90035|     AA|          2336|     N3KUAA|           LAX|                PBI|                 10|             2|           2330|              750|         741|2022-01-01 00:12:30|2022-01-01 00:12:21|2022-01-01 00:00:10|2022-01-01 00:00:02|INTERVAL '-0 00:0...|INTERVAL '-0 00:0...|                     null|                   null|          null|             null|                      null|71f32060feae4e21c...|d1f2e46a49366d6c2...|                      47|\n",
            "|115550|Female|   Loyal Customer| 33|         1674|Business travel|Business|          2174|                    2|                                5|                     5|             1|              3|           4|                     2|               2|               2|              3|               2|          4|   2021-05-16|115550|     AA|          1674|     N853AA|           LAS|                MIA|                 35|            27|           2174|              803|         753|2022-01-01 00:13:23|2022-01-01 00:12:33|2022-01-01 00:00:35|2022-01-01 00:00:27|INTERVAL '-0 00:0...|INTERVAL '-0 00:0...|                     null|                   null|          null|             null|                      null|ea2f089a98dd0ac80...|f0112aced635f30ec...|                      33|\n",
            "|119987|Female|   Loyal Customer| 46|         1434|Business travel|Business|          1535|                    5|                                5|                     5|             4|              5|           5|                     5|               5|               5|              5|               5|          3|   2021-05-17| 33413|     B6|          1434|     N503JB|           SJU|                MCO|                605|           738|           1189|              813|         941|2022-01-01 00:13:33|2022-01-01 00:15:41|2022-01-01 00:10:05|2022-01-01 00:12:18|INTERVAL '0 00:02...|INTERVAL '0 00:02...|                     null|                   null|          null|             null|                      null|8610ddd70779511f3...|10ac6875ff81b2da6...|                      46|\n",
            "|119987|Female|   Loyal Customer| 46|         1434|Business travel|Business|          1535|                    5|                                5|                     5|             4|              5|           5|                     5|               5|               5|              5|               5|          3|   2021-05-17|119987|     DL|          1434|     N547US|           LAX|                MSP|                 35|            35|           1535|              609|         605|2022-01-01 00:10:09|2022-01-01 00:10:05|2022-01-01 00:00:35|2022-01-01 00:00:35|INTERVAL '-0 00:0...|INTERVAL '0 00:00...|                     null|                   null|          null|             null|                      null|8610ddd70779511f3...|e462dd845d05e6e58...|                      46|\n",
            "| 42141|Female|   Loyal Customer| 60|         2324|Business travel|Business|          1590|                    1|                                1|                     4|             5|              5|           4|                     5|               5|               5|              3|               5|          5|   2021-05-18| 42141|     DL|          2324|     N3751B|           SLC|                ATL|                 40|            34|           1590|              615|         553|2022-01-01 00:10:15|2022-01-01 00:09:13|2022-01-01 00:00:40|2022-01-01 00:00:34|INTERVAL '-0 00:0...|INTERVAL '-0 00:0...|                     null|                   null|          null|             null|                      null|96925d86a7160a2d8...|b40206783c2390d4e...|                      60|\n",
            "|  2274|Female|   Loyal Customer| 52|         2440|Business travel|Business|          1399|                    2|                                2|                     2|             5|              5|           4|                     4|               4|               4|              3|               4|          5|   2021-05-19|  2274|     DL|          2440|     N651DL|           SEA|                MSP|                 40|            39|           1399|              549|         557|2022-01-01 00:09:09|2022-01-01 00:09:17|2022-01-01 00:00:40|2022-01-01 00:00:39|INTERVAL '0 00:00...|INTERVAL '-0 00:0...|                     null|                   null|          null|             null|                      null|622fccbcc427b46ae...|01979ca8240fdfcf5...|                      52|\n",
            "| 22470|  Male|   Loyal Customer| 50|          108|Personal Travel|     Eco|          1448|                    3|                                4|                     0|             2|              0|           2|                     2|               4|               4|              4|               5|          2|   2021-05-20|   738|     HA|           108|     N476HA|           HNL|                KOA|                502|           501|            163|              544|         549|2022-01-01 00:09:04|2022-01-01 00:09:09|2022-01-01 00:08:22|2022-01-01 00:08:21|INTERVAL '0 00:00...|INTERVAL '-0 00:0...|                     null|                   null|          null|             null|                      null|878cdea8ae225c394...|dd539a1d67e59efe3...|                      50|\n",
            "| 22470|  Male|   Loyal Customer| 50|          108|Personal Travel|     Eco|          1448|                    3|                                4|                     0|             2|              0|           2|                     2|               4|               4|              4|               5|          2|   2021-05-20| 22470|     AS|           108|     N309AS|           ANC|                SEA|                 45|            41|           1448|              509|         455|2022-01-01 00:08:29|2022-01-01 00:07:35|2022-01-01 00:00:45|2022-01-01 00:00:41|INTERVAL '-0 00:0...|INTERVAL '-0 00:0...|                     null|                   null|          null|             null|                      null|878cdea8ae225c394...|c1b3a3cd719078745...|                      50|\n",
            "+------+------+-----------------+---+-------------+---------------+--------+--------------+---------------------+---------------------------------+----------------------+--------------+---------------+------------+----------------------+----------------+----------------+---------------+----------------+-----------+-------------+------+-------+--------------+-----------+--------------+-------------------+-------------------+--------------+---------------+-----------------+------------+-------------------+-------------------+-------------------+-------------------+--------------------+--------------------+-------------------------+-----------------------+--------------+-----------------+--------------------------+--------------------+--------------------+------------------------+\n",
            "only showing top 20 rows\n",
            "\n",
            "+-----------------+---+-------+-------------------+------------+--------------------+----------------+---------------+--------+-----------+-----------------+-------------+--------------------+---------------------------------+--------------+-------------------+-------------------+--------------+---------------+----------------------+-------------+--------------+--------------+------+------+------+----------------------+----------------+---------------------+----------------+---------------+--------------+--------------+-----------------------+-------------------------+-------------------+-------------------+-----------------+-------------------+------------+-----------+---------------+---------+---------------------+-----------------------+-------------------------+--------------------+--------------------+---------------+\n",
            "|__input_file_name|Age|AIRLINE|           ARR_TIME|ARRIVAL_TIME|             ARRIVED|Baggage_handling|Checkin_service|   Class|Cleanliness|    Customer_Type|Date_of_Board|            DEPARTED|Departure/Arrival_time_convenient|DEPARTURE_TIME|          DEPT_TIME|DESTINATION_AIRPORT|DISTANCE_in_KM|DISTANCE_in_KM_|Ease_of_Online_booking|FLIGHT_NUMBER|FLIGHT_NUMBER_|Food_and_drink|Gender|    id|   id_|Inflight_entertainment|Inflight_service|Inflight_wifi_service|On-board_service|Online_boarding|ORIGIN_AIRPORT|Overall_Survey|Reason_of_Arrival_delay|Reason_of_departure_delay|      SCHED_ARRIVAL|    SCHED_DEPARTURE|SCHEDULED_ARRIVAL|SCHEDULED_DEPARTURE|Seat_comfort|TAIL_NUMBER| Type_of_Travel|__current|__activation_datetime|__deactivation_datetime|__minimum_activation_date| __business_key_hash|  __content_key_hash|__is_historical|\n",
            "+-----------------+---+-------+-------------------+------------+--------------------+----------------+---------------+--------+-----------+-----------------+-------------+--------------------+---------------------------------+--------------+-------------------+-------------------+--------------+---------------+----------------------+-------------+--------------+--------------+------+------+------+----------------------+----------------+---------------------+----------------+---------------+--------------+--------------+-----------------------+-------------------------+-------------------+-------------------+-----------------+-------------------+------------+-----------+---------------+---------+---------------------+-----------------------+-------------------------+--------------------+--------------------+---------------+\n",
            "|             null| 44|     AA|2022-01-01 00:14:09|         849|INTERVAL '-0 00:0...|               4|              5|Business|          4|   Loyal Customer|   2021-05-23|INTERVAL '0 00:00...|                                1|           605|2022-01-01 00:10:05|                DFW|           853|            853|                     3|         1291|          1291|             3|  Male| 77866| 77866|                     4|               4|                    1|               4|              5|           MKE|          null|                   null|                     null|2022-01-01 00:15:00|2022-01-01 00:10:05|              900|                605|           5|     N4XYAA|Business travel|     true|                   44|                   null|                       44|10400ac8bb51f0d0e...|324cc5c9237a0dfc9...|          false|\n",
            "|             null| 34|     MQ|2022-01-01 00:14:02|         842|INTERVAL '-0 00:0...|               2|              2|Business|          2|   Loyal Customer|   2021-05-06|INTERVAL '-0 00:0...|                                0|           605|2022-01-01 00:10:05|                MIA|           802|            802|                     0|         3551|          3551|             3|  Male| 43012| 43012|                     2|               2|                    0|               2|              4|           ORF|          null|                   null|                     null|2022-01-01 00:14:06|2022-01-01 00:10:10|              846|                610|           1|     N663MQ|Business travel|     true|                   34|                   null|                       34|a0f787ab1eeecd4c9...|42a83ebf64a58f5ad...|          false|\n",
            "|             null| 50|     DL|2022-01-01 00:12:05|         725|INTERVAL '-0 00:0...|               5|              5|     Eco|          3|   Loyal Customer|   2021-05-24|INTERVAL '-0 00:0...|                                5|           554|2022-01-01 00:09:14|                ATL|           481|            481|                     3|         1961|          1961|             3|Female| 18088| 18088|                     5|               5|                    3|               5|              4|           RIC|          null|                   null|                     null|2022-01-01 00:12:33|2022-01-01 00:10:00|              753|                600|           5|     N947DN|Personal Travel|     true|                   50|                   null|                       50|fa27342628c741486...|5b82b24100c17f607...|          false|\n",
            "|             null| 24|     NK|2022-01-01 00:08:23|         503|INTERVAL '0 00:00...|               3|              1|     Eco|          2|disloyal Customer|   2021-06-15|INTERVAL '-0 00:0...|                                4|           158|2022-01-01 00:02:38|                DFW|           868|            868|                     4|          972|           972|             2|  Male| 16112| 16112|                     2|               5|                    4|               4|              4|           PHX|          null|                   null|                     null|2022-01-01 00:08:22|2022-01-01 00:02:39|              502|                159|           2|     N606NK|Business travel|     true|                   24|                   null|                       24|239feae3642904772...|4c2cf22ca9edfba4f...|          false|\n",
            "|             null| 47|     UA|2022-01-01 00:20:13|        1213|INTERVAL '-0 00:0...|               5|              4|Business|          3|   Loyal Customer|   2021-04-23|INTERVAL '-0 00:0...|                                5|           557|2022-01-01 00:09:17|                ORD|          1846|           1846|                     4|         1158|          1158|             5|Female| 72478| 72478|                     5|               5|                    5|               5|              4|           SFO|          null|                   null|                     null|2022-01-01 00:20:17|2022-01-01 00:10:00|             1217|                600|           5|     N73445|Business travel|     true|                   47|                   null|                       47|26193351c26aa6ed8...|b133850f06b755113...|          false|\n",
            "|             null| 40|     AA|2022-01-01 00:00:00|           0|INTERVAL '-0 00:1...|               4|              4|Business|          4|   Loyal Customer|   2021-05-24|INTERVAL '-0 00:1...|                                2|             0|2022-01-01 00:00:00|                DCA|          1192|           1192|                     3|         1581|          1581|             4|  Male|119617|119617|                     4|               4|                    2|               4|              5|           DFW|          null|                   null|                     null|2022-01-01 00:15:59|2022-01-01 00:10:15|              959|                615|           5|     N3KGAA|Business travel|     true|                   40|                   null|                       40|78a3b58c8835898c1...|15ae82bffda729d33...|          false|\n",
            "|             null| 51|     AA|2022-01-01 00:14:14|         854|INTERVAL '-0 00:0...|               4|              5|Business|          4|   Loyal Customer|   2021-05-25|INTERVAL '0 00:00...|                                1|           618|2022-01-01 00:10:18|                DFW|           852|            852|                     1|         2253|          2253|             3|Female| 90639| 90639|                     4|               4|                    1|               4|              4|           MSP|          null|                   null|                     null|2022-01-01 00:15:00|2022-01-01 00:10:15|              900|                615|           4|     N437AA|Business travel|     true|                   51|                   null|                       51|f67b0dd90172268bd...|d4a778f1f3c2898c4...|          false|\n",
            "|             null| 38|     DL|2022-01-01 00:14:09|         849|INTERVAL '-0 00:0...|               4|              5|     Eco|          3|disloyal Customer|   2021-05-26|INTERVAL '-0 00:0...|                                1|           558|2022-01-01 00:09:18|                ATL|           946|            946|                     1|         2282|          2282|             3|Female| 31332| 31332|                     3|               3|                    1|               4|              1|           BOS|          null|                   null|                     null|2022-01-01 00:15:11|2022-01-01 00:10:00|              911|                600|           3|     N974DL|Business travel|     true|                   38|                   null|                       38|29724338d2ef4fc95...|3c64656035838509f...|          false|\n",
            "|             null| 34|     B6|2022-01-01 00:15:25|         925|INTERVAL '0 00:01...|               5|              4|Business|          1|disloyal Customer|   2021-05-29|INTERVAL '0 00:00...|                                3|           621|2022-01-01 00:10:21|                BOS|          1197|           1197|                     3|          922|           922|             1|  Male| 62291| 62291|                     1|               5|                    3|               5|              3|           PBI|          null|                   null|                     null|2022-01-01 00:14:17|2022-01-01 00:10:05|              857|                605|           1|     N809JB|Business travel|     true|                   34|                   null|                       34|44c826cce8eb294b1...|3f1a94fbc221677f3...|          false|\n",
            "|             null| 41|     AA|2022-01-01 00:00:00|           0|INTERVAL '-0 00:1...|               5|              4|Business|          4|   Loyal Customer|   2021-05-22|INTERVAL '-0 00:1...|                                4|             0|2022-01-01 00:00:00|                DFW|           986|            986|                     4|         1125|          1125|             4|  Male| 59357| 59357|                     5|               5|                    4|               5|              3|           DTW|          null|                   null|                     null|2022-01-01 00:13:40|2022-01-01 00:10:15|              820|                615|           4|     N3KCAA|Business travel|     true|                   41|                   null|                       41|59190604bc152dbbe...|057db76499e0bf4dc...|          false|\n",
            "|             null| 42|     B6|2022-01-01 00:11:43|         703|INTERVAL '-0 00:0...|               1|              2|     Eco|          2|   Loyal Customer|   2021-06-11|INTERVAL '-0 00:0...|                                1|           550|2022-01-01 00:09:10|                JFK|           264|            264|                     4|          185|           185|             3|Female| 63370| 63370|                     3|               3|                    4|               3|              3|           ROC|          null|                   null|                     null|2022-01-01 00:12:00|2022-01-01 00:09:15|              720|                555|           3|     N334JB|Personal Travel|     true|                   42|                   null|                       42|5d33948a45e85c607...|7a970377f79b83219...|          false|\n",
            "|             null| 10|     NK|2022-01-01 00:16:57|        1017|INTERVAL '0 00:02...|               3|              4|     Eco|          1|   Loyal Customer|   2021-05-05|INTERVAL '0 00:02...|                                4|           742|2022-01-01 00:12:22|                RSW|           982|            982|                     2|          943|           943|             1|Female|126579|126579|                     1|               4|                    2|               3|              2|           ACY|          null|                   null|                     null|2022-01-01 00:14:11|2022-01-01 00:10:00|              851|                600|           1|     N605NK|Personal Travel|     true|                   10|                   null|                       10|47c2bf3d9e842529e...|274e85b6b9c1a4614...|          false|\n",
            "|             null| 24|     US|2022-01-01 00:19:16|        1156|INTERVAL '-0 00:0...|               3|              4|     Eco|          2|disloyal Customer|   2021-05-18|INTERVAL '0 00:00...|                                3|           629|2022-01-01 00:10:29|                CLT|          1773|           1773|                     3|         1789|          1789|             2|Female| 83673| 83673|                     2|               2|                    3|               2|              3|           PHX|          null|                   null|                     null|2022-01-01 00:20:03|2022-01-01 00:10:15|             1203|                615|           2|     N543UW|Business travel|     true|                   24|                   null|                       24|4b84dfbeaf6b7d803...|1dd32763d1ba79074...|          false|\n",
            "|             null| 33|     AS|2022-01-01 00:14:01|         841|INTERVAL '-0 00:0...|               5|              3|Business|          4|   Loyal Customer|   2021-06-03|INTERVAL '-0 00:0...|                                2|           555|2022-01-01 00:09:15|                SEA|           954|            954|                     3|          477|           477|             4|  Male|111696|111696|                     4|               4|                    2|               5|              4|           LAX|          null|                   null|                     null|2022-01-01 00:14:10|2022-01-01 00:10:00|              850|                600|           4|     N453AS|Business travel|     true|                   33|                   null|                       33|d135c3617820ae01a...|83c1cd49e8afad3eb...|          false|\n",
            "|             null| 50|     OO|2022-01-01 00:13:33|         813|INTERVAL '0 00:00...|               4|              2|Business|          2|   Loyal Customer|   2021-05-15|INTERVAL '-0 00:0...|                                2|           557|2022-01-01 00:09:17|                SEA|           748|            748|                     2|         3489|          3489|             2|  Male|113849|113849|                     3|               5|                    2|               5|              2|           FAT|          null|                   null|                     null|2022-01-01 00:13:30|2022-01-01 00:10:00|              810|                600|           2|     N227AG|Business travel|     true|                   50|                   null|                       50|2c1c5d1be2b5ea59f...|0e1619b6ddc741c4f...|          false|\n",
            "|             null| 43|     US|2022-01-01 00:12:33|         753|INTERVAL '-0 00:0...|               4|              5|Business|          3|   Loyal Customer|   2021-05-12|INTERVAL '0 00:00...|                                2|            44|2022-01-01 00:00:44|                CLT|          2125|           2125|                     2|         2013|          2013|             4|Female| 97286| 97286|                     4|               4|                    2|               4|              4|           LAX|          null|                   null|                     null|2022-01-01 00:13:23|2022-01-01 00:00:30|              803|                 30|           5|     N584UW|Business travel|     true|                   43|                   null|                       43|f9c15f26c7e6c520c...|602fbf85347e928dd...|          false|\n",
            "|             null| 58|     OO|2022-01-01 00:12:10|         730|INTERVAL '0 00:00...|               2|              4|Business|          3|   Loyal Customer|   2021-05-09|INTERVAL '0 00:00...|                                5|           600|2022-01-01 00:10:00|                DEN|           300|            300|                     0|         6360|          6360|             4|Female| 19525| 19525|                     2|               2|                    0|               2|              4|           RAP|          null|                   null|                     null|2022-01-01 00:12:02|2022-01-01 00:10:00|              722|                600|           4|     N952SW|Business travel|     true|                   58|                   null|                       58|41ea9184d6a1e07ec...|bd34bc4cf1d83060c...|          false|\n",
            "|             null| 40|     WN|2022-01-01 00:12:09|         729|INTERVAL '-0 00:0...|               4|              3|Business|          2|disloyal Customer|   2021-04-19|INTERVAL '0 00:00...|                                2|           601|2022-01-01 00:10:01|                SLC|           507|            507|                     2|          676|           676|             2|  Male|102318|102318|                     2|               5|                    2|               4|              2|           PHX|          null|                   null|                     null|2022-01-01 00:12:15|2022-01-01 00:10:00|              735|                600|           2|     N630WN|Business travel|     true|                   40|                   null|                       40|ae3f48dd545c1678e...|203409ccde7dfdc8a...|          false|\n",
            "|             null| 48|     EV|2022-01-01 00:14:08|         848|INTERVAL '-0 00:0...|               5|              1|     Eco|          2|   Loyal Customer|   2021-06-04|INTERVAL '0 00:00...|                                3|           554|2022-01-01 00:09:14|                ATL|           694|            694|                     3|         5230|          5230|             1|Female| 14794| 14794|                     5|               5|                    5|               5|              2|           CID|          null|                   null|                     null|2022-01-01 00:15:05|2022-01-01 00:09:14|              905|                554|           1|     N181PQ|Business travel|     true|                   48|                   null|                       48|283109a1f44f1089c...|769e21b47575f795f...|          false|\n",
            "|             null| 26|     AA|2022-01-01 00:00:00|           0|INTERVAL '-0 00:1...|               2|              2|Business|          2|disloyal Customer|   2021-05-22|INTERVAL '-0 00:1...|                                2|             0|2022-01-01 00:00:00|                DFW|          1188|           1188|                     2|         1462|          1462|             2|  Male|124811|124811|                     2|               3|                    2|               2|              2|           ONT|          null|                   null|                     null|2022-01-01 00:18:20|2022-01-01 00:10:00|             1100|                600|           2|     N547AA|Business travel|     true|                   26|                   null|                       26|50d816141e413b796...|4df2250383282f273...|          false|\n",
            "+-----------------+---+-------+-------------------+------------+--------------------+----------------+---------------+--------+-----------+-----------------+-------------+--------------------+---------------------------------+--------------+-------------------+-------------------+--------------+---------------+----------------------+-------------+--------------+--------------+------+------+------+----------------------+----------------+---------------------+----------------+---------------+--------------+--------------+-----------------------+-------------------------+-------------------+-------------------+-----------------+-------------------+------------+-----------+---------------+---------+---------------------+-----------------------+-------------------------+--------------------+--------------------+---------------+\n",
            "only showing top 20 rows\n",
            "\n",
            "number of new record contents: 499\n"
          ]
        },
        {
          "output_type": "execute_result",
          "data": {
            "text/plain": [
              "True"
            ]
          },
          "metadata": {},
          "execution_count": 52
        }
      ]
    },
    {
      "cell_type": "code",
      "source": [],
      "metadata": {
        "id": "mTmcLIm-Yr6K"
      },
      "execution_count": null,
      "outputs": []
    },
    {
      "cell_type": "code",
      "source": [
        "solution._scd_type_II_merge_setup()"
      ],
      "metadata": {
        "id": "S7Ucs9VrQIKT",
        "colab": {
          "base_uri": "https://localhost:8080/"
        },
        "outputId": "7e86f5b1-4418-4d02-ed5b-90ac68f49d3d"
      },
      "execution_count": null,
      "outputs": [
        {
          "output_type": "stream",
          "name": "stdout",
          "text": [
            "['Age', 'AIRLINE', 'ARR_TIME', 'ARRIVAL_TIME', 'ARRIVED', 'Baggage_handling', 'Checkin_service', 'Class', 'Cleanliness', 'Customer_Type', 'Date_of_Board', 'DEPARTED', 'Departure/Arrival_time_convenient', 'DEPARTURE_TIME', 'DEPT_TIME', 'DESTINATION_AIRPORT', 'DISTANCE_in_KM', 'DISTANCE_in_KM_', 'Ease_of_Online_booking', 'FLIGHT_NUMBER', 'FLIGHT_NUMBER_', 'Food_and_drink', 'Gender', 'id', 'id_', 'Inflight_entertainment', 'Inflight_service', 'Inflight_wifi_service', 'On-board_service', 'Online_boarding', 'ORIGIN_AIRPORT', 'Overall_Survey', 'Reason_of_Arrival_delay', 'Reason_of_departure_delay', 'SCHED_ARRIVAL', 'SCHED_DEPARTURE', 'SCHEDULED_ARRIVAL', 'SCHEDULED_DEPARTURE', 'Seat_comfort', 'TAIL_NUMBER', 'Type_of_Travel']\n",
            "if\n",
            "+-----------------+---+-------+-------------------+------------+--------------------+----------------+---------------+--------+-----------+-----------------+-------------+--------------------+---------------------------------+--------------+-------------------+-------------------+--------------+---------------+----------------------+-------------+--------------+--------------+------+------+------+----------------------+----------------+---------------------+----------------+---------------+--------------+--------------+-----------------------+-------------------------+-------------------+-------------------+-----------------+-------------------+------------+-----------+---------------+---------+---------------------+-----------------------+-------------------------+--------------------+--------------------+---------------+--------------------------+------------------------+\n",
            "|__input_file_name|Age|AIRLINE|           ARR_TIME|ARRIVAL_TIME|             ARRIVED|Baggage_handling|Checkin_service|   Class|Cleanliness|    Customer_Type|Date_of_Board|            DEPARTED|Departure/Arrival_time_convenient|DEPARTURE_TIME|          DEPT_TIME|DESTINATION_AIRPORT|DISTANCE_in_KM|DISTANCE_in_KM_|Ease_of_Online_booking|FLIGHT_NUMBER|FLIGHT_NUMBER_|Food_and_drink|Gender|    id|   id_|Inflight_entertainment|Inflight_service|Inflight_wifi_service|On-board_service|Online_boarding|ORIGIN_AIRPORT|Overall_Survey|Reason_of_Arrival_delay|Reason_of_departure_delay|      SCHED_ARRIVAL|    SCHED_DEPARTURE|SCHEDULED_ARRIVAL|SCHEDULED_DEPARTURE|Seat_comfort|TAIL_NUMBER| Type_of_Travel|__current|__activation_datetime|__deactivation_datetime|__minimum_activation_date| __business_key_hash|  __content_key_hash|__is_historical|__bronze_landing_date_time|__modification_date_time|\n",
            "+-----------------+---+-------+-------------------+------------+--------------------+----------------+---------------+--------+-----------+-----------------+-------------+--------------------+---------------------------------+--------------+-------------------+-------------------+--------------+---------------+----------------------+-------------+--------------+--------------+------+------+------+----------------------+----------------+---------------------+----------------+---------------+--------------+--------------+-----------------------+-------------------------+-------------------+-------------------+-----------------+-------------------+------------+-----------+---------------+---------+---------------------+-----------------------+-------------------------+--------------------+--------------------+---------------+--------------------------+------------------------+\n",
            "|             null| 44|     AA|2022-01-01 00:14:09|         849|INTERVAL '-0 00:0...|               4|              5|Business|          4|   Loyal Customer|   2021-05-23|INTERVAL '0 00:00...|                                1|           605|2022-01-01 00:10:05|                DFW|           853|            853|                     3|         1291|          1291|             3|  Male| 77866| 77866|                     4|               4|                    1|               4|              5|           MKE|          null|                   null|                     null|2022-01-01 00:15:00|2022-01-01 00:10:05|              900|                605|           5|     N4XYAA|Business travel|     true|                   44|                   null|                       44|10400ac8bb51f0d0e...|324cc5c9237a0dfc9...|          false|                      null|                      44|\n",
            "|             null| 34|     MQ|2022-01-01 00:14:02|         842|INTERVAL '-0 00:0...|               2|              2|Business|          2|   Loyal Customer|   2021-05-06|INTERVAL '-0 00:0...|                                0|           605|2022-01-01 00:10:05|                MIA|           802|            802|                     0|         3551|          3551|             3|  Male| 43012| 43012|                     2|               2|                    0|               2|              4|           ORF|          null|                   null|                     null|2022-01-01 00:14:06|2022-01-01 00:10:10|              846|                610|           1|     N663MQ|Business travel|     true|                   34|                   null|                       34|a0f787ab1eeecd4c9...|42a83ebf64a58f5ad...|          false|                      null|                      34|\n",
            "|             null| 50|     DL|2022-01-01 00:12:05|         725|INTERVAL '-0 00:0...|               5|              5|     Eco|          3|   Loyal Customer|   2021-05-24|INTERVAL '-0 00:0...|                                5|           554|2022-01-01 00:09:14|                ATL|           481|            481|                     3|         1961|          1961|             3|Female| 18088| 18088|                     5|               5|                    3|               5|              4|           RIC|          null|                   null|                     null|2022-01-01 00:12:33|2022-01-01 00:10:00|              753|                600|           5|     N947DN|Personal Travel|     true|                   50|                   null|                       50|fa27342628c741486...|5b82b24100c17f607...|          false|                      null|                      50|\n",
            "|             null| 24|     NK|2022-01-01 00:08:23|         503|INTERVAL '0 00:00...|               3|              1|     Eco|          2|disloyal Customer|   2021-06-15|INTERVAL '-0 00:0...|                                4|           158|2022-01-01 00:02:38|                DFW|           868|            868|                     4|          972|           972|             2|  Male| 16112| 16112|                     2|               5|                    4|               4|              4|           PHX|          null|                   null|                     null|2022-01-01 00:08:22|2022-01-01 00:02:39|              502|                159|           2|     N606NK|Business travel|     true|                   24|                   null|                       24|239feae3642904772...|4c2cf22ca9edfba4f...|          false|                      null|                      24|\n",
            "|             null| 47|     UA|2022-01-01 00:20:13|        1213|INTERVAL '-0 00:0...|               5|              4|Business|          3|   Loyal Customer|   2021-04-23|INTERVAL '-0 00:0...|                                5|           557|2022-01-01 00:09:17|                ORD|          1846|           1846|                     4|         1158|          1158|             5|Female| 72478| 72478|                     5|               5|                    5|               5|              4|           SFO|          null|                   null|                     null|2022-01-01 00:20:17|2022-01-01 00:10:00|             1217|                600|           5|     N73445|Business travel|     true|                   47|                   null|                       47|26193351c26aa6ed8...|b133850f06b755113...|          false|                      null|                      47|\n",
            "|             null| 40|     AA|2022-01-01 00:00:00|           0|INTERVAL '-0 00:1...|               4|              4|Business|          4|   Loyal Customer|   2021-05-24|INTERVAL '-0 00:1...|                                2|             0|2022-01-01 00:00:00|                DCA|          1192|           1192|                     3|         1581|          1581|             4|  Male|119617|119617|                     4|               4|                    2|               4|              5|           DFW|          null|                   null|                     null|2022-01-01 00:15:59|2022-01-01 00:10:15|              959|                615|           5|     N3KGAA|Business travel|     true|                   40|                   null|                       40|78a3b58c8835898c1...|15ae82bffda729d33...|          false|                      null|                      40|\n",
            "|             null| 51|     AA|2022-01-01 00:14:14|         854|INTERVAL '-0 00:0...|               4|              5|Business|          4|   Loyal Customer|   2021-05-25|INTERVAL '0 00:00...|                                1|           618|2022-01-01 00:10:18|                DFW|           852|            852|                     1|         2253|          2253|             3|Female| 90639| 90639|                     4|               4|                    1|               4|              4|           MSP|          null|                   null|                     null|2022-01-01 00:15:00|2022-01-01 00:10:15|              900|                615|           4|     N437AA|Business travel|     true|                   51|                   null|                       51|f67b0dd90172268bd...|d4a778f1f3c2898c4...|          false|                      null|                      51|\n",
            "|             null| 38|     DL|2022-01-01 00:14:09|         849|INTERVAL '-0 00:0...|               4|              5|     Eco|          3|disloyal Customer|   2021-05-26|INTERVAL '-0 00:0...|                                1|           558|2022-01-01 00:09:18|                ATL|           946|            946|                     1|         2282|          2282|             3|Female| 31332| 31332|                     3|               3|                    1|               4|              1|           BOS|          null|                   null|                     null|2022-01-01 00:15:11|2022-01-01 00:10:00|              911|                600|           3|     N974DL|Business travel|     true|                   38|                   null|                       38|29724338d2ef4fc95...|3c64656035838509f...|          false|                      null|                      38|\n",
            "|             null| 34|     B6|2022-01-01 00:15:25|         925|INTERVAL '0 00:01...|               5|              4|Business|          1|disloyal Customer|   2021-05-29|INTERVAL '0 00:00...|                                3|           621|2022-01-01 00:10:21|                BOS|          1197|           1197|                     3|          922|           922|             1|  Male| 62291| 62291|                     1|               5|                    3|               5|              3|           PBI|          null|                   null|                     null|2022-01-01 00:14:17|2022-01-01 00:10:05|              857|                605|           1|     N809JB|Business travel|     true|                   34|                   null|                       34|44c826cce8eb294b1...|3f1a94fbc221677f3...|          false|                      null|                      34|\n",
            "|             null| 41|     AA|2022-01-01 00:00:00|           0|INTERVAL '-0 00:1...|               5|              4|Business|          4|   Loyal Customer|   2021-05-22|INTERVAL '-0 00:1...|                                4|             0|2022-01-01 00:00:00|                DFW|           986|            986|                     4|         1125|          1125|             4|  Male| 59357| 59357|                     5|               5|                    4|               5|              3|           DTW|          null|                   null|                     null|2022-01-01 00:13:40|2022-01-01 00:10:15|              820|                615|           4|     N3KCAA|Business travel|     true|                   41|                   null|                       41|59190604bc152dbbe...|057db76499e0bf4dc...|          false|                      null|                      41|\n",
            "|             null| 42|     B6|2022-01-01 00:11:43|         703|INTERVAL '-0 00:0...|               1|              2|     Eco|          2|   Loyal Customer|   2021-06-11|INTERVAL '-0 00:0...|                                1|           550|2022-01-01 00:09:10|                JFK|           264|            264|                     4|          185|           185|             3|Female| 63370| 63370|                     3|               3|                    4|               3|              3|           ROC|          null|                   null|                     null|2022-01-01 00:12:00|2022-01-01 00:09:15|              720|                555|           3|     N334JB|Personal Travel|     true|                   42|                   null|                       42|5d33948a45e85c607...|7a970377f79b83219...|          false|                      null|                      42|\n",
            "|             null| 10|     NK|2022-01-01 00:16:57|        1017|INTERVAL '0 00:02...|               3|              4|     Eco|          1|   Loyal Customer|   2021-05-05|INTERVAL '0 00:02...|                                4|           742|2022-01-01 00:12:22|                RSW|           982|            982|                     2|          943|           943|             1|Female|126579|126579|                     1|               4|                    2|               3|              2|           ACY|          null|                   null|                     null|2022-01-01 00:14:11|2022-01-01 00:10:00|              851|                600|           1|     N605NK|Personal Travel|     true|                   10|                   null|                       10|47c2bf3d9e842529e...|274e85b6b9c1a4614...|          false|                      null|                      10|\n",
            "|             null| 24|     US|2022-01-01 00:19:16|        1156|INTERVAL '-0 00:0...|               3|              4|     Eco|          2|disloyal Customer|   2021-05-18|INTERVAL '0 00:00...|                                3|           629|2022-01-01 00:10:29|                CLT|          1773|           1773|                     3|         1789|          1789|             2|Female| 83673| 83673|                     2|               2|                    3|               2|              3|           PHX|          null|                   null|                     null|2022-01-01 00:20:03|2022-01-01 00:10:15|             1203|                615|           2|     N543UW|Business travel|     true|                   24|                   null|                       24|4b84dfbeaf6b7d803...|1dd32763d1ba79074...|          false|                      null|                      24|\n",
            "|             null| 33|     AS|2022-01-01 00:14:01|         841|INTERVAL '-0 00:0...|               5|              3|Business|          4|   Loyal Customer|   2021-06-03|INTERVAL '-0 00:0...|                                2|           555|2022-01-01 00:09:15|                SEA|           954|            954|                     3|          477|           477|             4|  Male|111696|111696|                     4|               4|                    2|               5|              4|           LAX|          null|                   null|                     null|2022-01-01 00:14:10|2022-01-01 00:10:00|              850|                600|           4|     N453AS|Business travel|     true|                   33|                   null|                       33|d135c3617820ae01a...|83c1cd49e8afad3eb...|          false|                      null|                      33|\n",
            "|             null| 50|     OO|2022-01-01 00:13:33|         813|INTERVAL '0 00:00...|               4|              2|Business|          2|   Loyal Customer|   2021-05-15|INTERVAL '-0 00:0...|                                2|           557|2022-01-01 00:09:17|                SEA|           748|            748|                     2|         3489|          3489|             2|  Male|113849|113849|                     3|               5|                    2|               5|              2|           FAT|          null|                   null|                     null|2022-01-01 00:13:30|2022-01-01 00:10:00|              810|                600|           2|     N227AG|Business travel|     true|                   50|                   null|                       50|2c1c5d1be2b5ea59f...|0e1619b6ddc741c4f...|          false|                      null|                      50|\n",
            "|             null| 43|     US|2022-01-01 00:12:33|         753|INTERVAL '-0 00:0...|               4|              5|Business|          3|   Loyal Customer|   2021-05-12|INTERVAL '0 00:00...|                                2|            44|2022-01-01 00:00:44|                CLT|          2125|           2125|                     2|         2013|          2013|             4|Female| 97286| 97286|                     4|               4|                    2|               4|              4|           LAX|          null|                   null|                     null|2022-01-01 00:13:23|2022-01-01 00:00:30|              803|                 30|           5|     N584UW|Business travel|     true|                   43|                   null|                       43|f9c15f26c7e6c520c...|602fbf85347e928dd...|          false|                      null|                      43|\n",
            "|             null| 58|     OO|2022-01-01 00:12:10|         730|INTERVAL '0 00:00...|               2|              4|Business|          3|   Loyal Customer|   2021-05-09|INTERVAL '0 00:00...|                                5|           600|2022-01-01 00:10:00|                DEN|           300|            300|                     0|         6360|          6360|             4|Female| 19525| 19525|                     2|               2|                    0|               2|              4|           RAP|          null|                   null|                     null|2022-01-01 00:12:02|2022-01-01 00:10:00|              722|                600|           4|     N952SW|Business travel|     true|                   58|                   null|                       58|41ea9184d6a1e07ec...|bd34bc4cf1d83060c...|          false|                      null|                      58|\n",
            "|             null| 40|     WN|2022-01-01 00:12:09|         729|INTERVAL '-0 00:0...|               4|              3|Business|          2|disloyal Customer|   2021-04-19|INTERVAL '0 00:00...|                                2|           601|2022-01-01 00:10:01|                SLC|           507|            507|                     2|          676|           676|             2|  Male|102318|102318|                     2|               5|                    2|               4|              2|           PHX|          null|                   null|                     null|2022-01-01 00:12:15|2022-01-01 00:10:00|              735|                600|           2|     N630WN|Business travel|     true|                   40|                   null|                       40|ae3f48dd545c1678e...|203409ccde7dfdc8a...|          false|                      null|                      40|\n",
            "|             null| 48|     EV|2022-01-01 00:14:08|         848|INTERVAL '-0 00:0...|               5|              1|     Eco|          2|   Loyal Customer|   2021-06-04|INTERVAL '0 00:00...|                                3|           554|2022-01-01 00:09:14|                ATL|           694|            694|                     3|         5230|          5230|             1|Female| 14794| 14794|                     5|               5|                    5|               5|              2|           CID|          null|                   null|                     null|2022-01-01 00:15:05|2022-01-01 00:09:14|              905|                554|           1|     N181PQ|Business travel|     true|                   48|                   null|                       48|283109a1f44f1089c...|769e21b47575f795f...|          false|                      null|                      48|\n",
            "|             null| 26|     AA|2022-01-01 00:00:00|           0|INTERVAL '-0 00:1...|               2|              2|Business|          2|disloyal Customer|   2021-05-22|INTERVAL '-0 00:1...|                                2|             0|2022-01-01 00:00:00|                DFW|          1188|           1188|                     2|         1462|          1462|             2|  Male|124811|124811|                     2|               3|                    2|               2|              2|           ONT|          null|                   null|                     null|2022-01-01 00:18:20|2022-01-01 00:10:00|             1100|                600|           2|     N547AA|Business travel|     true|                   26|                   null|                       26|50d816141e413b796...|4df2250383282f273...|          false|                      null|                      26|\n",
            "+-----------------+---+-------+-------------------+------------+--------------------+----------------+---------------+--------+-----------+-----------------+-------------+--------------------+---------------------------------+--------------+-------------------+-------------------+--------------+---------------+----------------------+-------------+--------------+--------------+------+------+------+----------------------+----------------+---------------------+----------------+---------------+--------------+--------------+-----------------------+-------------------------+-------------------+-------------------+-----------------+-------------------+------------+-----------+---------------+---------+---------------------+-----------------------+-------------------------+--------------------+--------------------+---------------+--------------------------+------------------------+\n",
            "only showing top 20 rows\n",
            "\n",
            "+-----------------+---+-------+-------------------+------------+--------------------+----------------+---------------+--------+-----------+-----------------+-------------+--------------------+---------------------------------+--------------+-------------------+-------------------+--------------+---------------+----------------------+-------------+--------------+--------------+------+------+------+----------------------+----------------+---------------------+----------------+---------------+--------------+--------------+-----------------------+-------------------------+-------------------+-------------------+-----------------+-------------------+------------+-----------+---------------+---------+---------------------+-----------------------+-------------------------+--------------------+--------------------+---------------+\n",
            "|__input_file_name|Age|AIRLINE|           ARR_TIME|ARRIVAL_TIME|             ARRIVED|Baggage_handling|Checkin_service|   Class|Cleanliness|    Customer_Type|Date_of_Board|            DEPARTED|Departure/Arrival_time_convenient|DEPARTURE_TIME|          DEPT_TIME|DESTINATION_AIRPORT|DISTANCE_in_KM|DISTANCE_in_KM_|Ease_of_Online_booking|FLIGHT_NUMBER|FLIGHT_NUMBER_|Food_and_drink|Gender|    id|   id_|Inflight_entertainment|Inflight_service|Inflight_wifi_service|On-board_service|Online_boarding|ORIGIN_AIRPORT|Overall_Survey|Reason_of_Arrival_delay|Reason_of_departure_delay|      SCHED_ARRIVAL|    SCHED_DEPARTURE|SCHEDULED_ARRIVAL|SCHEDULED_DEPARTURE|Seat_comfort|TAIL_NUMBER| Type_of_Travel|__current|__activation_datetime|__deactivation_datetime|__minimum_activation_date| __business_key_hash|  __content_key_hash|__is_historical|\n",
            "+-----------------+---+-------+-------------------+------------+--------------------+----------------+---------------+--------+-----------+-----------------+-------------+--------------------+---------------------------------+--------------+-------------------+-------------------+--------------+---------------+----------------------+-------------+--------------+--------------+------+------+------+----------------------+----------------+---------------------+----------------+---------------+--------------+--------------+-----------------------+-------------------------+-------------------+-------------------+-----------------+-------------------+------------+-----------+---------------+---------+---------------------+-----------------------+-------------------------+--------------------+--------------------+---------------+\n",
            "|             null| 44|     AA|2022-01-01 00:14:09|         849|INTERVAL '-0 00:0...|               4|              5|Business|          4|   Loyal Customer|   2021-05-23|INTERVAL '0 00:00...|                                1|           605|2022-01-01 00:10:05|                DFW|           853|            853|                     3|         1291|          1291|             3|  Male| 77866| 77866|                     4|               4|                    1|               4|              5|           MKE|          null|                   null|                     null|2022-01-01 00:15:00|2022-01-01 00:10:05|              900|                605|           5|     N4XYAA|Business travel|     true|                   44|                   null|                       44|10400ac8bb51f0d0e...|324cc5c9237a0dfc9...|          false|\n",
            "|             null| 34|     MQ|2022-01-01 00:14:02|         842|INTERVAL '-0 00:0...|               2|              2|Business|          2|   Loyal Customer|   2021-05-06|INTERVAL '-0 00:0...|                                0|           605|2022-01-01 00:10:05|                MIA|           802|            802|                     0|         3551|          3551|             3|  Male| 43012| 43012|                     2|               2|                    0|               2|              4|           ORF|          null|                   null|                     null|2022-01-01 00:14:06|2022-01-01 00:10:10|              846|                610|           1|     N663MQ|Business travel|     true|                   34|                   null|                       34|a0f787ab1eeecd4c9...|42a83ebf64a58f5ad...|          false|\n",
            "|             null| 50|     DL|2022-01-01 00:12:05|         725|INTERVAL '-0 00:0...|               5|              5|     Eco|          3|   Loyal Customer|   2021-05-24|INTERVAL '-0 00:0...|                                5|           554|2022-01-01 00:09:14|                ATL|           481|            481|                     3|         1961|          1961|             3|Female| 18088| 18088|                     5|               5|                    3|               5|              4|           RIC|          null|                   null|                     null|2022-01-01 00:12:33|2022-01-01 00:10:00|              753|                600|           5|     N947DN|Personal Travel|     true|                   50|                   null|                       50|fa27342628c741486...|5b82b24100c17f607...|          false|\n",
            "|             null| 24|     NK|2022-01-01 00:08:23|         503|INTERVAL '0 00:00...|               3|              1|     Eco|          2|disloyal Customer|   2021-06-15|INTERVAL '-0 00:0...|                                4|           158|2022-01-01 00:02:38|                DFW|           868|            868|                     4|          972|           972|             2|  Male| 16112| 16112|                     2|               5|                    4|               4|              4|           PHX|          null|                   null|                     null|2022-01-01 00:08:22|2022-01-01 00:02:39|              502|                159|           2|     N606NK|Business travel|     true|                   24|                   null|                       24|239feae3642904772...|4c2cf22ca9edfba4f...|          false|\n",
            "|             null| 47|     UA|2022-01-01 00:20:13|        1213|INTERVAL '-0 00:0...|               5|              4|Business|          3|   Loyal Customer|   2021-04-23|INTERVAL '-0 00:0...|                                5|           557|2022-01-01 00:09:17|                ORD|          1846|           1846|                     4|         1158|          1158|             5|Female| 72478| 72478|                     5|               5|                    5|               5|              4|           SFO|          null|                   null|                     null|2022-01-01 00:20:17|2022-01-01 00:10:00|             1217|                600|           5|     N73445|Business travel|     true|                   47|                   null|                       47|26193351c26aa6ed8...|b133850f06b755113...|          false|\n",
            "|             null| 40|     AA|2022-01-01 00:00:00|           0|INTERVAL '-0 00:1...|               4|              4|Business|          4|   Loyal Customer|   2021-05-24|INTERVAL '-0 00:1...|                                2|             0|2022-01-01 00:00:00|                DCA|          1192|           1192|                     3|         1581|          1581|             4|  Male|119617|119617|                     4|               4|                    2|               4|              5|           DFW|          null|                   null|                     null|2022-01-01 00:15:59|2022-01-01 00:10:15|              959|                615|           5|     N3KGAA|Business travel|     true|                   40|                   null|                       40|78a3b58c8835898c1...|15ae82bffda729d33...|          false|\n",
            "|             null| 51|     AA|2022-01-01 00:14:14|         854|INTERVAL '-0 00:0...|               4|              5|Business|          4|   Loyal Customer|   2021-05-25|INTERVAL '0 00:00...|                                1|           618|2022-01-01 00:10:18|                DFW|           852|            852|                     1|         2253|          2253|             3|Female| 90639| 90639|                     4|               4|                    1|               4|              4|           MSP|          null|                   null|                     null|2022-01-01 00:15:00|2022-01-01 00:10:15|              900|                615|           4|     N437AA|Business travel|     true|                   51|                   null|                       51|f67b0dd90172268bd...|d4a778f1f3c2898c4...|          false|\n",
            "|             null| 38|     DL|2022-01-01 00:14:09|         849|INTERVAL '-0 00:0...|               4|              5|     Eco|          3|disloyal Customer|   2021-05-26|INTERVAL '-0 00:0...|                                1|           558|2022-01-01 00:09:18|                ATL|           946|            946|                     1|         2282|          2282|             3|Female| 31332| 31332|                     3|               3|                    1|               4|              1|           BOS|          null|                   null|                     null|2022-01-01 00:15:11|2022-01-01 00:10:00|              911|                600|           3|     N974DL|Business travel|     true|                   38|                   null|                       38|29724338d2ef4fc95...|3c64656035838509f...|          false|\n",
            "|             null| 34|     B6|2022-01-01 00:15:25|         925|INTERVAL '0 00:01...|               5|              4|Business|          1|disloyal Customer|   2021-05-29|INTERVAL '0 00:00...|                                3|           621|2022-01-01 00:10:21|                BOS|          1197|           1197|                     3|          922|           922|             1|  Male| 62291| 62291|                     1|               5|                    3|               5|              3|           PBI|          null|                   null|                     null|2022-01-01 00:14:17|2022-01-01 00:10:05|              857|                605|           1|     N809JB|Business travel|     true|                   34|                   null|                       34|44c826cce8eb294b1...|3f1a94fbc221677f3...|          false|\n",
            "|             null| 41|     AA|2022-01-01 00:00:00|           0|INTERVAL '-0 00:1...|               5|              4|Business|          4|   Loyal Customer|   2021-05-22|INTERVAL '-0 00:1...|                                4|             0|2022-01-01 00:00:00|                DFW|           986|            986|                     4|         1125|          1125|             4|  Male| 59357| 59357|                     5|               5|                    4|               5|              3|           DTW|          null|                   null|                     null|2022-01-01 00:13:40|2022-01-01 00:10:15|              820|                615|           4|     N3KCAA|Business travel|     true|                   41|                   null|                       41|59190604bc152dbbe...|057db76499e0bf4dc...|          false|\n",
            "|             null| 42|     B6|2022-01-01 00:11:43|         703|INTERVAL '-0 00:0...|               1|              2|     Eco|          2|   Loyal Customer|   2021-06-11|INTERVAL '-0 00:0...|                                1|           550|2022-01-01 00:09:10|                JFK|           264|            264|                     4|          185|           185|             3|Female| 63370| 63370|                     3|               3|                    4|               3|              3|           ROC|          null|                   null|                     null|2022-01-01 00:12:00|2022-01-01 00:09:15|              720|                555|           3|     N334JB|Personal Travel|     true|                   42|                   null|                       42|5d33948a45e85c607...|7a970377f79b83219...|          false|\n",
            "|             null| 10|     NK|2022-01-01 00:16:57|        1017|INTERVAL '0 00:02...|               3|              4|     Eco|          1|   Loyal Customer|   2021-05-05|INTERVAL '0 00:02...|                                4|           742|2022-01-01 00:12:22|                RSW|           982|            982|                     2|          943|           943|             1|Female|126579|126579|                     1|               4|                    2|               3|              2|           ACY|          null|                   null|                     null|2022-01-01 00:14:11|2022-01-01 00:10:00|              851|                600|           1|     N605NK|Personal Travel|     true|                   10|                   null|                       10|47c2bf3d9e842529e...|274e85b6b9c1a4614...|          false|\n",
            "|             null| 24|     US|2022-01-01 00:19:16|        1156|INTERVAL '-0 00:0...|               3|              4|     Eco|          2|disloyal Customer|   2021-05-18|INTERVAL '0 00:00...|                                3|           629|2022-01-01 00:10:29|                CLT|          1773|           1773|                     3|         1789|          1789|             2|Female| 83673| 83673|                     2|               2|                    3|               2|              3|           PHX|          null|                   null|                     null|2022-01-01 00:20:03|2022-01-01 00:10:15|             1203|                615|           2|     N543UW|Business travel|     true|                   24|                   null|                       24|4b84dfbeaf6b7d803...|1dd32763d1ba79074...|          false|\n",
            "|             null| 33|     AS|2022-01-01 00:14:01|         841|INTERVAL '-0 00:0...|               5|              3|Business|          4|   Loyal Customer|   2021-06-03|INTERVAL '-0 00:0...|                                2|           555|2022-01-01 00:09:15|                SEA|           954|            954|                     3|          477|           477|             4|  Male|111696|111696|                     4|               4|                    2|               5|              4|           LAX|          null|                   null|                     null|2022-01-01 00:14:10|2022-01-01 00:10:00|              850|                600|           4|     N453AS|Business travel|     true|                   33|                   null|                       33|d135c3617820ae01a...|83c1cd49e8afad3eb...|          false|\n",
            "|             null| 50|     OO|2022-01-01 00:13:33|         813|INTERVAL '0 00:00...|               4|              2|Business|          2|   Loyal Customer|   2021-05-15|INTERVAL '-0 00:0...|                                2|           557|2022-01-01 00:09:17|                SEA|           748|            748|                     2|         3489|          3489|             2|  Male|113849|113849|                     3|               5|                    2|               5|              2|           FAT|          null|                   null|                     null|2022-01-01 00:13:30|2022-01-01 00:10:00|              810|                600|           2|     N227AG|Business travel|     true|                   50|                   null|                       50|2c1c5d1be2b5ea59f...|0e1619b6ddc741c4f...|          false|\n",
            "|             null| 43|     US|2022-01-01 00:12:33|         753|INTERVAL '-0 00:0...|               4|              5|Business|          3|   Loyal Customer|   2021-05-12|INTERVAL '0 00:00...|                                2|            44|2022-01-01 00:00:44|                CLT|          2125|           2125|                     2|         2013|          2013|             4|Female| 97286| 97286|                     4|               4|                    2|               4|              4|           LAX|          null|                   null|                     null|2022-01-01 00:13:23|2022-01-01 00:00:30|              803|                 30|           5|     N584UW|Business travel|     true|                   43|                   null|                       43|f9c15f26c7e6c520c...|602fbf85347e928dd...|          false|\n",
            "|             null| 58|     OO|2022-01-01 00:12:10|         730|INTERVAL '0 00:00...|               2|              4|Business|          3|   Loyal Customer|   2021-05-09|INTERVAL '0 00:00...|                                5|           600|2022-01-01 00:10:00|                DEN|           300|            300|                     0|         6360|          6360|             4|Female| 19525| 19525|                     2|               2|                    0|               2|              4|           RAP|          null|                   null|                     null|2022-01-01 00:12:02|2022-01-01 00:10:00|              722|                600|           4|     N952SW|Business travel|     true|                   58|                   null|                       58|41ea9184d6a1e07ec...|bd34bc4cf1d83060c...|          false|\n",
            "|             null| 40|     WN|2022-01-01 00:12:09|         729|INTERVAL '-0 00:0...|               4|              3|Business|          2|disloyal Customer|   2021-04-19|INTERVAL '0 00:00...|                                2|           601|2022-01-01 00:10:01|                SLC|           507|            507|                     2|          676|           676|             2|  Male|102318|102318|                     2|               5|                    2|               4|              2|           PHX|          null|                   null|                     null|2022-01-01 00:12:15|2022-01-01 00:10:00|              735|                600|           2|     N630WN|Business travel|     true|                   40|                   null|                       40|ae3f48dd545c1678e...|203409ccde7dfdc8a...|          false|\n",
            "|             null| 48|     EV|2022-01-01 00:14:08|         848|INTERVAL '-0 00:0...|               5|              1|     Eco|          2|   Loyal Customer|   2021-06-04|INTERVAL '0 00:00...|                                3|           554|2022-01-01 00:09:14|                ATL|           694|            694|                     3|         5230|          5230|             1|Female| 14794| 14794|                     5|               5|                    5|               5|              2|           CID|          null|                   null|                     null|2022-01-01 00:15:05|2022-01-01 00:09:14|              905|                554|           1|     N181PQ|Business travel|     true|                   48|                   null|                       48|283109a1f44f1089c...|769e21b47575f795f...|          false|\n",
            "|             null| 26|     AA|2022-01-01 00:00:00|           0|INTERVAL '-0 00:1...|               2|              2|Business|          2|disloyal Customer|   2021-05-22|INTERVAL '-0 00:1...|                                2|             0|2022-01-01 00:00:00|                DFW|          1188|           1188|                     2|         1462|          1462|             2|  Male|124811|124811|                     2|               3|                    2|               2|              2|           ONT|          null|                   null|                     null|2022-01-01 00:18:20|2022-01-01 00:10:00|             1100|                600|           2|     N547AA|Business travel|     true|                   26|                   null|                       26|50d816141e413b796...|4df2250383282f273...|          false|\n",
            "+-----------------+---+-------+-------------------+------------+--------------------+----------------+---------------+--------+-----------+-----------------+-------------+--------------------+---------------------------------+--------------+-------------------+-------------------+--------------+---------------+----------------------+-------------+--------------+--------------+------+------+------+----------------------+----------------+---------------------+----------------+---------------+--------------+--------------+-----------------------+-------------------------+-------------------+-------------------+-----------------+-------------------+------------+-----------+---------------+---------+---------------------+-----------------------+-------------------------+--------------------+--------------------+---------------+\n",
            "only showing top 20 rows\n",
            "\n",
            "number of new record contents: 499\n"
          ]
        },
        {
          "output_type": "execute_result",
          "data": {
            "text/plain": [
              "DataFrame[__input_file_name: string, Age: int, AIRLINE: string, ARR_TIME: timestamp, ARRIVAL_TIME: int, ARRIVED: string, Baggage_handling: int, Checkin_service: int, Class: string, Cleanliness: int, Customer_Type: string, Date_of_Board: date, DEPARTED: string, Departure/Arrival_time_convenient: int, DEPARTURE_TIME: int, DEPT_TIME: timestamp, DESTINATION_AIRPORT: string, DISTANCE_in_KM: int, DISTANCE_in_KM_: int, Ease_of_Online_booking: int, FLIGHT_NUMBER: int, FLIGHT_NUMBER_: int, Food_and_drink: int, Gender: string, id: int, id_: int, Inflight_entertainment: int, Inflight_service: int, Inflight_wifi_service: int, On-board_service: int, Online_boarding: int, ORIGIN_AIRPORT: string, Overall_Survey: void, Reason_of_Arrival_delay: void, Reason_of_departure_delay: void, SCHED_ARRIVAL: timestamp, SCHED_DEPARTURE: timestamp, SCHEDULED_ARRIVAL: int, SCHEDULED_DEPARTURE: int, Seat_comfort: int, TAIL_NUMBER: string, Type_of_Travel: string, __current: boolean, __activation_datetime: int, __deactivation_datetime: int, __minimum_activation_date: int, __business_key_hash: string, __content_key_hash: string, __is_historical: boolean, __mergeKey: string]"
            ]
          },
          "metadata": {},
          "execution_count": 53
        }
      ]
    },
    {
      "cell_type": "code",
      "source": [
        "solution.scd_type_IT_merge()"
      ],
      "metadata": {
        "colab": {
          "base_uri": "https://localhost:8080/",
          "height": 1000
        },
        "id": "l9w-2Lktt-6Y",
        "outputId": "5e98fe17-ed70-4b71-abc7-8f7eab10ef21"
      },
      "execution_count": null,
      "outputs": [
        {
          "output_type": "stream",
          "name": "stdout",
          "text": [
            "['Age', 'AIRLINE', 'ARR_TIME', 'ARRIVAL_TIME', 'ARRIVED', 'Baggage_handling', 'Checkin_service', 'Class', 'Cleanliness', 'Customer_Type', 'Date_of_Board', 'DEPARTED', 'Departure/Arrival_time_convenient', 'DEPARTURE_TIME', 'DEPT_TIME', 'DESTINATION_AIRPORT', 'DISTANCE_in_KM', 'DISTANCE_in_KM_', 'Ease_of_Online_booking', 'FLIGHT_NUMBER', 'FLIGHT_NUMBER_', 'Food_and_drink', 'Gender', 'id', 'id_', 'Inflight_entertainment', 'Inflight_service', 'Inflight_wifi_service', 'On-board_service', 'Online_boarding', 'ORIGIN_AIRPORT', 'Overall_Survey', 'Reason_of_Arrival_delay', 'Reason_of_departure_delay', 'SCHED_ARRIVAL', 'SCHED_DEPARTURE', 'SCHEDULED_ARRIVAL', 'SCHEDULED_DEPARTURE', 'Seat_comfort', 'TAIL_NUMBER', 'Type_of_Travel']\n",
            "if\n",
            "+-----------------+---+-------+-------------------+------------+--------------------+----------------+---------------+--------+-----------+-----------------+-------------+--------------------+---------------------------------+--------------+-------------------+-------------------+--------------+---------------+----------------------+-------------+--------------+--------------+------+------+------+----------------------+----------------+---------------------+----------------+---------------+--------------+--------------+-----------------------+-------------------------+-------------------+-------------------+-----------------+-------------------+------------+-----------+---------------+---------+---------------------+-----------------------+-------------------------+--------------------+--------------------+---------------+--------------------------+------------------------+\n",
            "|__input_file_name|Age|AIRLINE|           ARR_TIME|ARRIVAL_TIME|             ARRIVED|Baggage_handling|Checkin_service|   Class|Cleanliness|    Customer_Type|Date_of_Board|            DEPARTED|Departure/Arrival_time_convenient|DEPARTURE_TIME|          DEPT_TIME|DESTINATION_AIRPORT|DISTANCE_in_KM|DISTANCE_in_KM_|Ease_of_Online_booking|FLIGHT_NUMBER|FLIGHT_NUMBER_|Food_and_drink|Gender|    id|   id_|Inflight_entertainment|Inflight_service|Inflight_wifi_service|On-board_service|Online_boarding|ORIGIN_AIRPORT|Overall_Survey|Reason_of_Arrival_delay|Reason_of_departure_delay|      SCHED_ARRIVAL|    SCHED_DEPARTURE|SCHEDULED_ARRIVAL|SCHEDULED_DEPARTURE|Seat_comfort|TAIL_NUMBER| Type_of_Travel|__current|__activation_datetime|__deactivation_datetime|__minimum_activation_date| __business_key_hash|  __content_key_hash|__is_historical|__bronze_landing_date_time|__modification_date_time|\n",
            "+-----------------+---+-------+-------------------+------------+--------------------+----------------+---------------+--------+-----------+-----------------+-------------+--------------------+---------------------------------+--------------+-------------------+-------------------+--------------+---------------+----------------------+-------------+--------------+--------------+------+------+------+----------------------+----------------+---------------------+----------------+---------------+--------------+--------------+-----------------------+-------------------------+-------------------+-------------------+-----------------+-------------------+------------+-----------+---------------+---------+---------------------+-----------------------+-------------------------+--------------------+--------------------+---------------+--------------------------+------------------------+\n",
            "|             null| 44|     AA|2022-01-01 00:14:09|         849|INTERVAL '-0 00:0...|               4|              5|Business|          4|   Loyal Customer|   2021-05-23|INTERVAL '0 00:00...|                                1|           605|2022-01-01 00:10:05|                DFW|           853|            853|                     3|         1291|          1291|             3|  Male| 77866| 77866|                     4|               4|                    1|               4|              5|           MKE|          null|                   null|                     null|2022-01-01 00:15:00|2022-01-01 00:10:05|              900|                605|           5|     N4XYAA|Business travel|     true|                   44|                   null|                       44|10400ac8bb51f0d0e...|324cc5c9237a0dfc9...|          false|                      null|                      44|\n",
            "|             null| 34|     MQ|2022-01-01 00:14:02|         842|INTERVAL '-0 00:0...|               2|              2|Business|          2|   Loyal Customer|   2021-05-06|INTERVAL '-0 00:0...|                                0|           605|2022-01-01 00:10:05|                MIA|           802|            802|                     0|         3551|          3551|             3|  Male| 43012| 43012|                     2|               2|                    0|               2|              4|           ORF|          null|                   null|                     null|2022-01-01 00:14:06|2022-01-01 00:10:10|              846|                610|           1|     N663MQ|Business travel|     true|                   34|                   null|                       34|a0f787ab1eeecd4c9...|42a83ebf64a58f5ad...|          false|                      null|                      34|\n",
            "|             null| 50|     DL|2022-01-01 00:12:05|         725|INTERVAL '-0 00:0...|               5|              5|     Eco|          3|   Loyal Customer|   2021-05-24|INTERVAL '-0 00:0...|                                5|           554|2022-01-01 00:09:14|                ATL|           481|            481|                     3|         1961|          1961|             3|Female| 18088| 18088|                     5|               5|                    3|               5|              4|           RIC|          null|                   null|                     null|2022-01-01 00:12:33|2022-01-01 00:10:00|              753|                600|           5|     N947DN|Personal Travel|     true|                   50|                   null|                       50|fa27342628c741486...|5b82b24100c17f607...|          false|                      null|                      50|\n",
            "|             null| 24|     NK|2022-01-01 00:08:23|         503|INTERVAL '0 00:00...|               3|              1|     Eco|          2|disloyal Customer|   2021-06-15|INTERVAL '-0 00:0...|                                4|           158|2022-01-01 00:02:38|                DFW|           868|            868|                     4|          972|           972|             2|  Male| 16112| 16112|                     2|               5|                    4|               4|              4|           PHX|          null|                   null|                     null|2022-01-01 00:08:22|2022-01-01 00:02:39|              502|                159|           2|     N606NK|Business travel|     true|                   24|                   null|                       24|239feae3642904772...|4c2cf22ca9edfba4f...|          false|                      null|                      24|\n",
            "|             null| 47|     UA|2022-01-01 00:20:13|        1213|INTERVAL '-0 00:0...|               5|              4|Business|          3|   Loyal Customer|   2021-04-23|INTERVAL '-0 00:0...|                                5|           557|2022-01-01 00:09:17|                ORD|          1846|           1846|                     4|         1158|          1158|             5|Female| 72478| 72478|                     5|               5|                    5|               5|              4|           SFO|          null|                   null|                     null|2022-01-01 00:20:17|2022-01-01 00:10:00|             1217|                600|           5|     N73445|Business travel|     true|                   47|                   null|                       47|26193351c26aa6ed8...|b133850f06b755113...|          false|                      null|                      47|\n",
            "|             null| 40|     AA|2022-01-01 00:00:00|           0|INTERVAL '-0 00:1...|               4|              4|Business|          4|   Loyal Customer|   2021-05-24|INTERVAL '-0 00:1...|                                2|             0|2022-01-01 00:00:00|                DCA|          1192|           1192|                     3|         1581|          1581|             4|  Male|119617|119617|                     4|               4|                    2|               4|              5|           DFW|          null|                   null|                     null|2022-01-01 00:15:59|2022-01-01 00:10:15|              959|                615|           5|     N3KGAA|Business travel|     true|                   40|                   null|                       40|78a3b58c8835898c1...|15ae82bffda729d33...|          false|                      null|                      40|\n",
            "|             null| 51|     AA|2022-01-01 00:14:14|         854|INTERVAL '-0 00:0...|               4|              5|Business|          4|   Loyal Customer|   2021-05-25|INTERVAL '0 00:00...|                                1|           618|2022-01-01 00:10:18|                DFW|           852|            852|                     1|         2253|          2253|             3|Female| 90639| 90639|                     4|               4|                    1|               4|              4|           MSP|          null|                   null|                     null|2022-01-01 00:15:00|2022-01-01 00:10:15|              900|                615|           4|     N437AA|Business travel|     true|                   51|                   null|                       51|f67b0dd90172268bd...|d4a778f1f3c2898c4...|          false|                      null|                      51|\n",
            "|             null| 38|     DL|2022-01-01 00:14:09|         849|INTERVAL '-0 00:0...|               4|              5|     Eco|          3|disloyal Customer|   2021-05-26|INTERVAL '-0 00:0...|                                1|           558|2022-01-01 00:09:18|                ATL|           946|            946|                     1|         2282|          2282|             3|Female| 31332| 31332|                     3|               3|                    1|               4|              1|           BOS|          null|                   null|                     null|2022-01-01 00:15:11|2022-01-01 00:10:00|              911|                600|           3|     N974DL|Business travel|     true|                   38|                   null|                       38|29724338d2ef4fc95...|3c64656035838509f...|          false|                      null|                      38|\n",
            "|             null| 34|     B6|2022-01-01 00:15:25|         925|INTERVAL '0 00:01...|               5|              4|Business|          1|disloyal Customer|   2021-05-29|INTERVAL '0 00:00...|                                3|           621|2022-01-01 00:10:21|                BOS|          1197|           1197|                     3|          922|           922|             1|  Male| 62291| 62291|                     1|               5|                    3|               5|              3|           PBI|          null|                   null|                     null|2022-01-01 00:14:17|2022-01-01 00:10:05|              857|                605|           1|     N809JB|Business travel|     true|                   34|                   null|                       34|44c826cce8eb294b1...|3f1a94fbc221677f3...|          false|                      null|                      34|\n",
            "|             null| 41|     AA|2022-01-01 00:00:00|           0|INTERVAL '-0 00:1...|               5|              4|Business|          4|   Loyal Customer|   2021-05-22|INTERVAL '-0 00:1...|                                4|             0|2022-01-01 00:00:00|                DFW|           986|            986|                     4|         1125|          1125|             4|  Male| 59357| 59357|                     5|               5|                    4|               5|              3|           DTW|          null|                   null|                     null|2022-01-01 00:13:40|2022-01-01 00:10:15|              820|                615|           4|     N3KCAA|Business travel|     true|                   41|                   null|                       41|59190604bc152dbbe...|057db76499e0bf4dc...|          false|                      null|                      41|\n",
            "|             null| 42|     B6|2022-01-01 00:11:43|         703|INTERVAL '-0 00:0...|               1|              2|     Eco|          2|   Loyal Customer|   2021-06-11|INTERVAL '-0 00:0...|                                1|           550|2022-01-01 00:09:10|                JFK|           264|            264|                     4|          185|           185|             3|Female| 63370| 63370|                     3|               3|                    4|               3|              3|           ROC|          null|                   null|                     null|2022-01-01 00:12:00|2022-01-01 00:09:15|              720|                555|           3|     N334JB|Personal Travel|     true|                   42|                   null|                       42|5d33948a45e85c607...|7a970377f79b83219...|          false|                      null|                      42|\n",
            "|             null| 10|     NK|2022-01-01 00:16:57|        1017|INTERVAL '0 00:02...|               3|              4|     Eco|          1|   Loyal Customer|   2021-05-05|INTERVAL '0 00:02...|                                4|           742|2022-01-01 00:12:22|                RSW|           982|            982|                     2|          943|           943|             1|Female|126579|126579|                     1|               4|                    2|               3|              2|           ACY|          null|                   null|                     null|2022-01-01 00:14:11|2022-01-01 00:10:00|              851|                600|           1|     N605NK|Personal Travel|     true|                   10|                   null|                       10|47c2bf3d9e842529e...|274e85b6b9c1a4614...|          false|                      null|                      10|\n",
            "|             null| 24|     US|2022-01-01 00:19:16|        1156|INTERVAL '-0 00:0...|               3|              4|     Eco|          2|disloyal Customer|   2021-05-18|INTERVAL '0 00:00...|                                3|           629|2022-01-01 00:10:29|                CLT|          1773|           1773|                     3|         1789|          1789|             2|Female| 83673| 83673|                     2|               2|                    3|               2|              3|           PHX|          null|                   null|                     null|2022-01-01 00:20:03|2022-01-01 00:10:15|             1203|                615|           2|     N543UW|Business travel|     true|                   24|                   null|                       24|4b84dfbeaf6b7d803...|1dd32763d1ba79074...|          false|                      null|                      24|\n",
            "|             null| 33|     AS|2022-01-01 00:14:01|         841|INTERVAL '-0 00:0...|               5|              3|Business|          4|   Loyal Customer|   2021-06-03|INTERVAL '-0 00:0...|                                2|           555|2022-01-01 00:09:15|                SEA|           954|            954|                     3|          477|           477|             4|  Male|111696|111696|                     4|               4|                    2|               5|              4|           LAX|          null|                   null|                     null|2022-01-01 00:14:10|2022-01-01 00:10:00|              850|                600|           4|     N453AS|Business travel|     true|                   33|                   null|                       33|d135c3617820ae01a...|83c1cd49e8afad3eb...|          false|                      null|                      33|\n",
            "|             null| 50|     OO|2022-01-01 00:13:33|         813|INTERVAL '0 00:00...|               4|              2|Business|          2|   Loyal Customer|   2021-05-15|INTERVAL '-0 00:0...|                                2|           557|2022-01-01 00:09:17|                SEA|           748|            748|                     2|         3489|          3489|             2|  Male|113849|113849|                     3|               5|                    2|               5|              2|           FAT|          null|                   null|                     null|2022-01-01 00:13:30|2022-01-01 00:10:00|              810|                600|           2|     N227AG|Business travel|     true|                   50|                   null|                       50|2c1c5d1be2b5ea59f...|0e1619b6ddc741c4f...|          false|                      null|                      50|\n",
            "|             null| 43|     US|2022-01-01 00:12:33|         753|INTERVAL '-0 00:0...|               4|              5|Business|          3|   Loyal Customer|   2021-05-12|INTERVAL '0 00:00...|                                2|            44|2022-01-01 00:00:44|                CLT|          2125|           2125|                     2|         2013|          2013|             4|Female| 97286| 97286|                     4|               4|                    2|               4|              4|           LAX|          null|                   null|                     null|2022-01-01 00:13:23|2022-01-01 00:00:30|              803|                 30|           5|     N584UW|Business travel|     true|                   43|                   null|                       43|f9c15f26c7e6c520c...|602fbf85347e928dd...|          false|                      null|                      43|\n",
            "|             null| 58|     OO|2022-01-01 00:12:10|         730|INTERVAL '0 00:00...|               2|              4|Business|          3|   Loyal Customer|   2021-05-09|INTERVAL '0 00:00...|                                5|           600|2022-01-01 00:10:00|                DEN|           300|            300|                     0|         6360|          6360|             4|Female| 19525| 19525|                     2|               2|                    0|               2|              4|           RAP|          null|                   null|                     null|2022-01-01 00:12:02|2022-01-01 00:10:00|              722|                600|           4|     N952SW|Business travel|     true|                   58|                   null|                       58|41ea9184d6a1e07ec...|bd34bc4cf1d83060c...|          false|                      null|                      58|\n",
            "|             null| 40|     WN|2022-01-01 00:12:09|         729|INTERVAL '-0 00:0...|               4|              3|Business|          2|disloyal Customer|   2021-04-19|INTERVAL '0 00:00...|                                2|           601|2022-01-01 00:10:01|                SLC|           507|            507|                     2|          676|           676|             2|  Male|102318|102318|                     2|               5|                    2|               4|              2|           PHX|          null|                   null|                     null|2022-01-01 00:12:15|2022-01-01 00:10:00|              735|                600|           2|     N630WN|Business travel|     true|                   40|                   null|                       40|ae3f48dd545c1678e...|203409ccde7dfdc8a...|          false|                      null|                      40|\n",
            "|             null| 48|     EV|2022-01-01 00:14:08|         848|INTERVAL '-0 00:0...|               5|              1|     Eco|          2|   Loyal Customer|   2021-06-04|INTERVAL '0 00:00...|                                3|           554|2022-01-01 00:09:14|                ATL|           694|            694|                     3|         5230|          5230|             1|Female| 14794| 14794|                     5|               5|                    5|               5|              2|           CID|          null|                   null|                     null|2022-01-01 00:15:05|2022-01-01 00:09:14|              905|                554|           1|     N181PQ|Business travel|     true|                   48|                   null|                       48|283109a1f44f1089c...|769e21b47575f795f...|          false|                      null|                      48|\n",
            "|             null| 26|     AA|2022-01-01 00:00:00|           0|INTERVAL '-0 00:1...|               2|              2|Business|          2|disloyal Customer|   2021-05-22|INTERVAL '-0 00:1...|                                2|             0|2022-01-01 00:00:00|                DFW|          1188|           1188|                     2|         1462|          1462|             2|  Male|124811|124811|                     2|               3|                    2|               2|              2|           ONT|          null|                   null|                     null|2022-01-01 00:18:20|2022-01-01 00:10:00|             1100|                600|           2|     N547AA|Business travel|     true|                   26|                   null|                       26|50d816141e413b796...|4df2250383282f273...|          false|                      null|                      26|\n",
            "+-----------------+---+-------+-------------------+------------+--------------------+----------------+---------------+--------+-----------+-----------------+-------------+--------------------+---------------------------------+--------------+-------------------+-------------------+--------------+---------------+----------------------+-------------+--------------+--------------+------+------+------+----------------------+----------------+---------------------+----------------+---------------+--------------+--------------+-----------------------+-------------------------+-------------------+-------------------+-----------------+-------------------+------------+-----------+---------------+---------+---------------------+-----------------------+-------------------------+--------------------+--------------------+---------------+--------------------------+------------------------+\n",
            "only showing top 20 rows\n",
            "\n",
            "+-----------------+---+-------+-------------------+------------+--------------------+----------------+---------------+--------+-----------+-----------------+-------------+--------------------+---------------------------------+--------------+-------------------+-------------------+--------------+---------------+----------------------+-------------+--------------+--------------+------+------+------+----------------------+----------------+---------------------+----------------+---------------+--------------+--------------+-----------------------+-------------------------+-------------------+-------------------+-----------------+-------------------+------------+-----------+---------------+---------+---------------------+-----------------------+-------------------------+--------------------+--------------------+---------------+\n",
            "|__input_file_name|Age|AIRLINE|           ARR_TIME|ARRIVAL_TIME|             ARRIVED|Baggage_handling|Checkin_service|   Class|Cleanliness|    Customer_Type|Date_of_Board|            DEPARTED|Departure/Arrival_time_convenient|DEPARTURE_TIME|          DEPT_TIME|DESTINATION_AIRPORT|DISTANCE_in_KM|DISTANCE_in_KM_|Ease_of_Online_booking|FLIGHT_NUMBER|FLIGHT_NUMBER_|Food_and_drink|Gender|    id|   id_|Inflight_entertainment|Inflight_service|Inflight_wifi_service|On-board_service|Online_boarding|ORIGIN_AIRPORT|Overall_Survey|Reason_of_Arrival_delay|Reason_of_departure_delay|      SCHED_ARRIVAL|    SCHED_DEPARTURE|SCHEDULED_ARRIVAL|SCHEDULED_DEPARTURE|Seat_comfort|TAIL_NUMBER| Type_of_Travel|__current|__activation_datetime|__deactivation_datetime|__minimum_activation_date| __business_key_hash|  __content_key_hash|__is_historical|\n",
            "+-----------------+---+-------+-------------------+------------+--------------------+----------------+---------------+--------+-----------+-----------------+-------------+--------------------+---------------------------------+--------------+-------------------+-------------------+--------------+---------------+----------------------+-------------+--------------+--------------+------+------+------+----------------------+----------------+---------------------+----------------+---------------+--------------+--------------+-----------------------+-------------------------+-------------------+-------------------+-----------------+-------------------+------------+-----------+---------------+---------+---------------------+-----------------------+-------------------------+--------------------+--------------------+---------------+\n",
            "|             null| 44|     AA|2022-01-01 00:14:09|         849|INTERVAL '-0 00:0...|               4|              5|Business|          4|   Loyal Customer|   2021-05-23|INTERVAL '0 00:00...|                                1|           605|2022-01-01 00:10:05|                DFW|           853|            853|                     3|         1291|          1291|             3|  Male| 77866| 77866|                     4|               4|                    1|               4|              5|           MKE|          null|                   null|                     null|2022-01-01 00:15:00|2022-01-01 00:10:05|              900|                605|           5|     N4XYAA|Business travel|     true|                   44|                   null|                       44|10400ac8bb51f0d0e...|324cc5c9237a0dfc9...|          false|\n",
            "|             null| 34|     MQ|2022-01-01 00:14:02|         842|INTERVAL '-0 00:0...|               2|              2|Business|          2|   Loyal Customer|   2021-05-06|INTERVAL '-0 00:0...|                                0|           605|2022-01-01 00:10:05|                MIA|           802|            802|                     0|         3551|          3551|             3|  Male| 43012| 43012|                     2|               2|                    0|               2|              4|           ORF|          null|                   null|                     null|2022-01-01 00:14:06|2022-01-01 00:10:10|              846|                610|           1|     N663MQ|Business travel|     true|                   34|                   null|                       34|a0f787ab1eeecd4c9...|42a83ebf64a58f5ad...|          false|\n",
            "|             null| 50|     DL|2022-01-01 00:12:05|         725|INTERVAL '-0 00:0...|               5|              5|     Eco|          3|   Loyal Customer|   2021-05-24|INTERVAL '-0 00:0...|                                5|           554|2022-01-01 00:09:14|                ATL|           481|            481|                     3|         1961|          1961|             3|Female| 18088| 18088|                     5|               5|                    3|               5|              4|           RIC|          null|                   null|                     null|2022-01-01 00:12:33|2022-01-01 00:10:00|              753|                600|           5|     N947DN|Personal Travel|     true|                   50|                   null|                       50|fa27342628c741486...|5b82b24100c17f607...|          false|\n",
            "|             null| 24|     NK|2022-01-01 00:08:23|         503|INTERVAL '0 00:00...|               3|              1|     Eco|          2|disloyal Customer|   2021-06-15|INTERVAL '-0 00:0...|                                4|           158|2022-01-01 00:02:38|                DFW|           868|            868|                     4|          972|           972|             2|  Male| 16112| 16112|                     2|               5|                    4|               4|              4|           PHX|          null|                   null|                     null|2022-01-01 00:08:22|2022-01-01 00:02:39|              502|                159|           2|     N606NK|Business travel|     true|                   24|                   null|                       24|239feae3642904772...|4c2cf22ca9edfba4f...|          false|\n",
            "|             null| 47|     UA|2022-01-01 00:20:13|        1213|INTERVAL '-0 00:0...|               5|              4|Business|          3|   Loyal Customer|   2021-04-23|INTERVAL '-0 00:0...|                                5|           557|2022-01-01 00:09:17|                ORD|          1846|           1846|                     4|         1158|          1158|             5|Female| 72478| 72478|                     5|               5|                    5|               5|              4|           SFO|          null|                   null|                     null|2022-01-01 00:20:17|2022-01-01 00:10:00|             1217|                600|           5|     N73445|Business travel|     true|                   47|                   null|                       47|26193351c26aa6ed8...|b133850f06b755113...|          false|\n",
            "|             null| 40|     AA|2022-01-01 00:00:00|           0|INTERVAL '-0 00:1...|               4|              4|Business|          4|   Loyal Customer|   2021-05-24|INTERVAL '-0 00:1...|                                2|             0|2022-01-01 00:00:00|                DCA|          1192|           1192|                     3|         1581|          1581|             4|  Male|119617|119617|                     4|               4|                    2|               4|              5|           DFW|          null|                   null|                     null|2022-01-01 00:15:59|2022-01-01 00:10:15|              959|                615|           5|     N3KGAA|Business travel|     true|                   40|                   null|                       40|78a3b58c8835898c1...|15ae82bffda729d33...|          false|\n",
            "|             null| 51|     AA|2022-01-01 00:14:14|         854|INTERVAL '-0 00:0...|               4|              5|Business|          4|   Loyal Customer|   2021-05-25|INTERVAL '0 00:00...|                                1|           618|2022-01-01 00:10:18|                DFW|           852|            852|                     1|         2253|          2253|             3|Female| 90639| 90639|                     4|               4|                    1|               4|              4|           MSP|          null|                   null|                     null|2022-01-01 00:15:00|2022-01-01 00:10:15|              900|                615|           4|     N437AA|Business travel|     true|                   51|                   null|                       51|f67b0dd90172268bd...|d4a778f1f3c2898c4...|          false|\n",
            "|             null| 38|     DL|2022-01-01 00:14:09|         849|INTERVAL '-0 00:0...|               4|              5|     Eco|          3|disloyal Customer|   2021-05-26|INTERVAL '-0 00:0...|                                1|           558|2022-01-01 00:09:18|                ATL|           946|            946|                     1|         2282|          2282|             3|Female| 31332| 31332|                     3|               3|                    1|               4|              1|           BOS|          null|                   null|                     null|2022-01-01 00:15:11|2022-01-01 00:10:00|              911|                600|           3|     N974DL|Business travel|     true|                   38|                   null|                       38|29724338d2ef4fc95...|3c64656035838509f...|          false|\n",
            "|             null| 34|     B6|2022-01-01 00:15:25|         925|INTERVAL '0 00:01...|               5|              4|Business|          1|disloyal Customer|   2021-05-29|INTERVAL '0 00:00...|                                3|           621|2022-01-01 00:10:21|                BOS|          1197|           1197|                     3|          922|           922|             1|  Male| 62291| 62291|                     1|               5|                    3|               5|              3|           PBI|          null|                   null|                     null|2022-01-01 00:14:17|2022-01-01 00:10:05|              857|                605|           1|     N809JB|Business travel|     true|                   34|                   null|                       34|44c826cce8eb294b1...|3f1a94fbc221677f3...|          false|\n",
            "|             null| 41|     AA|2022-01-01 00:00:00|           0|INTERVAL '-0 00:1...|               5|              4|Business|          4|   Loyal Customer|   2021-05-22|INTERVAL '-0 00:1...|                                4|             0|2022-01-01 00:00:00|                DFW|           986|            986|                     4|         1125|          1125|             4|  Male| 59357| 59357|                     5|               5|                    4|               5|              3|           DTW|          null|                   null|                     null|2022-01-01 00:13:40|2022-01-01 00:10:15|              820|                615|           4|     N3KCAA|Business travel|     true|                   41|                   null|                       41|59190604bc152dbbe...|057db76499e0bf4dc...|          false|\n",
            "|             null| 42|     B6|2022-01-01 00:11:43|         703|INTERVAL '-0 00:0...|               1|              2|     Eco|          2|   Loyal Customer|   2021-06-11|INTERVAL '-0 00:0...|                                1|           550|2022-01-01 00:09:10|                JFK|           264|            264|                     4|          185|           185|             3|Female| 63370| 63370|                     3|               3|                    4|               3|              3|           ROC|          null|                   null|                     null|2022-01-01 00:12:00|2022-01-01 00:09:15|              720|                555|           3|     N334JB|Personal Travel|     true|                   42|                   null|                       42|5d33948a45e85c607...|7a970377f79b83219...|          false|\n",
            "|             null| 10|     NK|2022-01-01 00:16:57|        1017|INTERVAL '0 00:02...|               3|              4|     Eco|          1|   Loyal Customer|   2021-05-05|INTERVAL '0 00:02...|                                4|           742|2022-01-01 00:12:22|                RSW|           982|            982|                     2|          943|           943|             1|Female|126579|126579|                     1|               4|                    2|               3|              2|           ACY|          null|                   null|                     null|2022-01-01 00:14:11|2022-01-01 00:10:00|              851|                600|           1|     N605NK|Personal Travel|     true|                   10|                   null|                       10|47c2bf3d9e842529e...|274e85b6b9c1a4614...|          false|\n",
            "|             null| 24|     US|2022-01-01 00:19:16|        1156|INTERVAL '-0 00:0...|               3|              4|     Eco|          2|disloyal Customer|   2021-05-18|INTERVAL '0 00:00...|                                3|           629|2022-01-01 00:10:29|                CLT|          1773|           1773|                     3|         1789|          1789|             2|Female| 83673| 83673|                     2|               2|                    3|               2|              3|           PHX|          null|                   null|                     null|2022-01-01 00:20:03|2022-01-01 00:10:15|             1203|                615|           2|     N543UW|Business travel|     true|                   24|                   null|                       24|4b84dfbeaf6b7d803...|1dd32763d1ba79074...|          false|\n",
            "|             null| 33|     AS|2022-01-01 00:14:01|         841|INTERVAL '-0 00:0...|               5|              3|Business|          4|   Loyal Customer|   2021-06-03|INTERVAL '-0 00:0...|                                2|           555|2022-01-01 00:09:15|                SEA|           954|            954|                     3|          477|           477|             4|  Male|111696|111696|                     4|               4|                    2|               5|              4|           LAX|          null|                   null|                     null|2022-01-01 00:14:10|2022-01-01 00:10:00|              850|                600|           4|     N453AS|Business travel|     true|                   33|                   null|                       33|d135c3617820ae01a...|83c1cd49e8afad3eb...|          false|\n",
            "|             null| 50|     OO|2022-01-01 00:13:33|         813|INTERVAL '0 00:00...|               4|              2|Business|          2|   Loyal Customer|   2021-05-15|INTERVAL '-0 00:0...|                                2|           557|2022-01-01 00:09:17|                SEA|           748|            748|                     2|         3489|          3489|             2|  Male|113849|113849|                     3|               5|                    2|               5|              2|           FAT|          null|                   null|                     null|2022-01-01 00:13:30|2022-01-01 00:10:00|              810|                600|           2|     N227AG|Business travel|     true|                   50|                   null|                       50|2c1c5d1be2b5ea59f...|0e1619b6ddc741c4f...|          false|\n",
            "|             null| 43|     US|2022-01-01 00:12:33|         753|INTERVAL '-0 00:0...|               4|              5|Business|          3|   Loyal Customer|   2021-05-12|INTERVAL '0 00:00...|                                2|            44|2022-01-01 00:00:44|                CLT|          2125|           2125|                     2|         2013|          2013|             4|Female| 97286| 97286|                     4|               4|                    2|               4|              4|           LAX|          null|                   null|                     null|2022-01-01 00:13:23|2022-01-01 00:00:30|              803|                 30|           5|     N584UW|Business travel|     true|                   43|                   null|                       43|f9c15f26c7e6c520c...|602fbf85347e928dd...|          false|\n",
            "|             null| 58|     OO|2022-01-01 00:12:10|         730|INTERVAL '0 00:00...|               2|              4|Business|          3|   Loyal Customer|   2021-05-09|INTERVAL '0 00:00...|                                5|           600|2022-01-01 00:10:00|                DEN|           300|            300|                     0|         6360|          6360|             4|Female| 19525| 19525|                     2|               2|                    0|               2|              4|           RAP|          null|                   null|                     null|2022-01-01 00:12:02|2022-01-01 00:10:00|              722|                600|           4|     N952SW|Business travel|     true|                   58|                   null|                       58|41ea9184d6a1e07ec...|bd34bc4cf1d83060c...|          false|\n",
            "|             null| 40|     WN|2022-01-01 00:12:09|         729|INTERVAL '-0 00:0...|               4|              3|Business|          2|disloyal Customer|   2021-04-19|INTERVAL '0 00:00...|                                2|           601|2022-01-01 00:10:01|                SLC|           507|            507|                     2|          676|           676|             2|  Male|102318|102318|                     2|               5|                    2|               4|              2|           PHX|          null|                   null|                     null|2022-01-01 00:12:15|2022-01-01 00:10:00|              735|                600|           2|     N630WN|Business travel|     true|                   40|                   null|                       40|ae3f48dd545c1678e...|203409ccde7dfdc8a...|          false|\n",
            "|             null| 48|     EV|2022-01-01 00:14:08|         848|INTERVAL '-0 00:0...|               5|              1|     Eco|          2|   Loyal Customer|   2021-06-04|INTERVAL '0 00:00...|                                3|           554|2022-01-01 00:09:14|                ATL|           694|            694|                     3|         5230|          5230|             1|Female| 14794| 14794|                     5|               5|                    5|               5|              2|           CID|          null|                   null|                     null|2022-01-01 00:15:05|2022-01-01 00:09:14|              905|                554|           1|     N181PQ|Business travel|     true|                   48|                   null|                       48|283109a1f44f1089c...|769e21b47575f795f...|          false|\n",
            "|             null| 26|     AA|2022-01-01 00:00:00|           0|INTERVAL '-0 00:1...|               2|              2|Business|          2|disloyal Customer|   2021-05-22|INTERVAL '-0 00:1...|                                2|             0|2022-01-01 00:00:00|                DFW|          1188|           1188|                     2|         1462|          1462|             2|  Male|124811|124811|                     2|               3|                    2|               2|              2|           ONT|          null|                   null|                     null|2022-01-01 00:18:20|2022-01-01 00:10:00|             1100|                600|           2|     N547AA|Business travel|     true|                   26|                   null|                       26|50d816141e413b796...|4df2250383282f273...|          false|\n",
            "+-----------------+---+-------+-------------------+------------+--------------------+----------------+---------------+--------+-----------+-----------------+-------------+--------------------+---------------------------------+--------------+-------------------+-------------------+--------------+---------------+----------------------+-------------+--------------+--------------+------+------+------+----------------------+----------------+---------------------+----------------+---------------+--------------+--------------+-----------------------+-------------------------+-------------------+-------------------+-----------------+-------------------+------------+-----------+---------------+---------+---------------------+-----------------------+-------------------------+--------------------+--------------------+---------------+\n",
            "only showing top 20 rows\n",
            "\n",
            "number of new record contents: 499\n"
          ]
        },
        {
          "output_type": "display_data",
          "data": {
            "text/plain": [
              "<delta.tables.DeltaTable at 0x7fd3dc66ce80>"
            ]
          },
          "metadata": {}
        },
        {
          "output_type": "stream",
          "name": "stdout",
          "text": [
            "<delta.tables.DeltaTable object at 0x7fd3dc43af70>\n"
          ]
        },
        {
          "output_type": "execute_result",
          "data": {
            "text/plain": [
              "True"
            ]
          },
          "metadata": {},
          "execution_count": 47
        }
      ]
    },
    {
      "cell_type": "code",
      "source": [],
      "metadata": {
        "id": "84985cLS9qng"
      },
      "execution_count": 2,
      "outputs": []
    }
  ]
}